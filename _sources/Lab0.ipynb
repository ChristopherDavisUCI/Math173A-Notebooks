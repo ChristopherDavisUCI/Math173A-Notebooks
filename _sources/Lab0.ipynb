{
 "cells": [
  {
   "cell_type": "markdown",
   "metadata": {
    "cell_id": "26608c24a4544f90952b2c05af38b228",
    "deepnote_cell_type": "markdown",
    "tags": []
   },
   "source": [
    "# Lab 0 - Math 173A\n",
    "\n",
    "\n",
    "This lab is due Wednesday of Week 1, by 11:59pm.\n",
    "\n",
    "You are encouraged to work in groups of up to 3 total students, but each student should make their own submission on Canvas.  (It's fine for everyone in the group to have the same upload.)\n",
    "\n",
    "Put the **full names** of everyone in your group (even if you're working alone) here.  (This makes grading easier.)\n",
    "\n",
    "* **Names**: \n"
   ]
  },
  {
   "cell_type": "markdown",
   "metadata": {
    "cell_id": "ab87228b50bb4ab695afb3bddd503d63",
    "deepnote_cell_type": "markdown"
   },
   "source": [
    "## Instructions to create a workspace for your group\n",
    "\n",
    "One group member should create a workspace for the group using the following instructions.  By upgrading to the (free) Education plan as described here, the hardware Deepnote provides to you should be more reliable.\n",
    "\n",
    "* Click on the workspace name \"Math 173A Y23\" at the top left, then click the \"+\" icon next to your name.\n",
    "* Choose the \"Free\" plan if you are asked to choose a plan.\n",
    "* Give your workspace a name, like \"Lab 0 group\".  Select the option \"Education\".\n",
    "* Invite your groupmates, giving them \"Editor\" or \"Admin\" access.  Then click the \"Create Workspace\" button.\n",
    "* Click on \"Settings & members\" on the left side, then \"Upgrade\", then \"Upgrade to Education\".\n",
    "* If you click on the ... next to this `Lab 0` project, you should be able to duplicate it into your the new workspace you just created.  Once you have this duplicate copy, you can edit it."
   ]
  },
  {
   "cell_type": "markdown",
   "metadata": {
    "cell_id": "a3eb9f02db894c3884a41b8b60922fdd",
    "deepnote_cell_type": "markdown"
   },
   "source": [
    "## Import a Python helper file\n",
    "\n",
    "* Go to the `Files` section on our Canvas course space, and download the file `Lab0_Helper.py` in the `Python files` folder.\n",
    "\n",
    "* Upload this `Lab0_Helper.py` file into the `Files` section on the right-hand side of this workspace.  (Hit the plus icon, or click and drag the file.)\n",
    "\n",
    "* Import several functions defined in that uploaded file by evaluating the following code.  (Copy and paste it into a new cell, and then evaluate by holding down Shift and hitting Enter.)\n",
    "```\n",
    "from Lab0_Helper import shift_string, only_letters, english_freq, get_freq, mut_ind_co\n",
    "```"
   ]
  },
  {
   "cell_type": "markdown",
   "metadata": {
    "cell_id": "7c003e3bf1994b29a873db5a99b34d64",
    "deepnote_cell_type": "markdown"
   },
   "source": [
    "## Learn about the imported functions\n",
    "\n",
    "**Warning**.  There might be some slight differences between these functions and the functions we used during lecture on Monday.  But the differences should be minor.  For example, maybe one function returns letters in upper-case and the other function returns letters in lower-case."
   ]
  },
  {
   "cell_type": "markdown",
   "metadata": {
    "cell_id": "5f3ea17972554b58961468e893842cc2",
    "deepnote_cell_type": "markdown"
   },
   "source": [
    "* Check that `shift_string` is working by evaluating the following.\n",
    "```\n",
    "X = \"yeah\"\n",
    "shift_string(X, 3)\n",
    "```"
   ]
  },
  {
   "cell_type": "markdown",
   "metadata": {
    "cell_id": "5ab62998ba0e4daaa2c00b646fc692bd",
    "deepnote_cell_type": "markdown"
   },
   "source": [
    "* Check that `only_letters` is working by evaluating the following code.  (Notice that the number disappears, the same as the punctuation and spaces.)\n",
    "\n",
    "```\n",
    "X = \"Hello, and welcome to Math 173A!\"\n",
    "only_letters(X, case=\"lower\")\n",
    "```"
   ]
  },
  {
   "cell_type": "markdown",
   "metadata": {
    "cell_id": "a2aea55c9544494e9270aa75218bf443",
    "deepnote_cell_type": "markdown"
   },
   "source": [
    "* Check that `get_freq` is working by evaluating the following code.\n",
    "\n",
    "```\n",
    "get_freq(\"Hello there\")\n",
    "```\n",
    "\n",
    "The result should be a Python dictionary whose keys are the lowercase letters, and whose values are the proportions which which those letters appear in the string.  For example, the letter \"e\" appears three times and there are ten total letters, so the value for `\"e\"` is the real number `0.3`."
   ]
  },
  {
   "cell_type": "markdown",
   "metadata": {
    "cell_id": "5b7656d7e15c4e04b5187f1dc48cbb97",
    "deepnote_cell_type": "markdown"
   },
   "source": [
    "* If you evaluate `english_freq`, you should see a similar dictionary, with estimated proportions for \"average\" English text.  (These were calculated by computing the proportions from the book *A Tale of Two Cities*.)"
   ]
  },
  {
   "cell_type": "markdown",
   "metadata": {
    "cell_id": "cdc5e6a613ab4527873dbe1590b89153",
    "deepnote_cell_type": "markdown"
   },
   "source": [
    "* The function `mut_ind_co` is meant to be used with frequencies for two different pieces of text, but you can also use it by repeating the frequency for a single piece of text.  This should produce a real number which is an estimate for the probability that two randomly chosen English letters are equal.  The following computes the Mutual Index of Coincidence between our \"average\" English text and itself.\n",
    "```\n",
    "mut_ind_co(english_freq, english_freq)\n",
    "```"
   ]
  },
  {
   "cell_type": "markdown",
   "metadata": {
    "cell_id": "55eef2f10cc64945b2eaf64361976b16",
    "deepnote_cell_type": "markdown"
   },
   "source": [
    "## Letter frequencies"
   ]
  },
  {
   "cell_type": "markdown",
   "metadata": {
    "cell_id": "4bf96016297045eda03e6aed9815adf8",
    "deepnote_cell_type": "markdown"
   },
   "source": [
    "* Paste in a block of English text, surrounded by triple quotation marks (this helps prevent errors due to apostrophes), and store the resulting string using the variable `s`:\n",
    "\n",
    "```\n",
    "s = '''Your text goes here.  It can be long and include linebreaks.'''\n",
    "```"
   ]
  },
  {
   "cell_type": "markdown",
   "metadata": {
    "cell_id": "15e2402fe3d94d4b9db24397625277b3",
    "deepnote_cell_type": "markdown"
   },
   "source": [
    "* Evaluate `get_freq(s)`."
   ]
  },
  {
   "cell_type": "markdown",
   "metadata": {
    "cell_id": "34550a3d482242dfb3acf8a81e63b624",
    "deepnote_cell_type": "markdown"
   },
   "source": [
    "* How do these values compare to the percentages shown in Hoffstein-Pipher-Silverman (HPS), Table 1.3 on page 6?  (Your answer will depend on how long your block of text was.  Notice that HPS reports percentages, and the `get_freq` function reports probabilities or proportions.)\n",
    "\n",
    "Briefly answer this question in a markdown cell (you can click the three lines on the right side of this cell and select \"add markdown cell\")."
   ]
  },
  {
   "cell_type": "markdown",
   "metadata": {
    "cell_id": "b90517353fef40ef8b3819494c4ecc84",
    "deepnote_cell_type": "markdown"
   },
   "source": [
    "## Mutual Index of Coincidence"
   ]
  },
  {
   "cell_type": "markdown",
   "metadata": {
    "cell_id": "f66a51019c7d4261a019490f6cef1b6a",
    "deepnote_cell_type": "markdown"
   },
   "source": [
    "* For your same string `s` as above, compute the Mutual Index of Coincidence with `english_freq`.  For suitably long English text, the value should be around `0.065`.  (As long as the value is above `0.06` and below `0.075`, that is a good range.)"
   ]
  },
  {
   "cell_type": "markdown",
   "metadata": {
    "cell_id": "4fd7b79261944d53adc2ffea216fd221",
    "deepnote_cell_type": "markdown"
   },
   "source": [
    "* Make a new string `t` of random text (not English, just hit random keys on the keyboard, but try not to repeat the same letters to an extreme degree)."
   ]
  },
  {
   "cell_type": "markdown",
   "metadata": {
    "cell_id": "e60fd00690624b6fbd2000ee57f14627",
    "deepnote_cell_type": "markdown"
   },
   "source": [
    "* Again compute the Mutual Index of Coincidence with `english_freq`.  The new value should be closer to `0.04` or `0.05`."
   ]
  },
  {
   "cell_type": "markdown",
   "metadata": {
    "cell_id": "e53d22a668054299a82cb05722482fed",
    "deepnote_cell_type": "markdown"
   },
   "source": [
    "## Automated decryption\n",
    "\n",
    "* Write a function `shift_decrypt` to automatically decrypt ciphertext that has been encrypted using a shift cipher.  Use the following pseudocode as your template.  (Even if you have an alternate approach, for this assignment, you should follow this pseudocode.  Or at least check with Chris first before using a different approach.)\n",
    "\n",
    "> Function name: `shift_decrypt`\n",
    ">\n",
    "> Input: A string `Y`\n",
    "> Output: A tuple containing decrypted plaintext `X` along with the shift amount used for decryption.\n",
    ">\n",
    "> Strategy: For each possible shift amount from `0` (inclusive) to `26` (exclusive), shift `Y` by this amount, and compute the Mutual Index of Coincidence between the resulting text and English.\n",
    "> Return the shifted text for which the Mutual Index of Coincidence with English is highest, along with the corresponding shift amount.\n",
    "\n",
    "Here is a template to help you with the syntax and strategy.  In this template, rather than using the above strategy, we return the shift amount for which the frequency of the letter `\"E\"` is highest.  If you already are pretty comfortable with Python, try to see how far you can get without using this template.\n",
    "\n",
    "```\n",
    "import numpy as np\n",
    "\n",
    "def naive_decrypt(Y):\n",
    "    holder = np.zeros(26)\n",
    "\n",
    "    for i in range(26):\n",
    "        X = shift_string(Y, i)\n",
    "        holder[i] = X.count(\"E\")\n",
    "        \n",
    "    # np.argmax finds the location of the maximum value.\n",
    "    # (If the maximum is obtained multiple times, only the first index is returned.)\n",
    "    shift_amt = np.argmax(holder)\n",
    "    X = shift_string(Y, shift_amt)\n",
    "    \n",
    "    return (X, shift_amt)\n",
    "```"
   ]
  },
  {
   "cell_type": "markdown",
   "metadata": {
    "cell_id": "341862d4951e417888167266ce126a9f",
    "deepnote_cell_type": "markdown"
   },
   "source": [
    "## Testing the `shift_decrypt` function"
   ]
  },
  {
   "cell_type": "markdown",
   "metadata": {
    "cell_id": "eb8a5f7512eb4fd08c9373ab69558150",
    "deepnote_cell_type": "markdown"
   },
   "source": [
    "* Encrypt the string `\"INTROCRYPTOGRAPHY\"` using a shift cipher.  (Use the `shift_string` function... don't do this by hand.)  Store the resulting ciphertext using the variable name `Y`."
   ]
  },
  {
   "cell_type": "markdown",
   "metadata": {
    "cell_id": "b6f55240ba1e40ebaf850bf9fa60c0ec",
    "deepnote_cell_type": "markdown"
   },
   "source": [
    "* Evaluate `Y` (there's no need to use `print`, just execute a code cell with `Y` in it) to see what the encrypted text looks like."
   ]
  },
  {
   "cell_type": "markdown",
   "metadata": {
    "cell_id": "40854ba61843418a807a8bc22df27d37",
    "deepnote_cell_type": "markdown"
   },
   "source": [
    "* Does your `shift_decrypt` function find the true plaintext in this case?"
   ]
  },
  {
   "cell_type": "markdown",
   "metadata": {
    "cell_id": "6c500ba546384dfcafc60057cf9e0ca9",
    "deepnote_cell_type": "markdown"
   },
   "source": [
    "* Notice that the returned shift amount is different from the shift amount you used for encryption (unless you chose a shift amount of `0` or `13`).  Briefly explain why that's the case in a markdown cell.\n",
    "\n",
    "(Notice that a different shift amount being returned is not an indication of a mistake in our code.)"
   ]
  },
  {
   "cell_type": "markdown",
   "metadata": {
    "cell_id": "c4e3bfbc61534f23b4ea3c793ec9dcff",
    "deepnote_cell_type": "markdown"
   },
   "source": [
    "* Try evaluating `naive_decrypt` on the ciphertext you made.  (You'll first need to execute the `naive_decrypt` code by pasting it into a code cell and then evaluating that cell.)"
   ]
  },
  {
   "cell_type": "markdown",
   "metadata": {
    "cell_id": "e81b68b773904d82817ca64c711b5c9e",
    "deepnote_cell_type": "markdown"
   },
   "source": [
    "* How could we have known in advance that the naive strategy would not work in this case?  Briefly explain in a markdown cell."
   ]
  },
  {
   "cell_type": "markdown",
   "metadata": {
    "cell_id": "41e9a3ac823c42bda8bd1098748ab5df",
    "deepnote_cell_type": "markdown"
   },
   "source": [
    "* Find an example of text for which your `shift_decrypt` function does not work.  Try to make the original English text at least a few words."
   ]
  },
  {
   "cell_type": "markdown",
   "metadata": {
    "cell_id": "e2e6c351aaf645b9bbc1f0450a86fa81",
    "deepnote_cell_type": "markdown"
   },
   "source": [
    "## Submission\n",
    "\n",
    "* Using the `Share` button at the top right, enable public sharing, and enable Comment privileges. Then submit the created link on Canvas.\n",
    "\n",
    "(Don't just copy the browser URL.  Copy the link that is provided after you click the \"Share\" button.  It won't be available until you enable public sharing.)\n",
    "\n",
    "* Reminder: Everyone in the group needs to submit this link on Canvas."
   ]
  },
  {
   "cell_type": "markdown",
   "metadata": {
    "created_in_deepnote_cell": true,
    "deepnote_cell_type": "markdown"
   },
   "source": [
    "<a style='text-decoration:none;line-height:16px;display:flex;color:#5B5B62;padding:10px;justify-content:end;' href='https://deepnote.com?utm_source=created-in-deepnote-cell&projectId=0092b874-7afb-47d4-b5ee-ec7f780b0a30' target=\"_blank\">\n",
    "<img alt='Created in deepnote.com' style='display:inline;max-height:16px;margin:0px;margin-right:7.5px;' src='data:image/svg+xml;base64,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' > </img>\n",
    "Created in <span style='font-weight:600;margin-left:4px;'>Deepnote</span></a>"
   ]
  }
 ],
 "metadata": {
  "deepnote": {
   "is_reactive": false
  },
  "deepnote_execution_queue": [],
  "deepnote_notebook_id": "eafd98ddf5b849cebca864daa163cf82",
  "deepnote_persisted_session": {
   "createdAt": "2023-06-24T19:46:42.779Z"
  },
  "kernelspec": {
   "display_name": "Python 3 (ipykernel)",
   "language": "python",
   "name": "python3"
  },
  "language_info": {
   "codemirror_mode": {
    "name": "ipython",
    "version": 3
   },
   "file_extension": ".py",
   "mimetype": "text/x-python",
   "name": "python",
   "nbconvert_exporter": "python",
   "pygments_lexer": "ipython3",
   "version": "3.11.3"
  }
 },
 "nbformat": 4,
 "nbformat_minor": 4
}
