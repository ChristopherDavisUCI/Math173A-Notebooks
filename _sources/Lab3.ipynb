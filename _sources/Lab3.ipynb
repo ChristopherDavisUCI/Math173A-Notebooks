{
 "cells": [
  {
   "cell_type": "markdown",
   "metadata": {
    "cell_id": "24dd6fabb6b647f9b4880b2d54bea74d",
    "deepnote_cell_type": "markdown",
    "tags": []
   },
   "source": [
    "# Lab 3 - Math 173A\n",
    "\n",
    "You are encouraged to work in groups of up to 3 total students, but each student should make their own submission on Canvas.  (It's fine for everyone in the group to have the same upload.)\n",
    "\n",
    "Put the **full names** of everyone in your group (even if you're working alone) here.  (This makes grading easier.)\n",
    "\n",
    "* **Names**: \n"
   ]
  },
  {
   "cell_type": "markdown",
   "metadata": {
    "cell_id": "5d3d03c6da2d42759ac776d8952ae16d",
    "deepnote_cell_type": "markdown"
   },
   "source": [
    "## Suggestion\n",
    "\n",
    "Follow the instructions from the Lab 0 worksheet to make an Education Workspace for this lab."
   ]
  },
  {
   "cell_type": "markdown",
   "metadata": {
    "cell_id": "8dba71faaeba4d7981266848ef6cfc29",
    "deepnote_cell_type": "markdown"
   },
   "source": [
    "## Overview\n",
    "\n",
    "In the previous lab, you played the role of Alice or Bob.  In this lab, you will play the role of Eve.  It turns out that most if not all of the primes used last week were too small.  In particular, the discrete logarithm problem for these primes can be solved, not using the naive algorithm, but using the Collision Algorithm described in Hoffstein, Pipher, Silverman, Section 2.7."
   ]
  },
  {
   "cell_type": "markdown",
   "metadata": {
    "cell_id": "c1e0c0c2e10643feb4c1c620813ab19d",
    "deepnote_cell_type": "markdown"
   },
   "source": [
    "Choose one of the Lab 2 threads from Canvas (not your own thread!).  You will reveal their secret message by solving the relevant discrete log problem.\n",
    "\n",
    "Record the relevant values below.  Execute the code so you have access to these values below.\n",
    "\n",
    "```\n",
    "p = \n",
    "g = \n",
    "A = \n",
    "B = \n",
    "Y = # the encrypted message\n",
    "```"
   ]
  },
  {
   "cell_type": "markdown",
   "metadata": {
    "cell_id": "b4f6c1907be5447184bdcfb23b9f26d6",
    "deepnote_cell_type": "markdown"
   },
   "source": [
    "## Imports\n",
    "\n",
    "* Import the following.  (Most of these functions are just here so your `vigenere` function works.)  \n",
    "\n",
    "```\n",
    "from Lab3_Helper import (\n",
    "                            only_letters,\n",
    "                            weave, \n",
    "                            shift_string,\n",
    "                            add_spaces,\n",
    "                            to_base_b\n",
    "                        )\n",
    "```"
   ]
  },
  {
   "cell_type": "markdown",
   "metadata": {
    "cell_id": "db0440259f854a76b140126ab48a344e",
    "deepnote_cell_type": "markdown"
   },
   "source": [
    "* Paste in your code defining the `vigenere` function from Lab 1.  (I believe I have included all the necessary imports like `only_letters`, but feel free to add more if your `vigenere` function depends on them.)"
   ]
  },
  {
   "cell_type": "markdown",
   "metadata": {
    "cell_id": "bc926c7c78ab4e40896a24103a574c46",
    "deepnote_cell_type": "markdown"
   },
   "source": [
    "* The first step in the Babystep-Giantstep algorithm involves computing a square root and the floor of that square root.  We can import these functions from NumPy using the following.\n",
    "\n",
    "```\n",
    "from numpy import sqrt, floor\n",
    "```"
   ]
  },
  {
   "cell_type": "markdown",
   "metadata": {
    "cell_id": "fc829fe3973d44fc8e5dd9f8cb9bd3bf",
    "deepnote_cell_type": "markdown",
    "deepnote_to_be_reexecuted": false,
    "execution_millis": 6,
    "execution_start": 1688247007293,
    "source_hash": "40d2dca1"
   },
   "source": [
    "## Implementing the Collision Algorithm"
   ]
  },
  {
   "cell_type": "markdown",
   "metadata": {
    "cell_id": "8a26421f8b564928aadfb48ff4ee66cd",
    "deepnote_cell_type": "markdown"
   },
   "source": [
    "Follow Shanks's Babystep-Giantstep Algorithm (Proposition 2.21) to find a value of $a$ such that $g^a \\equiv A \\bmod p$.\n",
    "\n",
    "Suggestions.\n",
    "\n",
    "* I wanted to use `range(n+1)`, with `n` as in the notation from Proposition 2.21, but an error was raised because `n` was not an integer.  You can convert an element `x` to an integer in Python using `int(x)`.\n",
    "\n",
    "* When you make the two lists `baby_list` and `giant_list`, be sure all elements in the lists are between $0$ and $p$.  When you are computing powers, use `pow(???, ???, ???)`.  (Note that the `pow` function can even accept negative exponents, but think about how you would create `giant_list` if you were only allowed to use positive exponents.)  When you are multiplying for the elements in the Giantstep list, be sure you reduce modulo $p$ after the multiplication (use `%p`).\n",
    "\n",
    "* It will be too slow to naively compare all pairs of elements in the two lists looking for a collision (why?).  One approach, suggested by Bing Chat, is to convert these lists into Python sets (using for example `set(baby_list)` and similarly for `giant_list`), and then compute the intersection of these two sets (using for example `baby_set & giant_set`).\n",
    "\n",
    "(A less magical approach would be to first create sorted versions of the two lists using the Python function `sorted`, and then to step through these sorted lists, looking for a collision.  But how to implement this second part, where we look for the collision, taking advantage of the fact that the lists are sorted, is not immediately clear to me.)\n",
    "\n",
    "* Once we have an element `C` that is in both lists, we can find its position in the lists (counting starts at number `0` in Python) using the following: `baby_list.index(C)` and similarly for finding the index in `giant_list`.  What are these `index` values in terms of the notation from Proposition 2.21?"
   ]
  },
  {
   "cell_type": "markdown",
   "metadata": {
    "cell_id": "06a0e1da4bc54a16af207240554a3582",
    "deepnote_cell_type": "markdown"
   },
   "source": [
    "## Revealing the message"
   ]
  },
  {
   "cell_type": "markdown",
   "metadata": {
    "cell_id": "8620ec097fb24e67affe49190d1c1ccf",
    "deepnote_cell_type": "markdown"
   },
   "source": [
    "* Compute the shared secret key `k`, and then convert it into a key for Vigenère encryption/decryption using `to_base_b(k, 26)`. (Make sure `k` is between `0` and `p`.  If not, then you probably did not compute it using the correct approach.)"
   ]
  },
  {
   "cell_type": "markdown",
   "metadata": {
    "cell_id": "4f8eed39b0a545db91108ae586805d15",
    "deepnote_cell_type": "markdown"
   },
   "source": [
    "* The resulting list was used for encryption.  Adjust the list so it can be used for decryption, like what Alice did in last week's lab."
   ]
  },
  {
   "cell_type": "markdown",
   "metadata": {
    "cell_id": "ccf1f5f3fafb49049410eb0cf611fc17",
    "deepnote_cell_type": "markdown",
    "deepnote_to_be_reexecuted": false,
    "execution_millis": 11,
    "execution_start": 1688249744117,
    "source_hash": "e32dc8ff"
   },
   "source": [
    "* Decrypt the message using the `vigenere` function.  If the result is English, then you're done with this lab.  If not, check over your work, or try to decrypt a different group's post on Ed Discussion.  (It's always possible the original posting had a mistake in it.)"
   ]
  },
  {
   "cell_type": "markdown",
   "metadata": {
    "cell_id": "786ff8416af8474aa85091f2f185a730",
    "deepnote_cell_type": "markdown"
   },
   "source": [
    "## Submission\n",
    "\n",
    "* Using the `Share` button at the top right, enable public sharing, and enable Comment privileges. Then submit the created link on Canvas.\n",
    "\n",
    "(Don't just copy the browser URL.  Copy the link that is provided after you click the \"Share\" button.  It won't be available until you enable public sharing.)\n",
    "\n",
    "* Reminder: Everyone in the group needs to submit this link on Canvas."
   ]
  },
  {
   "cell_type": "markdown",
   "metadata": {
    "created_in_deepnote_cell": true,
    "deepnote_cell_type": "markdown"
   },
   "source": [
    "<a style='text-decoration:none;line-height:16px;display:flex;color:#5B5B62;padding:10px;justify-content:end;' href='https://deepnote.com?utm_source=created-in-deepnote-cell&projectId=160b7af1-da5e-454f-afb2-7610d1058a68' target=\"_blank\">\n",
    "<img alt='Created in deepnote.com' style='display:inline;max-height:16px;margin:0px;margin-right:7.5px;' src='data:image/svg+xml;base64,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' > </img>\n",
    "Created in <span style='font-weight:600;margin-left:4px;'>Deepnote</span></a>"
   ]
  }
 ],
 "metadata": {
  "deepnote": {
   "is_reactive": false
  },
  "deepnote_execution_queue": [],
  "deepnote_notebook_id": "d5b019d5b1e64f08982dfef2f0fcc7be",
  "deepnote_persisted_session": {
   "createdAt": "2023-07-19T07:18:09.260Z"
  },
  "kernelspec": {
   "display_name": "Python 3 (ipykernel)",
   "language": "python",
   "name": "python3"
  },
  "language_info": {
   "codemirror_mode": {
    "name": "ipython",
    "version": 3
   },
   "file_extension": ".py",
   "mimetype": "text/x-python",
   "name": "python",
   "nbconvert_exporter": "python",
   "pygments_lexer": "ipython3",
   "version": "3.11.3"
  }
 },
 "nbformat": 4,
 "nbformat_minor": 4
}
