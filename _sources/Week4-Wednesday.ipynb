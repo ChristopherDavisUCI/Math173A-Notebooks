{
 "cells": [
  {
   "cell_type": "markdown",
   "id": "2732e893-8fc4-4391-9cb1-7baa05fb9db9",
   "metadata": {},
   "source": [
    "# Week 4 Wednesday\n",
    "\n",
    "## Screenshare notes\n",
    "\n",
    "![Slide 1](images/W4W/1.gif)\n",
    "\n",
    "![Slide 2](images/W4W/2.gif)\n",
    "\n",
    "![Slide 3](images/W4W/3.gif)\n",
    "\n",
    "![Slide 4](images/W4W/4.gif)\n",
    "\n",
    "![Slide 5](images/W4W/5.gif)\n",
    "\n",
    "![Slide 6](images/W4W/6.gif)\n",
    "\n",
    "## Deepnote notebook\n",
    "\n",
    "No Deepnote notebook this class."
   ]
  }
 ],
 "metadata": {
  "kernelspec": {
   "display_name": "Python 3 (ipykernel)",
   "language": "python",
   "name": "python3"
  },
  "language_info": {
   "codemirror_mode": {
    "name": "ipython",
    "version": 3
   },
   "file_extension": ".py",
   "mimetype": "text/x-python",
   "name": "python",
   "nbconvert_exporter": "python",
   "pygments_lexer": "ipython3",
   "version": "3.11.3"
  }
 },
 "nbformat": 4,
 "nbformat_minor": 5
}
