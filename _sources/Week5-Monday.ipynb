{
 "cells": [
  {
   "cell_type": "markdown",
   "metadata": {
    "cell_id": "6b0af88a65ad44ccbb54b806dc588a2a",
    "deepnote_cell_type": "markdown"
   },
   "source": [
    "# Week 5 Monday"
   ]
  },
  {
   "cell_type": "code",
   "execution_count": null,
   "metadata": {
    "cell_id": "d1ddd1aa2d4440878046b038813bdb1e",
    "deepnote_cell_type": "code",
    "deepnote_to_be_reexecuted": false,
    "execution_millis": 897,
    "execution_start": 1690217400572,
    "source_hash": null
   },
   "outputs": [],
   "source": [
    "from sympy import nextprime, isprime, factorint"
   ]
  },
  {
   "cell_type": "markdown",
   "metadata": {
    "cell_id": "955855a0f042441ba58c89b2687234a8",
    "deepnote_cell_type": "markdown"
   },
   "source": [
    "## The Fermat Primality Test\n",
    "\n",
    "(And why it's inadequate.)"
   ]
  },
  {
   "cell_type": "code",
   "execution_count": null,
   "metadata": {
    "cell_id": "b725d140a88a4f348de7f13fdcc1520b",
    "deepnote_cell_type": "code",
    "deepnote_to_be_reexecuted": false,
    "execution_millis": 8,
    "execution_start": 1690217531268,
    "source_hash": null
   },
   "outputs": [],
   "source": [
    "n = 5459"
   ]
  },
  {
   "cell_type": "code",
   "execution_count": null,
   "metadata": {
    "cell_id": "0315a5af91dd4764871d1ca1fe8d6446",
    "deepnote_cell_type": "code",
    "deepnote_to_be_reexecuted": false,
    "execution_millis": 8,
    "execution_start": 1690217539006,
    "source_hash": null
   },
   "outputs": [],
   "source": [
    "a = 2"
   ]
  },
  {
   "cell_type": "code",
   "execution_count": null,
   "metadata": {
    "cell_id": "4dc2352a73444c628989e26dd1ab249d",
    "deepnote_cell_type": "code",
    "deepnote_to_be_reexecuted": false,
    "execution_millis": 14,
    "execution_start": 1690217681776,
    "source_hash": null
   },
   "outputs": [
    {
     "data": {
      "text/plain": [
       "517"
      ]
     },
     "execution_count": 4,
     "metadata": {},
     "output_type": "execute_result"
    }
   ],
   "source": [
    "pow(a, n-1, n) # Much better than pow(a, n-1)%n"
   ]
  },
  {
   "cell_type": "markdown",
   "metadata": {
    "cell_id": "e8523d9cdf124d12861f09ae06cb4d75",
    "deepnote_cell_type": "markdown"
   },
   "source": [
    "Because 517 is not 1 mod n, this proves definitively that 5459 is composite.  a=2 is a witness to the compositeness of 5459."
   ]
  },
  {
   "cell_type": "code",
   "execution_count": null,
   "metadata": {
    "cell_id": "53c1fc71f34642d0a2a99422ec7de142",
    "deepnote_cell_type": "code",
    "deepnote_to_be_reexecuted": false,
    "execution_millis": 25,
    "execution_start": 1690217738760,
    "source_hash": null
   },
   "outputs": [
    {
     "name": "stdout",
     "output_type": "stream",
     "text": [
      "2 1\n",
      "3 2\n",
      "4 3\n",
      "5 4\n",
      "6 5\n",
      "7 6\n",
      "8 3\n",
      "9 5\n",
      "10 9\n",
      "11 3\n",
      "12 11\n",
      "13 12\n",
      "14 13\n",
      "15 14\n",
      "16 3\n",
      "17 2\n",
      "18 5\n",
      "19 6\n",
      "20 19\n",
      "21 20\n",
      "22 3\n",
      "23 8\n",
      "24 11\n",
      "25 9\n",
      "26 25\n",
      "27 5\n",
      "28 27\n",
      "29 7\n",
      "30 29\n",
      "31 3\n",
      "32 19\n",
      "33 14\n",
      "34 19\n",
      "35 34\n",
      "36 23\n",
      "37 20\n",
      "38 25\n",
      "39 38\n",
      "40 19\n",
      "41 6\n",
      "42 41\n",
      "43 41\n",
      "44 3\n",
      "45 14\n",
      "46 31\n",
      "47 7\n",
      "48 35\n",
      "49 20\n"
     ]
    }
   ],
   "source": [
    "# We don't see any zeros, so this wasn't enough divisions to prove compositeness.\n",
    "for a in range(2, 50):\n",
    "    print(a, n%a)"
   ]
  },
  {
   "cell_type": "code",
   "execution_count": null,
   "metadata": {
    "cell_id": "c721ed3cb8274c119b8f89c9533ed976",
    "deepnote_cell_type": "code",
    "deepnote_to_be_reexecuted": false,
    "execution_millis": 18,
    "execution_start": 1690217938968,
    "source_hash": null
   },
   "outputs": [
    {
     "data": {
      "text/plain": [
       "5003"
      ]
     },
     "execution_count": 6,
     "metadata": {},
     "output_type": "execute_result"
    }
   ],
   "source": [
    "n1 = nextprime(5000)\n",
    "n1"
   ]
  },
  {
   "cell_type": "code",
   "execution_count": null,
   "metadata": {
    "cell_id": "8d22679955b94a3ca81dd25b46fef8f4",
    "deepnote_cell_type": "code",
    "deepnote_to_be_reexecuted": false,
    "execution_millis": 24,
    "execution_start": 1690217958043,
    "source_hash": null
   },
   "outputs": [
    {
     "data": {
      "text/plain": [
       "1"
      ]
     },
     "execution_count": 7,
     "metadata": {},
     "output_type": "execute_result"
    }
   ],
   "source": [
    "pow(2, n1-1, n1)"
   ]
  },
  {
   "cell_type": "code",
   "execution_count": null,
   "metadata": {
    "cell_id": "6df4a5b6523a43b6a824325377303ea2",
    "deepnote_cell_type": "code",
    "deepnote_to_be_reexecuted": false,
    "execution_millis": 19,
    "execution_start": 1690217965728,
    "source_hash": null
   },
   "outputs": [
    {
     "data": {
      "text/plain": [
       "1"
      ]
     },
     "execution_count": 8,
     "metadata": {},
     "output_type": "execute_result"
    }
   ],
   "source": [
    "pow(3, n1-1, n1)"
   ]
  },
  {
   "cell_type": "code",
   "execution_count": null,
   "metadata": {
    "cell_id": "4cf607957914419b898e2d6052f940ed",
    "deepnote_cell_type": "code",
    "deepnote_to_be_reexecuted": false,
    "execution_millis": 133,
    "execution_start": 1690219151872,
    "source_hash": null
   },
   "outputs": [
    {
     "name": "stdout",
     "output_type": "stream",
     "text": [
      "2 2\n",
      "3 3\n",
      "4 4\n",
      "5 5\n",
      "6 6\n",
      "7 7\n",
      "8 8\n",
      "9 9\n",
      "10 10\n",
      "11 11\n",
      "12 12\n",
      "13 13\n",
      "14 14\n",
      "15 15\n",
      "16 16\n",
      "17 17\n",
      "18 18\n",
      "19 19\n",
      "20 20\n",
      "21 21\n",
      "22 22\n",
      "23 23\n",
      "24 24\n",
      "25 25\n",
      "26 26\n",
      "27 27\n",
      "28 28\n",
      "29 29\n",
      "30 30\n",
      "31 31\n",
      "32 32\n",
      "33 33\n",
      "34 34\n",
      "35 35\n",
      "36 36\n",
      "37 37\n",
      "38 38\n",
      "39 39\n",
      "40 40\n",
      "41 41\n",
      "42 42\n",
      "43 43\n",
      "44 44\n",
      "45 45\n",
      "46 46\n",
      "47 47\n",
      "48 48\n",
      "49 49\n",
      "50 50\n",
      "51 51\n",
      "52 52\n",
      "53 53\n",
      "54 54\n",
      "55 55\n",
      "56 56\n",
      "57 57\n",
      "58 58\n",
      "59 59\n",
      "60 60\n",
      "61 61\n",
      "62 62\n",
      "63 63\n",
      "64 64\n",
      "65 65\n",
      "66 66\n",
      "67 67\n",
      "68 68\n",
      "69 69\n",
      "70 70\n",
      "71 71\n",
      "72 72\n",
      "73 73\n",
      "74 74\n",
      "75 75\n",
      "76 76\n",
      "77 77\n",
      "78 78\n",
      "79 79\n",
      "80 80\n",
      "81 81\n",
      "82 82\n",
      "83 83\n",
      "84 84\n",
      "85 85\n",
      "86 86\n",
      "87 87\n",
      "88 88\n",
      "89 89\n",
      "90 90\n",
      "91 91\n",
      "92 92\n",
      "93 93\n",
      "94 94\n",
      "95 95\n",
      "96 96\n",
      "97 97\n",
      "98 98\n",
      "99 99\n",
      "100 100\n",
      "101 101\n",
      "102 102\n",
      "103 103\n",
      "104 104\n",
      "105 105\n",
      "106 106\n",
      "107 107\n",
      "108 108\n",
      "109 109\n",
      "110 110\n",
      "111 111\n",
      "112 112\n",
      "113 113\n",
      "114 114\n",
      "115 115\n",
      "116 116\n",
      "117 117\n",
      "118 118\n",
      "119 119\n",
      "120 120\n",
      "121 121\n",
      "122 122\n",
      "123 123\n",
      "124 124\n",
      "125 125\n",
      "126 126\n",
      "127 127\n",
      "128 128\n",
      "129 129\n",
      "130 130\n",
      "131 131\n",
      "132 132\n",
      "133 133\n",
      "134 134\n",
      "135 135\n",
      "136 136\n",
      "137 137\n",
      "138 138\n",
      "139 139\n",
      "140 140\n",
      "141 141\n",
      "142 142\n",
      "143 143\n",
      "144 144\n",
      "145 145\n",
      "146 146\n",
      "147 147\n",
      "148 148\n",
      "149 149\n"
     ]
    }
   ],
   "source": [
    "for j in range(2, 150):\n",
    "    print(j, pow(j, n1, n1))"
   ]
  },
  {
   "cell_type": "markdown",
   "metadata": {
    "cell_id": "9f3da20c59c14645a63b5919c72ab78c",
    "deepnote_cell_type": "markdown"
   },
   "source": [
    "Don't use the phrase \"witness\" in this context, we only use \"witness\" when something is proven.  These results don't prove that n1 is prime."
   ]
  },
  {
   "cell_type": "markdown",
   "metadata": {
    "cell_id": "1883a15a97c44cb78fcefd36f181bda2",
    "deepnote_cell_type": "markdown"
   },
   "source": [
    "## 10 minute break until 10:10am"
   ]
  },
  {
   "cell_type": "code",
   "execution_count": null,
   "metadata": {
    "cell_id": "53d27c11d934412ca872a34dcd18e13a",
    "deepnote_cell_type": "code",
    "deepnote_to_be_reexecuted": false,
    "execution_millis": 10,
    "execution_start": 1690218632199,
    "source_hash": null
   },
   "outputs": [
    {
     "data": {
      "text/plain": [
       "5459"
      ]
     },
     "execution_count": 9,
     "metadata": {},
     "output_type": "execute_result"
    }
   ],
   "source": [
    "# Back to n\n",
    "n"
   ]
  },
  {
   "cell_type": "code",
   "execution_count": null,
   "metadata": {
    "cell_id": "67bcc1aa626d485bb7c647beb1e9137e",
    "deepnote_cell_type": "code",
    "deepnote_to_be_reexecuted": false,
    "execution_millis": 6,
    "execution_start": 1690218643035,
    "source_hash": null
   },
   "outputs": [
    {
     "data": {
      "text/plain": [
       "517"
      ]
     },
     "execution_count": 10,
     "metadata": {},
     "output_type": "execute_result"
    }
   ],
   "source": [
    "# Proved n was composite\n",
    "pow(2, n-1, n)"
   ]
  },
  {
   "cell_type": "markdown",
   "metadata": {
    "cell_id": "bb3c3c15d3874b3f9bb079c2cbed482a",
    "deepnote_cell_type": "markdown"
   },
   "source": [
    "Notice: we proved n was composite without finding a prime divisor (or any nontrivial divisor) of n.  Your intuition should be that proving a number is composite is much easier (much faster, can be done much more efficiently) than finding a nontrivial divisor.\n",
    "\n",
    "Think:\n",
    "* gcd and modular exponentiation (`pow(a,b,c)`) are very fast\n",
    "* primality testing is pretty fast, but not as fast as gcd and fast powering\n",
    "* Factoring and discrete logs are very slow to compute"
   ]
  },
  {
   "cell_type": "markdown",
   "metadata": {
    "cell_id": "aaf2f21d0c7544abb1d94ec4e4cdb57b",
    "deepnote_cell_type": "markdown"
   },
   "source": [
    "### Major flaw with the Fermat primality test"
   ]
  },
  {
   "cell_type": "code",
   "execution_count": null,
   "metadata": {
    "cell_id": "8a8143ce1ce146a7945605e55d7f05a8",
    "deepnote_cell_type": "code",
    "deepnote_to_be_reexecuted": false,
    "execution_millis": 7,
    "execution_start": 1690218901445,
    "source_hash": null
   },
   "outputs": [],
   "source": [
    "n2 = 340561"
   ]
  },
  {
   "cell_type": "code",
   "execution_count": null,
   "metadata": {
    "cell_id": "c014db07b4cf4349986534e588037113",
    "deepnote_cell_type": "code",
    "deepnote_to_be_reexecuted": false,
    "execution_millis": 26,
    "execution_start": 1690218921160,
    "source_hash": null
   },
   "outputs": [
    {
     "data": {
      "text/plain": [
       "1"
      ]
     },
     "execution_count": 12,
     "metadata": {},
     "output_type": "execute_result"
    }
   ],
   "source": [
    "pow(2, n2-1, n2)"
   ]
  },
  {
   "cell_type": "code",
   "execution_count": null,
   "metadata": {
    "cell_id": "e94936231188424cbfce8217ffae9891",
    "deepnote_cell_type": "code",
    "deepnote_to_be_reexecuted": false,
    "execution_millis": 13,
    "execution_start": 1690218930193,
    "source_hash": null
   },
   "outputs": [
    {
     "data": {
      "text/plain": [
       "1"
      ]
     },
     "execution_count": 13,
     "metadata": {},
     "output_type": "execute_result"
    }
   ],
   "source": [
    "pow(3, n2-1, n2)"
   ]
  },
  {
   "cell_type": "code",
   "execution_count": null,
   "metadata": {
    "cell_id": "b3ebde80fcf8484581df6a781addf2c0",
    "deepnote_cell_type": "code",
    "deepnote_to_be_reexecuted": false,
    "execution_millis": 10,
    "execution_start": 1690218957449,
    "source_hash": null
   },
   "outputs": [
    {
     "name": "stdout",
     "output_type": "stream",
     "text": [
      "2 1\n",
      "3 1\n",
      "4 1\n",
      "5 1\n",
      "6 1\n",
      "7 1\n",
      "8 1\n",
      "9 1\n",
      "10 1\n",
      "11 1\n",
      "12 1\n"
     ]
    }
   ],
   "source": [
    "for j in range(2, 13):\n",
    "    print(j, pow(j, n2-1, n2))"
   ]
  },
  {
   "cell_type": "code",
   "execution_count": null,
   "metadata": {
    "cell_id": "fc6ed28810a4420bae614dc23d270f98",
    "deepnote_cell_type": "code",
    "deepnote_to_be_reexecuted": false,
    "execution_millis": 95,
    "execution_start": 1690219098636,
    "source_hash": null
   },
   "outputs": [
    {
     "name": "stdout",
     "output_type": "stream",
     "text": [
      "2 2\n",
      "3 3\n",
      "4 4\n",
      "5 5\n",
      "6 6\n",
      "7 7\n",
      "8 8\n",
      "9 9\n",
      "10 10\n",
      "11 11\n",
      "12 12\n",
      "13 13\n",
      "14 14\n",
      "15 15\n",
      "16 16\n",
      "17 17\n",
      "18 18\n",
      "19 19\n",
      "20 20\n",
      "21 21\n",
      "22 22\n",
      "23 23\n",
      "24 24\n",
      "25 25\n",
      "26 26\n",
      "27 27\n",
      "28 28\n",
      "29 29\n",
      "30 30\n",
      "31 31\n",
      "32 32\n",
      "33 33\n",
      "34 34\n",
      "35 35\n",
      "36 36\n",
      "37 37\n",
      "38 38\n",
      "39 39\n",
      "40 40\n",
      "41 41\n",
      "42 42\n",
      "43 43\n",
      "44 44\n",
      "45 45\n",
      "46 46\n",
      "47 47\n",
      "48 48\n",
      "49 49\n",
      "50 50\n",
      "51 51\n",
      "52 52\n",
      "53 53\n",
      "54 54\n",
      "55 55\n",
      "56 56\n",
      "57 57\n",
      "58 58\n",
      "59 59\n",
      "60 60\n",
      "61 61\n",
      "62 62\n",
      "63 63\n",
      "64 64\n",
      "65 65\n",
      "66 66\n",
      "67 67\n",
      "68 68\n",
      "69 69\n",
      "70 70\n",
      "71 71\n",
      "72 72\n",
      "73 73\n",
      "74 74\n",
      "75 75\n",
      "76 76\n",
      "77 77\n",
      "78 78\n",
      "79 79\n",
      "80 80\n",
      "81 81\n",
      "82 82\n",
      "83 83\n",
      "84 84\n",
      "85 85\n",
      "86 86\n",
      "87 87\n",
      "88 88\n",
      "89 89\n",
      "90 90\n",
      "91 91\n",
      "92 92\n",
      "93 93\n",
      "94 94\n",
      "95 95\n",
      "96 96\n",
      "97 97\n",
      "98 98\n",
      "99 99\n",
      "100 100\n",
      "101 101\n",
      "102 102\n",
      "103 103\n",
      "104 104\n",
      "105 105\n",
      "106 106\n",
      "107 107\n",
      "108 108\n",
      "109 109\n",
      "110 110\n",
      "111 111\n",
      "112 112\n",
      "113 113\n",
      "114 114\n",
      "115 115\n",
      "116 116\n",
      "117 117\n",
      "118 118\n",
      "119 119\n",
      "120 120\n",
      "121 121\n",
      "122 122\n",
      "123 123\n",
      "124 124\n",
      "125 125\n",
      "126 126\n",
      "127 127\n",
      "128 128\n",
      "129 129\n",
      "130 130\n",
      "131 131\n",
      "132 132\n",
      "133 133\n",
      "134 134\n",
      "135 135\n",
      "136 136\n",
      "137 137\n",
      "138 138\n",
      "139 139\n",
      "140 140\n",
      "141 141\n",
      "142 142\n",
      "143 143\n",
      "144 144\n",
      "145 145\n",
      "146 146\n",
      "147 147\n",
      "148 148\n",
      "149 149\n"
     ]
    }
   ],
   "source": [
    "# Notice a^(p-1) = 1 mod p, also have a^p = a mod p (this second one, no constraints on a), when p is prime\n",
    "# these results scream \"prime\"\n",
    "for j in range(2, 150):\n",
    "    print(j, pow(j, n2, n2))"
   ]
  },
  {
   "cell_type": "code",
   "execution_count": null,
   "metadata": {
    "cell_id": "9949423fbdb14cceaa73f60eac7620d9",
    "deepnote_cell_type": "code",
    "deepnote_to_be_reexecuted": false,
    "execution_millis": 9,
    "execution_start": 1690219212116,
    "source_hash": null
   },
   "outputs": [
    {
     "data": {
      "text/plain": [
       "False"
      ]
     },
     "execution_count": 19,
     "metadata": {},
     "output_type": "execute_result"
    }
   ],
   "source": [
    "# Let's use `isprime` from sympy to confirm that n2 is indeed prime\n",
    "isprime(n2)"
   ]
  },
  {
   "cell_type": "code",
   "execution_count": null,
   "metadata": {
    "cell_id": "90cf6a2ba3594f13a5d70ca5a4b451a2",
    "deepnote_cell_type": "code",
    "deepnote_to_be_reexecuted": false,
    "execution_millis": 12,
    "execution_start": 1690219217993,
    "source_hash": null
   },
   "outputs": [
    {
     "data": {
      "text/plain": [
       "340561"
      ]
     },
     "execution_count": 20,
     "metadata": {},
     "output_type": "execute_result"
    }
   ],
   "source": [
    "n2"
   ]
  },
  {
   "cell_type": "code",
   "execution_count": null,
   "metadata": {
    "cell_id": "f587c6eac73840cbae00b4a220231ca8",
    "deepnote_cell_type": "code",
    "deepnote_to_be_reexecuted": false,
    "execution_millis": 6,
    "execution_start": 1690219243676,
    "source_hash": null
   },
   "outputs": [
    {
     "data": {
      "text/plain": [
       "{13: 1, 17: 1, 23: 1, 67: 1}"
      ]
     },
     "execution_count": 21,
     "metadata": {},
     "output_type": "execute_result"
    }
   ],
   "source": [
    "factorint(n2)"
   ]
  },
  {
   "cell_type": "code",
   "execution_count": null,
   "metadata": {
    "cell_id": "b1f5d6f0bee346dca6311aaab072da88",
    "deepnote_cell_type": "code",
    "deepnote_to_be_reexecuted": false,
    "execution_millis": 7,
    "execution_start": 1690219261631,
    "source_hash": null
   },
   "outputs": [
    {
     "data": {
      "text/plain": [
       "340561"
      ]
     },
     "execution_count": 22,
     "metadata": {},
     "output_type": "execute_result"
    }
   ],
   "source": [
    "13*17*23*67"
   ]
  },
  {
   "cell_type": "markdown",
   "metadata": {
    "cell_id": "1dcbceeafe3f4bf9b9044b7539f8b6ae",
    "deepnote_cell_type": "markdown"
   },
   "source": [
    "Major flaw with the Fermat primality test: there exist composite numbers n, called Carmichael numbers, such that the only values of a which witness the compositeness of n are values of `a` such that `gcd(a,n) > 1`"
   ]
  },
  {
   "cell_type": "code",
   "execution_count": null,
   "metadata": {
    "cell_id": "9169c528e40e4e2fb9f05ad353a7892e",
    "deepnote_cell_type": "code",
    "deepnote_to_be_reexecuted": false,
    "execution_millis": 12,
    "execution_start": 1690219375811,
    "source_hash": null
   },
   "outputs": [
    {
     "data": {
      "text/plain": [
       "157183"
      ]
     },
     "execution_count": 23,
     "metadata": {},
     "output_type": "execute_result"
    }
   ],
   "source": [
    "pow(13, n2-1, n2)"
   ]
  },
  {
   "cell_type": "markdown",
   "metadata": {
    "cell_id": "167a60de895b44cd88a1910081b2d14e",
    "deepnote_cell_type": "markdown"
   },
   "source": [
    "Finding a Fermat witness for a Carmichael number is no easier than finding a nontrivial divisor of that Carmichael number.\n",
    "\n",
    "The smallest Carmichael number is 561.  It has been proved there are infinitely many Carmichael numbers."
   ]
  },
  {
   "cell_type": "code",
   "execution_count": null,
   "metadata": {
    "cell_id": "eafcbb78f5af46b08e821f87607660f4",
    "deepnote_cell_type": "code",
    "deepnote_to_be_reexecuted": false,
    "execution_millis": 97,
    "execution_start": 1690219561732,
    "source_hash": null
   },
   "outputs": [
    {
     "name": "stdout",
     "output_type": "stream",
     "text": [
      "2 1\n",
      "3 1\n",
      "4 1\n",
      "5 1\n",
      "6 1\n",
      "7 1\n",
      "8 1\n",
      "9 1\n",
      "10 1\n",
      "11 1\n",
      "12 1\n",
      "13 157183\n",
      "14 1\n",
      "15 1\n",
      "16 1\n",
      "17 240397\n",
      "18 1\n",
      "19 1\n",
      "20 1\n",
      "21 1\n",
      "22 1\n",
      "23 207299\n",
      "24 1\n",
      "25 1\n",
      "26 157183\n",
      "27 1\n",
      "28 1\n",
      "29 1\n",
      "30 1\n",
      "31 1\n",
      "32 1\n",
      "33 1\n",
      "34 240397\n",
      "35 1\n",
      "36 1\n",
      "37 1\n",
      "38 1\n",
      "39 157183\n",
      "40 1\n",
      "41 1\n",
      "42 1\n",
      "43 1\n",
      "44 1\n",
      "45 1\n",
      "46 207299\n",
      "47 1\n",
      "48 1\n",
      "49 1\n",
      "50 1\n",
      "51 240397\n",
      "52 157183\n",
      "53 1\n",
      "54 1\n",
      "55 1\n",
      "56 1\n",
      "57 1\n",
      "58 1\n",
      "59 1\n",
      "60 1\n",
      "61 1\n",
      "62 1\n",
      "63 1\n",
      "64 1\n",
      "65 157183\n",
      "66 1\n",
      "67 76246\n",
      "68 240397\n",
      "69 207299\n",
      "70 1\n",
      "71 1\n",
      "72 1\n",
      "73 1\n",
      "74 1\n",
      "75 1\n",
      "76 1\n",
      "77 1\n",
      "78 157183\n",
      "79 1\n",
      "80 1\n",
      "81 1\n",
      "82 1\n",
      "83 1\n",
      "84 1\n",
      "85 240397\n",
      "86 1\n",
      "87 1\n",
      "88 1\n",
      "89 1\n",
      "90 1\n",
      "91 157183\n",
      "92 207299\n",
      "93 1\n",
      "94 1\n",
      "95 1\n",
      "96 1\n",
      "97 1\n",
      "98 1\n",
      "99 1\n",
      "100 1\n",
      "101 1\n",
      "102 240397\n",
      "103 1\n",
      "104 157183\n",
      "105 1\n",
      "106 1\n",
      "107 1\n",
      "108 1\n",
      "109 1\n",
      "110 1\n",
      "111 1\n",
      "112 1\n",
      "113 1\n",
      "114 1\n",
      "115 207299\n",
      "116 1\n",
      "117 157183\n",
      "118 1\n",
      "119 240397\n",
      "120 1\n",
      "121 1\n",
      "122 1\n",
      "123 1\n",
      "124 1\n",
      "125 1\n",
      "126 1\n",
      "127 1\n",
      "128 1\n",
      "129 1\n",
      "130 157183\n",
      "131 1\n",
      "132 1\n",
      "133 1\n",
      "134 76246\n",
      "135 1\n",
      "136 240397\n",
      "137 1\n",
      "138 207299\n",
      "139 1\n",
      "140 1\n",
      "141 1\n",
      "142 1\n",
      "143 157183\n",
      "144 1\n",
      "145 1\n",
      "146 1\n",
      "147 1\n",
      "148 1\n",
      "149 1\n"
     ]
    }
   ],
   "source": [
    "for j in range(2, 150):\n",
    "    print(j, pow(j, n2-1, n2))"
   ]
  },
  {
   "cell_type": "code",
   "execution_count": null,
   "metadata": {
    "cell_id": "3c3199af101f4a328f39287007d10679",
    "deepnote_cell_type": "code",
    "deepnote_to_be_reexecuted": false,
    "execution_millis": 105,
    "execution_start": 1690219626961,
    "source_hash": null
   },
   "outputs": [
    {
     "name": "stdout",
     "output_type": "stream",
     "text": [
      "2 1\n",
      "3 1\n",
      "4 1\n",
      "5 1\n",
      "6 1\n",
      "7 4\n",
      "8 1\n",
      "9 1\n",
      "10 1\n",
      "11 1\n",
      "12 1\n",
      "13 0\n",
      "14 11\n",
      "15 1\n",
      "16 1\n",
      "17 0\n",
      "18 1\n",
      "19 5\n",
      "20 1\n",
      "21 4\n",
      "22 1\n",
      "23 0\n",
      "24 1\n",
      "25 11\n",
      "26 13\n",
      "27 10\n",
      "28 25\n",
      "29 14\n",
      "30 1\n",
      "31 26\n",
      "32 17\n",
      "33 1\n",
      "34 17\n",
      "35 11\n",
      "36 1\n",
      "37 13\n",
      "38 5\n",
      "39 13\n",
      "40 1\n",
      "41 15\n",
      "42 25\n",
      "43 1\n",
      "44 1\n",
      "45 1\n",
      "46 23\n",
      "47 46\n",
      "48 1\n",
      "49 11\n",
      "50 11\n",
      "51 34\n",
      "52 13\n",
      "53 36\n",
      "54 37\n",
      "55 1\n",
      "56 25\n",
      "57 43\n",
      "58 43\n",
      "59 13\n",
      "60 1\n",
      "61 59\n",
      "62 57\n",
      "63 46\n",
      "64 17\n",
      "65 26\n",
      "66 1\n",
      "67 0\n",
      "68 17\n",
      "69 46\n",
      "70 11\n",
      "71 45\n",
      "72 1\n",
      "73 16\n",
      "74 13\n",
      "75 61\n",
      "76 5\n",
      "77 67\n",
      "78 13\n",
      "79 71\n",
      "80 1\n",
      "81 37\n",
      "82 15\n",
      "83 12\n",
      "84 25\n",
      "85 51\n",
      "86 1\n",
      "87 43\n",
      "88 1\n",
      "89 47\n",
      "90 1\n",
      "91 39\n",
      "92 69\n",
      "93 88\n",
      "94 93\n",
      "95 81\n",
      "96 49\n",
      "97 91\n",
      "98 11\n",
      "99 1\n",
      "100 61\n",
      "101 90\n",
      "102 85\n",
      "103 43\n",
      "104 65\n",
      "105 46\n",
      "106 89\n",
      "107 87\n",
      "108 37\n",
      "109 45\n",
      "110 1\n",
      "111 13\n",
      "112 81\n",
      "113 92\n",
      "114 43\n",
      "115 46\n",
      "116 101\n",
      "117 91\n",
      "118 13\n",
      "119 102\n",
      "120 1\n",
      "121 67\n",
      "122 59\n",
      "123 97\n",
      "124 57\n",
      "125 61\n",
      "126 109\n",
      "127 74\n",
      "128 81\n",
      "129 1\n",
      "130 91\n",
      "131 92\n",
      "132 1\n",
      "133 81\n",
      "134 67\n",
      "135 91\n",
      "136 17\n",
      "137 116\n",
      "138 115\n",
      "139 11\n",
      "140 81\n",
      "141 46\n",
      "142 45\n",
      "143 78\n",
      "144 1\n",
      "145 101\n",
      "146 89\n",
      "147 109\n",
      "148 13\n",
      "149 96\n"
     ]
    }
   ],
   "source": [
    "for j in range(2, 150):\n",
    "    print(j, n2%j)"
   ]
  },
  {
   "cell_type": "markdown",
   "metadata": {
    "cell_id": "e1071b5b13054485a0995a9f4d72352a",
    "deepnote_cell_type": "markdown"
   },
   "source": [
    "## The Miller-Rabin Primality Test"
   ]
  },
  {
   "cell_type": "code",
   "execution_count": null,
   "metadata": {
    "cell_id": "3cf4281dbd99475284c5f0d7d86cf2ca",
    "deepnote_cell_type": "code",
    "deepnote_to_be_reexecuted": false,
    "execution_millis": 11,
    "execution_start": 1690220700619,
    "source_hash": null
   },
   "outputs": [],
   "source": [
    "# Carmichael number\n",
    "n = 340561"
   ]
  },
  {
   "cell_type": "code",
   "execution_count": null,
   "metadata": {
    "cell_id": "cdfc756e793141fa856346e628dcd85e",
    "deepnote_cell_type": "code",
    "deepnote_to_be_reexecuted": false,
    "execution_millis": 24,
    "execution_start": 1690220707502,
    "source_hash": null
   },
   "outputs": [],
   "source": [
    "a = 2"
   ]
  },
  {
   "cell_type": "code",
   "execution_count": null,
   "metadata": {
    "cell_id": "2a20eecc6cae473682b0019a972dc22d",
    "deepnote_cell_type": "code",
    "deepnote_to_be_reexecuted": false,
    "execution_millis": 16,
    "execution_start": 1690220729275,
    "source_hash": null
   },
   "outputs": [
    {
     "data": {
      "text/plain": [
       "1"
      ]
     },
     "execution_count": 29,
     "metadata": {},
     "output_type": "execute_result"
    }
   ],
   "source": [
    "pow(a, n-1, n)"
   ]
  },
  {
   "cell_type": "code",
   "execution_count": null,
   "metadata": {
    "cell_id": "e9cf9c059109411baab19957f47714a7",
    "deepnote_cell_type": "code",
    "deepnote_to_be_reexecuted": false,
    "execution_millis": 49,
    "execution_start": 1690220741105,
    "source_hash": null
   },
   "outputs": [
    {
     "data": {
      "text/plain": [
       "340560"
      ]
     },
     "execution_count": 30,
     "metadata": {},
     "output_type": "execute_result"
    }
   ],
   "source": [
    "n-1"
   ]
  },
  {
   "cell_type": "code",
   "execution_count": null,
   "metadata": {
    "cell_id": "0c85aa1b648540588ac022167869817d",
    "deepnote_cell_type": "code",
    "deepnote_to_be_reexecuted": false,
    "execution_millis": 12,
    "execution_start": 1690220776911,
    "source_hash": null
   },
   "outputs": [
    {
     "ename": "TypeError",
     "evalue": "pow() 3rd argument not allowed unless all arguments are integers",
     "output_type": "error",
     "traceback": [
      "\u001b[0;31m---------------------------------------------------------------------------\u001b[0m",
      "\u001b[0;31mTypeError\u001b[0m                                 Traceback (most recent call last)",
      "Cell \u001b[0;32mIn [31], line 1\u001b[0m\n\u001b[0;32m----> 1\u001b[0m \u001b[38;5;28;43mpow\u001b[39;49m\u001b[43m(\u001b[49m\u001b[43ma\u001b[49m\u001b[43m,\u001b[49m\u001b[43m \u001b[49m\u001b[43m(\u001b[49m\u001b[43mn\u001b[49m\u001b[38;5;241;43m-\u001b[39;49m\u001b[38;5;241;43m1\u001b[39;49m\u001b[43m)\u001b[49m\u001b[38;5;241;43m/\u001b[39;49m\u001b[38;5;241;43m2\u001b[39;49m\u001b[43m,\u001b[49m\u001b[43m \u001b[49m\u001b[43mn\u001b[49m\u001b[43m)\u001b[49m\n",
      "\u001b[0;31mTypeError\u001b[0m: pow() 3rd argument not allowed unless all arguments are integers"
     ]
    }
   ],
   "source": [
    "pow(a, (n-1)/2, n)"
   ]
  },
  {
   "cell_type": "code",
   "execution_count": null,
   "metadata": {
    "cell_id": "daf8606bb0dd4680a9d3ffdc61224975",
    "deepnote_cell_type": "code",
    "deepnote_to_be_reexecuted": false,
    "execution_millis": 11,
    "execution_start": 1690220791256,
    "source_hash": null
   },
   "outputs": [
    {
     "data": {
      "text/plain": [
       "float"
      ]
     },
     "execution_count": 32,
     "metadata": {},
     "output_type": "execute_result"
    }
   ],
   "source": [
    "type((n-1)/2)"
   ]
  },
  {
   "cell_type": "code",
   "execution_count": null,
   "metadata": {
    "cell_id": "cc7ecea59b744dc380dbf122d7251ba0",
    "deepnote_cell_type": "code",
    "deepnote_to_be_reexecuted": false,
    "execution_millis": 17,
    "execution_start": 1690220800059,
    "source_hash": null
   },
   "outputs": [
    {
     "data": {
      "text/plain": [
       "170280.0"
      ]
     },
     "execution_count": 33,
     "metadata": {},
     "output_type": "execute_result"
    }
   ],
   "source": [
    "(n-1)/2"
   ]
  },
  {
   "cell_type": "code",
   "execution_count": null,
   "metadata": {
    "cell_id": "316affa648994ec19077fe5cf62169ab",
    "deepnote_cell_type": "code",
    "deepnote_to_be_reexecuted": false,
    "execution_millis": 23,
    "execution_start": 1690220817857,
    "source_hash": null
   },
   "outputs": [
    {
     "data": {
      "text/plain": [
       "0"
      ]
     },
     "execution_count": 34,
     "metadata": {},
     "output_type": "execute_result"
    }
   ],
   "source": [
    "(n-1)%2"
   ]
  },
  {
   "cell_type": "code",
   "execution_count": null,
   "metadata": {
    "cell_id": "aa96ff7154f34298a0de65e3dfedf215",
    "deepnote_cell_type": "code",
    "deepnote_to_be_reexecuted": false,
    "execution_millis": 19,
    "execution_start": 1690220860251,
    "source_hash": null
   },
   "outputs": [
    {
     "data": {
      "text/plain": [
       "170280"
      ]
     },
     "execution_count": 35,
     "metadata": {},
     "output_type": "execute_result"
    }
   ],
   "source": [
    "# Forces the output to be an integer\n",
    "# Only use this `//` if you know the number is divisible\n",
    "(n-1)//2"
   ]
  },
  {
   "cell_type": "code",
   "execution_count": null,
   "metadata": {
    "cell_id": "fea7028a6f4a4605b67cccf685574c2a",
    "deepnote_cell_type": "code",
    "deepnote_to_be_reexecuted": false,
    "execution_millis": 10,
    "execution_start": 1690220872586,
    "source_hash": null
   },
   "outputs": [
    {
     "data": {
      "text/plain": [
       "1"
      ]
     },
     "execution_count": 36,
     "metadata": {},
     "output_type": "execute_result"
    }
   ],
   "source": [
    "pow(a, (n-1)//2, n)"
   ]
  },
  {
   "cell_type": "code",
   "execution_count": null,
   "metadata": {
    "cell_id": "bbeb48eced8c4e6abb1f143ef333af63",
    "deepnote_cell_type": "code",
    "deepnote_to_be_reexecuted": false,
    "execution_millis": 10,
    "execution_start": 1690220886711,
    "source_hash": null
   },
   "outputs": [
    {
     "data": {
      "text/plain": [
       "140232"
      ]
     },
     "execution_count": 37,
     "metadata": {},
     "output_type": "execute_result"
    }
   ],
   "source": [
    "pow(a, (n-1)//4, n)"
   ]
  },
  {
   "cell_type": "code",
   "execution_count": null,
   "metadata": {
    "cell_id": "98a41eca9da84db5be9ab7042030858b",
    "deepnote_cell_type": "code",
    "deepnote_to_be_reexecuted": false,
    "execution_millis": 21,
    "execution_start": 1690220889959,
    "source_hash": null
   },
   "outputs": [
    {
     "data": {
      "text/plain": [
       "340561"
      ]
     },
     "execution_count": 38,
     "metadata": {},
     "output_type": "execute_result"
    }
   ],
   "source": [
    "n"
   ]
  },
  {
   "cell_type": "code",
   "execution_count": null,
   "metadata": {
    "cell_id": "fd6a76c29128482d903371caf182c434",
    "deepnote_cell_type": "code",
    "deepnote_to_be_reexecuted": false,
    "execution_millis": 11,
    "execution_start": 1690220916390,
    "source_hash": null
   },
   "outputs": [
    {
     "data": {
      "text/plain": [
       "1"
      ]
     },
     "execution_count": 39,
     "metadata": {},
     "output_type": "execute_result"
    }
   ],
   "source": [
    "pow(140232, 2, n)"
   ]
  },
  {
   "cell_type": "markdown",
   "metadata": {
    "cell_id": "4af8bdd2eba54b14b56a978ff5c8a6a6",
    "deepnote_cell_type": "markdown"
   },
   "source": [
    "$140232^2 \\equiv 1 \\bmod n$\n",
    "So we have \n",
    "$(140232^2 - 1^2) \\equiv 0 \\bmod n$\n",
    "So $n$ divides $(140232 - 1)(140232 + 1)$"
   ]
  },
  {
   "cell_type": "code",
   "execution_count": null,
   "metadata": {
    "cell_id": "bc4415867398425987b1ddd233f6ad7f",
    "deepnote_cell_type": "code",
    "deepnote_to_be_reexecuted": false,
    "execution_millis": 15,
    "execution_start": 1690221000214,
    "source_hash": null
   },
   "outputs": [],
   "source": [
    "from math import gcd"
   ]
  },
  {
   "cell_type": "code",
   "execution_count": null,
   "metadata": {
    "cell_id": "87cd1cd7ff434bff839b7cb6562263e6",
    "deepnote_cell_type": "code",
    "deepnote_to_be_reexecuted": false,
    "execution_millis": 29,
    "execution_start": 1690221018550,
    "source_hash": null
   },
   "outputs": [
    {
     "data": {
      "text/plain": [
       "20033"
      ]
     },
     "execution_count": 41,
     "metadata": {},
     "output_type": "execute_result"
    }
   ],
   "source": [
    "gcd(n, 140232 - 1)"
   ]
  },
  {
   "cell_type": "code",
   "execution_count": null,
   "metadata": {
    "cell_id": "7214e360bd304e09b410d6ec07e043bf",
    "deepnote_cell_type": "code",
    "deepnote_to_be_reexecuted": false,
    "execution_millis": 6,
    "execution_start": 1690221035154,
    "source_hash": null
   },
   "outputs": [
    {
     "data": {
      "text/plain": [
       "0"
      ]
     },
     "execution_count": 42,
     "metadata": {},
     "output_type": "execute_result"
    }
   ],
   "source": [
    "n%20033"
   ]
  },
  {
   "cell_type": "code",
   "execution_count": null,
   "metadata": {
    "cell_id": "014f529fa5494d2a8816de46f98dd675",
    "deepnote_cell_type": "code",
    "deepnote_to_be_reexecuted": false,
    "execution_millis": 11,
    "execution_start": 1690221040957,
    "source_hash": null
   },
   "outputs": [
    {
     "data": {
      "text/plain": [
       "340561"
      ]
     },
     "execution_count": 43,
     "metadata": {},
     "output_type": "execute_result"
    }
   ],
   "source": [
    "n"
   ]
  },
  {
   "cell_type": "markdown",
   "metadata": {
    "cell_id": "df47e840f06148a0b70a1cbd1214eadb",
    "deepnote_cell_type": "markdown"
   },
   "source": [
    "Our very first choice of `a`, `a = 2`, was a witness to the compositeness of `n`."
   ]
  },
  {
   "cell_type": "markdown",
   "metadata": {
    "created_in_deepnote_cell": true,
    "deepnote_cell_type": "markdown"
   },
   "source": [
    "<a style='text-decoration:none;line-height:16px;display:flex;color:#5B5B62;padding:10px;justify-content:end;' href='https://deepnote.com?utm_source=created-in-deepnote-cell&projectId=9ec1956f-f468-4427-ae49-a7498f8cc2b1' target=\"_blank\">\n",
    "<img alt='Created in deepnote.com' style='display:inline;max-height:16px;margin:0px;margin-right:7.5px;' src='data:image/svg+xml;base64,PD94bWwgdmVyc2lvbj0iMS4wIiBlbmNvZGluZz0iVVRGLTgiPz4KPHN2ZyB3aWR0aD0iODBweCIgaGVpZ2h0PSI4MHB4IiB2aWV3Qm94PSIwIDAgODAgODAiIHZlcnNpb249IjEuMSIgeG1sbnM9Imh0dHA6Ly93d3cudzMub3JnLzIwMDAvc3ZnIiB4bWxuczp4bGluaz0iaHR0cDovL3d3dy53My5vcmcvMTk5OS94bGluayI+CiAgICA8IS0tIEdlbmVyYXRvcjogU2tldGNoIDU0LjEgKDc2NDkwKSAtIGh0dHBzOi8vc2tldGNoYXBwLmNvbSAtLT4KICAgIDx0aXRsZT5Hcm91cCAzPC90aXRsZT4KICAgIDxkZXNjPkNyZWF0ZWQgd2l0aCBTa2V0Y2guPC9kZXNjPgogICAgPGcgaWQ9IkxhbmRpbmciIHN0cm9rZT0ibm9uZSIgc3Ryb2tlLXdpZHRoPSIxIiBmaWxsPSJub25lIiBmaWxsLXJ1bGU9ImV2ZW5vZGQiPgogICAgICAgIDxnIGlkPSJBcnRib2FyZCIgdHJhbnNmb3JtPSJ0cmFuc2xhdGUoLTEyMzUuMDAwMDAwLCAtNzkuMDAwMDAwKSI+CiAgICAgICAgICAgIDxnIGlkPSJHcm91cC0zIiB0cmFuc2Zvcm09InRyYW5zbGF0ZSgxMjM1LjAwMDAwMCwgNzkuMDAwMDAwKSI+CiAgICAgICAgICAgICAgICA8cG9seWdvbiBpZD0iUGF0aC0yMCIgZmlsbD0iIzAyNjVCNCIgcG9pbnRzPSIyLjM3NjIzNzYyIDgwIDM4LjA0NzY2NjcgODAgNTcuODIxNzgyMiA3My44MDU3NTkyIDU3LjgyMTc4MjIgMzIuNzU5MjczOSAzOS4xNDAyMjc4IDMxLjY4MzE2ODMiPjwvcG9seWdvbj4KICAgICAgICAgICAgICAgIDxwYXRoIGQ9Ik0zNS4wMDc3MTgsODAgQzQyLjkwNjIwMDcsNzYuNDU0OTM1OCA0Ny41NjQ5MTY3LDcxLjU0MjI2NzEgNDguOTgzODY2LDY1LjI2MTk5MzkgQzUxLjExMjI4OTksNTUuODQxNTg0MiA0MS42NzcxNzk1LDQ5LjIxMjIyODQgMjUuNjIzOTg0Niw0OS4yMTIyMjg0IEMyNS40ODQ5Mjg5LDQ5LjEyNjg0NDggMjkuODI2MTI5Niw0My4yODM4MjQ4IDM4LjY0NzU4NjksMzEuNjgzMTY4MyBMNzIuODcxMjg3MSwzMi41NTQ0MjUgTDY1LjI4MDk3Myw2Ny42NzYzNDIxIEw1MS4xMTIyODk5LDc3LjM3NjE0NCBMMzUuMDA3NzE4LDgwIFoiIGlkPSJQYXRoLTIyIiBmaWxsPSIjMDAyODY4Ij48L3BhdGg+CiAgICAgICAgICAgICAgICA8cGF0aCBkPSJNMCwzNy43MzA0NDA1IEwyNy4xMTQ1MzcsMC4yNTcxMTE0MzYgQzYyLjM3MTUxMjMsLTEuOTkwNzE3MDEgODAsMTAuNTAwMzkyNyA4MCwzNy43MzA0NDA1IEM4MCw2NC45NjA0ODgyIDY0Ljc3NjUwMzgsNzkuMDUwMzQxNCAzNC4zMjk1MTEzLDgwIEM0Ny4wNTUzNDg5LDc3LjU2NzA4MDggNTMuNDE4MjY3Nyw3MC4zMTM2MTAzIDUzLjQxODI2NzcsNTguMjM5NTg4NSBDNTMuNDE4MjY3Nyw0MC4xMjg1NTU3IDM2LjMwMzk1NDQsMzcuNzMwNDQwNSAyNS4yMjc0MTcsMzcuNzMwNDQwNSBDMTcuODQzMDU4NiwzNy43MzA0NDA1IDkuNDMzOTE5NjYsMzcuNzMwNDQwNSAwLDM3LjczMDQ0MDUgWiIgaWQ9IlBhdGgtMTkiIGZpbGw9IiMzNzkzRUYiPjwvcGF0aD4KICAgICAgICAgICAgPC9nPgogICAgICAgIDwvZz4KICAgIDwvZz4KPC9zdmc+' > </img>\n",
    "Created in <span style='font-weight:600;margin-left:4px;'>Deepnote</span></a>"
   ]
  }
 ],
 "metadata": {
  "deepnote": {},
  "deepnote_execution_queue": [],
  "deepnote_notebook_id": "9568d9ef94db46478b2e185e5e26006e",
  "deepnote_persisted_session": {
   "createdAt": "2023-07-24T18:16:29.126Z"
  },
  "kernelspec": {
   "display_name": "Python 3 (ipykernel)",
   "language": "python",
   "name": "python3"
  },
  "language_info": {
   "codemirror_mode": {
    "name": "ipython",
    "version": 3
   },
   "file_extension": ".py",
   "mimetype": "text/x-python",
   "name": "python",
   "nbconvert_exporter": "python",
   "pygments_lexer": "ipython3",
   "version": "3.11.3"
  }
 },
 "nbformat": 4,
 "nbformat_minor": 4
}
