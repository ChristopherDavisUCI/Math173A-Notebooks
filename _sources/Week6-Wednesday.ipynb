{
 "cells": [
  {
   "cell_type": "markdown",
   "id": "bce4a913-5577-4ec3-9516-86dae0605e1d",
   "metadata": {},
   "source": [
    "# Week 6 Wednesday\n",
    "\n",
    "## Screenshare notes\n",
    "\n",
    "![Slide 1](images/W6W/1.gif)\n",
    "\n",
    "## Final\n",
    "\n",
    "[Sample Final](extra/SampleFinal-173A.pdf)\n",
    "\n",
    "[Actual Final](extra/Final-173A.pdf)\n",
    "\n",
    "## Deepnote notebook\n",
    "\n",
    "No Deepnote notebook this class."
   ]
  }
 ],
 "metadata": {
  "kernelspec": {
   "display_name": "Python 3 (ipykernel)",
   "language": "python",
   "name": "python3"
  },
  "language_info": {
   "codemirror_mode": {
    "name": "ipython",
    "version": 3
   },
   "file_extension": ".py",
   "mimetype": "text/x-python",
   "name": "python",
   "nbconvert_exporter": "python",
   "pygments_lexer": "ipython3",
   "version": "3.11.3"
  }
 },
 "nbformat": 4,
 "nbformat_minor": 5
}
