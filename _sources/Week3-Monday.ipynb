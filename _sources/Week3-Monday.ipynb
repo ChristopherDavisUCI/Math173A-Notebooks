{
 "cells": [
  {
   "cell_type": "markdown",
   "metadata": {
    "cell_id": "baa1336057284a3dbb2be6f51e0cffff",
    "deepnote_cell_type": "markdown"
   },
   "source": [
    "# Week 3 Monday\n",
    "\n",
    "\n",
    "## Screenshare notes\n",
    "\n",
    "![Slide 1](images/W3M/1.gif)\n",
    "\n",
    "![Slide 2](images/W3M/2.gif)\n",
    "\n",
    "![Slide 3](images/W3M/3.gif)\n",
    "\n",
    "## Deepnote notebook\n",
    "\n",
    "Today's class is mostly devoted to helping you better understand Lab 2, where you will perform a Diffie-Hellman Key Exchange with another group."
   ]
  },
  {
   "cell_type": "code",
   "execution_count": null,
   "metadata": {
    "cell_id": "dfd324b5ff82493180e8d516290040f6",
    "deepnote_cell_type": "code",
    "deepnote_to_be_reexecuted": false,
    "execution_millis": 2838,
    "execution_start": 1689009271856,
    "output_cleared": false,
    "source_hash": null
   },
   "outputs": [
    {
     "name": "stdout",
     "output_type": "stream",
     "text": [
      "Collecting pycryptodome\n",
      "  Downloading pycryptodome-3.18.0-cp35-abi3-manylinux_2_17_x86_64.manylinux2014_x86_64.whl (2.1 MB)\n",
      "\u001b[2K     \u001b[90m━━━━━━━━━━━━━━━━━━━━━━━━━━━━━━━━━━━━━━━━\u001b[0m \u001b[32m2.1/2.1 MB\u001b[0m \u001b[31m86.1 MB/s\u001b[0m eta \u001b[36m0:00:00\u001b[0m\n",
      "\u001b[?25hInstalling collected packages: pycryptodome\n",
      "Successfully installed pycryptodome-3.18.0\n",
      "\u001b[33mWARNING: You are using pip version 22.0.4; however, version 23.1.2 is available.\n",
      "You should consider upgrading via the '/root/venv/bin/python -m pip install --upgrade pip' command.\u001b[0m\u001b[33m\n",
      "\u001b[0m"
     ]
    }
   ],
   "source": [
    "!pip install pycryptodome"
   ]
  },
  {
   "cell_type": "code",
   "execution_count": null,
   "metadata": {
    "cell_id": "d21cdc30844145a1aed8753c0f868eb4",
    "deepnote_cell_type": "code",
    "deepnote_to_be_reexecuted": false,
    "execution_millis": 10,
    "execution_start": 1689009326676,
    "source_hash": null
   },
   "outputs": [],
   "source": [
    "from Crypto.Util.number import getPrime, getRandomNBitInteger\n",
    "from sympy.ntheory import n_order, nextprime, isprime"
   ]
  },
  {
   "cell_type": "code",
   "execution_count": null,
   "metadata": {
    "cell_id": "2b56d429f0ef4810ba1b57084d148dc1",
    "deepnote_cell_type": "code",
    "deepnote_to_be_reexecuted": false,
    "execution_millis": 11,
    "execution_start": 1689009348928,
    "source_hash": null
   },
   "outputs": [],
   "source": [
    "p = getPrime(10)"
   ]
  },
  {
   "cell_type": "code",
   "execution_count": null,
   "metadata": {
    "cell_id": "61c6f5c9efbc4fa685704554741e7e33",
    "deepnote_cell_type": "code",
    "deepnote_to_be_reexecuted": false,
    "execution_millis": 62,
    "execution_start": 1689009351741,
    "source_hash": null
   },
   "outputs": [
    {
     "data": {
      "text/plain": [
       "683"
      ]
     },
     "execution_count": 6,
     "metadata": {},
     "output_type": "execute_result"
    }
   ],
   "source": [
    "p"
   ]
  },
  {
   "cell_type": "markdown",
   "metadata": {
    "cell_id": "332d799584ca49f99b26c2255d1069fc",
    "deepnote_cell_type": "markdown"
   },
   "source": [
    "The `10` in `getPrime(10)` refers to how many digits the prime is when written in binary."
   ]
  },
  {
   "cell_type": "code",
   "execution_count": null,
   "metadata": {
    "cell_id": "17f5e2110a5a4ee6a3e02440a747a843",
    "deepnote_cell_type": "code",
    "deepnote_to_be_reexecuted": false,
    "execution_millis": 10,
    "execution_start": 1689009447892,
    "source_hash": null
   },
   "outputs": [
    {
     "data": {
      "text/plain": [
       "1024"
      ]
     },
     "execution_count": 7,
     "metadata": {},
     "output_type": "execute_result"
    }
   ],
   "source": [
    "pow(2, 10)"
   ]
  },
  {
   "cell_type": "code",
   "execution_count": null,
   "metadata": {
    "cell_id": "07505291d9f24e80b2e986a8c2f1b99e",
    "deepnote_cell_type": "code",
    "deepnote_to_be_reexecuted": false,
    "execution_millis": 19,
    "execution_start": 1689009453980,
    "source_hash": null
   },
   "outputs": [
    {
     "data": {
      "text/plain": [
       "512"
      ]
     },
     "execution_count": 8,
     "metadata": {},
     "output_type": "execute_result"
    }
   ],
   "source": [
    "pow(2, 9)"
   ]
  },
  {
   "cell_type": "markdown",
   "metadata": {
    "cell_id": "08ffdd363a984d90ba9cfe7cd58eef87",
    "deepnote_cell_type": "markdown"
   },
   "source": [
    "For example, a 30 digit prime (in ordinary base 10 digits) is between $10^{29}$ and $10^{30}$.  Similarly, a 30-bit prime (meaning 30 digits in binary, in base 2) is between $2^{29}$ and $2^{30}$."
   ]
  },
  {
   "cell_type": "code",
   "execution_count": null,
   "metadata": {
    "cell_id": "2b7b16245c254cf2b0cd7fc6be14218f",
    "deepnote_cell_type": "code",
    "deepnote_to_be_reexecuted": false,
    "execution_millis": 8,
    "execution_start": 1689009560997,
    "source_hash": null
   },
   "outputs": [
    {
     "data": {
      "text/plain": [
       "803359783"
      ]
     },
     "execution_count": 9,
     "metadata": {},
     "output_type": "execute_result"
    }
   ],
   "source": [
    "getPrime(30)"
   ]
  },
  {
   "cell_type": "code",
   "execution_count": null,
   "metadata": {
    "cell_id": "a275aacfe74c41fa93bfd2bdb98fd5a4",
    "deepnote_cell_type": "code",
    "deepnote_to_be_reexecuted": false,
    "execution_millis": 13,
    "execution_start": 1689009571498,
    "source_hash": null
   },
   "outputs": [
    {
     "data": {
      "text/plain": [
       "536870912"
      ]
     },
     "execution_count": 10,
     "metadata": {},
     "output_type": "execute_result"
    }
   ],
   "source": [
    "pow(2, 29)"
   ]
  },
  {
   "cell_type": "code",
   "execution_count": null,
   "metadata": {
    "cell_id": "316649c42b214f2a8207143b2058fad0",
    "deepnote_cell_type": "code",
    "deepnote_to_be_reexecuted": false,
    "execution_millis": 10,
    "execution_start": 1689009575407,
    "source_hash": null
   },
   "outputs": [
    {
     "data": {
      "text/plain": [
       "1073741824"
      ]
     },
     "execution_count": 11,
     "metadata": {},
     "output_type": "execute_result"
    }
   ],
   "source": [
    "pow(2, 30)"
   ]
  },
  {
   "cell_type": "code",
   "execution_count": null,
   "metadata": {
    "cell_id": "07968133f189408f8eec024f3ff10c85",
    "deepnote_cell_type": "code",
    "deepnote_to_be_reexecuted": false,
    "execution_millis": 10,
    "execution_start": 1689009646581,
    "source_hash": null
   },
   "outputs": [
    {
     "data": {
      "text/plain": [
       "683"
      ]
     },
     "execution_count": 12,
     "metadata": {},
     "output_type": "execute_result"
    }
   ],
   "source": [
    "p"
   ]
  },
  {
   "cell_type": "markdown",
   "metadata": {
    "cell_id": "aa65735ec3ff47cf83c9f10b42873d58",
    "deepnote_cell_type": "markdown"
   },
   "source": [
    "Let's find a generator modulo p = 683."
   ]
  },
  {
   "cell_type": "code",
   "execution_count": null,
   "metadata": {
    "cell_id": "98609e3062fa4b56a0c568ab7c62dc76",
    "deepnote_cell_type": "code",
    "deepnote_to_be_reexecuted": false,
    "execution_millis": 15,
    "execution_start": 1689009750496,
    "source_hash": null
   },
   "outputs": [
    {
     "data": {
      "text/plain": [
       "1"
      ]
     },
     "execution_count": 13,
     "metadata": {},
     "output_type": "execute_result"
    }
   ],
   "source": [
    "n_order(1, p)"
   ]
  },
  {
   "cell_type": "code",
   "execution_count": null,
   "metadata": {
    "cell_id": "2aab16419a374b809d59251b5da606d6",
    "deepnote_cell_type": "code",
    "deepnote_to_be_reexecuted": false,
    "execution_millis": 10,
    "execution_start": 1689009758410,
    "source_hash": null
   },
   "outputs": [
    {
     "data": {
      "text/plain": [
       "22"
      ]
     },
     "execution_count": 14,
     "metadata": {},
     "output_type": "execute_result"
    }
   ],
   "source": [
    "n_order(2, p)"
   ]
  },
  {
   "cell_type": "code",
   "execution_count": null,
   "metadata": {
    "cell_id": "057457783ed045b795b989f0efec0122",
    "deepnote_cell_type": "code",
    "deepnote_to_be_reexecuted": false,
    "execution_millis": 16,
    "execution_start": 1689009774548,
    "source_hash": null
   },
   "outputs": [
    {
     "data": {
      "text/plain": [
       "682"
      ]
     },
     "execution_count": 15,
     "metadata": {},
     "output_type": "execute_result"
    }
   ],
   "source": [
    "# Want p-1\n",
    "p-1"
   ]
  },
  {
   "cell_type": "code",
   "execution_count": null,
   "metadata": {
    "cell_id": "6c1c50091af64d088b78ef32c05e07e7",
    "deepnote_cell_type": "code",
    "deepnote_to_be_reexecuted": false,
    "execution_millis": 718,
    "execution_start": 1689009787674,
    "source_hash": null
   },
   "outputs": [
    {
     "ename": "ValueError",
     "evalue": "The two numbers should be relatively prime",
     "output_type": "error",
     "traceback": [
      "\u001b[0;31m---------------------------------------------------------------------------\u001b[0m",
      "\u001b[0;31mValueError\u001b[0m                                Traceback (most recent call last)",
      "Cell \u001b[0;32mIn [16], line 1\u001b[0m\n\u001b[0;32m----> 1\u001b[0m \u001b[43mn_order\u001b[49m\u001b[43m(\u001b[49m\u001b[38;5;241;43m0\u001b[39;49m\u001b[43m,\u001b[49m\u001b[43m \u001b[49m\u001b[43mp\u001b[49m\u001b[43m)\u001b[49m\n",
      "File \u001b[0;32m/shared-libs/python3.9/py/lib/python3.9/site-packages/sympy/ntheory/residue_ntheory.py:36\u001b[0m, in \u001b[0;36mn_order\u001b[0;34m(a, n)\u001b[0m\n\u001b[1;32m     34\u001b[0m a, n \u001b[38;5;241m=\u001b[39m as_int(a), as_int(n)\n\u001b[1;32m     35\u001b[0m \u001b[38;5;28;01mif\u001b[39;00m igcd(a, n) \u001b[38;5;241m!=\u001b[39m \u001b[38;5;241m1\u001b[39m:\n\u001b[0;32m---> 36\u001b[0m     \u001b[38;5;28;01mraise\u001b[39;00m \u001b[38;5;167;01mValueError\u001b[39;00m(\u001b[38;5;124m\"\u001b[39m\u001b[38;5;124mThe two numbers should be relatively prime\u001b[39m\u001b[38;5;124m\"\u001b[39m)\n\u001b[1;32m     37\u001b[0m factors \u001b[38;5;241m=\u001b[39m defaultdict(\u001b[38;5;28mint\u001b[39m)\n\u001b[1;32m     38\u001b[0m f \u001b[38;5;241m=\u001b[39m factorint(n)\n",
      "\u001b[0;31mValueError\u001b[0m: The two numbers should be relatively prime"
     ]
    }
   ],
   "source": [
    "n_order(0, p)"
   ]
  },
  {
   "cell_type": "code",
   "execution_count": null,
   "metadata": {
    "cell_id": "0c1988d6b42d487798c26040361c05be",
    "deepnote_cell_type": "code",
    "deepnote_to_be_reexecuted": false,
    "execution_millis": 13,
    "execution_start": 1689009811596,
    "source_hash": null
   },
   "outputs": [
    {
     "data": {
      "text/plain": [
       "31"
      ]
     },
     "execution_count": 17,
     "metadata": {},
     "output_type": "execute_result"
    }
   ],
   "source": [
    "n_order(3, p)"
   ]
  },
  {
   "cell_type": "code",
   "execution_count": null,
   "metadata": {
    "cell_id": "d4a4dd22357e48edbfd6501c76cc8eb4",
    "deepnote_cell_type": "code",
    "deepnote_to_be_reexecuted": false,
    "execution_millis": 14,
    "execution_start": 1689009924515,
    "source_hash": null
   },
   "outputs": [
    {
     "data": {
      "text/plain": [
       "31.0"
      ]
     },
     "execution_count": 18,
     "metadata": {},
     "output_type": "execute_result"
    }
   ],
   "source": [
    "# Check: do these orders divide the size of the group (p-1)\n",
    "(p-1)/22"
   ]
  },
  {
   "cell_type": "code",
   "execution_count": null,
   "metadata": {
    "cell_id": "dbcf4069fe2d44779cc20a11e82f9516",
    "deepnote_cell_type": "code",
    "deepnote_to_be_reexecuted": false,
    "execution_millis": 10,
    "execution_start": 1689009939508,
    "source_hash": null
   },
   "outputs": [
    {
     "data": {
      "text/plain": [
       "22.0"
      ]
     },
     "execution_count": 19,
     "metadata": {},
     "output_type": "execute_result"
    }
   ],
   "source": [
    "(p-1)/31"
   ]
  },
  {
   "cell_type": "code",
   "execution_count": null,
   "metadata": {
    "cell_id": "b3b850db53bb4b64a213b993c111b9ab",
    "deepnote_cell_type": "code",
    "deepnote_to_be_reexecuted": false,
    "execution_millis": 8,
    "execution_start": 1689010049889,
    "source_hash": null
   },
   "outputs": [
    {
     "data": {
      "text/plain": [
       "22"
      ]
     },
     "execution_count": 20,
     "metadata": {},
     "output_type": "execute_result"
    }
   ],
   "source": [
    "# Not quite what we want\n",
    "22%(p-1)"
   ]
  },
  {
   "cell_type": "code",
   "execution_count": null,
   "metadata": {
    "cell_id": "8ce26570d69c4323ae3d5aa91220f337",
    "deepnote_cell_type": "code"
   },
   "outputs": [
    {
     "data": {
      "text/plain": [
       "0"
      ]
     },
     "execution_count": 21,
     "metadata": {},
     "output_type": "execute_result"
    }
   ],
   "source": [
    "# Fancier way to check that 22 divides p-1, using `%`\n",
    "# For example, 27%11 is 5\n",
    "(p-1)%22"
   ]
  },
  {
   "cell_type": "code",
   "execution_count": null,
   "metadata": {
    "cell_id": "6ac49ace32304464ac7561f3b387092e",
    "deepnote_cell_type": "code",
    "deepnote_to_be_reexecuted": false,
    "execution_millis": 18,
    "execution_start": 1689010317676,
    "source_hash": null
   },
   "outputs": [],
   "source": [
    "gens_list = []\n",
    "for g in range(1, p):\n",
    "    if n_order(g, p) == p-1:\n",
    "        gens_list.append(g)"
   ]
  },
  {
   "cell_type": "code",
   "execution_count": null,
   "metadata": {
    "cell_id": "03a69bd77b6944efa097d79147090dd5",
    "deepnote_cell_type": "code",
    "deepnote_to_be_reexecuted": false,
    "execution_millis": 113,
    "execution_start": 1689010332566,
    "source_hash": null
   },
   "outputs": [
    {
     "name": "stdout",
     "output_type": "stream",
     "text": [
      "[5, 6, 7, 11, 13, 15, 17, 18, 20, 21, 23, 24, 28, 31, 33, 38, 39, 41, 43, 44, 45, 47, 50, 51, 52, 54, 58, 60, 63, 68, 69, 70, 72, 73, 79, 84, 89, 92, 93, 95, 96, 98, 99, 106, 107, 110, 113, 114, 117, 118, 122, 123, 125, 129, 130, 131, 132, 133, 134, 135, 139, 141, 142, 145, 148, 149, 150, 152, 153, 154, 156, 157, 162, 164, 166, 170, 172, 174, 175, 176, 179, 180, 181, 182, 188, 189, 194, 199, 200, 202, 203, 204, 206, 207, 208, 209, 210, 216, 218, 219, 223, 230, 232, 237, 238, 242, 245, 247, 251, 252, 254, 263, 267, 271, 272, 274, 275, 276, 277, 279, 280, 283, 285, 286, 288, 294, 295, 297, 302, 305, 307, 310, 318, 319, 320, 321, 322, 323, 326, 330, 331, 334, 335, 338, 339, 343, 346, 351, 354, 355, 356, 359, 366, 368, 369, 370, 374, 375, 377, 379, 380, 382, 383, 384, 385, 387, 390, 392, 393, 394, 396, 399, 401, 402, 405, 410, 413, 415, 417, 419, 421, 422, 423, 424, 425, 426, 428, 434, 435, 437, 439, 442, 444, 447, 448, 449, 450, 452, 454, 456, 457, 458, 459, 461, 462, 463, 466, 468, 469, 470, 471, 472, 478, 485, 486, 487, 488, 491, 492, 493, 496, 497, 498, 499, 500, 505, 506, 510, 514, 515, 516, 518, 520, 522, 523, 524, 525, 528, 532, 536, 537, 539, 540, 543, 546, 547, 556, 557, 562, 563, 564, 567, 568, 574, 575, 578, 580, 581, 582, 583, 586, 589, 592, 593, 595, 596, 597, 598, 600, 601, 605, 606, 608, 609, 612, 617, 618, 621, 622, 624, 626, 627, 628, 630, 634, 635, 641, 643, 647, 648, 649, 653, 654, 657, 658, 661, 664, 669, 671, 673]\n"
     ]
    }
   ],
   "source": [
    "# Secretly this list has length phi(p-1), where phi(p-1) is the size of (Z/(p-1)Z)^x\n",
    "print(gens_list)"
   ]
  },
  {
   "cell_type": "code",
   "execution_count": null,
   "metadata": {
    "cell_id": "26fb07da69af4147affb2a6d44bf593c",
    "deepnote_cell_type": "code",
    "deepnote_to_be_reexecuted": false,
    "execution_millis": 18,
    "execution_start": 1689010431565,
    "source_hash": null
   },
   "outputs": [
    {
     "data": {
      "text/plain": [
       "300"
      ]
     },
     "execution_count": 25,
     "metadata": {},
     "output_type": "execute_result"
    }
   ],
   "source": [
    "len(gens_list)"
   ]
  },
  {
   "cell_type": "code",
   "execution_count": null,
   "metadata": {
    "cell_id": "0d2da22a46aa4936850a2362e9bebbca",
    "deepnote_cell_type": "code",
    "deepnote_to_be_reexecuted": false,
    "execution_millis": 20,
    "execution_start": 1689010443804,
    "source_hash": null
   },
   "outputs": [
    {
     "data": {
      "text/plain": [
       "682"
      ]
     },
     "execution_count": 26,
     "metadata": {},
     "output_type": "execute_result"
    }
   ],
   "source": [
    "p-1"
   ]
  },
  {
   "cell_type": "code",
   "execution_count": null,
   "metadata": {
    "cell_id": "b90c044ead3a4d908411f884d347920e",
    "deepnote_cell_type": "code",
    "deepnote_to_be_reexecuted": false,
    "execution_millis": 31,
    "execution_start": 1689010652973,
    "source_hash": null
   },
   "outputs": [],
   "source": [
    "from math import gcd"
   ]
  },
  {
   "cell_type": "code",
   "execution_count": null,
   "metadata": {
    "cell_id": "0eb53bbdecf84540a81d9c166b9a439e",
    "deepnote_cell_type": "code",
    "deepnote_to_be_reexecuted": false,
    "execution_millis": 26,
    "execution_start": 1689010683395,
    "source_hash": null
   },
   "outputs": [],
   "source": [
    "# What is (Z/682Z)^x?\n",
    "N = p-1\n",
    "elt_list = []\n",
    "for a in range(N):\n",
    "    if gcd(a, N) == 1:\n",
    "        elt_list.append(a)"
   ]
  },
  {
   "cell_type": "code",
   "execution_count": null,
   "metadata": {
    "cell_id": "93fccbc32197494093e4af40adf6c109",
    "deepnote_cell_type": "code",
    "deepnote_to_be_reexecuted": false,
    "execution_millis": 21,
    "execution_start": 1689010699305,
    "source_hash": null
   },
   "outputs": [
    {
     "data": {
      "text/plain": [
       "300"
      ]
     },
     "execution_count": 29,
     "metadata": {},
     "output_type": "execute_result"
    }
   ],
   "source": [
    "len(elt_list)"
   ]
  },
  {
   "cell_type": "code",
   "execution_count": null,
   "metadata": {
    "cell_id": "d8dab92712044718ab63fa661e60e366",
    "deepnote_cell_type": "code",
    "deepnote_to_be_reexecuted": false,
    "execution_millis": 90,
    "execution_start": 1689010722848,
    "source_hash": null
   },
   "outputs": [
    {
     "name": "stdout",
     "output_type": "stream",
     "text": [
      "[1, 3, 5, 7, 9, 13, 15, 17, 19, 21, 23, 25, 27, 29, 35, 37, 39, 41, 43, 45, 47, 49, 51, 53, 57, 59, 61, 63, 65, 67, 69, 71, 73, 75, 79, 81, 83, 85, 87, 89, 91, 95, 97, 101, 103, 105, 107, 109, 111, 113, 115, 117, 119, 123, 125, 127, 129, 131, 133, 135, 137, 139, 141, 145, 147, 149, 151, 153, 157, 159, 161, 163, 167, 169, 171, 173, 175, 177, 179, 181, 183, 185, 189, 191, 193, 195, 197, 199, 201, 203, 205, 207, 211, 213, 215, 219, 221, 223, 225, 227, 229, 233, 235, 237, 239, 241, 243, 245, 247, 249, 251, 255, 257, 259, 261, 263, 265, 267, 269, 271, 273, 277, 281, 283, 285, 287, 289, 291, 293, 295, 299, 301, 303, 305, 307, 309, 311, 313, 315, 317, 321, 323, 325, 327, 329, 331, 333, 335, 337, 339, 343, 345, 347, 349, 351, 353, 355, 357, 359, 361, 365, 367, 369, 371, 373, 375, 377, 379, 381, 383, 387, 389, 391, 393, 395, 397, 399, 401, 405, 409, 411, 413, 415, 417, 419, 421, 423, 425, 427, 431, 433, 435, 437, 439, 441, 443, 445, 447, 449, 453, 455, 457, 459, 461, 463, 467, 469, 471, 475, 477, 479, 481, 483, 485, 487, 489, 491, 493, 497, 499, 501, 503, 505, 507, 509, 511, 513, 515, 519, 521, 523, 525, 529, 531, 533, 535, 537, 541, 543, 545, 547, 549, 551, 553, 555, 557, 559, 563, 565, 567, 569, 571, 573, 575, 577, 579, 581, 585, 587, 591, 593, 595, 597, 599, 601, 603, 607, 609, 611, 613, 615, 617, 619, 621, 623, 625, 629, 631, 633, 635, 637, 639, 641, 643, 645, 647, 653, 655, 657, 659, 661, 663, 665, 667, 669, 673, 675, 677, 679, 681]\n"
     ]
    }
   ],
   "source": [
    "print(elt_list)"
   ]
  },
  {
   "cell_type": "markdown",
   "metadata": {
    "cell_id": "b44a97c986fa425c972c32aea68aa736",
    "deepnote_cell_type": "markdown"
   },
   "source": [
    "Not at all obvious why these two sizes are equal.  It's a hard Math 120A exercise to convince yourself these are the same."
   ]
  },
  {
   "cell_type": "markdown",
   "metadata": {
    "cell_id": "8648b7e1c30347a4b14824ba0bb59ebe",
    "deepnote_cell_type": "markdown"
   },
   "source": [
    "Main thing to notice for now: in general, there are lots of generators.  (300 of the 682 options in this case.)\n",
    "\n",
    "In Lab 2, you don't need to find all of the generators, you just need to find one generator.\n",
    "\n",
    "**Warning**: The primes you use in Lab 2 should be much bigger than 683."
   ]
  },
  {
   "cell_type": "code",
   "execution_count": null,
   "metadata": {
    "cell_id": "62d9043296454d5c9eefb1199b22efac",
    "deepnote_cell_type": "code",
    "deepnote_to_be_reexecuted": false,
    "execution_millis": 15,
    "execution_start": 1689011365462,
    "source_hash": null
   },
   "outputs": [],
   "source": [
    "# This is still naive, still slow, but better than what I wrote in Homework 2.\n",
    "def better_naive_dlog(g, h, p):\n",
    "    '''This will be the first positive value x such that g^x mod p == h, if it exists'''\n",
    "    y = 1 # This is g^0 mod p\n",
    "    for x in range(1, p):\n",
    "        # compute y = g^x mod p assuming y is currently g^(x-1) mod p\n",
    "        # Could use y = pow(g, x, p), but let's take advantage of already knowing g^(x-1) mod p\n",
    "        y = (y*g)%p\n",
    "        if y == h:\n",
    "            return x\n",
    "\n",
    "    # If no solution exists, return None\n",
    "    return None"
   ]
  },
  {
   "cell_type": "code",
   "execution_count": null,
   "metadata": {
    "cell_id": "bbf28ebb6c2b4ae785c6bb01e3b104ae",
    "deepnote_cell_type": "code",
    "deepnote_to_be_reexecuted": false,
    "execution_millis": 10,
    "execution_start": 1689011383752,
    "source_hash": null
   },
   "outputs": [
    {
     "data": {
      "text/plain": [
       "46"
      ]
     },
     "execution_count": 32,
     "metadata": {},
     "output_type": "execute_result"
    }
   ],
   "source": [
    "(7**43)%101"
   ]
  },
  {
   "cell_type": "code",
   "execution_count": null,
   "metadata": {
    "cell_id": "c57a856a7af44edbb01e865d3fa1ea84",
    "deepnote_cell_type": "code",
    "deepnote_to_be_reexecuted": false,
    "execution_millis": 18,
    "execution_start": 1689011457818,
    "source_hash": null
   },
   "outputs": [
    {
     "data": {
      "text/plain": [
       "43"
      ]
     },
     "execution_count": 33,
     "metadata": {},
     "output_type": "execute_result"
    }
   ],
   "source": [
    "better_naive_dlog(7, 46, 101)"
   ]
  },
  {
   "cell_type": "code",
   "execution_count": null,
   "metadata": {
    "cell_id": "9929386297034d76822b18fb7e0ee05b",
    "deepnote_cell_type": "code",
    "deepnote_to_be_reexecuted": false,
    "execution_millis": 13,
    "execution_start": 1689011479770,
    "source_hash": null
   },
   "outputs": [
    {
     "data": {
      "text/plain": [
       "25"
      ]
     },
     "execution_count": 36,
     "metadata": {},
     "output_type": "execute_result"
    }
   ],
   "source": [
    "n_order(5, 101)"
   ]
  },
  {
   "cell_type": "code",
   "execution_count": null,
   "metadata": {
    "cell_id": "93a0d1b66a3f41f5a71faa5f613fcda1",
    "deepnote_cell_type": "code",
    "deepnote_to_be_reexecuted": false,
    "execution_millis": 13,
    "execution_start": 1689011502665,
    "source_hash": null
   },
   "outputs": [
    {
     "data": {
      "text/plain": [
       "92"
      ]
     },
     "execution_count": 37,
     "metadata": {},
     "output_type": "execute_result"
    }
   ],
   "source": [
    "pow(5, 87, 101)"
   ]
  },
  {
   "cell_type": "code",
   "execution_count": null,
   "metadata": {
    "cell_id": "bb682fdba9c34d33a217dfcfe9ea1c5c",
    "deepnote_cell_type": "code",
    "deepnote_to_be_reexecuted": false,
    "execution_millis": 13,
    "execution_start": 1689011523575,
    "source_hash": null
   },
   "outputs": [
    {
     "data": {
      "text/plain": [
       "12"
      ]
     },
     "execution_count": 38,
     "metadata": {},
     "output_type": "execute_result"
    }
   ],
   "source": [
    "better_naive_dlog(5, 92, 101)"
   ]
  },
  {
   "cell_type": "code",
   "execution_count": null,
   "metadata": {
    "cell_id": "2aaabd45651c4e4fa3195750882e35ab",
    "deepnote_cell_type": "code",
    "deepnote_to_be_reexecuted": false,
    "execution_millis": 5,
    "execution_start": 1689011547510,
    "source_hash": null
   },
   "outputs": [
    {
     "data": {
      "text/plain": [
       "92"
      ]
     },
     "execution_count": 39,
     "metadata": {},
     "output_type": "execute_result"
    }
   ],
   "source": [
    "pow(5, 12, 101)"
   ]
  },
  {
   "cell_type": "code",
   "execution_count": null,
   "metadata": {
    "cell_id": "e0f9d0789de1449d831dc0d6f3357919",
    "deepnote_cell_type": "code",
    "deepnote_to_be_reexecuted": false,
    "execution_millis": 7,
    "execution_start": 1689011634811,
    "source_hash": null
   },
   "outputs": [
    {
     "data": {
      "text/plain": [
       "92"
      ]
     },
     "execution_count": 41,
     "metadata": {},
     "output_type": "execute_result"
    }
   ],
   "source": [
    "pow(5, 12+25, 101)"
   ]
  },
  {
   "cell_type": "code",
   "execution_count": null,
   "metadata": {
    "cell_id": "cb555c071f544c349b348d75ff0f7c27",
    "deepnote_cell_type": "code",
    "deepnote_to_be_reexecuted": false,
    "execution_millis": 14,
    "execution_start": 1689011640109,
    "source_hash": null
   },
   "outputs": [
    {
     "data": {
      "text/plain": [
       "92"
      ]
     },
     "execution_count": 42,
     "metadata": {},
     "output_type": "execute_result"
    }
   ],
   "source": [
    "pow(5, 62, 101)"
   ]
  },
  {
   "cell_type": "markdown",
   "metadata": {
    "cell_id": "eccae76e76c14a338ac13e85c78d58f3",
    "deepnote_cell_type": "markdown"
   },
   "source": [
    "As we've defined it, discrete logarithms have either 0 solutions or infinitely many solutions."
   ]
  },
  {
   "cell_type": "markdown",
   "metadata": {
    "created_in_deepnote_cell": true,
    "deepnote_cell_type": "markdown"
   },
   "source": [
    "<a style='text-decoration:none;line-height:16px;display:flex;color:#5B5B62;padding:10px;justify-content:end;' href='https://deepnote.com?utm_source=created-in-deepnote-cell&projectId=49a6bd9c-13f9-4ae6-b1d4-bb1fccedca7d' target=\"_blank\">\n",
    "<img alt='Created in deepnote.com' style='display:inline;max-height:16px;margin:0px;margin-right:7.5px;' src='data:image/svg+xml;base64,PD94bWwgdmVyc2lvbj0iMS4wIiBlbmNvZGluZz0iVVRGLTgiPz4KPHN2ZyB3aWR0aD0iODBweCIgaGVpZ2h0PSI4MHB4IiB2aWV3Qm94PSIwIDAgODAgODAiIHZlcnNpb249IjEuMSIgeG1sbnM9Imh0dHA6Ly93d3cudzMub3JnLzIwMDAvc3ZnIiB4bWxuczp4bGluaz0iaHR0cDovL3d3dy53My5vcmcvMTk5OS94bGluayI+CiAgICA8IS0tIEdlbmVyYXRvcjogU2tldGNoIDU0LjEgKDc2NDkwKSAtIGh0dHBzOi8vc2tldGNoYXBwLmNvbSAtLT4KICAgIDx0aXRsZT5Hcm91cCAzPC90aXRsZT4KICAgIDxkZXNjPkNyZWF0ZWQgd2l0aCBTa2V0Y2guPC9kZXNjPgogICAgPGcgaWQ9IkxhbmRpbmciIHN0cm9rZT0ibm9uZSIgc3Ryb2tlLXdpZHRoPSIxIiBmaWxsPSJub25lIiBmaWxsLXJ1bGU9ImV2ZW5vZGQiPgogICAgICAgIDxnIGlkPSJBcnRib2FyZCIgdHJhbnNmb3JtPSJ0cmFuc2xhdGUoLTEyMzUuMDAwMDAwLCAtNzkuMDAwMDAwKSI+CiAgICAgICAgICAgIDxnIGlkPSJHcm91cC0zIiB0cmFuc2Zvcm09InRyYW5zbGF0ZSgxMjM1LjAwMDAwMCwgNzkuMDAwMDAwKSI+CiAgICAgICAgICAgICAgICA8cG9seWdvbiBpZD0iUGF0aC0yMCIgZmlsbD0iIzAyNjVCNCIgcG9pbnRzPSIyLjM3NjIzNzYyIDgwIDM4LjA0NzY2NjcgODAgNTcuODIxNzgyMiA3My44MDU3NTkyIDU3LjgyMTc4MjIgMzIuNzU5MjczOSAzOS4xNDAyMjc4IDMxLjY4MzE2ODMiPjwvcG9seWdvbj4KICAgICAgICAgICAgICAgIDxwYXRoIGQ9Ik0zNS4wMDc3MTgsODAgQzQyLjkwNjIwMDcsNzYuNDU0OTM1OCA0Ny41NjQ5MTY3LDcxLjU0MjI2NzEgNDguOTgzODY2LDY1LjI2MTk5MzkgQzUxLjExMjI4OTksNTUuODQxNTg0MiA0MS42NzcxNzk1LDQ5LjIxMjIyODQgMjUuNjIzOTg0Niw0OS4yMTIyMjg0IEMyNS40ODQ5Mjg5LDQ5LjEyNjg0NDggMjkuODI2MTI5Niw0My4yODM4MjQ4IDM4LjY0NzU4NjksMzEuNjgzMTY4MyBMNzIuODcxMjg3MSwzMi41NTQ0MjUgTDY1LjI4MDk3Myw2Ny42NzYzNDIxIEw1MS4xMTIyODk5LDc3LjM3NjE0NCBMMzUuMDA3NzE4LDgwIFoiIGlkPSJQYXRoLTIyIiBmaWxsPSIjMDAyODY4Ij48L3BhdGg+CiAgICAgICAgICAgICAgICA8cGF0aCBkPSJNMCwzNy43MzA0NDA1IEwyNy4xMTQ1MzcsMC4yNTcxMTE0MzYgQzYyLjM3MTUxMjMsLTEuOTkwNzE3MDEgODAsMTAuNTAwMzkyNyA4MCwzNy43MzA0NDA1IEM4MCw2NC45NjA0ODgyIDY0Ljc3NjUwMzgsNzkuMDUwMzQxNCAzNC4zMjk1MTEzLDgwIEM0Ny4wNTUzNDg5LDc3LjU2NzA4MDggNTMuNDE4MjY3Nyw3MC4zMTM2MTAzIDUzLjQxODI2NzcsNTguMjM5NTg4NSBDNTMuNDE4MjY3Nyw0MC4xMjg1NTU3IDM2LjMwMzk1NDQsMzcuNzMwNDQwNSAyNS4yMjc0MTcsMzcuNzMwNDQwNSBDMTcuODQzMDU4NiwzNy43MzA0NDA1IDkuNDMzOTE5NjYsMzcuNzMwNDQwNSAwLDM3LjczMDQ0MDUgWiIgaWQ9IlBhdGgtMTkiIGZpbGw9IiMzNzkzRUYiPjwvcGF0aD4KICAgICAgICAgICAgPC9nPgogICAgICAgIDwvZz4KICAgIDwvZz4KPC9zdmc+' > </img>\n",
    "Created in <span style='font-weight:600;margin-left:4px;'>Deepnote</span></a>"
   ]
  }
 ],
 "metadata": {
  "deepnote": {},
  "deepnote_execution_queue": [],
  "deepnote_notebook_id": "3b236dc50fe2489593d7b03138057393",
  "deepnote_persisted_session": {
   "createdAt": "2023-07-10T18:16:49.771Z"
  },
  "kernelspec": {
   "display_name": "Python 3 (ipykernel)",
   "language": "python",
   "name": "python3"
  },
  "language_info": {
   "codemirror_mode": {
    "name": "ipython",
    "version": 3
   },
   "file_extension": ".py",
   "mimetype": "text/x-python",
   "name": "python",
   "nbconvert_exporter": "python",
   "pygments_lexer": "ipython3",
   "version": "3.11.3"
  }
 },
 "nbformat": 4,
 "nbformat_minor": 4
}
