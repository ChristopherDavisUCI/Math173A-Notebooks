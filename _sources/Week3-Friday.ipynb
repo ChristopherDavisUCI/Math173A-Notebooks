{
 "cells": [
  {
   "cell_type": "markdown",
   "id": "3ea137ca-e1fa-42e8-8bb1-0c53fba61df3",
   "metadata": {},
   "source": [
    "# Week 3 Friday\n",
    "\n",
    "## Screenshare notes\n",
    "\n",
    "![Slide 1](images/W3F/1.gif)\n",
    "\n",
    "![Slide 2](images/W3F/2.gif)\n",
    "\n",
    "![Slide 3](images/W3F/3.gif)\n",
    "\n",
    "![Slide 4](images/W3F/4.gif)\n",
    "\n",
    "![Slide 5](images/W3F/5.gif)\n",
    "\n",
    "![Slide 6](images/W3F/6.gif)\n",
    "\n",
    "![Slide 7](images/W3F/7.gif)\n",
    "\n",
    "![Slide 8](images/W3F/8.gif)\n",
    "\n",
    "![Slide 9](images/W3F/9.gif)"
   ]
  },
  {
   "cell_type": "markdown",
   "id": "25671f8e-28af-45ae-aca8-8782a0aac41a",
   "metadata": {
    "jp-MarkdownHeadingCollapsed": true,
    "tags": []
   },
   "source": [
    "## Deepnote notebook\n",
    "\n",
    "No notebook this class."
   ]
  }
 ],
 "metadata": {
  "kernelspec": {
   "display_name": "Python 3 (ipykernel)",
   "language": "python",
   "name": "python3"
  },
  "language_info": {
   "codemirror_mode": {
    "name": "ipython",
    "version": 3
   },
   "file_extension": ".py",
   "mimetype": "text/x-python",
   "name": "python",
   "nbconvert_exporter": "python",
   "pygments_lexer": "ipython3",
   "version": "3.11.3"
  }
 },
 "nbformat": 4,
 "nbformat_minor": 5
}
