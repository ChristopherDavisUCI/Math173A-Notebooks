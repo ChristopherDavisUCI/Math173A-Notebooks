{
 "cells": [
  {
   "cell_type": "markdown",
   "metadata": {
    "cell_id": "28c5c78a9038439a8745ac692754f194",
    "deepnote_cell_type": "markdown"
   },
   "source": [
    "# Week 1 Monday\n",
    "\n",
    "Math 173A, Summer Session I\n",
    "[Class website](https://canvas.eee.uci.edu/courses/55830)"
   ]
  },
  {
   "cell_type": "markdown",
   "metadata": {},
   "source": [
    "## Screenshare notes\n",
    "\n",
    "![Slide 1](images/W1M/1.gif)"
   ]
  },
  {
   "cell_type": "markdown",
   "metadata": {},
   "source": [
    "## Deepnote notebook"
   ]
  },
  {
   "cell_type": "markdown",
   "metadata": {
    "cell_id": "64603074eb4248da9db939ec86e4b253",
    "deepnote_cell_type": "markdown"
   },
   "source": [
    "Motivating questions for today.\n",
    "\n",
    "Consider the following 20 strings.  One of them is *shift ciphertext* (meaning it was obtained from English by removing spaces and shifting each letter by the same amount), and the rest are random.\n",
    "\n",
    "```\n",
    "NJYJNYMEDBDDAXBTQGIAVQWWJXTTGRECNAOOQSUMPYDY\n",
    "UOZGXDGBINYGHTYMBJKDSFOTTNPUZRUSNYPSQHSUMXDI\n",
    "ILTFAEXYJGCAZNRXVILDVSWYFHAQEOJPKBXFKGODOABL\n",
    "TNFZBAFREIGGDDPGOZVYOFMDSAWTTGDNSJCXAOCEIWPV\n",
    "UHJIGWXPOVOVIBHWMEHZLAONHJCTIPECKXVGRTGLITQR\n",
    "BQLTWBLNVTKLWWSZIKWQOFOJFBZLZSIRKJFAHTDTAJIL\n",
    "ILKWRUXWLZBIURLUPPNZEOSBCSRLPWAXMHJJCTQKJOOZ\n",
    "PTODVCQAGMGDGQFLLQEXIPKHMZIRYDYTAKWHBZQAOYTD\n",
    "QRGBYXWPOITKAOMBANEEZJRMVSSFNMEVSGZFTWCFWACH\n",
    "DAASYKEBEUWTZBFPKLRXZVLCEWSWUQVIRAPUXCTOMPSL\n",
    "XPPSFVQKLGKPLQRZIWWKGORUKCGPEVFRPZRTEANTVANF\n",
    "EKICVABHEMRVSKVMMJLYGWCVULRINLOHLRVUKAVFEBWG\n",
    "HZIIGDICWMRLVRLWYYSXLTRMLJJTPGUNWBDUCHRWNRYX\n",
    "AWIVDHPKLDSRAKDNXUTYBVNGEGZRYLGDSDHZJIRDQXSG\n",
    "OWSBYPPVXBATUBEBSJJEHAWPZUKBBYEUGNLDJJVFVIPM\n",
    "BPIWDCTHTKTCINIWGTTPHJBBTGHTHHXDCDCTJRXGKXCT\n",
    "WOTMFMEPCWIZLBVZENBDWUUYJVJRBVLQUCMYTEDUFIEU\n",
    "XOLSJHRDODYQFLSPFHIHZSNXZYFZMZGJNYFWQEPPFHQK\n",
    "FUTWLMYHFYLHRMIRJOGBDUNTJDGWLDBWRULWDUDHDHBZ\n",
    "DLSVRDGWWWZNOTLMJRNSCMPMGHCMTUCVCRNPUFIDFDJG\n",
    "```\n",
    "\n",
    "* How can we distinguish the ciphertext from the random strings?\n",
    "* Once we've identified the ciphertext, how can we recover the original *plaintext*?\n",
    "* How could we recover the original plaintext automatically?"
   ]
  },
  {
   "cell_type": "code",
   "execution_count": 2,
   "metadata": {
    "cell_id": "150cad1f50a943f79c24e4f8494ab196",
    "deepnote_cell_type": "code",
    "deepnote_to_be_reexecuted": false,
    "execution_millis": 2,
    "execution_start": 1687797610283,
    "source_hash": "85deb9db"
   },
   "outputs": [
    {
     "data": {
      "text/plain": [
       "5"
      ]
     },
     "execution_count": 2,
     "metadata": {},
     "output_type": "execute_result"
    }
   ],
   "source": [
    "2+3"
   ]
  },
  {
   "cell_type": "markdown",
   "metadata": {
    "cell_id": "18a95a6c69e24e7785ee46073fa9de03",
    "deepnote_cell_type": "markdown"
   },
   "source": [
    "command-shift-m converts a code cell to a markdown cell (control instead of command on a PC??)"
   ]
  },
  {
   "cell_type": "markdown",
   "metadata": {
    "cell_id": "8ef65fa3327f49b68f78166c98684311",
    "deepnote_cell_type": "markdown"
   },
   "source": [
    "## 10 minute break until 9:55am\n",
    "\n",
    "Try following the lab 0 instructions to create your own Workspace on the Education plan."
   ]
  },
  {
   "cell_type": "code",
   "execution_count": 3,
   "metadata": {
    "cell_id": "9446f51d3c6d445aaad8f35aac00a5a9",
    "deepnote_cell_type": "code",
    "deepnote_to_be_reexecuted": false,
    "execution_millis": 45,
    "execution_start": 1687798606550,
    "source_hash": "c74fbb54"
   },
   "outputs": [],
   "source": [
    "# Getting a long string of English text\n",
    "with open(\"PridePrejudice.txt\", \"r\") as f:\n",
    "    s = f.read()"
   ]
  },
  {
   "cell_type": "code",
   "execution_count": 4,
   "metadata": {
    "cell_id": "ec5187d81c8f46788e09278aff9cc8d9",
    "deepnote_cell_type": "code",
    "deepnote_to_be_reexecuted": false,
    "execution_millis": 1,
    "execution_start": 1687798610826,
    "source_hash": "a626e052"
   },
   "outputs": [
    {
     "data": {
      "text/plain": [
       "str"
      ]
     },
     "execution_count": 4,
     "metadata": {},
     "output_type": "execute_result"
    }
   ],
   "source": [
    "type(s)"
   ]
  },
  {
   "cell_type": "code",
   "execution_count": 5,
   "metadata": {
    "cell_id": "9fc90c46a8134385850968dab8162406",
    "deepnote_cell_type": "code",
    "deepnote_to_be_reexecuted": false,
    "execution_millis": 6,
    "execution_start": 1687798616317,
    "source_hash": "67dcac88"
   },
   "outputs": [
    {
     "data": {
      "text/plain": [
       "748079"
      ]
     },
     "execution_count": 5,
     "metadata": {},
     "output_type": "execute_result"
    }
   ],
   "source": [
    "len(s)"
   ]
  },
  {
   "cell_type": "code",
   "execution_count": 6,
   "metadata": {
    "cell_id": "ea7ea06efdca4a2ab41074bac828382b",
    "deepnote_cell_type": "code",
    "deepnote_to_be_reexecuted": false,
    "execution_millis": 8,
    "execution_start": 1687798667851,
    "source_hash": "45fe5508"
   },
   "outputs": [],
   "source": [
    "from Helper1 import freq_chart"
   ]
  },
  {
   "cell_type": "code",
   "execution_count": 7,
   "metadata": {
    "cell_id": "fc8623a9d26e4327a94c63b5cf20eb51",
    "deepnote_cell_type": "code",
    "deepnote_to_be_reexecuted": false,
    "execution_millis": 223,
    "execution_start": 1687798679611,
    "source_hash": "97878c99"
   },
   "outputs": [
    {
     "data": {
      "text/html": [
       "\n",
       "<div id=\"altair-viz-0f4546e466d54e14af97ec155bf40a4c\"></div>\n",
       "<script type=\"text/javascript\">\n",
       "  var VEGA_DEBUG = (typeof VEGA_DEBUG == \"undefined\") ? {} : VEGA_DEBUG;\n",
       "  (function(spec, embedOpt){\n",
       "    let outputDiv = document.currentScript.previousElementSibling;\n",
       "    if (outputDiv.id !== \"altair-viz-0f4546e466d54e14af97ec155bf40a4c\") {\n",
       "      outputDiv = document.getElementById(\"altair-viz-0f4546e466d54e14af97ec155bf40a4c\");\n",
       "    }\n",
       "    const paths = {\n",
       "      \"vega\": \"https://cdn.jsdelivr.net/npm//vega@5?noext\",\n",
       "      \"vega-lib\": \"https://cdn.jsdelivr.net/npm//vega-lib?noext\",\n",
       "      \"vega-lite\": \"https://cdn.jsdelivr.net/npm//vega-lite@4.17.0?noext\",\n",
       "      \"vega-embed\": \"https://cdn.jsdelivr.net/npm//vega-embed@6?noext\",\n",
       "    };\n",
       "\n",
       "    function maybeLoadScript(lib, version) {\n",
       "      var key = `${lib.replace(\"-\", \"\")}_version`;\n",
       "      return (VEGA_DEBUG[key] == version) ?\n",
       "        Promise.resolve(paths[lib]) :\n",
       "        new Promise(function(resolve, reject) {\n",
       "          var s = document.createElement('script');\n",
       "          document.getElementsByTagName(\"head\")[0].appendChild(s);\n",
       "          s.async = true;\n",
       "          s.onload = () => {\n",
       "            VEGA_DEBUG[key] = version;\n",
       "            return resolve(paths[lib]);\n",
       "          };\n",
       "          s.onerror = () => reject(`Error loading script: ${paths[lib]}`);\n",
       "          s.src = paths[lib];\n",
       "        });\n",
       "    }\n",
       "\n",
       "    function showError(err) {\n",
       "      outputDiv.innerHTML = `<div class=\"error\" style=\"color:red;\">${err}</div>`;\n",
       "      throw err;\n",
       "    }\n",
       "\n",
       "    function displayChart(vegaEmbed) {\n",
       "      vegaEmbed(outputDiv, spec, embedOpt)\n",
       "        .catch(err => showError(`Javascript Error: ${err.message}<br>This usually means there's a typo in your chart specification. See the javascript console for the full traceback.`));\n",
       "    }\n",
       "\n",
       "    if(typeof define === \"function\" && define.amd) {\n",
       "      requirejs.config({paths});\n",
       "      require([\"vega-embed\"], displayChart, err => showError(`Error loading script: ${err.message}`));\n",
       "    } else {\n",
       "      maybeLoadScript(\"vega\", \"5\")\n",
       "        .then(() => maybeLoadScript(\"vega-lite\", \"4.17.0\"))\n",
       "        .then(() => maybeLoadScript(\"vega-embed\", \"6\"))\n",
       "        .catch(showError)\n",
       "        .then(() => displayChart(vegaEmbed));\n",
       "    }\n",
       "  })({\"config\": {\"view\": {\"continuousWidth\": 400, \"continuousHeight\": 300}}, \"data\": {\"name\": \"data-a9f52eb92b5a889ac84fb65be8186000\"}, \"mark\": \"bar\", \"encoding\": {\"tooltip\": [{\"field\": \"letter\", \"type\": \"nominal\"}, {\"field\": \"freq\", \"type\": \"quantitative\"}], \"x\": {\"field\": \"letter\", \"scale\": {\"domain\": [\"A\", \"B\", \"C\", \"D\", \"E\", \"F\", \"G\", \"H\", \"I\", \"J\", \"K\", \"L\", \"M\", \"N\", \"O\", \"P\", \"Q\", \"R\", \"S\", \"T\", \"U\", \"V\", \"W\", \"X\", \"Y\", \"Z\"]}, \"type\": \"nominal\"}, \"y\": {\"field\": \"freq\", \"type\": \"quantitative\"}}, \"$schema\": \"https://vega.github.io/schema/vega-lite/v4.17.0.json\", \"datasets\": {\"data-a9f52eb92b5a889ac84fb65be8186000\": [{\"letter\": \"A\", \"freq\": 0.07739003458965348}, {\"letter\": \"B\", \"freq\": 0.016852962904150066}, {\"letter\": \"C\", \"freq\": 0.02560911620328498}, {\"letter\": \"D\", \"freq\": 0.04094835025994021}, {\"letter\": \"E\", \"freq\": 0.12850815722067646}, {\"letter\": \"F\", \"freq\": 0.022428041783749075}, {\"letter\": \"G\", \"freq\": 0.018998418955958603}, {\"letter\": \"H\", \"freq\": 0.06241671902292859}, {\"letter\": \"I\", \"freq\": 0.07110900918938698}, {\"letter\": \"J\", \"freq\": 0.0017501950414592553}, {\"letter\": \"K\", \"freq\": 0.006035929053237688}, {\"letter\": \"L\", \"freq\": 0.04052029466794623}, {\"letter\": \"M\", \"freq\": 0.02715909169365028}, {\"letter\": \"N\", \"freq\": 0.07022700754620584}, {\"letter\": \"O\", \"freq\": 0.07487693401730174}, {\"letter\": \"P\", \"freq\": 0.015803536291519666}, {\"letter\": \"Q\", \"freq\": 0.001139180204500107}, {\"letter\": \"R\", \"freq\": 0.06070449665495267}, {\"letter\": \"S\", \"freq\": 0.06161066272671412}, {\"letter\": \"T\", \"freq\": 0.0878428759812484}, {\"letter\": \"U\", \"freq\": 0.028141203112378402}, {\"letter\": \"V\", \"freq\": 0.010561581320206296}, {\"letter\": \"W\", \"freq\": 0.022467740487845292}, {\"letter\": \"X\", \"freq\": 0.0017812635924910763}, {\"letter\": \"Y\", \"freq\": 0.02344122175350902}, {\"letter\": \"Z\", \"freq\": 0.0016759757251054604}]}}, {\"mode\": \"vega-lite\"});\n",
       "</script>"
      ],
      "text/plain": [
       "alt.Chart(...)"
      ]
     },
     "execution_count": 7,
     "metadata": {},
     "output_type": "execute_result"
    }
   ],
   "source": [
    "freq_chart(s)"
   ]
  },
  {
   "cell_type": "code",
   "execution_count": 8,
   "metadata": {
    "cell_id": "8a0d2fa9873d441aa850784c35064f48",
    "deepnote_cell_type": "code",
    "deepnote_to_be_reexecuted": false,
    "execution_millis": 3,
    "execution_start": 1687798769473,
    "source_hash": "5ce65cd8"
   },
   "outputs": [],
   "source": [
    "t = \"TNFZBAFREIGGDDPGOZVYOFMDSAWTTGDNSJCXAOCEIWPV\""
   ]
  },
  {
   "cell_type": "code",
   "execution_count": 9,
   "metadata": {
    "cell_id": "3795f08d7c5b47e0bbf699e03de999b5",
    "deepnote_cell_type": "code",
    "deepnote_to_be_reexecuted": false,
    "execution_millis": 21,
    "execution_start": 1687798777977,
    "source_hash": "7ef291bf"
   },
   "outputs": [
    {
     "data": {
      "text/html": [
       "\n",
       "<div id=\"altair-viz-ede856e557cd458a9d1f5a098e3e43d1\"></div>\n",
       "<script type=\"text/javascript\">\n",
       "  var VEGA_DEBUG = (typeof VEGA_DEBUG == \"undefined\") ? {} : VEGA_DEBUG;\n",
       "  (function(spec, embedOpt){\n",
       "    let outputDiv = document.currentScript.previousElementSibling;\n",
       "    if (outputDiv.id !== \"altair-viz-ede856e557cd458a9d1f5a098e3e43d1\") {\n",
       "      outputDiv = document.getElementById(\"altair-viz-ede856e557cd458a9d1f5a098e3e43d1\");\n",
       "    }\n",
       "    const paths = {\n",
       "      \"vega\": \"https://cdn.jsdelivr.net/npm//vega@5?noext\",\n",
       "      \"vega-lib\": \"https://cdn.jsdelivr.net/npm//vega-lib?noext\",\n",
       "      \"vega-lite\": \"https://cdn.jsdelivr.net/npm//vega-lite@4.17.0?noext\",\n",
       "      \"vega-embed\": \"https://cdn.jsdelivr.net/npm//vega-embed@6?noext\",\n",
       "    };\n",
       "\n",
       "    function maybeLoadScript(lib, version) {\n",
       "      var key = `${lib.replace(\"-\", \"\")}_version`;\n",
       "      return (VEGA_DEBUG[key] == version) ?\n",
       "        Promise.resolve(paths[lib]) :\n",
       "        new Promise(function(resolve, reject) {\n",
       "          var s = document.createElement('script');\n",
       "          document.getElementsByTagName(\"head\")[0].appendChild(s);\n",
       "          s.async = true;\n",
       "          s.onload = () => {\n",
       "            VEGA_DEBUG[key] = version;\n",
       "            return resolve(paths[lib]);\n",
       "          };\n",
       "          s.onerror = () => reject(`Error loading script: ${paths[lib]}`);\n",
       "          s.src = paths[lib];\n",
       "        });\n",
       "    }\n",
       "\n",
       "    function showError(err) {\n",
       "      outputDiv.innerHTML = `<div class=\"error\" style=\"color:red;\">${err}</div>`;\n",
       "      throw err;\n",
       "    }\n",
       "\n",
       "    function displayChart(vegaEmbed) {\n",
       "      vegaEmbed(outputDiv, spec, embedOpt)\n",
       "        .catch(err => showError(`Javascript Error: ${err.message}<br>This usually means there's a typo in your chart specification. See the javascript console for the full traceback.`));\n",
       "    }\n",
       "\n",
       "    if(typeof define === \"function\" && define.amd) {\n",
       "      requirejs.config({paths});\n",
       "      require([\"vega-embed\"], displayChart, err => showError(`Error loading script: ${err.message}`));\n",
       "    } else {\n",
       "      maybeLoadScript(\"vega\", \"5\")\n",
       "        .then(() => maybeLoadScript(\"vega-lite\", \"4.17.0\"))\n",
       "        .then(() => maybeLoadScript(\"vega-embed\", \"6\"))\n",
       "        .catch(showError)\n",
       "        .then(() => displayChart(vegaEmbed));\n",
       "    }\n",
       "  })({\"config\": {\"view\": {\"continuousWidth\": 400, \"continuousHeight\": 300}}, \"data\": {\"name\": \"data-86b6a0c673f1d28a621d8f7054bd41a5\"}, \"mark\": \"bar\", \"encoding\": {\"tooltip\": [{\"field\": \"letter\", \"type\": \"nominal\"}, {\"field\": \"freq\", \"type\": \"quantitative\"}], \"x\": {\"field\": \"letter\", \"scale\": {\"domain\": [\"A\", \"B\", \"C\", \"D\", \"E\", \"F\", \"G\", \"H\", \"I\", \"J\", \"K\", \"L\", \"M\", \"N\", \"O\", \"P\", \"Q\", \"R\", \"S\", \"T\", \"U\", \"V\", \"W\", \"X\", \"Y\", \"Z\"]}, \"type\": \"nominal\"}, \"y\": {\"field\": \"freq\", \"type\": \"quantitative\"}}, \"$schema\": \"https://vega.github.io/schema/vega-lite/v4.17.0.json\", \"datasets\": {\"data-86b6a0c673f1d28a621d8f7054bd41a5\": [{\"letter\": \"A\", \"freq\": 0.06818181818181818}, {\"letter\": \"B\", \"freq\": 0.022727272727272728}, {\"letter\": \"C\", \"freq\": 0.045454545454545456}, {\"letter\": \"D\", \"freq\": 0.09090909090909091}, {\"letter\": \"E\", \"freq\": 0.045454545454545456}, {\"letter\": \"F\", \"freq\": 0.06818181818181818}, {\"letter\": \"G\", \"freq\": 0.09090909090909091}, {\"letter\": \"H\", \"freq\": 0.0}, {\"letter\": \"I\", \"freq\": 0.045454545454545456}, {\"letter\": \"J\", \"freq\": 0.022727272727272728}, {\"letter\": \"K\", \"freq\": 0.0}, {\"letter\": \"L\", \"freq\": 0.0}, {\"letter\": \"M\", \"freq\": 0.022727272727272728}, {\"letter\": \"N\", \"freq\": 0.045454545454545456}, {\"letter\": \"O\", \"freq\": 0.06818181818181818}, {\"letter\": \"P\", \"freq\": 0.045454545454545456}, {\"letter\": \"Q\", \"freq\": 0.0}, {\"letter\": \"R\", \"freq\": 0.022727272727272728}, {\"letter\": \"S\", \"freq\": 0.045454545454545456}, {\"letter\": \"T\", \"freq\": 0.06818181818181818}, {\"letter\": \"U\", \"freq\": 0.0}, {\"letter\": \"V\", \"freq\": 0.045454545454545456}, {\"letter\": \"W\", \"freq\": 0.045454545454545456}, {\"letter\": \"X\", \"freq\": 0.022727272727272728}, {\"letter\": \"Y\", \"freq\": 0.022727272727272728}, {\"letter\": \"Z\", \"freq\": 0.045454545454545456}]}}, {\"mode\": \"vega-lite\"});\n",
       "</script>"
      ],
      "text/plain": [
       "alt.Chart(...)"
      ]
     },
     "execution_count": 9,
     "metadata": {},
     "output_type": "execute_result"
    }
   ],
   "source": [
    "freq_chart(t)"
   ]
  },
  {
   "cell_type": "code",
   "execution_count": 10,
   "metadata": {
    "cell_id": "5f87705c8a1347b5a1b9d8cd3ec398e1",
    "deepnote_cell_type": "code",
    "deepnote_to_be_reexecuted": false,
    "execution_millis": 4,
    "execution_start": 1687798879703,
    "source_hash": "4bbe657c"
   },
   "outputs": [],
   "source": [
    "import numpy as np\n",
    "import string"
   ]
  },
  {
   "cell_type": "code",
   "execution_count": 11,
   "metadata": {
    "cell_id": "81a6c067aa1e4200bd85b3b79b3dff7c",
    "deepnote_cell_type": "code",
    "deepnote_to_be_reexecuted": false,
    "execution_millis": 3,
    "execution_start": 1687798910756,
    "source_hash": "8c173f7e"
   },
   "outputs": [],
   "source": [
    "rng = np.random.default_rng()"
   ]
  },
  {
   "cell_type": "code",
   "execution_count": 12,
   "metadata": {
    "cell_id": "dcaf41c78bd24b67855f5f666734a400",
    "deepnote_cell_type": "code",
    "deepnote_to_be_reexecuted": false,
    "execution_millis": 5,
    "execution_start": 1687798924971,
    "source_hash": "c2469851"
   },
   "outputs": [
    {
     "data": {
      "text/plain": [
       "'ABCDEFGHIJKLMNOPQRSTUVWXYZ'"
      ]
     },
     "execution_count": 12,
     "metadata": {},
     "output_type": "execute_result"
    }
   ],
   "source": [
    "string.ascii_uppercase"
   ]
  },
  {
   "cell_type": "code",
   "execution_count": 13,
   "metadata": {
    "cell_id": "18b91fa0903d44099e32873094d1df27",
    "deepnote_cell_type": "code",
    "deepnote_to_be_reexecuted": false,
    "execution_millis": 3,
    "execution_start": 1687798945497,
    "source_hash": "82a09e94"
   },
   "outputs": [
    {
     "data": {
      "text/plain": [
       "['A',\n",
       " 'B',\n",
       " 'C',\n",
       " 'D',\n",
       " 'E',\n",
       " 'F',\n",
       " 'G',\n",
       " 'H',\n",
       " 'I',\n",
       " 'J',\n",
       " 'K',\n",
       " 'L',\n",
       " 'M',\n",
       " 'N',\n",
       " 'O',\n",
       " 'P',\n",
       " 'Q',\n",
       " 'R',\n",
       " 'S',\n",
       " 'T',\n",
       " 'U',\n",
       " 'V',\n",
       " 'W',\n",
       " 'X',\n",
       " 'Y',\n",
       " 'Z']"
      ]
     },
     "execution_count": 13,
     "metadata": {},
     "output_type": "execute_result"
    }
   ],
   "source": [
    "list(string.ascii_uppercase)"
   ]
  },
  {
   "cell_type": "code",
   "execution_count": 14,
   "metadata": {
    "cell_id": "3a8541e118554390858cb905fcd9fe53",
    "deepnote_cell_type": "code",
    "deepnote_to_be_reexecuted": false,
    "execution_millis": 11,
    "execution_start": 1687798984038,
    "source_hash": "33760d1b"
   },
   "outputs": [
    {
     "data": {
      "text/plain": [
       "array(['T', 'F', 'Y', 'O', 'T', 'B', 'O', 'X', 'B', 'D'], dtype='<U1')"
      ]
     },
     "execution_count": 14,
     "metadata": {},
     "output_type": "execute_result"
    }
   ],
   "source": [
    "temp = rng.choice(list(string.ascii_uppercase), size=750000)\n",
    "temp[:10]"
   ]
  },
  {
   "cell_type": "code",
   "execution_count": 15,
   "metadata": {
    "cell_id": "4d8495b6a47446d8a53d3df5d030210e",
    "deepnote_cell_type": "code",
    "deepnote_to_be_reexecuted": false,
    "execution_millis": 183,
    "execution_start": 1687799028123,
    "source_hash": "fae830b8"
   },
   "outputs": [
    {
     "data": {
      "text/plain": [
       "'MAAYFVQJYT'"
      ]
     },
     "execution_count": 15,
     "metadata": {},
     "output_type": "execute_result"
    }
   ],
   "source": [
    "temp = rng.choice(list(string.ascii_uppercase), size=750000)\n",
    "t2 = ''.join(temp)\n",
    "t2[:10]"
   ]
  },
  {
   "cell_type": "code",
   "execution_count": 16,
   "metadata": {
    "cell_id": "4bf509775ad44e8f8688e45a8d743a8d",
    "deepnote_cell_type": "code",
    "deepnote_to_be_reexecuted": false,
    "execution_millis": 186,
    "execution_start": 1687799073919,
    "source_hash": "d236ea9a"
   },
   "outputs": [
    {
     "data": {
      "text/html": [
       "\n",
       "<div id=\"altair-viz-cca02ea90ee44a2db58fa88cc8ed0fee\"></div>\n",
       "<script type=\"text/javascript\">\n",
       "  var VEGA_DEBUG = (typeof VEGA_DEBUG == \"undefined\") ? {} : VEGA_DEBUG;\n",
       "  (function(spec, embedOpt){\n",
       "    let outputDiv = document.currentScript.previousElementSibling;\n",
       "    if (outputDiv.id !== \"altair-viz-cca02ea90ee44a2db58fa88cc8ed0fee\") {\n",
       "      outputDiv = document.getElementById(\"altair-viz-cca02ea90ee44a2db58fa88cc8ed0fee\");\n",
       "    }\n",
       "    const paths = {\n",
       "      \"vega\": \"https://cdn.jsdelivr.net/npm//vega@5?noext\",\n",
       "      \"vega-lib\": \"https://cdn.jsdelivr.net/npm//vega-lib?noext\",\n",
       "      \"vega-lite\": \"https://cdn.jsdelivr.net/npm//vega-lite@4.17.0?noext\",\n",
       "      \"vega-embed\": \"https://cdn.jsdelivr.net/npm//vega-embed@6?noext\",\n",
       "    };\n",
       "\n",
       "    function maybeLoadScript(lib, version) {\n",
       "      var key = `${lib.replace(\"-\", \"\")}_version`;\n",
       "      return (VEGA_DEBUG[key] == version) ?\n",
       "        Promise.resolve(paths[lib]) :\n",
       "        new Promise(function(resolve, reject) {\n",
       "          var s = document.createElement('script');\n",
       "          document.getElementsByTagName(\"head\")[0].appendChild(s);\n",
       "          s.async = true;\n",
       "          s.onload = () => {\n",
       "            VEGA_DEBUG[key] = version;\n",
       "            return resolve(paths[lib]);\n",
       "          };\n",
       "          s.onerror = () => reject(`Error loading script: ${paths[lib]}`);\n",
       "          s.src = paths[lib];\n",
       "        });\n",
       "    }\n",
       "\n",
       "    function showError(err) {\n",
       "      outputDiv.innerHTML = `<div class=\"error\" style=\"color:red;\">${err}</div>`;\n",
       "      throw err;\n",
       "    }\n",
       "\n",
       "    function displayChart(vegaEmbed) {\n",
       "      vegaEmbed(outputDiv, spec, embedOpt)\n",
       "        .catch(err => showError(`Javascript Error: ${err.message}<br>This usually means there's a typo in your chart specification. See the javascript console for the full traceback.`));\n",
       "    }\n",
       "\n",
       "    if(typeof define === \"function\" && define.amd) {\n",
       "      requirejs.config({paths});\n",
       "      require([\"vega-embed\"], displayChart, err => showError(`Error loading script: ${err.message}`));\n",
       "    } else {\n",
       "      maybeLoadScript(\"vega\", \"5\")\n",
       "        .then(() => maybeLoadScript(\"vega-lite\", \"4.17.0\"))\n",
       "        .then(() => maybeLoadScript(\"vega-embed\", \"6\"))\n",
       "        .catch(showError)\n",
       "        .then(() => displayChart(vegaEmbed));\n",
       "    }\n",
       "  })({\"config\": {\"view\": {\"continuousWidth\": 400, \"continuousHeight\": 300}}, \"data\": {\"name\": \"data-c012636079c4ec83b48dbb2479a552ac\"}, \"mark\": \"bar\", \"encoding\": {\"tooltip\": [{\"field\": \"letter\", \"type\": \"nominal\"}, {\"field\": \"freq\", \"type\": \"quantitative\"}], \"x\": {\"field\": \"letter\", \"scale\": {\"domain\": [\"A\", \"B\", \"C\", \"D\", \"E\", \"F\", \"G\", \"H\", \"I\", \"J\", \"K\", \"L\", \"M\", \"N\", \"O\", \"P\", \"Q\", \"R\", \"S\", \"T\", \"U\", \"V\", \"W\", \"X\", \"Y\", \"Z\"]}, \"type\": \"nominal\"}, \"y\": {\"field\": \"freq\", \"type\": \"quantitative\"}}, \"$schema\": \"https://vega.github.io/schema/vega-lite/v4.17.0.json\", \"datasets\": {\"data-c012636079c4ec83b48dbb2479a552ac\": [{\"letter\": \"A\", \"freq\": 0.03806266666666667}, {\"letter\": \"B\", \"freq\": 0.038310666666666666}, {\"letter\": \"C\", \"freq\": 0.03818133333333333}, {\"letter\": \"D\", \"freq\": 0.038492}, {\"letter\": \"E\", \"freq\": 0.03834933333333333}, {\"letter\": \"F\", \"freq\": 0.038281333333333334}, {\"letter\": \"G\", \"freq\": 0.038308}, {\"letter\": \"H\", \"freq\": 0.038226666666666666}, {\"letter\": \"I\", \"freq\": 0.038624}, {\"letter\": \"J\", \"freq\": 0.038518666666666666}, {\"letter\": \"K\", \"freq\": 0.038836}, {\"letter\": \"L\", \"freq\": 0.038308}, {\"letter\": \"M\", \"freq\": 0.038492}, {\"letter\": \"N\", \"freq\": 0.03896533333333333}, {\"letter\": \"O\", \"freq\": 0.03849333333333333}, {\"letter\": \"P\", \"freq\": 0.038584}, {\"letter\": \"Q\", \"freq\": 0.03831333333333333}, {\"letter\": \"R\", \"freq\": 0.03847866666666667}, {\"letter\": \"S\", \"freq\": 0.038817333333333336}, {\"letter\": \"T\", \"freq\": 0.038088}, {\"letter\": \"U\", \"freq\": 0.03850933333333333}, {\"letter\": \"V\", \"freq\": 0.038622666666666666}, {\"letter\": \"W\", \"freq\": 0.038378666666666665}, {\"letter\": \"X\", \"freq\": 0.03872266666666667}, {\"letter\": \"Y\", \"freq\": 0.038446666666666664}, {\"letter\": \"Z\", \"freq\": 0.03858933333333334}]}}, {\"mode\": \"vega-lite\"});\n",
       "</script>"
      ],
      "text/plain": [
       "alt.Chart(...)"
      ]
     },
     "execution_count": 16,
     "metadata": {},
     "output_type": "execute_result"
    }
   ],
   "source": [
    "freq_chart(t2)"
   ]
  },
  {
   "cell_type": "code",
   "execution_count": 29,
   "metadata": {
    "cell_id": "cf25f1dca974453f91eeac69953b01aa",
    "deepnote_cell_type": "code",
    "deepnote_to_be_reexecuted": false,
    "execution_millis": 4,
    "execution_start": 1687799741737,
    "source_hash": "c20dd987"
   },
   "outputs": [
    {
     "data": {
      "text/plain": [
       "0.038461538461538464"
      ]
     },
     "execution_count": 29,
     "metadata": {},
     "output_type": "execute_result"
    }
   ],
   "source": [
    "1/26"
   ]
  },
  {
   "cell_type": "code",
   "execution_count": 17,
   "metadata": {
    "cell_id": "052f7143e9374f58a90fa9d546634133",
    "deepnote_cell_type": "code",
    "deepnote_to_be_reexecuted": false,
    "execution_millis": 3,
    "execution_start": 1687799111277,
    "source_hash": "39fd810"
   },
   "outputs": [
    {
     "data": {
      "text/html": [
       "\n",
       "<div id=\"altair-viz-2cf4389f509c42b7bf463904be361094\"></div>\n",
       "<script type=\"text/javascript\">\n",
       "  var VEGA_DEBUG = (typeof VEGA_DEBUG == \"undefined\") ? {} : VEGA_DEBUG;\n",
       "  (function(spec, embedOpt){\n",
       "    let outputDiv = document.currentScript.previousElementSibling;\n",
       "    if (outputDiv.id !== \"altair-viz-2cf4389f509c42b7bf463904be361094\") {\n",
       "      outputDiv = document.getElementById(\"altair-viz-2cf4389f509c42b7bf463904be361094\");\n",
       "    }\n",
       "    const paths = {\n",
       "      \"vega\": \"https://cdn.jsdelivr.net/npm//vega@5?noext\",\n",
       "      \"vega-lib\": \"https://cdn.jsdelivr.net/npm//vega-lib?noext\",\n",
       "      \"vega-lite\": \"https://cdn.jsdelivr.net/npm//vega-lite@4.17.0?noext\",\n",
       "      \"vega-embed\": \"https://cdn.jsdelivr.net/npm//vega-embed@6?noext\",\n",
       "    };\n",
       "\n",
       "    function maybeLoadScript(lib, version) {\n",
       "      var key = `${lib.replace(\"-\", \"\")}_version`;\n",
       "      return (VEGA_DEBUG[key] == version) ?\n",
       "        Promise.resolve(paths[lib]) :\n",
       "        new Promise(function(resolve, reject) {\n",
       "          var s = document.createElement('script');\n",
       "          document.getElementsByTagName(\"head\")[0].appendChild(s);\n",
       "          s.async = true;\n",
       "          s.onload = () => {\n",
       "            VEGA_DEBUG[key] = version;\n",
       "            return resolve(paths[lib]);\n",
       "          };\n",
       "          s.onerror = () => reject(`Error loading script: ${paths[lib]}`);\n",
       "          s.src = paths[lib];\n",
       "        });\n",
       "    }\n",
       "\n",
       "    function showError(err) {\n",
       "      outputDiv.innerHTML = `<div class=\"error\" style=\"color:red;\">${err}</div>`;\n",
       "      throw err;\n",
       "    }\n",
       "\n",
       "    function displayChart(vegaEmbed) {\n",
       "      vegaEmbed(outputDiv, spec, embedOpt)\n",
       "        .catch(err => showError(`Javascript Error: ${err.message}<br>This usually means there's a typo in your chart specification. See the javascript console for the full traceback.`));\n",
       "    }\n",
       "\n",
       "    if(typeof define === \"function\" && define.amd) {\n",
       "      requirejs.config({paths});\n",
       "      require([\"vega-embed\"], displayChart, err => showError(`Error loading script: ${err.message}`));\n",
       "    } else {\n",
       "      maybeLoadScript(\"vega\", \"5\")\n",
       "        .then(() => maybeLoadScript(\"vega-lite\", \"4.17.0\"))\n",
       "        .then(() => maybeLoadScript(\"vega-embed\", \"6\"))\n",
       "        .catch(showError)\n",
       "        .then(() => displayChart(vegaEmbed));\n",
       "    }\n",
       "  })({\"config\": {\"view\": {\"continuousWidth\": 400, \"continuousHeight\": 300}}, \"data\": {\"name\": \"data-45f677bf5ee8e942740bfc2fe4c161c0\"}, \"mark\": \"bar\", \"encoding\": {\"tooltip\": [{\"field\": \"letter\", \"type\": \"nominal\"}, {\"field\": \"freq\", \"type\": \"quantitative\"}], \"x\": {\"field\": \"letter\", \"scale\": {\"domain\": [\"A\", \"B\", \"C\", \"D\", \"E\", \"F\", \"G\", \"H\", \"I\", \"J\", \"K\", \"L\", \"M\", \"N\", \"O\", \"P\", \"Q\", \"R\", \"S\", \"T\", \"U\", \"V\", \"W\", \"X\", \"Y\", \"Z\"]}, \"type\": \"nominal\"}, \"y\": {\"field\": \"freq\", \"type\": \"quantitative\"}}, \"$schema\": \"https://vega.github.io/schema/vega-lite/v4.17.0.json\", \"datasets\": {\"data-45f677bf5ee8e942740bfc2fe4c161c0\": [{\"letter\": \"A\", \"freq\": 0.06818181818181818}, {\"letter\": \"B\", \"freq\": 0.0}, {\"letter\": \"C\", \"freq\": 0.0}, {\"letter\": \"D\", \"freq\": 0.022727272727272728}, {\"letter\": \"E\", \"freq\": 0.045454545454545456}, {\"letter\": \"F\", \"freq\": 0.06818181818181818}, {\"letter\": \"G\", \"freq\": 0.045454545454545456}, {\"letter\": \"H\", \"freq\": 0.022727272727272728}, {\"letter\": \"I\", \"freq\": 0.0}, {\"letter\": \"J\", \"freq\": 0.09090909090909091}, {\"letter\": \"K\", \"freq\": 0.0}, {\"letter\": \"L\", \"freq\": 0.0}, {\"letter\": \"M\", \"freq\": 0.022727272727272728}, {\"letter\": \"N\", \"freq\": 0.06818181818181818}, {\"letter\": \"O\", \"freq\": 0.0}, {\"letter\": \"P\", \"freq\": 0.06818181818181818}, {\"letter\": \"Q\", \"freq\": 0.0}, {\"letter\": \"R\", \"freq\": 0.09090909090909091}, {\"letter\": \"S\", \"freq\": 0.11363636363636363}, {\"letter\": \"T\", \"freq\": 0.09090909090909091}, {\"letter\": \"U\", \"freq\": 0.045454545454545456}, {\"letter\": \"V\", \"freq\": 0.06818181818181818}, {\"letter\": \"W\", \"freq\": 0.022727272727272728}, {\"letter\": \"X\", \"freq\": 0.022727272727272728}, {\"letter\": \"Y\", \"freq\": 0.0}, {\"letter\": \"Z\", \"freq\": 0.022727272727272728}]}}, {\"mode\": \"vega-lite\"});\n",
       "</script>"
      ],
      "text/plain": [
       "alt.Chart(...)"
      ]
     },
     "execution_count": 17,
     "metadata": {},
     "output_type": "execute_result"
    }
   ],
   "source": [
    "temp = rng.choice(list(string.ascii_uppercase), size=44)\n",
    "t3 = ''.join(temp)\n",
    "freq_chart(t3)"
   ]
  },
  {
   "cell_type": "code",
   "execution_count": 18,
   "metadata": {
    "cell_id": "3e6b0bc00135463a80345692c6d4ec52",
    "deepnote_cell_type": "code",
    "deepnote_to_be_reexecuted": false,
    "execution_millis": 5,
    "execution_start": 1687799312026,
    "source_hash": "96f0fd6b"
   },
   "outputs": [],
   "source": [
    "# Getting a list of the 20 strings from above\n",
    "with open(\"strings20.txt\", \"r\") as f:\n",
    "    lines = f.readlines()"
   ]
  },
  {
   "cell_type": "code",
   "execution_count": 19,
   "metadata": {
    "cell_id": "c22c5eef249d4513a4530ce2bf753a40",
    "deepnote_cell_type": "code",
    "deepnote_to_be_reexecuted": false,
    "execution_millis": 4,
    "execution_start": 1687799315461,
    "source_hash": "d0fedd57"
   },
   "outputs": [
    {
     "data": {
      "text/plain": [
       "20"
      ]
     },
     "execution_count": 19,
     "metadata": {},
     "output_type": "execute_result"
    }
   ],
   "source": [
    "len(lines)"
   ]
  },
  {
   "cell_type": "code",
   "execution_count": 20,
   "metadata": {
    "cell_id": "5fe96d5ea80c44e59d97c88bc1afb69e",
    "deepnote_cell_type": "code",
    "deepnote_to_be_reexecuted": false,
    "execution_millis": 3,
    "execution_start": 1687799347516,
    "source_hash": "e0acf14a"
   },
   "outputs": [
    {
     "data": {
      "text/plain": [
       "'TNFZBAFREIGGDDPGOZVYOFMDSAWTTGDNSJCXAOCEIWPV\\n'"
      ]
     },
     "execution_count": 20,
     "metadata": {},
     "output_type": "execute_result"
    }
   ],
   "source": [
    "lines[3]"
   ]
  },
  {
   "cell_type": "code",
   "execution_count": 21,
   "metadata": {
    "cell_id": "fc3b6efda8f04ac6919d64e8d70550b8",
    "deepnote_cell_type": "code",
    "deepnote_to_be_reexecuted": false,
    "execution_millis": 4,
    "execution_start": 1687799380500,
    "source_hash": "3df74024"
   },
   "outputs": [],
   "source": [
    "import altair as alt"
   ]
  },
  {
   "cell_type": "code",
   "execution_count": 22,
   "metadata": {
    "cell_id": "d0a228acbb0e44f2871b01650fb4831d",
    "deepnote_cell_type": "code",
    "deepnote_to_be_reexecuted": false,
    "execution_millis": 123,
    "execution_start": 1687799433592,
    "source_hash": "532d57c0"
   },
   "outputs": [],
   "source": [
    "chart_list = []\n",
    "\n",
    "for line in lines:\n",
    "    chart_list.append(freq_chart(line))"
   ]
  },
  {
   "cell_type": "code",
   "execution_count": 23,
   "metadata": {
    "cell_id": "27ecaf150f634f1b8c14026efc4f7e51",
    "deepnote_cell_type": "code",
    "deepnote_to_be_reexecuted": false,
    "execution_millis": 4,
    "execution_start": 1687799441543,
    "source_hash": "2afaf6b8"
   },
   "outputs": [
    {
     "data": {
      "text/html": [
       "\n",
       "<div id=\"altair-viz-5ac5e038b7214c5985ed9b2bcfbfd06d\"></div>\n",
       "<script type=\"text/javascript\">\n",
       "  var VEGA_DEBUG = (typeof VEGA_DEBUG == \"undefined\") ? {} : VEGA_DEBUG;\n",
       "  (function(spec, embedOpt){\n",
       "    let outputDiv = document.currentScript.previousElementSibling;\n",
       "    if (outputDiv.id !== \"altair-viz-5ac5e038b7214c5985ed9b2bcfbfd06d\") {\n",
       "      outputDiv = document.getElementById(\"altair-viz-5ac5e038b7214c5985ed9b2bcfbfd06d\");\n",
       "    }\n",
       "    const paths = {\n",
       "      \"vega\": \"https://cdn.jsdelivr.net/npm//vega@5?noext\",\n",
       "      \"vega-lib\": \"https://cdn.jsdelivr.net/npm//vega-lib?noext\",\n",
       "      \"vega-lite\": \"https://cdn.jsdelivr.net/npm//vega-lite@4.17.0?noext\",\n",
       "      \"vega-embed\": \"https://cdn.jsdelivr.net/npm//vega-embed@6?noext\",\n",
       "    };\n",
       "\n",
       "    function maybeLoadScript(lib, version) {\n",
       "      var key = `${lib.replace(\"-\", \"\")}_version`;\n",
       "      return (VEGA_DEBUG[key] == version) ?\n",
       "        Promise.resolve(paths[lib]) :\n",
       "        new Promise(function(resolve, reject) {\n",
       "          var s = document.createElement('script');\n",
       "          document.getElementsByTagName(\"head\")[0].appendChild(s);\n",
       "          s.async = true;\n",
       "          s.onload = () => {\n",
       "            VEGA_DEBUG[key] = version;\n",
       "            return resolve(paths[lib]);\n",
       "          };\n",
       "          s.onerror = () => reject(`Error loading script: ${paths[lib]}`);\n",
       "          s.src = paths[lib];\n",
       "        });\n",
       "    }\n",
       "\n",
       "    function showError(err) {\n",
       "      outputDiv.innerHTML = `<div class=\"error\" style=\"color:red;\">${err}</div>`;\n",
       "      throw err;\n",
       "    }\n",
       "\n",
       "    function displayChart(vegaEmbed) {\n",
       "      vegaEmbed(outputDiv, spec, embedOpt)\n",
       "        .catch(err => showError(`Javascript Error: ${err.message}<br>This usually means there's a typo in your chart specification. See the javascript console for the full traceback.`));\n",
       "    }\n",
       "\n",
       "    if(typeof define === \"function\" && define.amd) {\n",
       "      requirejs.config({paths});\n",
       "      require([\"vega-embed\"], displayChart, err => showError(`Error loading script: ${err.message}`));\n",
       "    } else {\n",
       "      maybeLoadScript(\"vega\", \"5\")\n",
       "        .then(() => maybeLoadScript(\"vega-lite\", \"4.17.0\"))\n",
       "        .then(() => maybeLoadScript(\"vega-embed\", \"6\"))\n",
       "        .catch(showError)\n",
       "        .then(() => displayChart(vegaEmbed));\n",
       "    }\n",
       "  })({\"config\": {\"view\": {\"continuousWidth\": 400, \"continuousHeight\": 300}}, \"data\": {\"name\": \"data-86b6a0c673f1d28a621d8f7054bd41a5\"}, \"mark\": \"bar\", \"encoding\": {\"tooltip\": [{\"field\": \"letter\", \"type\": \"nominal\"}, {\"field\": \"freq\", \"type\": \"quantitative\"}], \"x\": {\"field\": \"letter\", \"scale\": {\"domain\": [\"A\", \"B\", \"C\", \"D\", \"E\", \"F\", \"G\", \"H\", \"I\", \"J\", \"K\", \"L\", \"M\", \"N\", \"O\", \"P\", \"Q\", \"R\", \"S\", \"T\", \"U\", \"V\", \"W\", \"X\", \"Y\", \"Z\"]}, \"type\": \"nominal\"}, \"y\": {\"field\": \"freq\", \"type\": \"quantitative\"}}, \"$schema\": \"https://vega.github.io/schema/vega-lite/v4.17.0.json\", \"datasets\": {\"data-86b6a0c673f1d28a621d8f7054bd41a5\": [{\"letter\": \"A\", \"freq\": 0.06818181818181818}, {\"letter\": \"B\", \"freq\": 0.022727272727272728}, {\"letter\": \"C\", \"freq\": 0.045454545454545456}, {\"letter\": \"D\", \"freq\": 0.09090909090909091}, {\"letter\": \"E\", \"freq\": 0.045454545454545456}, {\"letter\": \"F\", \"freq\": 0.06818181818181818}, {\"letter\": \"G\", \"freq\": 0.09090909090909091}, {\"letter\": \"H\", \"freq\": 0.0}, {\"letter\": \"I\", \"freq\": 0.045454545454545456}, {\"letter\": \"J\", \"freq\": 0.022727272727272728}, {\"letter\": \"K\", \"freq\": 0.0}, {\"letter\": \"L\", \"freq\": 0.0}, {\"letter\": \"M\", \"freq\": 0.022727272727272728}, {\"letter\": \"N\", \"freq\": 0.045454545454545456}, {\"letter\": \"O\", \"freq\": 0.06818181818181818}, {\"letter\": \"P\", \"freq\": 0.045454545454545456}, {\"letter\": \"Q\", \"freq\": 0.0}, {\"letter\": \"R\", \"freq\": 0.022727272727272728}, {\"letter\": \"S\", \"freq\": 0.045454545454545456}, {\"letter\": \"T\", \"freq\": 0.06818181818181818}, {\"letter\": \"U\", \"freq\": 0.0}, {\"letter\": \"V\", \"freq\": 0.045454545454545456}, {\"letter\": \"W\", \"freq\": 0.045454545454545456}, {\"letter\": \"X\", \"freq\": 0.022727272727272728}, {\"letter\": \"Y\", \"freq\": 0.022727272727272728}, {\"letter\": \"Z\", \"freq\": 0.045454545454545456}]}}, {\"mode\": \"vega-lite\"});\n",
       "</script>"
      ],
      "text/plain": [
       "alt.Chart(...)"
      ]
     },
     "execution_count": 23,
     "metadata": {},
     "output_type": "execute_result"
    }
   ],
   "source": [
    "chart_list[3]"
   ]
  },
  {
   "cell_type": "code",
   "execution_count": 24,
   "metadata": {
    "cell_id": "094a52b04fa949cfa81437e325907e6d",
    "deepnote_cell_type": "code",
    "deepnote_to_be_reexecuted": false,
    "execution_millis": 10,
    "execution_start": 1687799452712,
    "source_hash": "dc6993b4"
   },
   "outputs": [
    {
     "data": {
      "text/html": [
       "\n",
       "<div id=\"altair-viz-372ce02316a94f39805cc245f5d65849\"></div>\n",
       "<script type=\"text/javascript\">\n",
       "  var VEGA_DEBUG = (typeof VEGA_DEBUG == \"undefined\") ? {} : VEGA_DEBUG;\n",
       "  (function(spec, embedOpt){\n",
       "    let outputDiv = document.currentScript.previousElementSibling;\n",
       "    if (outputDiv.id !== \"altair-viz-372ce02316a94f39805cc245f5d65849\") {\n",
       "      outputDiv = document.getElementById(\"altair-viz-372ce02316a94f39805cc245f5d65849\");\n",
       "    }\n",
       "    const paths = {\n",
       "      \"vega\": \"https://cdn.jsdelivr.net/npm//vega@5?noext\",\n",
       "      \"vega-lib\": \"https://cdn.jsdelivr.net/npm//vega-lib?noext\",\n",
       "      \"vega-lite\": \"https://cdn.jsdelivr.net/npm//vega-lite@4.17.0?noext\",\n",
       "      \"vega-embed\": \"https://cdn.jsdelivr.net/npm//vega-embed@6?noext\",\n",
       "    };\n",
       "\n",
       "    function maybeLoadScript(lib, version) {\n",
       "      var key = `${lib.replace(\"-\", \"\")}_version`;\n",
       "      return (VEGA_DEBUG[key] == version) ?\n",
       "        Promise.resolve(paths[lib]) :\n",
       "        new Promise(function(resolve, reject) {\n",
       "          var s = document.createElement('script');\n",
       "          document.getElementsByTagName(\"head\")[0].appendChild(s);\n",
       "          s.async = true;\n",
       "          s.onload = () => {\n",
       "            VEGA_DEBUG[key] = version;\n",
       "            return resolve(paths[lib]);\n",
       "          };\n",
       "          s.onerror = () => reject(`Error loading script: ${paths[lib]}`);\n",
       "          s.src = paths[lib];\n",
       "        });\n",
       "    }\n",
       "\n",
       "    function showError(err) {\n",
       "      outputDiv.innerHTML = `<div class=\"error\" style=\"color:red;\">${err}</div>`;\n",
       "      throw err;\n",
       "    }\n",
       "\n",
       "    function displayChart(vegaEmbed) {\n",
       "      vegaEmbed(outputDiv, spec, embedOpt)\n",
       "        .catch(err => showError(`Javascript Error: ${err.message}<br>This usually means there's a typo in your chart specification. See the javascript console for the full traceback.`));\n",
       "    }\n",
       "\n",
       "    if(typeof define === \"function\" && define.amd) {\n",
       "      requirejs.config({paths});\n",
       "      require([\"vega-embed\"], displayChart, err => showError(`Error loading script: ${err.message}`));\n",
       "    } else {\n",
       "      maybeLoadScript(\"vega\", \"5\")\n",
       "        .then(() => maybeLoadScript(\"vega-lite\", \"4.17.0\"))\n",
       "        .then(() => maybeLoadScript(\"vega-embed\", \"6\"))\n",
       "        .catch(showError)\n",
       "        .then(() => displayChart(vegaEmbed));\n",
       "    }\n",
       "  })({\"config\": {\"view\": {\"continuousWidth\": 400, \"continuousHeight\": 300}}, \"vconcat\": [{\"data\": {\"name\": \"data-beb77f0d8cc743d74a14444cbf1ce427\"}, \"mark\": \"bar\", \"encoding\": {\"tooltip\": [{\"field\": \"letter\", \"type\": \"nominal\"}, {\"field\": \"freq\", \"type\": \"quantitative\"}], \"x\": {\"field\": \"letter\", \"scale\": {\"domain\": [\"A\", \"B\", \"C\", \"D\", \"E\", \"F\", \"G\", \"H\", \"I\", \"J\", \"K\", \"L\", \"M\", \"N\", \"O\", \"P\", \"Q\", \"R\", \"S\", \"T\", \"U\", \"V\", \"W\", \"X\", \"Y\", \"Z\"]}, \"type\": \"nominal\"}, \"y\": {\"field\": \"freq\", \"type\": \"quantitative\"}}}, {\"data\": {\"name\": \"data-97edbef1c639c653ae383c26c73d26a2\"}, \"mark\": \"bar\", \"encoding\": {\"tooltip\": [{\"field\": \"letter\", \"type\": \"nominal\"}, {\"field\": \"freq\", \"type\": \"quantitative\"}], \"x\": {\"field\": \"letter\", \"scale\": {\"domain\": [\"A\", \"B\", \"C\", \"D\", \"E\", \"F\", \"G\", \"H\", \"I\", \"J\", \"K\", \"L\", \"M\", \"N\", \"O\", \"P\", \"Q\", \"R\", \"S\", \"T\", \"U\", \"V\", \"W\", \"X\", \"Y\", \"Z\"]}, \"type\": \"nominal\"}, \"y\": {\"field\": \"freq\", \"type\": \"quantitative\"}}}, {\"data\": {\"name\": \"data-aabc34f5f0a113d275123a4abf00afda\"}, \"mark\": \"bar\", \"encoding\": {\"tooltip\": [{\"field\": \"letter\", \"type\": \"nominal\"}, {\"field\": \"freq\", \"type\": \"quantitative\"}], \"x\": {\"field\": \"letter\", \"scale\": {\"domain\": [\"A\", \"B\", \"C\", \"D\", \"E\", \"F\", \"G\", \"H\", \"I\", \"J\", \"K\", \"L\", \"M\", \"N\", \"O\", \"P\", \"Q\", \"R\", \"S\", \"T\", \"U\", \"V\", \"W\", \"X\", \"Y\", \"Z\"]}, \"type\": \"nominal\"}, \"y\": {\"field\": \"freq\", \"type\": \"quantitative\"}}}, {\"data\": {\"name\": \"data-86b6a0c673f1d28a621d8f7054bd41a5\"}, \"mark\": \"bar\", \"encoding\": {\"tooltip\": [{\"field\": \"letter\", \"type\": \"nominal\"}, {\"field\": \"freq\", \"type\": \"quantitative\"}], \"x\": {\"field\": \"letter\", \"scale\": {\"domain\": [\"A\", \"B\", \"C\", \"D\", \"E\", \"F\", \"G\", \"H\", \"I\", \"J\", \"K\", \"L\", \"M\", \"N\", \"O\", \"P\", \"Q\", \"R\", \"S\", \"T\", \"U\", \"V\", \"W\", \"X\", \"Y\", \"Z\"]}, \"type\": \"nominal\"}, \"y\": {\"field\": \"freq\", \"type\": \"quantitative\"}}}, {\"data\": {\"name\": \"data-2b7dcf64aa20f8779db323266ef83710\"}, \"mark\": \"bar\", \"encoding\": {\"tooltip\": [{\"field\": \"letter\", \"type\": \"nominal\"}, {\"field\": \"freq\", \"type\": \"quantitative\"}], \"x\": {\"field\": \"letter\", \"scale\": {\"domain\": [\"A\", \"B\", \"C\", \"D\", \"E\", \"F\", \"G\", \"H\", \"I\", \"J\", \"K\", \"L\", \"M\", \"N\", \"O\", \"P\", \"Q\", \"R\", \"S\", \"T\", \"U\", \"V\", \"W\", \"X\", \"Y\", \"Z\"]}, \"type\": \"nominal\"}, \"y\": {\"field\": \"freq\", \"type\": \"quantitative\"}}}, {\"data\": {\"name\": \"data-d15119472ca3ab06f43dcd3e94500b23\"}, \"mark\": \"bar\", \"encoding\": {\"tooltip\": [{\"field\": \"letter\", \"type\": \"nominal\"}, {\"field\": \"freq\", \"type\": \"quantitative\"}], \"x\": {\"field\": \"letter\", \"scale\": {\"domain\": [\"A\", \"B\", \"C\", \"D\", \"E\", \"F\", \"G\", \"H\", \"I\", \"J\", \"K\", \"L\", \"M\", \"N\", \"O\", \"P\", \"Q\", \"R\", \"S\", \"T\", \"U\", \"V\", \"W\", \"X\", \"Y\", \"Z\"]}, \"type\": \"nominal\"}, \"y\": {\"field\": \"freq\", \"type\": \"quantitative\"}}}, {\"data\": {\"name\": \"data-5a00566b42723962875a869e1002bac5\"}, \"mark\": \"bar\", \"encoding\": {\"tooltip\": [{\"field\": \"letter\", \"type\": \"nominal\"}, {\"field\": \"freq\", \"type\": \"quantitative\"}], \"x\": {\"field\": \"letter\", \"scale\": {\"domain\": [\"A\", \"B\", \"C\", \"D\", \"E\", \"F\", \"G\", \"H\", \"I\", \"J\", \"K\", \"L\", \"M\", \"N\", \"O\", \"P\", \"Q\", \"R\", \"S\", \"T\", \"U\", \"V\", \"W\", \"X\", \"Y\", \"Z\"]}, \"type\": \"nominal\"}, \"y\": {\"field\": \"freq\", \"type\": \"quantitative\"}}}, {\"data\": {\"name\": \"data-04f65463fc089b240128cc85569a59af\"}, \"mark\": \"bar\", \"encoding\": {\"tooltip\": [{\"field\": \"letter\", \"type\": \"nominal\"}, {\"field\": \"freq\", \"type\": \"quantitative\"}], \"x\": {\"field\": \"letter\", \"scale\": {\"domain\": [\"A\", \"B\", \"C\", \"D\", \"E\", \"F\", \"G\", \"H\", \"I\", \"J\", \"K\", \"L\", \"M\", \"N\", \"O\", \"P\", \"Q\", \"R\", \"S\", \"T\", \"U\", \"V\", \"W\", \"X\", \"Y\", \"Z\"]}, \"type\": \"nominal\"}, \"y\": {\"field\": \"freq\", \"type\": \"quantitative\"}}}, {\"data\": {\"name\": \"data-9a4f3db25030a77201d4123854dc96b2\"}, \"mark\": \"bar\", \"encoding\": {\"tooltip\": [{\"field\": \"letter\", \"type\": \"nominal\"}, {\"field\": \"freq\", \"type\": \"quantitative\"}], \"x\": {\"field\": \"letter\", \"scale\": {\"domain\": [\"A\", \"B\", \"C\", \"D\", \"E\", \"F\", \"G\", \"H\", \"I\", \"J\", \"K\", \"L\", \"M\", \"N\", \"O\", \"P\", \"Q\", \"R\", \"S\", \"T\", \"U\", \"V\", \"W\", \"X\", \"Y\", \"Z\"]}, \"type\": \"nominal\"}, \"y\": {\"field\": \"freq\", \"type\": \"quantitative\"}}}, {\"data\": {\"name\": \"data-a789051691c175ba6426ea3614e8b726\"}, \"mark\": \"bar\", \"encoding\": {\"tooltip\": [{\"field\": \"letter\", \"type\": \"nominal\"}, {\"field\": \"freq\", \"type\": \"quantitative\"}], \"x\": {\"field\": \"letter\", \"scale\": {\"domain\": [\"A\", \"B\", \"C\", \"D\", \"E\", \"F\", \"G\", \"H\", \"I\", \"J\", \"K\", \"L\", \"M\", \"N\", \"O\", \"P\", \"Q\", \"R\", \"S\", \"T\", \"U\", \"V\", \"W\", \"X\", \"Y\", \"Z\"]}, \"type\": \"nominal\"}, \"y\": {\"field\": \"freq\", \"type\": \"quantitative\"}}}, {\"data\": {\"name\": \"data-9edd1ccc4e7e4622b71debf6ac258aa0\"}, \"mark\": \"bar\", \"encoding\": {\"tooltip\": [{\"field\": \"letter\", \"type\": \"nominal\"}, {\"field\": \"freq\", \"type\": \"quantitative\"}], \"x\": {\"field\": \"letter\", \"scale\": {\"domain\": [\"A\", \"B\", \"C\", \"D\", \"E\", \"F\", \"G\", \"H\", \"I\", \"J\", \"K\", \"L\", \"M\", \"N\", \"O\", \"P\", \"Q\", \"R\", \"S\", \"T\", \"U\", \"V\", \"W\", \"X\", \"Y\", \"Z\"]}, \"type\": \"nominal\"}, \"y\": {\"field\": \"freq\", \"type\": \"quantitative\"}}}, {\"data\": {\"name\": \"data-8c1a53121ad3d74a2fdbe0948d317637\"}, \"mark\": \"bar\", \"encoding\": {\"tooltip\": [{\"field\": \"letter\", \"type\": \"nominal\"}, {\"field\": \"freq\", \"type\": \"quantitative\"}], \"x\": {\"field\": \"letter\", \"scale\": {\"domain\": [\"A\", \"B\", \"C\", \"D\", \"E\", \"F\", \"G\", \"H\", \"I\", \"J\", \"K\", \"L\", \"M\", \"N\", \"O\", \"P\", \"Q\", \"R\", \"S\", \"T\", \"U\", \"V\", \"W\", \"X\", \"Y\", \"Z\"]}, \"type\": \"nominal\"}, \"y\": {\"field\": \"freq\", \"type\": \"quantitative\"}}}, {\"data\": {\"name\": \"data-d43029cc0bcdb79a59cc4a1bc184ac53\"}, \"mark\": \"bar\", \"encoding\": {\"tooltip\": [{\"field\": \"letter\", \"type\": \"nominal\"}, {\"field\": \"freq\", \"type\": \"quantitative\"}], \"x\": {\"field\": \"letter\", \"scale\": {\"domain\": [\"A\", \"B\", \"C\", \"D\", \"E\", \"F\", \"G\", \"H\", \"I\", \"J\", \"K\", \"L\", \"M\", \"N\", \"O\", \"P\", \"Q\", \"R\", \"S\", \"T\", \"U\", \"V\", \"W\", \"X\", \"Y\", \"Z\"]}, \"type\": \"nominal\"}, \"y\": {\"field\": \"freq\", \"type\": \"quantitative\"}}}, {\"data\": {\"name\": \"data-e25e22dd0377b52b541f6620d09f557d\"}, \"mark\": \"bar\", \"encoding\": {\"tooltip\": [{\"field\": \"letter\", \"type\": \"nominal\"}, {\"field\": \"freq\", \"type\": \"quantitative\"}], \"x\": {\"field\": \"letter\", \"scale\": {\"domain\": [\"A\", \"B\", \"C\", \"D\", \"E\", \"F\", \"G\", \"H\", \"I\", \"J\", \"K\", \"L\", \"M\", \"N\", \"O\", \"P\", \"Q\", \"R\", \"S\", \"T\", \"U\", \"V\", \"W\", \"X\", \"Y\", \"Z\"]}, \"type\": \"nominal\"}, \"y\": {\"field\": \"freq\", \"type\": \"quantitative\"}}}, {\"data\": {\"name\": \"data-b6dac15b3de41fb6b1555398bd33de57\"}, \"mark\": \"bar\", \"encoding\": {\"tooltip\": [{\"field\": \"letter\", \"type\": \"nominal\"}, {\"field\": \"freq\", \"type\": \"quantitative\"}], \"x\": {\"field\": \"letter\", \"scale\": {\"domain\": [\"A\", \"B\", \"C\", \"D\", \"E\", \"F\", \"G\", \"H\", \"I\", \"J\", \"K\", \"L\", \"M\", \"N\", \"O\", \"P\", \"Q\", \"R\", \"S\", \"T\", \"U\", \"V\", \"W\", \"X\", \"Y\", \"Z\"]}, \"type\": \"nominal\"}, \"y\": {\"field\": \"freq\", \"type\": \"quantitative\"}}}, {\"data\": {\"name\": \"data-1ee7052eb27c14e7c9cc84c021585cae\"}, \"mark\": \"bar\", \"encoding\": {\"tooltip\": [{\"field\": \"letter\", \"type\": \"nominal\"}, {\"field\": \"freq\", \"type\": \"quantitative\"}], \"x\": {\"field\": \"letter\", \"scale\": {\"domain\": [\"A\", \"B\", \"C\", \"D\", \"E\", \"F\", \"G\", \"H\", \"I\", \"J\", \"K\", \"L\", \"M\", \"N\", \"O\", \"P\", \"Q\", \"R\", \"S\", \"T\", \"U\", \"V\", \"W\", \"X\", \"Y\", \"Z\"]}, \"type\": \"nominal\"}, \"y\": {\"field\": \"freq\", \"type\": \"quantitative\"}}}, {\"data\": {\"name\": \"data-2c9e01cfe47e832896f7a914c35daecd\"}, \"mark\": \"bar\", \"encoding\": {\"tooltip\": [{\"field\": \"letter\", \"type\": \"nominal\"}, {\"field\": \"freq\", \"type\": \"quantitative\"}], \"x\": {\"field\": \"letter\", \"scale\": {\"domain\": [\"A\", \"B\", \"C\", \"D\", \"E\", \"F\", \"G\", \"H\", \"I\", \"J\", \"K\", \"L\", \"M\", \"N\", \"O\", \"P\", \"Q\", \"R\", \"S\", \"T\", \"U\", \"V\", \"W\", \"X\", \"Y\", \"Z\"]}, \"type\": \"nominal\"}, \"y\": {\"field\": \"freq\", \"type\": \"quantitative\"}}}, {\"data\": {\"name\": \"data-7f61bb8807709ce80d257bd4f2b859eb\"}, \"mark\": \"bar\", \"encoding\": {\"tooltip\": [{\"field\": \"letter\", \"type\": \"nominal\"}, {\"field\": \"freq\", \"type\": \"quantitative\"}], \"x\": {\"field\": \"letter\", \"scale\": {\"domain\": [\"A\", \"B\", \"C\", \"D\", \"E\", \"F\", \"G\", \"H\", \"I\", \"J\", \"K\", \"L\", \"M\", \"N\", \"O\", \"P\", \"Q\", \"R\", \"S\", \"T\", \"U\", \"V\", \"W\", \"X\", \"Y\", \"Z\"]}, \"type\": \"nominal\"}, \"y\": {\"field\": \"freq\", \"type\": \"quantitative\"}}}, {\"data\": {\"name\": \"data-f003b243d5c9595d4f4d4c7b1fe67a48\"}, \"mark\": \"bar\", \"encoding\": {\"tooltip\": [{\"field\": \"letter\", \"type\": \"nominal\"}, {\"field\": \"freq\", \"type\": \"quantitative\"}], \"x\": {\"field\": \"letter\", \"scale\": {\"domain\": [\"A\", \"B\", \"C\", \"D\", \"E\", \"F\", \"G\", \"H\", \"I\", \"J\", \"K\", \"L\", \"M\", \"N\", \"O\", \"P\", \"Q\", \"R\", \"S\", \"T\", \"U\", \"V\", \"W\", \"X\", \"Y\", \"Z\"]}, \"type\": \"nominal\"}, \"y\": {\"field\": \"freq\", \"type\": \"quantitative\"}}}, {\"data\": {\"name\": \"data-b5630a34d4ad4016e01d0a1179f92dce\"}, \"mark\": \"bar\", \"encoding\": {\"tooltip\": [{\"field\": \"letter\", \"type\": \"nominal\"}, {\"field\": \"freq\", \"type\": \"quantitative\"}], \"x\": {\"field\": \"letter\", \"scale\": {\"domain\": [\"A\", \"B\", \"C\", \"D\", \"E\", \"F\", \"G\", \"H\", \"I\", \"J\", \"K\", \"L\", \"M\", \"N\", \"O\", \"P\", \"Q\", \"R\", \"S\", \"T\", \"U\", \"V\", \"W\", \"X\", \"Y\", \"Z\"]}, \"type\": \"nominal\"}, \"y\": {\"field\": \"freq\", \"type\": \"quantitative\"}}}], \"$schema\": \"https://vega.github.io/schema/vega-lite/v4.17.0.json\", \"datasets\": {\"data-beb77f0d8cc743d74a14444cbf1ce427\": [{\"letter\": \"A\", \"freq\": 0.06818181818181818}, {\"letter\": \"B\", \"freq\": 0.045454545454545456}, {\"letter\": \"C\", \"freq\": 0.022727272727272728}, {\"letter\": \"D\", \"freq\": 0.09090909090909091}, {\"letter\": \"E\", \"freq\": 0.045454545454545456}, {\"letter\": \"F\", \"freq\": 0.0}, {\"letter\": \"G\", \"freq\": 0.045454545454545456}, {\"letter\": \"H\", \"freq\": 0.0}, {\"letter\": \"I\", \"freq\": 0.022727272727272728}, {\"letter\": \"J\", \"freq\": 0.06818181818181818}, {\"letter\": \"K\", \"freq\": 0.0}, {\"letter\": \"L\", \"freq\": 0.0}, {\"letter\": \"M\", \"freq\": 0.045454545454545456}, {\"letter\": \"N\", \"freq\": 0.06818181818181818}, {\"letter\": \"O\", \"freq\": 0.045454545454545456}, {\"letter\": \"P\", \"freq\": 0.022727272727272728}, {\"letter\": \"Q\", \"freq\": 0.06818181818181818}, {\"letter\": \"R\", \"freq\": 0.022727272727272728}, {\"letter\": \"S\", \"freq\": 0.022727272727272728}, {\"letter\": \"T\", \"freq\": 0.06818181818181818}, {\"letter\": \"U\", \"freq\": 0.022727272727272728}, {\"letter\": \"V\", \"freq\": 0.022727272727272728}, {\"letter\": \"W\", \"freq\": 0.045454545454545456}, {\"letter\": \"X\", \"freq\": 0.045454545454545456}, {\"letter\": \"Y\", \"freq\": 0.09090909090909091}, {\"letter\": \"Z\", \"freq\": 0.0}], \"data-97edbef1c639c653ae383c26c73d26a2\": [{\"letter\": \"A\", \"freq\": 0.0}, {\"letter\": \"B\", \"freq\": 0.045454545454545456}, {\"letter\": \"C\", \"freq\": 0.0}, {\"letter\": \"D\", \"freq\": 0.06818181818181818}, {\"letter\": \"E\", \"freq\": 0.0}, {\"letter\": \"F\", \"freq\": 0.022727272727272728}, {\"letter\": \"G\", \"freq\": 0.06818181818181818}, {\"letter\": \"H\", \"freq\": 0.045454545454545456}, {\"letter\": \"I\", \"freq\": 0.045454545454545456}, {\"letter\": \"J\", \"freq\": 0.022727272727272728}, {\"letter\": \"K\", \"freq\": 0.022727272727272728}, {\"letter\": \"L\", \"freq\": 0.0}, {\"letter\": \"M\", \"freq\": 0.045454545454545456}, {\"letter\": \"N\", \"freq\": 0.06818181818181818}, {\"letter\": \"O\", \"freq\": 0.045454545454545456}, {\"letter\": \"P\", \"freq\": 0.045454545454545456}, {\"letter\": \"Q\", \"freq\": 0.022727272727272728}, {\"letter\": \"R\", \"freq\": 0.022727272727272728}, {\"letter\": \"S\", \"freq\": 0.09090909090909091}, {\"letter\": \"T\", \"freq\": 0.06818181818181818}, {\"letter\": \"U\", \"freq\": 0.09090909090909091}, {\"letter\": \"V\", \"freq\": 0.0}, {\"letter\": \"W\", \"freq\": 0.0}, {\"letter\": \"X\", \"freq\": 0.045454545454545456}, {\"letter\": \"Y\", \"freq\": 0.06818181818181818}, {\"letter\": \"Z\", \"freq\": 0.045454545454545456}], \"data-aabc34f5f0a113d275123a4abf00afda\": [{\"letter\": \"A\", \"freq\": 0.09090909090909091}, {\"letter\": \"B\", \"freq\": 0.045454545454545456}, {\"letter\": \"C\", \"freq\": 0.022727272727272728}, {\"letter\": \"D\", \"freq\": 0.045454545454545456}, {\"letter\": \"E\", \"freq\": 0.045454545454545456}, {\"letter\": \"F\", \"freq\": 0.06818181818181818}, {\"letter\": \"G\", \"freq\": 0.045454545454545456}, {\"letter\": \"H\", \"freq\": 0.022727272727272728}, {\"letter\": \"I\", \"freq\": 0.045454545454545456}, {\"letter\": \"J\", \"freq\": 0.045454545454545456}, {\"letter\": \"K\", \"freq\": 0.045454545454545456}, {\"letter\": \"L\", \"freq\": 0.06818181818181818}, {\"letter\": \"M\", \"freq\": 0.0}, {\"letter\": \"N\", \"freq\": 0.022727272727272728}, {\"letter\": \"O\", \"freq\": 0.06818181818181818}, {\"letter\": \"P\", \"freq\": 0.022727272727272728}, {\"letter\": \"Q\", \"freq\": 0.022727272727272728}, {\"letter\": \"R\", \"freq\": 0.022727272727272728}, {\"letter\": \"S\", \"freq\": 0.022727272727272728}, {\"letter\": \"T\", \"freq\": 0.022727272727272728}, {\"letter\": \"U\", \"freq\": 0.0}, {\"letter\": \"V\", \"freq\": 0.045454545454545456}, {\"letter\": \"W\", \"freq\": 0.022727272727272728}, {\"letter\": \"X\", \"freq\": 0.06818181818181818}, {\"letter\": \"Y\", \"freq\": 0.045454545454545456}, {\"letter\": \"Z\", \"freq\": 0.022727272727272728}], \"data-86b6a0c673f1d28a621d8f7054bd41a5\": [{\"letter\": \"A\", \"freq\": 0.06818181818181818}, {\"letter\": \"B\", \"freq\": 0.022727272727272728}, {\"letter\": \"C\", \"freq\": 0.045454545454545456}, {\"letter\": \"D\", \"freq\": 0.09090909090909091}, {\"letter\": \"E\", \"freq\": 0.045454545454545456}, {\"letter\": \"F\", \"freq\": 0.06818181818181818}, {\"letter\": \"G\", \"freq\": 0.09090909090909091}, {\"letter\": \"H\", \"freq\": 0.0}, {\"letter\": \"I\", \"freq\": 0.045454545454545456}, {\"letter\": \"J\", \"freq\": 0.022727272727272728}, {\"letter\": \"K\", \"freq\": 0.0}, {\"letter\": \"L\", \"freq\": 0.0}, {\"letter\": \"M\", \"freq\": 0.022727272727272728}, {\"letter\": \"N\", \"freq\": 0.045454545454545456}, {\"letter\": \"O\", \"freq\": 0.06818181818181818}, {\"letter\": \"P\", \"freq\": 0.045454545454545456}, {\"letter\": \"Q\", \"freq\": 0.0}, {\"letter\": \"R\", \"freq\": 0.022727272727272728}, {\"letter\": \"S\", \"freq\": 0.045454545454545456}, {\"letter\": \"T\", \"freq\": 0.06818181818181818}, {\"letter\": \"U\", \"freq\": 0.0}, {\"letter\": \"V\", \"freq\": 0.045454545454545456}, {\"letter\": \"W\", \"freq\": 0.045454545454545456}, {\"letter\": \"X\", \"freq\": 0.022727272727272728}, {\"letter\": \"Y\", \"freq\": 0.022727272727272728}, {\"letter\": \"Z\", \"freq\": 0.045454545454545456}], \"data-2b7dcf64aa20f8779db323266ef83710\": [{\"letter\": \"A\", \"freq\": 0.022727272727272728}, {\"letter\": \"B\", \"freq\": 0.022727272727272728}, {\"letter\": \"C\", \"freq\": 0.045454545454545456}, {\"letter\": \"D\", \"freq\": 0.0}, {\"letter\": \"E\", \"freq\": 0.045454545454545456}, {\"letter\": \"F\", \"freq\": 0.0}, {\"letter\": \"G\", \"freq\": 0.06818181818181818}, {\"letter\": \"H\", \"freq\": 0.09090909090909091}, {\"letter\": \"I\", \"freq\": 0.09090909090909091}, {\"letter\": \"J\", \"freq\": 0.045454545454545456}, {\"letter\": \"K\", \"freq\": 0.022727272727272728}, {\"letter\": \"L\", \"freq\": 0.045454545454545456}, {\"letter\": \"M\", \"freq\": 0.022727272727272728}, {\"letter\": \"N\", \"freq\": 0.022727272727272728}, {\"letter\": \"O\", \"freq\": 0.06818181818181818}, {\"letter\": \"P\", \"freq\": 0.045454545454545456}, {\"letter\": \"Q\", \"freq\": 0.022727272727272728}, {\"letter\": \"R\", \"freq\": 0.045454545454545456}, {\"letter\": \"S\", \"freq\": 0.0}, {\"letter\": \"T\", \"freq\": 0.06818181818181818}, {\"letter\": \"U\", \"freq\": 0.022727272727272728}, {\"letter\": \"V\", \"freq\": 0.06818181818181818}, {\"letter\": \"W\", \"freq\": 0.045454545454545456}, {\"letter\": \"X\", \"freq\": 0.045454545454545456}, {\"letter\": \"Y\", \"freq\": 0.0}, {\"letter\": \"Z\", \"freq\": 0.022727272727272728}], \"data-d15119472ca3ab06f43dcd3e94500b23\": [{\"letter\": \"A\", \"freq\": 0.045454545454545456}, {\"letter\": \"B\", \"freq\": 0.06818181818181818}, {\"letter\": \"C\", \"freq\": 0.0}, {\"letter\": \"D\", \"freq\": 0.022727272727272728}, {\"letter\": \"E\", \"freq\": 0.0}, {\"letter\": \"F\", \"freq\": 0.06818181818181818}, {\"letter\": \"G\", \"freq\": 0.0}, {\"letter\": \"H\", \"freq\": 0.022727272727272728}, {\"letter\": \"I\", \"freq\": 0.06818181818181818}, {\"letter\": \"J\", \"freq\": 0.06818181818181818}, {\"letter\": \"K\", \"freq\": 0.06818181818181818}, {\"letter\": \"L\", \"freq\": 0.11363636363636363}, {\"letter\": \"M\", \"freq\": 0.0}, {\"letter\": \"N\", \"freq\": 0.022727272727272728}, {\"letter\": \"O\", \"freq\": 0.045454545454545456}, {\"letter\": \"P\", \"freq\": 0.0}, {\"letter\": \"Q\", \"freq\": 0.045454545454545456}, {\"letter\": \"R\", \"freq\": 0.022727272727272728}, {\"letter\": \"S\", \"freq\": 0.045454545454545456}, {\"letter\": \"T\", \"freq\": 0.09090909090909091}, {\"letter\": \"U\", \"freq\": 0.0}, {\"letter\": \"V\", \"freq\": 0.022727272727272728}, {\"letter\": \"W\", \"freq\": 0.09090909090909091}, {\"letter\": \"X\", \"freq\": 0.0}, {\"letter\": \"Y\", \"freq\": 0.0}, {\"letter\": \"Z\", \"freq\": 0.06818181818181818}], \"data-5a00566b42723962875a869e1002bac5\": [{\"letter\": \"A\", \"freq\": 0.022727272727272728}, {\"letter\": \"B\", \"freq\": 0.045454545454545456}, {\"letter\": \"C\", \"freq\": 0.045454545454545456}, {\"letter\": \"D\", \"freq\": 0.0}, {\"letter\": \"E\", \"freq\": 0.022727272727272728}, {\"letter\": \"F\", \"freq\": 0.0}, {\"letter\": \"G\", \"freq\": 0.0}, {\"letter\": \"H\", \"freq\": 0.022727272727272728}, {\"letter\": \"I\", \"freq\": 0.045454545454545456}, {\"letter\": \"J\", \"freq\": 0.06818181818181818}, {\"letter\": \"K\", \"freq\": 0.045454545454545456}, {\"letter\": \"L\", \"freq\": 0.09090909090909091}, {\"letter\": \"M\", \"freq\": 0.022727272727272728}, {\"letter\": \"N\", \"freq\": 0.022727272727272728}, {\"letter\": \"O\", \"freq\": 0.06818181818181818}, {\"letter\": \"P\", \"freq\": 0.06818181818181818}, {\"letter\": \"Q\", \"freq\": 0.022727272727272728}, {\"letter\": \"R\", \"freq\": 0.06818181818181818}, {\"letter\": \"S\", \"freq\": 0.045454545454545456}, {\"letter\": \"T\", \"freq\": 0.022727272727272728}, {\"letter\": \"U\", \"freq\": 0.06818181818181818}, {\"letter\": \"V\", \"freq\": 0.0}, {\"letter\": \"W\", \"freq\": 0.06818181818181818}, {\"letter\": \"X\", \"freq\": 0.045454545454545456}, {\"letter\": \"Y\", \"freq\": 0.0}, {\"letter\": \"Z\", \"freq\": 0.06818181818181818}], \"data-04f65463fc089b240128cc85569a59af\": [{\"letter\": \"A\", \"freq\": 0.06818181818181818}, {\"letter\": \"B\", \"freq\": 0.022727272727272728}, {\"letter\": \"C\", \"freq\": 0.022727272727272728}, {\"letter\": \"D\", \"freq\": 0.09090909090909091}, {\"letter\": \"E\", \"freq\": 0.022727272727272728}, {\"letter\": \"F\", \"freq\": 0.022727272727272728}, {\"letter\": \"G\", \"freq\": 0.06818181818181818}, {\"letter\": \"H\", \"freq\": 0.045454545454545456}, {\"letter\": \"I\", \"freq\": 0.045454545454545456}, {\"letter\": \"J\", \"freq\": 0.0}, {\"letter\": \"K\", \"freq\": 0.045454545454545456}, {\"letter\": \"L\", \"freq\": 0.045454545454545456}, {\"letter\": \"M\", \"freq\": 0.045454545454545456}, {\"letter\": \"N\", \"freq\": 0.0}, {\"letter\": \"O\", \"freq\": 0.045454545454545456}, {\"letter\": \"P\", \"freq\": 0.045454545454545456}, {\"letter\": \"Q\", \"freq\": 0.09090909090909091}, {\"letter\": \"R\", \"freq\": 0.022727272727272728}, {\"letter\": \"S\", \"freq\": 0.0}, {\"letter\": \"T\", \"freq\": 0.06818181818181818}, {\"letter\": \"U\", \"freq\": 0.0}, {\"letter\": \"V\", \"freq\": 0.022727272727272728}, {\"letter\": \"W\", \"freq\": 0.022727272727272728}, {\"letter\": \"X\", \"freq\": 0.022727272727272728}, {\"letter\": \"Y\", \"freq\": 0.06818181818181818}, {\"letter\": \"Z\", \"freq\": 0.045454545454545456}], \"data-9a4f3db25030a77201d4123854dc96b2\": [{\"letter\": \"A\", \"freq\": 0.06818181818181818}, {\"letter\": \"B\", \"freq\": 0.045454545454545456}, {\"letter\": \"C\", \"freq\": 0.045454545454545456}, {\"letter\": \"D\", \"freq\": 0.0}, {\"letter\": \"E\", \"freq\": 0.06818181818181818}, {\"letter\": \"F\", \"freq\": 0.06818181818181818}, {\"letter\": \"G\", \"freq\": 0.045454545454545456}, {\"letter\": \"H\", \"freq\": 0.022727272727272728}, {\"letter\": \"I\", \"freq\": 0.022727272727272728}, {\"letter\": \"J\", \"freq\": 0.022727272727272728}, {\"letter\": \"K\", \"freq\": 0.022727272727272728}, {\"letter\": \"L\", \"freq\": 0.0}, {\"letter\": \"M\", \"freq\": 0.06818181818181818}, {\"letter\": \"N\", \"freq\": 0.045454545454545456}, {\"letter\": \"O\", \"freq\": 0.045454545454545456}, {\"letter\": \"P\", \"freq\": 0.022727272727272728}, {\"letter\": \"Q\", \"freq\": 0.022727272727272728}, {\"letter\": \"R\", \"freq\": 0.045454545454545456}, {\"letter\": \"S\", \"freq\": 0.06818181818181818}, {\"letter\": \"T\", \"freq\": 0.045454545454545456}, {\"letter\": \"U\", \"freq\": 0.0}, {\"letter\": \"V\", \"freq\": 0.045454545454545456}, {\"letter\": \"W\", \"freq\": 0.06818181818181818}, {\"letter\": \"X\", \"freq\": 0.022727272727272728}, {\"letter\": \"Y\", \"freq\": 0.022727272727272728}, {\"letter\": \"Z\", \"freq\": 0.045454545454545456}], \"data-a789051691c175ba6426ea3614e8b726\": [{\"letter\": \"A\", \"freq\": 0.06818181818181818}, {\"letter\": \"B\", \"freq\": 0.045454545454545456}, {\"letter\": \"C\", \"freq\": 0.045454545454545456}, {\"letter\": \"D\", \"freq\": 0.022727272727272728}, {\"letter\": \"E\", \"freq\": 0.06818181818181818}, {\"letter\": \"F\", \"freq\": 0.022727272727272728}, {\"letter\": \"G\", \"freq\": 0.0}, {\"letter\": \"H\", \"freq\": 0.0}, {\"letter\": \"I\", \"freq\": 0.022727272727272728}, {\"letter\": \"J\", \"freq\": 0.0}, {\"letter\": \"K\", \"freq\": 0.045454545454545456}, {\"letter\": \"L\", \"freq\": 0.06818181818181818}, {\"letter\": \"M\", \"freq\": 0.022727272727272728}, {\"letter\": \"N\", \"freq\": 0.0}, {\"letter\": \"O\", \"freq\": 0.022727272727272728}, {\"letter\": \"P\", \"freq\": 0.06818181818181818}, {\"letter\": \"Q\", \"freq\": 0.022727272727272728}, {\"letter\": \"R\", \"freq\": 0.045454545454545456}, {\"letter\": \"S\", \"freq\": 0.06818181818181818}, {\"letter\": \"T\", \"freq\": 0.045454545454545456}, {\"letter\": \"U\", \"freq\": 0.06818181818181818}, {\"letter\": \"V\", \"freq\": 0.045454545454545456}, {\"letter\": \"W\", \"freq\": 0.06818181818181818}, {\"letter\": \"X\", \"freq\": 0.045454545454545456}, {\"letter\": \"Y\", \"freq\": 0.022727272727272728}, {\"letter\": \"Z\", \"freq\": 0.045454545454545456}], \"data-9edd1ccc4e7e4622b71debf6ac258aa0\": [{\"letter\": \"A\", \"freq\": 0.045454545454545456}, {\"letter\": \"B\", \"freq\": 0.0}, {\"letter\": \"C\", \"freq\": 0.022727272727272728}, {\"letter\": \"D\", \"freq\": 0.0}, {\"letter\": \"E\", \"freq\": 0.045454545454545456}, {\"letter\": \"F\", \"freq\": 0.06818181818181818}, {\"letter\": \"G\", \"freq\": 0.06818181818181818}, {\"letter\": \"H\", \"freq\": 0.0}, {\"letter\": \"I\", \"freq\": 0.022727272727272728}, {\"letter\": \"J\", \"freq\": 0.0}, {\"letter\": \"K\", \"freq\": 0.09090909090909091}, {\"letter\": \"L\", \"freq\": 0.045454545454545456}, {\"letter\": \"M\", \"freq\": 0.0}, {\"letter\": \"N\", \"freq\": 0.045454545454545456}, {\"letter\": \"O\", \"freq\": 0.022727272727272728}, {\"letter\": \"P\", \"freq\": 0.11363636363636363}, {\"letter\": \"Q\", \"freq\": 0.045454545454545456}, {\"letter\": \"R\", \"freq\": 0.09090909090909091}, {\"letter\": \"S\", \"freq\": 0.022727272727272728}, {\"letter\": \"T\", \"freq\": 0.045454545454545456}, {\"letter\": \"U\", \"freq\": 0.022727272727272728}, {\"letter\": \"V\", \"freq\": 0.06818181818181818}, {\"letter\": \"W\", \"freq\": 0.045454545454545456}, {\"letter\": \"X\", \"freq\": 0.022727272727272728}, {\"letter\": \"Y\", \"freq\": 0.0}, {\"letter\": \"Z\", \"freq\": 0.045454545454545456}], \"data-8c1a53121ad3d74a2fdbe0948d317637\": [{\"letter\": \"A\", \"freq\": 0.045454545454545456}, {\"letter\": \"B\", \"freq\": 0.045454545454545456}, {\"letter\": \"C\", \"freq\": 0.045454545454545456}, {\"letter\": \"D\", \"freq\": 0.0}, {\"letter\": \"E\", \"freq\": 0.06818181818181818}, {\"letter\": \"F\", \"freq\": 0.022727272727272728}, {\"letter\": \"G\", \"freq\": 0.045454545454545456}, {\"letter\": \"H\", \"freq\": 0.045454545454545456}, {\"letter\": \"I\", \"freq\": 0.045454545454545456}, {\"letter\": \"J\", \"freq\": 0.022727272727272728}, {\"letter\": \"K\", \"freq\": 0.06818181818181818}, {\"letter\": \"L\", \"freq\": 0.09090909090909091}, {\"letter\": \"M\", \"freq\": 0.06818181818181818}, {\"letter\": \"N\", \"freq\": 0.022727272727272728}, {\"letter\": \"O\", \"freq\": 0.022727272727272728}, {\"letter\": \"P\", \"freq\": 0.0}, {\"letter\": \"Q\", \"freq\": 0.0}, {\"letter\": \"R\", \"freq\": 0.06818181818181818}, {\"letter\": \"S\", \"freq\": 0.022727272727272728}, {\"letter\": \"T\", \"freq\": 0.0}, {\"letter\": \"U\", \"freq\": 0.045454545454545456}, {\"letter\": \"V\", \"freq\": 0.13636363636363635}, {\"letter\": \"W\", \"freq\": 0.045454545454545456}, {\"letter\": \"X\", \"freq\": 0.0}, {\"letter\": \"Y\", \"freq\": 0.022727272727272728}, {\"letter\": \"Z\", \"freq\": 0.0}], \"data-d43029cc0bcdb79a59cc4a1bc184ac53\": [{\"letter\": \"A\", \"freq\": 0.0}, {\"letter\": \"B\", \"freq\": 0.022727272727272728}, {\"letter\": \"C\", \"freq\": 0.045454545454545456}, {\"letter\": \"D\", \"freq\": 0.045454545454545456}, {\"letter\": \"E\", \"freq\": 0.0}, {\"letter\": \"F\", \"freq\": 0.0}, {\"letter\": \"G\", \"freq\": 0.045454545454545456}, {\"letter\": \"H\", \"freq\": 0.045454545454545456}, {\"letter\": \"I\", \"freq\": 0.06818181818181818}, {\"letter\": \"J\", \"freq\": 0.045454545454545456}, {\"letter\": \"K\", \"freq\": 0.0}, {\"letter\": \"L\", \"freq\": 0.09090909090909091}, {\"letter\": \"M\", \"freq\": 0.045454545454545456}, {\"letter\": \"N\", \"freq\": 0.045454545454545456}, {\"letter\": \"O\", \"freq\": 0.0}, {\"letter\": \"P\", \"freq\": 0.022727272727272728}, {\"letter\": \"Q\", \"freq\": 0.0}, {\"letter\": \"R\", \"freq\": 0.11363636363636363}, {\"letter\": \"S\", \"freq\": 0.022727272727272728}, {\"letter\": \"T\", \"freq\": 0.045454545454545456}, {\"letter\": \"U\", \"freq\": 0.045454545454545456}, {\"letter\": \"V\", \"freq\": 0.022727272727272728}, {\"letter\": \"W\", \"freq\": 0.09090909090909091}, {\"letter\": \"X\", \"freq\": 0.045454545454545456}, {\"letter\": \"Y\", \"freq\": 0.06818181818181818}, {\"letter\": \"Z\", \"freq\": 0.022727272727272728}], \"data-e25e22dd0377b52b541f6620d09f557d\": [{\"letter\": \"A\", \"freq\": 0.045454545454545456}, {\"letter\": \"B\", \"freq\": 0.022727272727272728}, {\"letter\": \"C\", \"freq\": 0.0}, {\"letter\": \"D\", \"freq\": 0.13636363636363635}, {\"letter\": \"E\", \"freq\": 0.022727272727272728}, {\"letter\": \"F\", \"freq\": 0.0}, {\"letter\": \"G\", \"freq\": 0.09090909090909091}, {\"letter\": \"H\", \"freq\": 0.045454545454545456}, {\"letter\": \"I\", \"freq\": 0.045454545454545456}, {\"letter\": \"J\", \"freq\": 0.022727272727272728}, {\"letter\": \"K\", \"freq\": 0.045454545454545456}, {\"letter\": \"L\", \"freq\": 0.045454545454545456}, {\"letter\": \"M\", \"freq\": 0.0}, {\"letter\": \"N\", \"freq\": 0.045454545454545456}, {\"letter\": \"O\", \"freq\": 0.0}, {\"letter\": \"P\", \"freq\": 0.022727272727272728}, {\"letter\": \"Q\", \"freq\": 0.022727272727272728}, {\"letter\": \"R\", \"freq\": 0.06818181818181818}, {\"letter\": \"S\", \"freq\": 0.06818181818181818}, {\"letter\": \"T\", \"freq\": 0.022727272727272728}, {\"letter\": \"U\", \"freq\": 0.022727272727272728}, {\"letter\": \"V\", \"freq\": 0.045454545454545456}, {\"letter\": \"W\", \"freq\": 0.022727272727272728}, {\"letter\": \"X\", \"freq\": 0.045454545454545456}, {\"letter\": \"Y\", \"freq\": 0.045454545454545456}, {\"letter\": \"Z\", \"freq\": 0.045454545454545456}], \"data-b6dac15b3de41fb6b1555398bd33de57\": [{\"letter\": \"A\", \"freq\": 0.045454545454545456}, {\"letter\": \"B\", \"freq\": 0.13636363636363635}, {\"letter\": \"C\", \"freq\": 0.0}, {\"letter\": \"D\", \"freq\": 0.022727272727272728}, {\"letter\": \"E\", \"freq\": 0.06818181818181818}, {\"letter\": \"F\", \"freq\": 0.022727272727272728}, {\"letter\": \"G\", \"freq\": 0.022727272727272728}, {\"letter\": \"H\", \"freq\": 0.022727272727272728}, {\"letter\": \"I\", \"freq\": 0.022727272727272728}, {\"letter\": \"J\", \"freq\": 0.09090909090909091}, {\"letter\": \"K\", \"freq\": 0.022727272727272728}, {\"letter\": \"L\", \"freq\": 0.022727272727272728}, {\"letter\": \"M\", \"freq\": 0.022727272727272728}, {\"letter\": \"N\", \"freq\": 0.022727272727272728}, {\"letter\": \"O\", \"freq\": 0.022727272727272728}, {\"letter\": \"P\", \"freq\": 0.09090909090909091}, {\"letter\": \"Q\", \"freq\": 0.0}, {\"letter\": \"R\", \"freq\": 0.0}, {\"letter\": \"S\", \"freq\": 0.045454545454545456}, {\"letter\": \"T\", \"freq\": 0.022727272727272728}, {\"letter\": \"U\", \"freq\": 0.06818181818181818}, {\"letter\": \"V\", \"freq\": 0.06818181818181818}, {\"letter\": \"W\", \"freq\": 0.045454545454545456}, {\"letter\": \"X\", \"freq\": 0.022727272727272728}, {\"letter\": \"Y\", \"freq\": 0.045454545454545456}, {\"letter\": \"Z\", \"freq\": 0.022727272727272728}], \"data-1ee7052eb27c14e7c9cc84c021585cae\": [{\"letter\": \"A\", \"freq\": 0.0}, {\"letter\": \"B\", \"freq\": 0.06818181818181818}, {\"letter\": \"C\", \"freq\": 0.11363636363636363}, {\"letter\": \"D\", \"freq\": 0.06818181818181818}, {\"letter\": \"E\", \"freq\": 0.0}, {\"letter\": \"F\", \"freq\": 0.0}, {\"letter\": \"G\", \"freq\": 0.06818181818181818}, {\"letter\": \"H\", \"freq\": 0.11363636363636363}, {\"letter\": \"I\", \"freq\": 0.06818181818181818}, {\"letter\": \"J\", \"freq\": 0.045454545454545456}, {\"letter\": \"K\", \"freq\": 0.045454545454545456}, {\"letter\": \"L\", \"freq\": 0.0}, {\"letter\": \"M\", \"freq\": 0.0}, {\"letter\": \"N\", \"freq\": 0.022727272727272728}, {\"letter\": \"O\", \"freq\": 0.0}, {\"letter\": \"P\", \"freq\": 0.045454545454545456}, {\"letter\": \"Q\", \"freq\": 0.0}, {\"letter\": \"R\", \"freq\": 0.022727272727272728}, {\"letter\": \"S\", \"freq\": 0.0}, {\"letter\": \"T\", \"freq\": 0.20454545454545456}, {\"letter\": \"U\", \"freq\": 0.0}, {\"letter\": \"V\", \"freq\": 0.0}, {\"letter\": \"W\", \"freq\": 0.045454545454545456}, {\"letter\": \"X\", \"freq\": 0.06818181818181818}, {\"letter\": \"Y\", \"freq\": 0.0}, {\"letter\": \"Z\", \"freq\": 0.0}], \"data-2c9e01cfe47e832896f7a914c35daecd\": [{\"letter\": \"A\", \"freq\": 0.0}, {\"letter\": \"B\", \"freq\": 0.06818181818181818}, {\"letter\": \"C\", \"freq\": 0.045454545454545456}, {\"letter\": \"D\", \"freq\": 0.045454545454545456}, {\"letter\": \"E\", \"freq\": 0.09090909090909091}, {\"letter\": \"F\", \"freq\": 0.045454545454545456}, {\"letter\": \"G\", \"freq\": 0.0}, {\"letter\": \"H\", \"freq\": 0.0}, {\"letter\": \"I\", \"freq\": 0.045454545454545456}, {\"letter\": \"J\", \"freq\": 0.045454545454545456}, {\"letter\": \"K\", \"freq\": 0.0}, {\"letter\": \"L\", \"freq\": 0.045454545454545456}, {\"letter\": \"M\", \"freq\": 0.06818181818181818}, {\"letter\": \"N\", \"freq\": 0.022727272727272728}, {\"letter\": \"O\", \"freq\": 0.022727272727272728}, {\"letter\": \"P\", \"freq\": 0.022727272727272728}, {\"letter\": \"Q\", \"freq\": 0.022727272727272728}, {\"letter\": \"R\", \"freq\": 0.022727272727272728}, {\"letter\": \"S\", \"freq\": 0.0}, {\"letter\": \"T\", \"freq\": 0.045454545454545456}, {\"letter\": \"U\", \"freq\": 0.11363636363636363}, {\"letter\": \"V\", \"freq\": 0.06818181818181818}, {\"letter\": \"W\", \"freq\": 0.06818181818181818}, {\"letter\": \"X\", \"freq\": 0.0}, {\"letter\": \"Y\", \"freq\": 0.045454545454545456}, {\"letter\": \"Z\", \"freq\": 0.045454545454545456}], \"data-7f61bb8807709ce80d257bd4f2b859eb\": [{\"letter\": \"A\", \"freq\": 0.0}, {\"letter\": \"B\", \"freq\": 0.0}, {\"letter\": \"C\", \"freq\": 0.0}, {\"letter\": \"D\", \"freq\": 0.045454545454545456}, {\"letter\": \"E\", \"freq\": 0.022727272727272728}, {\"letter\": \"F\", \"freq\": 0.11363636363636363}, {\"letter\": \"G\", \"freq\": 0.022727272727272728}, {\"letter\": \"H\", \"freq\": 0.09090909090909091}, {\"letter\": \"I\", \"freq\": 0.022727272727272728}, {\"letter\": \"J\", \"freq\": 0.045454545454545456}, {\"letter\": \"K\", \"freq\": 0.022727272727272728}, {\"letter\": \"L\", \"freq\": 0.045454545454545456}, {\"letter\": \"M\", \"freq\": 0.022727272727272728}, {\"letter\": \"N\", \"freq\": 0.045454545454545456}, {\"letter\": \"O\", \"freq\": 0.045454545454545456}, {\"letter\": \"P\", \"freq\": 0.06818181818181818}, {\"letter\": \"Q\", \"freq\": 0.06818181818181818}, {\"letter\": \"R\", \"freq\": 0.022727272727272728}, {\"letter\": \"S\", \"freq\": 0.06818181818181818}, {\"letter\": \"T\", \"freq\": 0.0}, {\"letter\": \"U\", \"freq\": 0.0}, {\"letter\": \"V\", \"freq\": 0.0}, {\"letter\": \"W\", \"freq\": 0.022727272727272728}, {\"letter\": \"X\", \"freq\": 0.045454545454545456}, {\"letter\": \"Y\", \"freq\": 0.06818181818181818}, {\"letter\": \"Z\", \"freq\": 0.09090909090909091}], \"data-f003b243d5c9595d4f4d4c7b1fe67a48\": [{\"letter\": \"A\", \"freq\": 0.0}, {\"letter\": \"B\", \"freq\": 0.06818181818181818}, {\"letter\": \"C\", \"freq\": 0.0}, {\"letter\": \"D\", \"freq\": 0.13636363636363635}, {\"letter\": \"E\", \"freq\": 0.0}, {\"letter\": \"F\", \"freq\": 0.045454545454545456}, {\"letter\": \"G\", \"freq\": 0.045454545454545456}, {\"letter\": \"H\", \"freq\": 0.09090909090909091}, {\"letter\": \"I\", \"freq\": 0.022727272727272728}, {\"letter\": \"J\", \"freq\": 0.045454545454545456}, {\"letter\": \"K\", \"freq\": 0.0}, {\"letter\": \"L\", \"freq\": 0.09090909090909091}, {\"letter\": \"M\", \"freq\": 0.045454545454545456}, {\"letter\": \"N\", \"freq\": 0.022727272727272728}, {\"letter\": \"O\", \"freq\": 0.022727272727272728}, {\"letter\": \"P\", \"freq\": 0.0}, {\"letter\": \"Q\", \"freq\": 0.0}, {\"letter\": \"R\", \"freq\": 0.06818181818181818}, {\"letter\": \"S\", \"freq\": 0.0}, {\"letter\": \"T\", \"freq\": 0.045454545454545456}, {\"letter\": \"U\", \"freq\": 0.09090909090909091}, {\"letter\": \"V\", \"freq\": 0.0}, {\"letter\": \"W\", \"freq\": 0.09090909090909091}, {\"letter\": \"X\", \"freq\": 0.0}, {\"letter\": \"Y\", \"freq\": 0.045454545454545456}, {\"letter\": \"Z\", \"freq\": 0.022727272727272728}], \"data-b5630a34d4ad4016e01d0a1179f92dce\": [{\"letter\": \"A\", \"freq\": 0.0}, {\"letter\": \"B\", \"freq\": 0.0}, {\"letter\": \"C\", \"freq\": 0.09090909090909091}, {\"letter\": \"D\", \"freq\": 0.09090909090909091}, {\"letter\": \"E\", \"freq\": 0.0}, {\"letter\": \"F\", \"freq\": 0.045454545454545456}, {\"letter\": \"G\", \"freq\": 0.06818181818181818}, {\"letter\": \"H\", \"freq\": 0.022727272727272728}, {\"letter\": \"I\", \"freq\": 0.022727272727272728}, {\"letter\": \"J\", \"freq\": 0.045454545454545456}, {\"letter\": \"K\", \"freq\": 0.0}, {\"letter\": \"L\", \"freq\": 0.045454545454545456}, {\"letter\": \"M\", \"freq\": 0.09090909090909091}, {\"letter\": \"N\", \"freq\": 0.06818181818181818}, {\"letter\": \"O\", \"freq\": 0.022727272727272728}, {\"letter\": \"P\", \"freq\": 0.045454545454545456}, {\"letter\": \"Q\", \"freq\": 0.0}, {\"letter\": \"R\", \"freq\": 0.06818181818181818}, {\"letter\": \"S\", \"freq\": 0.045454545454545456}, {\"letter\": \"T\", \"freq\": 0.045454545454545456}, {\"letter\": \"U\", \"freq\": 0.045454545454545456}, {\"letter\": \"V\", \"freq\": 0.045454545454545456}, {\"letter\": \"W\", \"freq\": 0.06818181818181818}, {\"letter\": \"X\", \"freq\": 0.0}, {\"letter\": \"Y\", \"freq\": 0.0}, {\"letter\": \"Z\", \"freq\": 0.022727272727272728}]}}, {\"mode\": \"vega-lite\"});\n",
       "</script>"
      ],
      "text/plain": [
       "alt.VConcatChart(...)"
      ]
     },
     "execution_count": 24,
     "metadata": {},
     "output_type": "execute_result"
    }
   ],
   "source": [
    "alt.vconcat(*chart_list)"
   ]
  },
  {
   "cell_type": "code",
   "execution_count": 28,
   "metadata": {
    "cell_id": "9e230882878a4d3fad534a4b245a34e0",
    "deepnote_cell_type": "code",
    "deepnote_to_be_reexecuted": false,
    "execution_millis": 3,
    "execution_start": 1687799639564,
    "source_hash": "51b57d41"
   },
   "outputs": [
    {
     "data": {
      "text/plain": [
       "'TNFZBAFREIGGDDPGOZVYOFMDSAWTTGDNSJCXAOCEIWPV'"
      ]
     },
     "execution_count": 28,
     "metadata": {},
     "output_type": "execute_result"
    }
   ],
   "source": [
    "t"
   ]
  },
  {
   "cell_type": "code",
   "execution_count": 26,
   "metadata": {
    "cell_id": "2c57a1ae8f7e43b9b58e6c56fa011cce",
    "deepnote_cell_type": "code",
    "deepnote_to_be_reexecuted": false,
    "execution_millis": 4,
    "execution_start": 1687799553199,
    "source_hash": "62475da"
   },
   "outputs": [],
   "source": [
    "from Helper1 import ind_co, get_freq"
   ]
  },
  {
   "cell_type": "markdown",
   "metadata": {
    "cell_id": "d814adb08c8a4d57b810e929829a75ba",
    "deepnote_cell_type": "markdown"
   },
   "source": [
    "The `ind_co` function estimates the index of coincidence.  (**Warning**.  It's not exactly the same as in the textbook.)  The index of coincidence gives the probability that two randomly chosen characters are the same character.  For random English characters, we expect a probability of about 1/26 approx 0.038.  (Higher for shorter strings.)  For actual English, we expect a probability of higher, about 0.06.\n",
    "\n",
    "Textbook/usual definition does random selection without replacement.  My function `ind_co` uses replacement."
   ]
  },
  {
   "cell_type": "code",
   "execution_count": 27,
   "metadata": {
    "cell_id": "80565725fe87440599d134bacea0d3a0",
    "deepnote_cell_type": "code",
    "deepnote_to_be_reexecuted": false,
    "execution_millis": 6,
    "execution_start": 1687799557134,
    "source_hash": "1bf5e6c9"
   },
   "outputs": [
    {
     "data": {
      "text/plain": [
       "{'a': 0.06818181818181818,\n",
       " 'b': 0.022727272727272728,\n",
       " 'c': 0.045454545454545456,\n",
       " 'd': 0.09090909090909091,\n",
       " 'e': 0.045454545454545456,\n",
       " 'f': 0.06818181818181818,\n",
       " 'g': 0.09090909090909091,\n",
       " 'h': 0.0,\n",
       " 'i': 0.045454545454545456,\n",
       " 'j': 0.022727272727272728,\n",
       " 'k': 0.0,\n",
       " 'l': 0.0,\n",
       " 'm': 0.022727272727272728,\n",
       " 'n': 0.045454545454545456,\n",
       " 'o': 0.06818181818181818,\n",
       " 'p': 0.045454545454545456,\n",
       " 'q': 0.0,\n",
       " 'r': 0.022727272727272728,\n",
       " 's': 0.045454545454545456,\n",
       " 't': 0.06818181818181818,\n",
       " 'u': 0.0,\n",
       " 'v': 0.045454545454545456,\n",
       " 'w': 0.045454545454545456,\n",
       " 'x': 0.022727272727272728,\n",
       " 'y': 0.022727272727272728,\n",
       " 'z': 0.045454545454545456}"
      ]
     },
     "execution_count": 27,
     "metadata": {},
     "output_type": "execute_result"
    }
   ],
   "source": [
    "get_freq(lines[3])"
   ]
  },
  {
   "cell_type": "code",
   "execution_count": 30,
   "metadata": {
    "cell_id": "0f1712d60c3340aca5e1a96525602e03",
    "deepnote_cell_type": "code",
    "deepnote_to_be_reexecuted": false,
    "execution_millis": 5,
    "execution_start": 1687799763938,
    "source_hash": "fad374f6"
   },
   "outputs": [
    {
     "data": {
      "text/plain": [
       "0.05681818181818181"
      ]
     },
     "execution_count": 30,
     "metadata": {},
     "output_type": "execute_result"
    }
   ],
   "source": [
    "# Higher than 1/26 because our text is short\n",
    "ind_co(get_freq(lines[3]))"
   ]
  },
  {
   "cell_type": "code",
   "execution_count": 31,
   "metadata": {
    "cell_id": "b43c4158fe9c4e0680e5702fede08d47",
    "deepnote_cell_type": "code",
    "deepnote_to_be_reexecuted": false,
    "execution_millis": 2,
    "execution_start": 1687799902519,
    "source_hash": "ddef7f5f"
   },
   "outputs": [],
   "source": [
    "inds = []\n",
    "\n",
    "for line in lines:\n",
    "    inds.append(ind_co(get_freq(line)))"
   ]
  },
  {
   "cell_type": "code",
   "execution_count": 32,
   "metadata": {
    "cell_id": "08d8c9be63e246cb90fd429f2c615396",
    "deepnote_cell_type": "code",
    "deepnote_to_be_reexecuted": false,
    "execution_millis": 5,
    "execution_start": 1687799905825,
    "source_hash": "3a5d3e9b"
   },
   "outputs": [
    {
     "data": {
      "text/plain": [
       "[0.057851239669421475,\n",
       " 0.05888429752066115,\n",
       " 0.050619834710743786,\n",
       " 0.05681818181818181,\n",
       " 0.055785123966942136,\n",
       " 0.06818181818181818,\n",
       " 0.0568181818181818,\n",
       " 0.055785123966942136,\n",
       " 0.05061983471074378,\n",
       " 0.052685950413223125,\n",
       " 0.06301652892561982,\n",
       " 0.06508264462809916,\n",
       " 0.06198347107438016,\n",
       " 0.06095041322314048,\n",
       " 0.06404958677685947,\n",
       " 0.10020661157024793,\n",
       " 0.06095041322314048,\n",
       " 0.06404958677685949,\n",
       " 0.07541322314049585,\n",
       " 0.06198347107438015]"
      ]
     },
     "execution_count": 32,
     "metadata": {},
     "output_type": "execute_result"
    }
   ],
   "source": [
    "inds"
   ]
  },
  {
   "cell_type": "code",
   "execution_count": 33,
   "metadata": {
    "cell_id": "7cb1d71a82504d75a09cb271f4058678",
    "deepnote_cell_type": "code",
    "deepnote_to_be_reexecuted": false,
    "execution_millis": 556,
    "execution_start": 1687799939343,
    "source_hash": "6a77453d"
   },
   "outputs": [],
   "source": [
    "import matplotlib.pyplot as plt"
   ]
  },
  {
   "cell_type": "code",
   "execution_count": 36,
   "metadata": {
    "cell_id": "a8fb145c12ad4f36907da1eddfa9b022",
    "deepnote_cell_type": "code",
    "deepnote_to_be_reexecuted": false,
    "execution_millis": 3,
    "execution_start": 1687799993126,
    "source_hash": "a7bcd672"
   },
   "outputs": [
    {
     "data": {
      "text/plain": [
       "<BarContainer object of 20 artists>"
      ]
     },
     "execution_count": 36,
     "metadata": {},
     "output_type": "execute_result"
    },
    {
     "data": {
      "image/png": "[encoded data removed]",
      "text/plain": [
       "<Figure size 640x480 with 1 Axes>"
      ]
     },
     "metadata": {
      "image/png": {
       "height": 413,
       "width": 562
      }
     },
     "output_type": "display_data"
    }
   ],
   "source": [
    "fig, ax = plt.subplots()\n",
    "ax.bar(range(len(inds)), inds)"
   ]
  },
  {
   "cell_type": "code",
   "execution_count": 37,
   "metadata": {
    "cell_id": "15d213d1dd664834b0d9f84705b4f0c5",
    "deepnote_cell_type": "code",
    "deepnote_to_be_reexecuted": false,
    "execution_millis": 5,
    "execution_start": 1687800216814,
    "source_hash": "9b82ee11"
   },
   "outputs": [],
   "source": [
    "import pandas as pd"
   ]
  },
  {
   "cell_type": "code",
   "execution_count": 38,
   "metadata": {
    "cell_id": "a40e185fa82f4cc89c22307bcca3fe0d",
    "deepnote_cell_type": "code",
    "deepnote_to_be_reexecuted": false,
    "execution_millis": 5,
    "execution_start": 1687800276866,
    "source_hash": "a0198048"
   },
   "outputs": [],
   "source": [
    "freq_df = pd.DataFrame({\n",
    "    \"number\": range(len(inds)),\n",
    "    \"index of coincidence\": inds\n",
    "})"
   ]
  },
  {
   "cell_type": "code",
   "execution_count": 39,
   "metadata": {
    "cell_id": "e3f120a25aac4956b7616b5e69f07fe9",
    "deepnote_cell_type": "code",
    "deepnote_to_be_reexecuted": false,
    "execution_millis": 53,
    "execution_start": 1687800281535,
    "source_hash": "711c5edc"
   },
   "outputs": [
    {
     "data": {
      "application/vnd.deepnote.dataframe.v3+json": {
       "column_count": 2,
       "columns": [
        {
         "dtype": "int64",
         "name": "number",
         "stats": {
          "histogram": [
           {
            "bin_end": 1.9,
            "bin_start": 0,
            "count": 2
           },
           {
            "bin_end": 3.8,
            "bin_start": 1.9,
            "count": 2
           },
           {
            "bin_end": 5.699999999999999,
            "bin_start": 3.8,
            "count": 2
           },
           {
            "bin_end": 7.6,
            "bin_start": 5.699999999999999,
            "count": 2
           },
           {
            "bin_end": 9.5,
            "bin_start": 7.6,
            "count": 2
           },
           {
            "bin_end": 11.399999999999999,
            "bin_start": 9.5,
            "count": 2
           },
           {
            "bin_end": 13.299999999999999,
            "bin_start": 11.399999999999999,
            "count": 2
           },
           {
            "bin_end": 15.2,
            "bin_start": 13.299999999999999,
            "count": 2
           },
           {
            "bin_end": 17.099999999999998,
            "bin_start": 15.2,
            "count": 2
           },
           {
            "bin_end": 19,
            "bin_start": 17.099999999999998,
            "count": 2
           }
          ],
          "max": "19",
          "min": "0",
          "nan_count": 0,
          "unique_count": 20
         }
        },
        {
         "dtype": "float64",
         "name": "index of coincidence",
         "stats": {
          "histogram": [
           {
            "bin_end": 0.055578512396694195,
            "bin_start": 0.05061983471074378,
            "count": 3
           },
           {
            "bin_end": 0.06053719008264461,
            "bin_start": 0.055578512396694195,
            "count": 6
           },
           {
            "bin_end": 0.06549586776859502,
            "bin_start": 0.06053719008264461,
            "count": 8
           },
           {
            "bin_end": 0.07045454545454544,
            "bin_start": 0.06549586776859502,
            "count": 1
           },
           {
            "bin_end": 0.07541322314049585,
            "bin_start": 0.07045454545454544,
            "count": 0
           },
           {
            "bin_end": 0.08037190082644627,
            "bin_start": 0.07541322314049585,
            "count": 1
           },
           {
            "bin_end": 0.08533057851239668,
            "bin_start": 0.08037190082644627,
            "count": 0
           },
           {
            "bin_end": 0.0902892561983471,
            "bin_start": 0.08533057851239668,
            "count": 0
           },
           {
            "bin_end": 0.09524793388429752,
            "bin_start": 0.0902892561983471,
            "count": 0
           },
           {
            "bin_end": 0.10020661157024793,
            "bin_start": 0.09524793388429752,
            "count": 1
           }
          ],
          "max": "0.10020661157024793",
          "min": "0.05061983471074378",
          "nan_count": 0,
          "unique_count": 18
         }
        },
        {
         "dtype": "int64",
         "name": "_deepnote_index_column"
        }
       ],
       "row_count": 20,
       "rows": [
        {
         "_deepnote_index_column": 0,
         "index of coincidence": 0.057851239669421475,
         "number": 0
        },
        {
         "_deepnote_index_column": 1,
         "index of coincidence": 0.05888429752066115,
         "number": 1
        },
        {
         "_deepnote_index_column": 2,
         "index of coincidence": 0.050619834710743786,
         "number": 2
        },
        {
         "_deepnote_index_column": 3,
         "index of coincidence": 0.05681818181818181,
         "number": 3
        },
        {
         "_deepnote_index_column": 4,
         "index of coincidence": 0.055785123966942136,
         "number": 4
        },
        {
         "_deepnote_index_column": 5,
         "index of coincidence": 0.06818181818181818,
         "number": 5
        },
        {
         "_deepnote_index_column": 6,
         "index of coincidence": 0.0568181818181818,
         "number": 6
        },
        {
         "_deepnote_index_column": 7,
         "index of coincidence": 0.055785123966942136,
         "number": 7
        },
        {
         "_deepnote_index_column": 8,
         "index of coincidence": 0.05061983471074378,
         "number": 8
        },
        {
         "_deepnote_index_column": 9,
         "index of coincidence": 0.052685950413223125,
         "number": 9
        }
       ]
      },
      "text/html": [
       "<div>\n",
       "<style scoped>\n",
       "    .dataframe tbody tr th:only-of-type {\n",
       "        vertical-align: middle;\n",
       "    }\n",
       "\n",
       "    .dataframe tbody tr th {\n",
       "        vertical-align: top;\n",
       "    }\n",
       "\n",
       "    .dataframe thead th {\n",
       "        text-align: right;\n",
       "    }\n",
       "</style>\n",
       "<table border=\"1\" class=\"dataframe\">\n",
       "  <thead>\n",
       "    <tr style=\"text-align: right;\">\n",
       "      <th></th>\n",
       "      <th>number</th>\n",
       "      <th>index of coincidence</th>\n",
       "    </tr>\n",
       "  </thead>\n",
       "  <tbody>\n",
       "    <tr>\n",
       "      <th>0</th>\n",
       "      <td>0</td>\n",
       "      <td>0.057851</td>\n",
       "    </tr>\n",
       "    <tr>\n",
       "      <th>1</th>\n",
       "      <td>1</td>\n",
       "      <td>0.058884</td>\n",
       "    </tr>\n",
       "    <tr>\n",
       "      <th>2</th>\n",
       "      <td>2</td>\n",
       "      <td>0.050620</td>\n",
       "    </tr>\n",
       "    <tr>\n",
       "      <th>3</th>\n",
       "      <td>3</td>\n",
       "      <td>0.056818</td>\n",
       "    </tr>\n",
       "    <tr>\n",
       "      <th>4</th>\n",
       "      <td>4</td>\n",
       "      <td>0.055785</td>\n",
       "    </tr>\n",
       "    <tr>\n",
       "      <th>5</th>\n",
       "      <td>5</td>\n",
       "      <td>0.068182</td>\n",
       "    </tr>\n",
       "    <tr>\n",
       "      <th>6</th>\n",
       "      <td>6</td>\n",
       "      <td>0.056818</td>\n",
       "    </tr>\n",
       "    <tr>\n",
       "      <th>7</th>\n",
       "      <td>7</td>\n",
       "      <td>0.055785</td>\n",
       "    </tr>\n",
       "    <tr>\n",
       "      <th>8</th>\n",
       "      <td>8</td>\n",
       "      <td>0.050620</td>\n",
       "    </tr>\n",
       "    <tr>\n",
       "      <th>9</th>\n",
       "      <td>9</td>\n",
       "      <td>0.052686</td>\n",
       "    </tr>\n",
       "    <tr>\n",
       "      <th>10</th>\n",
       "      <td>10</td>\n",
       "      <td>0.063017</td>\n",
       "    </tr>\n",
       "    <tr>\n",
       "      <th>11</th>\n",
       "      <td>11</td>\n",
       "      <td>0.065083</td>\n",
       "    </tr>\n",
       "    <tr>\n",
       "      <th>12</th>\n",
       "      <td>12</td>\n",
       "      <td>0.061983</td>\n",
       "    </tr>\n",
       "    <tr>\n",
       "      <th>13</th>\n",
       "      <td>13</td>\n",
       "      <td>0.060950</td>\n",
       "    </tr>\n",
       "    <tr>\n",
       "      <th>14</th>\n",
       "      <td>14</td>\n",
       "      <td>0.064050</td>\n",
       "    </tr>\n",
       "    <tr>\n",
       "      <th>15</th>\n",
       "      <td>15</td>\n",
       "      <td>0.100207</td>\n",
       "    </tr>\n",
       "    <tr>\n",
       "      <th>16</th>\n",
       "      <td>16</td>\n",
       "      <td>0.060950</td>\n",
       "    </tr>\n",
       "    <tr>\n",
       "      <th>17</th>\n",
       "      <td>17</td>\n",
       "      <td>0.064050</td>\n",
       "    </tr>\n",
       "    <tr>\n",
       "      <th>18</th>\n",
       "      <td>18</td>\n",
       "      <td>0.075413</td>\n",
       "    </tr>\n",
       "    <tr>\n",
       "      <th>19</th>\n",
       "      <td>19</td>\n",
       "      <td>0.061983</td>\n",
       "    </tr>\n",
       "  </tbody>\n",
       "</table>\n",
       "</div>"
      ],
      "text/plain": [
       "    number  index of coincidence\n",
       "0        0              0.057851\n",
       "1        1              0.058884\n",
       "2        2              0.050620\n",
       "3        3              0.056818\n",
       "4        4              0.055785\n",
       "5        5              0.068182\n",
       "6        6              0.056818\n",
       "7        7              0.055785\n",
       "8        8              0.050620\n",
       "9        9              0.052686\n",
       "10      10              0.063017\n",
       "11      11              0.065083\n",
       "12      12              0.061983\n",
       "13      13              0.060950\n",
       "14      14              0.064050\n",
       "15      15              0.100207\n",
       "16      16              0.060950\n",
       "17      17              0.064050\n",
       "18      18              0.075413\n",
       "19      19              0.061983"
      ]
     },
     "execution_count": 39,
     "metadata": {},
     "output_type": "execute_result"
    }
   ],
   "source": [
    "freq_df"
   ]
  },
  {
   "cell_type": "code",
   "execution_count": 44,
   "metadata": {
    "cell_id": "e93123548b8e4e0e85247ea7831a14bb",
    "deepnote_cell_type": "code",
    "deepnote_to_be_reexecuted": false,
    "execution_millis": 3,
    "execution_start": 1687800413682,
    "source_hash": "3b047469"
   },
   "outputs": [
    {
     "data": {
      "text/html": [
       "\n",
       "<div id=\"altair-viz-fc1c0b94801e49abab12a8c7517a3aa6\"></div>\n",
       "<script type=\"text/javascript\">\n",
       "  var VEGA_DEBUG = (typeof VEGA_DEBUG == \"undefined\") ? {} : VEGA_DEBUG;\n",
       "  (function(spec, embedOpt){\n",
       "    let outputDiv = document.currentScript.previousElementSibling;\n",
       "    if (outputDiv.id !== \"altair-viz-fc1c0b94801e49abab12a8c7517a3aa6\") {\n",
       "      outputDiv = document.getElementById(\"altair-viz-fc1c0b94801e49abab12a8c7517a3aa6\");\n",
       "    }\n",
       "    const paths = {\n",
       "      \"vega\": \"https://cdn.jsdelivr.net/npm//vega@5?noext\",\n",
       "      \"vega-lib\": \"https://cdn.jsdelivr.net/npm//vega-lib?noext\",\n",
       "      \"vega-lite\": \"https://cdn.jsdelivr.net/npm//vega-lite@4.17.0?noext\",\n",
       "      \"vega-embed\": \"https://cdn.jsdelivr.net/npm//vega-embed@6?noext\",\n",
       "    };\n",
       "\n",
       "    function maybeLoadScript(lib, version) {\n",
       "      var key = `${lib.replace(\"-\", \"\")}_version`;\n",
       "      return (VEGA_DEBUG[key] == version) ?\n",
       "        Promise.resolve(paths[lib]) :\n",
       "        new Promise(function(resolve, reject) {\n",
       "          var s = document.createElement('script');\n",
       "          document.getElementsByTagName(\"head\")[0].appendChild(s);\n",
       "          s.async = true;\n",
       "          s.onload = () => {\n",
       "            VEGA_DEBUG[key] = version;\n",
       "            return resolve(paths[lib]);\n",
       "          };\n",
       "          s.onerror = () => reject(`Error loading script: ${paths[lib]}`);\n",
       "          s.src = paths[lib];\n",
       "        });\n",
       "    }\n",
       "\n",
       "    function showError(err) {\n",
       "      outputDiv.innerHTML = `<div class=\"error\" style=\"color:red;\">${err}</div>`;\n",
       "      throw err;\n",
       "    }\n",
       "\n",
       "    function displayChart(vegaEmbed) {\n",
       "      vegaEmbed(outputDiv, spec, embedOpt)\n",
       "        .catch(err => showError(`Javascript Error: ${err.message}<br>This usually means there's a typo in your chart specification. See the javascript console for the full traceback.`));\n",
       "    }\n",
       "\n",
       "    if(typeof define === \"function\" && define.amd) {\n",
       "      requirejs.config({paths});\n",
       "      require([\"vega-embed\"], displayChart, err => showError(`Error loading script: ${err.message}`));\n",
       "    } else {\n",
       "      maybeLoadScript(\"vega\", \"5\")\n",
       "        .then(() => maybeLoadScript(\"vega-lite\", \"4.17.0\"))\n",
       "        .then(() => maybeLoadScript(\"vega-embed\", \"6\"))\n",
       "        .catch(showError)\n",
       "        .then(() => displayChart(vegaEmbed));\n",
       "    }\n",
       "  })({\"config\": {\"view\": {\"continuousWidth\": 400, \"continuousHeight\": 300}}, \"data\": {\"name\": \"data-707c8974c1c7e823ece0c2f0ba3ea026\"}, \"mark\": \"bar\", \"encoding\": {\"tooltip\": [{\"field\": \"index of coincidence\", \"type\": \"quantitative\"}], \"x\": {\"field\": \"number\", \"type\": \"ordinal\"}, \"y\": {\"field\": \"index of coincidence\", \"type\": \"quantitative\"}}, \"$schema\": \"https://vega.github.io/schema/vega-lite/v4.17.0.json\", \"datasets\": {\"data-707c8974c1c7e823ece0c2f0ba3ea026\": [{\"number\": 0, \"index of coincidence\": 0.057851239669421475}, {\"number\": 1, \"index of coincidence\": 0.05888429752066115}, {\"number\": 2, \"index of coincidence\": 0.050619834710743786}, {\"number\": 3, \"index of coincidence\": 0.05681818181818181}, {\"number\": 4, \"index of coincidence\": 0.055785123966942136}, {\"number\": 5, \"index of coincidence\": 0.06818181818181818}, {\"number\": 6, \"index of coincidence\": 0.0568181818181818}, {\"number\": 7, \"index of coincidence\": 0.055785123966942136}, {\"number\": 8, \"index of coincidence\": 0.05061983471074378}, {\"number\": 9, \"index of coincidence\": 0.052685950413223125}, {\"number\": 10, \"index of coincidence\": 0.06301652892561982}, {\"number\": 11, \"index of coincidence\": 0.06508264462809916}, {\"number\": 12, \"index of coincidence\": 0.06198347107438016}, {\"number\": 13, \"index of coincidence\": 0.06095041322314048}, {\"number\": 14, \"index of coincidence\": 0.06404958677685947}, {\"number\": 15, \"index of coincidence\": 0.10020661157024793}, {\"number\": 16, \"index of coincidence\": 0.06095041322314048}, {\"number\": 17, \"index of coincidence\": 0.06404958677685949}, {\"number\": 18, \"index of coincidence\": 0.07541322314049585}, {\"number\": 19, \"index of coincidence\": 0.06198347107438015}]}}, {\"mode\": \"vega-lite\"});\n",
       "</script>"
      ],
      "text/plain": [
       "alt.Chart(...)"
      ]
     },
     "execution_count": 44,
     "metadata": {},
     "output_type": "execute_result"
    }
   ],
   "source": [
    "alt.Chart(freq_df).mark_bar().encode(\n",
    "    x=\"number:O\",\n",
    "    y=\"index of coincidence\",\n",
    "    tooltip=[\"index of coincidence\"]\n",
    ")"
   ]
  },
  {
   "cell_type": "code",
   "execution_count": 42,
   "metadata": {
    "cell_id": "e429fab59ed94daa9fad36c3bcfda867",
    "deepnote_cell_type": "code",
    "deepnote_to_be_reexecuted": false,
    "execution_millis": 5,
    "execution_start": 1687800383471,
    "source_hash": "51b57d41"
   },
   "outputs": [
    {
     "data": {
      "text/plain": [
       "'TNFZBAFREIGGDDPGOZVYOFMDSAWTTGDNSJCXAOCEIWPV'"
      ]
     },
     "execution_count": 42,
     "metadata": {},
     "output_type": "execute_result"
    }
   ],
   "source": [
    "t"
   ]
  },
  {
   "cell_type": "code",
   "execution_count": 45,
   "metadata": {
    "cell_id": "342f8b5beec341848fdc28d8e841ff28",
    "deepnote_cell_type": "code",
    "deepnote_to_be_reexecuted": false,
    "execution_millis": 4,
    "execution_start": 1687800474255,
    "source_hash": "8d26d928"
   },
   "outputs": [
    {
     "data": {
      "text/plain": [
       "{'a': 0.06818181818181818,\n",
       " 'b': 0.022727272727272728,\n",
       " 'c': 0.045454545454545456,\n",
       " 'd': 0.09090909090909091,\n",
       " 'e': 0.045454545454545456,\n",
       " 'f': 0.06818181818181818,\n",
       " 'g': 0.09090909090909091,\n",
       " 'h': 0.0,\n",
       " 'i': 0.045454545454545456,\n",
       " 'j': 0.022727272727272728,\n",
       " 'k': 0.0,\n",
       " 'l': 0.0,\n",
       " 'm': 0.022727272727272728,\n",
       " 'n': 0.045454545454545456,\n",
       " 'o': 0.06818181818181818,\n",
       " 'p': 0.045454545454545456,\n",
       " 'q': 0.0,\n",
       " 'r': 0.022727272727272728,\n",
       " 's': 0.045454545454545456,\n",
       " 't': 0.06818181818181818,\n",
       " 'u': 0.0,\n",
       " 'v': 0.045454545454545456,\n",
       " 'w': 0.045454545454545456,\n",
       " 'x': 0.022727272727272728,\n",
       " 'y': 0.022727272727272728,\n",
       " 'z': 0.045454545454545456}"
      ]
     },
     "execution_count": 45,
     "metadata": {},
     "output_type": "execute_result"
    }
   ],
   "source": [
    "get_freq(t)"
   ]
  },
  {
   "cell_type": "code",
   "execution_count": 43,
   "metadata": {
    "cell_id": "8ecbb9d80f8b4dc48446ca3fd6fd1d19",
    "deepnote_cell_type": "code",
    "deepnote_to_be_reexecuted": false,
    "execution_millis": 7,
    "execution_start": 1687800395631,
    "source_hash": "5688537c"
   },
   "outputs": [
    {
     "data": {
      "text/plain": [
       "0.05681818181818181"
      ]
     },
     "execution_count": 43,
     "metadata": {},
     "output_type": "execute_result"
    }
   ],
   "source": [
    "ind_co(get_freq(t))"
   ]
  },
  {
   "cell_type": "code",
   "execution_count": 46,
   "metadata": {
    "cell_id": "7f0e0fd19d4541f085f820b14ace49c2",
    "deepnote_cell_type": "code",
    "deepnote_to_be_reexecuted": false,
    "execution_millis": 4,
    "execution_start": 1687800563550,
    "source_hash": "78369041"
   },
   "outputs": [],
   "source": [
    "c = lines[15]"
   ]
  },
  {
   "cell_type": "code",
   "execution_count": 47,
   "metadata": {
    "cell_id": "33fa8b0ae16d441889dc13a561ae2f82",
    "deepnote_cell_type": "code",
    "deepnote_to_be_reexecuted": false,
    "execution_millis": 3,
    "execution_start": 1687800565838,
    "source_hash": "957caa7e"
   },
   "outputs": [
    {
     "data": {
      "text/plain": [
       "'BPIWDCTHTKTCINIWGTTPHJBBTGHTHHXDCDCTJRXGKXCT\\n'"
      ]
     },
     "execution_count": 47,
     "metadata": {},
     "output_type": "execute_result"
    }
   ],
   "source": [
    "c"
   ]
  },
  {
   "cell_type": "code",
   "execution_count": 48,
   "metadata": {
    "cell_id": "158ca5e37e724be08cb50f55d327fc4a",
    "deepnote_cell_type": "code",
    "deepnote_to_be_reexecuted": false,
    "execution_millis": 4,
    "execution_start": 1687800589988,
    "source_hash": "924ae85c"
   },
   "outputs": [],
   "source": [
    "from Helper1 import shift_string"
   ]
  },
  {
   "cell_type": "code",
   "execution_count": 49,
   "metadata": {
    "cell_id": "bffbedaf28eb4a78b3e05b553ef0be89",
    "deepnote_cell_type": "code",
    "deepnote_to_be_reexecuted": false,
    "execution_millis": 3,
    "execution_start": 1687800598308,
    "source_hash": "e2d20ad2"
   },
   "outputs": [
    {
     "data": {
      "text/plain": [
       "'BPIWDCTHTKTCINIWGTTPHJBBTGHTHHXDCDCTJRXGKXCT\\n'"
      ]
     },
     "execution_count": 49,
     "metadata": {},
     "output_type": "execute_result"
    }
   ],
   "source": [
    "shift_string(c, 0)"
   ]
  },
  {
   "cell_type": "code",
   "execution_count": 50,
   "metadata": {
    "cell_id": "1a2b5c6f839b486891b40e043f05fa58",
    "deepnote_cell_type": "code",
    "deepnote_to_be_reexecuted": false,
    "execution_millis": 29,
    "execution_start": 1687800606533,
    "source_hash": "99302de9"
   },
   "outputs": [
    {
     "data": {
      "text/plain": [
       "'CQJXEDUIULUDJOJXHUUQIKCCUHIUIIYEDEDUKSYHLYDU\\n'"
      ]
     },
     "execution_count": 50,
     "metadata": {},
     "output_type": "execute_result"
    }
   ],
   "source": [
    "shift_string(c, 1)"
   ]
  },
  {
   "cell_type": "code",
   "execution_count": 51,
   "metadata": {
    "cell_id": "94f806f63153446eac72b273baeb530f",
    "deepnote_cell_type": "code",
    "deepnote_to_be_reexecuted": false,
    "execution_millis": 27,
    "execution_start": 1687800622980,
    "source_hash": "479cf548"
   },
   "outputs": [
    {
     "data": {
      "text/plain": [
       "'GUNBIHYMYPYHNSNBLYYUMOGGYLMYMMCIHIHYOWCLPCHY\\n'"
      ]
     },
     "execution_count": 51,
     "metadata": {},
     "output_type": "execute_result"
    }
   ],
   "source": [
    "shift_string(c, 5)"
   ]
  },
  {
   "cell_type": "markdown",
   "metadata": {
    "cell_id": "ddfc8d330b264f9a8a3480a0b2a21093",
    "deepnote_cell_type": "markdown"
   },
   "source": [
    "Notice how \"W\" shifted by 5 gives us \"B\", \"WXYZAB\".  In terms of the number equivalents: \"W\" is 22, \"B\" is 1.  22 + 5 = 27, then we reduce modulo 26 to get 1.  If reducing modulo a number is new to you, Byron will introduce/review it in discussion today."
   ]
  },
  {
   "cell_type": "code",
   "execution_count": 52,
   "metadata": {
    "cell_id": "95f1e802b7a84540856e9a3f41e4579b",
    "deepnote_cell_type": "code",
    "deepnote_to_be_reexecuted": false,
    "execution_millis": 4,
    "execution_start": 1687800772830,
    "source_hash": "957caa7e"
   },
   "outputs": [
    {
     "data": {
      "text/plain": [
       "'BPIWDCTHTKTCINIWGTTPHJBBTGHTHHXDCDCTJRXGKXCT\\n'"
      ]
     },
     "execution_count": 52,
     "metadata": {},
     "output_type": "execute_result"
    }
   ],
   "source": [
    "c"
   ]
  },
  {
   "cell_type": "code",
   "execution_count": 54,
   "metadata": {
    "cell_id": "ce9a4b097b3e4d388d77e3693eab953f",
    "deepnote_cell_type": "code",
    "deepnote_to_be_reexecuted": false,
    "execution_millis": 2,
    "execution_start": 1687801269367,
    "source_hash": "b898ba0b"
   },
   "outputs": [],
   "source": [
    "c = \"BPIWDCTHTKTCINIWGTTPHJBBTGHTHHXDCDCTJRXGKXCT\""
   ]
  },
  {
   "cell_type": "markdown",
   "metadata": {
    "cell_id": "4d6e39262c034b5c8e0a220e89acdc21",
    "deepnote_cell_type": "markdown"
   },
   "source": [
    "How can we decrypt `c`?  In the Lab 0, you will try to automatically decrypt this kind of shift ciphertext."
   ]
  },
  {
   "cell_type": "markdown",
   "metadata": {
    "cell_id": "05982a1539984a9da667fa62e8a77189",
    "deepnote_cell_type": "markdown"
   },
   "source": [
    "To get some intuition for this process, try out this app: [Streamlit app](https://christopherdavisuci-math173a-y23-week1week1-monday-mepfsg.streamlit.app/)"
   ]
  },
  {
   "cell_type": "markdown",
   "metadata": {
    "cell_id": "40d86dc85956498d93e310dc66cecf79",
    "deepnote_cell_type": "markdown"
   },
   "source": [
    "Three minutes to try out that app."
   ]
  },
  {
   "cell_type": "code",
   "execution_count": 55,
   "metadata": {
    "cell_id": "f87186e9150644049d27be220b02aa1d",
    "deepnote_cell_type": "code",
    "deepnote_to_be_reexecuted": false,
    "execution_millis": 5,
    "execution_start": 1687801276794,
    "source_hash": "13d886fe"
   },
   "outputs": [
    {
     "name": "stdout",
     "output_type": "stream",
     "text": [
      "BPIWDCTHTKTCINIWGTTPHJBBTGHTHHXDCDCTJRXGKXCT\n",
      "CQJXEDUIULUDJOJXHUUQIKCCUHIUIIYEDEDUKSYHLYDU\n",
      "DRKYFEVJVMVEKPKYIVVRJLDDVIJVJJZFEFEVLTZIMZEV\n",
      "ESLZGFWKWNWFLQLZJWWSKMEEWJKWKKAGFGFWMUAJNAFW\n",
      "FTMAHGXLXOXGMRMAKXXTLNFFXKLXLLBHGHGXNVBKOBGX\n",
      "GUNBIHYMYPYHNSNBLYYUMOGGYLMYMMCIHIHYOWCLPCHY\n",
      "HVOCJIZNZQZIOTOCMZZVNPHHZMNZNNDJIJIZPXDMQDIZ\n",
      "IWPDKJAOARAJPUPDNAAWOQIIANOAOOEKJKJAQYENREJA\n",
      "JXQELKBPBSBKQVQEOBBXPRJJBOPBPPFLKLKBRZFOSFKB\n",
      "KYRFMLCQCTCLRWRFPCCYQSKKCPQCQQGMLMLCSAGPTGLC\n",
      "LZSGNMDRDUDMSXSGQDDZRTLLDQRDRRHNMNMDTBHQUHMD\n",
      "MATHONESEVENTYTHREEASUMMERSESSIONONEUCIRVINE\n",
      "NBUIPOFTFWFOUZUISFFBTVNNFSTFTTJPOPOFVDJSWJOF\n",
      "OCVJQPGUGXGPVAVJTGGCUWOOGTUGUUKQPQPGWEKTXKPG\n",
      "PDWKRQHVHYHQWBWKUHHDVXPPHUVHVVLRQRQHXFLUYLQH\n",
      "QEXLSRIWIZIRXCXLVIIEWYQQIVWIWWMSRSRIYGMVZMRI\n",
      "RFYMTSJXJAJSYDYMWJJFXZRRJWXJXXNTSTSJZHNWANSJ\n",
      "SGZNUTKYKBKTZEZNXKKGYASSKXYKYYOUTUTKAIOXBOTK\n",
      "THAOVULZLCLUAFAOYLLHZBTTLYZLZZPVUVULBJPYCPUL\n",
      "UIBPWVMAMDMVBGBPZMMIACUUMZAMAAQWVWVMCKQZDQVM\n",
      "VJCQXWNBNENWCHCQANNJBDVVNABNBBRXWXWNDLRAERWN\n",
      "WKDRYXOCOFOXDIDRBOOKCEWWOBCOCCSYXYXOEMSBFSXO\n",
      "XLESZYPDPGPYEJESCPPLDFXXPCDPDDTZYZYPFNTCGTYP\n",
      "YMFTAZQEQHQZFKFTDQQMEGYYQDEQEEUAZAZQGOUDHUZQ\n",
      "ZNGUBARFRIRAGLGUERRNFHZZREFRFFVBABARHPVEIVAR\n",
      "AOHVCBSGSJSBHMHVFSSOGIAASFGSGGWCBCBSIQWFJWBS\n"
     ]
    }
   ],
   "source": [
    "for i in range(26):\n",
    "    print(shift_string(c, i))"
   ]
  },
  {
   "cell_type": "code",
   "execution_count": 57,
   "metadata": {
    "cell_id": "7d6f5ad54f3a4b86b8cff7c4ca3f6f4f",
    "deepnote_cell_type": "code",
    "deepnote_to_be_reexecuted": false,
    "execution_millis": 6,
    "execution_start": 1687801432057,
    "source_hash": "7dc02010"
   },
   "outputs": [
    {
     "name": "stdout",
     "output_type": "stream",
     "text": [
      "0.10020661157024793\n",
      "0.10020661157024793\n",
      "0.10020661157024793\n",
      "0.10020661157024793\n",
      "0.10020661157024793\n",
      "0.10020661157024793\n",
      "0.10020661157024793\n",
      "0.10020661157024792\n",
      "0.10020661157024792\n",
      "0.10020661157024793\n",
      "0.10020661157024793\n",
      "0.10020661157024792\n",
      "0.10020661157024792\n",
      "0.1002066115702479\n",
      "0.1002066115702479\n",
      "0.1002066115702479\n",
      "0.10020661157024793\n",
      "0.10020661157024793\n",
      "0.10020661157024793\n",
      "0.10020661157024793\n",
      "0.10020661157024793\n",
      "0.10020661157024793\n",
      "0.10020661157024793\n",
      "0.10020661157024793\n",
      "0.10020661157024793\n",
      "0.10020661157024793\n"
     ]
    }
   ],
   "source": [
    "for i in range(26):\n",
    "    print(ind_co(get_freq(shift_string(c, i))))"
   ]
  },
  {
   "cell_type": "markdown",
   "metadata": {
    "cell_id": "29c0cb2f65e6470bbb50b54a63bc3606",
    "deepnote_cell_type": "markdown"
   },
   "source": [
    "Use mutual index of coincidence to compare the shifted text with actual English text."
   ]
  },
  {
   "cell_type": "code",
   "execution_count": 59,
   "metadata": {
    "cell_id": "43aeeda0fa284a6bae8a3277c3890c79",
    "deepnote_cell_type": "code",
    "deepnote_to_be_reexecuted": false,
    "execution_millis": 136,
    "execution_start": 1687801560563,
    "source_hash": "ebbcba62"
   },
   "outputs": [],
   "source": [
    "pride_freq = get_freq(s)"
   ]
  },
  {
   "cell_type": "code",
   "execution_count": 60,
   "metadata": {
    "cell_id": "4cbb7cd61eb849a2901a153eeb1b03f1",
    "deepnote_cell_type": "code",
    "deepnote_to_be_reexecuted": false,
    "execution_millis": 2,
    "execution_start": 1687801564316,
    "source_hash": "52ea6410"
   },
   "outputs": [
    {
     "data": {
      "text/plain": [
       "{'a': 0.07739003458965348,\n",
       " 'b': 0.016852962904150066,\n",
       " 'c': 0.02560911620328498,\n",
       " 'd': 0.04094835025994021,\n",
       " 'e': 0.12850815722067646,\n",
       " 'f': 0.022428041783749075,\n",
       " 'g': 0.018998418955958603,\n",
       " 'h': 0.06241671902292859,\n",
       " 'i': 0.07110900918938698,\n",
       " 'j': 0.0017501950414592553,\n",
       " 'k': 0.006035929053237688,\n",
       " 'l': 0.04052029466794623,\n",
       " 'm': 0.02715909169365028,\n",
       " 'n': 0.07022700754620584,\n",
       " 'o': 0.07487693401730174,\n",
       " 'p': 0.015803536291519666,\n",
       " 'q': 0.001139180204500107,\n",
       " 'r': 0.06070449665495267,\n",
       " 's': 0.06161066272671412,\n",
       " 't': 0.0878428759812484,\n",
       " 'u': 0.028141203112378402,\n",
       " 'v': 0.010561581320206296,\n",
       " 'w': 0.022467740487845292,\n",
       " 'x': 0.0017812635924910763,\n",
       " 'y': 0.02344122175350902,\n",
       " 'z': 0.0016759757251054604}"
      ]
     },
     "execution_count": 60,
     "metadata": {},
     "output_type": "execute_result"
    }
   ],
   "source": [
    "pride_freq"
   ]
  },
  {
   "cell_type": "markdown",
   "metadata": {
    "cell_id": "37850cf0d6374786ad9098c1cf0276e1",
    "deepnote_cell_type": "markdown"
   },
   "source": [
    "For every possible shift amount, from 0 to 25 (inclusive), we will shift the ciphertext c by that amount, and compute its Mutual Index of Coincidence with the Pride and Prejudice frequencies (representing \"average\" English).  Look for the value that is bigger than the rest."
   ]
  },
  {
   "cell_type": "code",
   "execution_count": 61,
   "metadata": {
    "cell_id": "e8a1af57e91c4555b1f0607e733b0259",
    "deepnote_cell_type": "code",
    "deepnote_to_be_reexecuted": false,
    "execution_millis": 2,
    "execution_start": 1687801669143,
    "source_hash": "2d8135ba"
   },
   "outputs": [],
   "source": [
    "from Helper1 import mut_ind_co"
   ]
  },
  {
   "cell_type": "code",
   "execution_count": 63,
   "metadata": {
    "cell_id": "03746fca063544c9be2406178a63afd4",
    "deepnote_cell_type": "code",
    "deepnote_to_be_reexecuted": false,
    "execution_millis": 5,
    "execution_start": 1687801746738,
    "source_hash": "c560f70f"
   },
   "outputs": [
    {
     "name": "stdout",
     "output_type": "stream",
     "text": [
      "0\n",
      "0.043246167741303784\n",
      "1\n",
      "0.04032215419918141\n",
      "2\n",
      "0.035914421205447224\n",
      "3\n",
      "0.034014924515973946\n",
      "4\n",
      "0.03205097627429702\n",
      "5\n",
      "0.03849248329359278\n",
      "6\n",
      "0.03497883415732988\n",
      "7\n",
      "0.051290882604184775\n",
      "8\n",
      "0.027283287441840613\n",
      "9\n",
      "0.02989516403881121\n",
      "10\n",
      "0.041080587741667826\n",
      "11\n",
      "0.07242973643198718\n",
      "12\n",
      "0.041651276227035156\n",
      "13\n",
      "0.0282089498139339\n",
      "14\n",
      "0.029701377874547075\n",
      "15\n",
      "0.04080673729374718\n",
      "16\n",
      "0.0338052902524461\n",
      "17\n",
      "0.038217181410838595\n",
      "18\n",
      "0.03505854538927011\n",
      "19\n",
      "0.027886260545262487\n",
      "20\n",
      "0.041009428206855034\n",
      "21\n",
      "0.041827919769075926\n",
      "22\n",
      "0.03544372481172144\n",
      "23\n",
      "0.03890833898739119\n",
      "24\n",
      "0.04762122383729871\n",
      "25\n",
      "0.0388541259349594\n"
     ]
    }
   ],
   "source": [
    "for i in range(26):\n",
    "    print(i)\n",
    "    print(mut_ind_co(get_freq(shift_string(c,i)), pride_freq))"
   ]
  },
  {
   "cell_type": "code",
   "execution_count": 64,
   "metadata": {
    "cell_id": "85f853ca8c3b4724b31e1c27f3a3040c",
    "deepnote_cell_type": "code",
    "deepnote_to_be_reexecuted": false,
    "execution_millis": 3,
    "execution_start": 1687801783659,
    "source_hash": "ff72ca61"
   },
   "outputs": [
    {
     "data": {
      "text/plain": [
       "'MATHONESEVENTYTHREEASUMMERSESSIONONEUCIRVINE'"
      ]
     },
     "execution_count": 64,
     "metadata": {},
     "output_type": "execute_result"
    }
   ],
   "source": [
    "shift_string(c, 11)"
   ]
  },
  {
   "cell_type": "code",
   "execution_count": null,
   "metadata": {
    "cell_id": "44d9fa8f5b154ac98121ab2c8619f7a6",
    "deepnote_cell_type": "code"
   },
   "outputs": [],
   "source": []
  },
  {
   "cell_type": "markdown",
   "metadata": {
    "created_in_deepnote_cell": true,
    "deepnote_cell_type": "markdown"
   },
   "source": [
    "<a style='text-decoration:none;line-height:16px;display:flex;color:#5B5B62;padding:10px;justify-content:end;' href='https://deepnote.com?utm_source=created-in-deepnote-cell&projectId=123292d9-a5c7-4f5f-b62b-3f77034a2a85' target=\"_blank\">\n",
    "<img alt='Created in deepnote.com' style='display:inline;max-height:16px;margin:0px;margin-right:7.5px;' src='data:image/svg+xml;base64,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' > </img>\n",
    "Created in <span style='font-weight:600;margin-left:4px;'>Deepnote</span></a>"
   ]
  }
 ],
 "metadata": {
  "deepnote": {},
  "deepnote_execution_queue": [],
  "deepnote_notebook_id": "8da4c96e538544a991b8c6b7b5dfc417",
  "deepnote_persisted_session": {
   "createdAt": "2023-06-26T18:16:41.157Z"
  },
  "kernelspec": {
   "display_name": "Python 3 (ipykernel)",
   "language": "python",
   "name": "python3"
  },
  "language_info": {
   "codemirror_mode": {
    "name": "ipython",
    "version": 3
   },
   "file_extension": ".py",
   "mimetype": "text/x-python",
   "name": "python",
   "nbconvert_exporter": "python",
   "pygments_lexer": "ipython3",
   "version": "3.11.3"
  }
 },
 "nbformat": 4,
 "nbformat_minor": 4
}
