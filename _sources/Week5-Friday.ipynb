{
 "cells": [
  {
   "cell_type": "markdown",
   "id": "bce4a913-5577-4ec3-9516-86dae0605e1d",
   "metadata": {},
   "source": [
    "# Week 5 Friday\n",
    "\n",
    "## Screenshare notes\n",
    "\n",
    "![Slide 1](images/W5F/1.gif)\n",
    "\n",
    "![Slide 2](images/W5F/2.gif)\n",
    "\n",
    "![Slide 3](images/W5F/3.gif)\n",
    "\n",
    "![Slide 4](images/W5F/4.gif)\n",
    "\n",
    "![Slide 5](images/W5F/5.gif)\n",
    "\n",
    "## Deepnote notebook\n",
    "\n",
    "No Deepnote notebook this class."
   ]
  }
 ],
 "metadata": {
  "kernelspec": {
   "display_name": "Python 3 (ipykernel)",
   "language": "python",
   "name": "python3"
  },
  "language_info": {
   "codemirror_mode": {
    "name": "ipython",
    "version": 3
   },
   "file_extension": ".py",
   "mimetype": "text/x-python",
   "name": "python",
   "nbconvert_exporter": "python",
   "pygments_lexer": "ipython3",
   "version": "3.11.3"
  }
 },
 "nbformat": 4,
 "nbformat_minor": 5
}
