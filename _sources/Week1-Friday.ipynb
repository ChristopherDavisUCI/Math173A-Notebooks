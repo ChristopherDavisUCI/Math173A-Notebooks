{
 "cells": [
  {
   "cell_type": "markdown",
   "metadata": {
    "cell_id": "f66b9f7970e046b0821ea5407d23efca",
    "deepnote_cell_type": "markdown"
   },
   "source": [
    "# Week 1 Friday\n",
    "\n",
    "The main goal today is to prepare for Lab 1, which is about automatically decrypting Vigenère ciphertext."
   ]
  },
  {
   "cell_type": "markdown",
   "metadata": {
    "cell_id": "ede4c960cfb44bddb7949c46401beaf3",
    "deepnote_cell_type": "markdown"
   },
   "source": [
    "* Importing some libraries and functions we will need."
   ]
  },
  {
   "cell_type": "code",
   "execution_count": 2,
   "metadata": {
    "cell_id": "0224a00f7e654273a7f4f541ff6679f0",
    "deepnote_cell_type": "code",
    "deepnote_to_be_reexecuted": false,
    "execution_millis": 2,
    "execution_start": 1688142898571,
    "source_hash": "2cff9fb"
   },
   "outputs": [],
   "source": [
    "import string\n",
    "import numpy as np\n",
    "from Helper3 import (\n",
    "                            only_letters,\n",
    "                            weave, \n",
    "                            shift_string, \n",
    "                            kasiski_diffs,\n",
    "                            ind_co,\n",
    "                            mut_ind_co,\n",
    "                            get_freq,\n",
    "                            english_freq,\n",
    "                            freq_chart\n",
    "                        )"
   ]
  },
  {
   "cell_type": "markdown",
   "metadata": {
    "cell_id": "3d0aaed8d1d24068884c8f85fdca333d",
    "deepnote_cell_type": "markdown"
   },
   "source": [
    "* Here are three Vigenère ciphertexts.  The string `Y0` was encrypted using a key length of `1`, the string `Y1` was encrypted using a key length of `5`, and the string `Y2` was encrypted using a key length of `201`."
   ]
  },
  {
   "cell_type": "code",
   "execution_count": 4,
   "metadata": {
    "cell_id": "a1c5118bfe08426ebaf40c3e57547ebf",
    "deepnote_cell_type": "code",
    "deepnote_to_be_reexecuted": false,
    "execution_millis": 60,
    "execution_start": 1688142936959,
    "source_hash": "c50103c6"
   },
   "outputs": [],
   "source": [
    "Y0 = '''IWTSX UUXTW TAABP CZTNT MRWPC VTPAV DGXIW BHDAK THIWT UDAAD\n",
    "LXCVS XATBB PPAXR TPCSQ DQLPC IIDHW PGTPH TRGTI ZTNUD GJHTX\n",
    "CPHNB BTIGX RRXEW TGQJI IWTXG DCANB TPCHD URDBB JCXRP IXDCX\n",
    "HXCHT RJGTT KTGNE XTRTD UXCUD GBPIX DCIWP IIWTN TMRWP CVTXH\n",
    "DQHTG KTSQN IWTXG PSKTG HPGNT KTWDL XHXIE DHHXQ ATUDG PAXRT\n",
    "PCSQD QIDHW PGTPZ TNLXI WDJIB PZXCV XIPKP XAPQA TIDTK TPIUX\n",
    "GHIVA PCRTX IPEET PGHIW PIPAX RTPCS QDQUP RTPCX BEDHH XQATI\n",
    "PHZXI LPHPQ GXAAX PCIXC HXVWI DUSXU UXTPC SWTAA BPCIW PIIWT\n",
    "SXUUX RJAIN DUIWT SXHRG TITAD VPGXI WBEGD QATBU DGUEE GDKXS\n",
    "THPED HHXQA THDAJ IXDC'''\n",
    "\n",
    "Y1 = \"\"\"SCNWB EARXA DGUFT MFNRX WXQTG FZJEZ NMRMA LNXEO DNCAX EJUEH\n",
    "VDWZW HGNFF ZVUBV DVWWU NWFTG SOXLA ZMNTL DXAXM JZHYH QPBXB\n",
    "MVBRF LZCKB BXRIA DMKNM SCNBK NIURF DVWLH EXXFF TIRVT SDXGB\n",
    "RDWLX BPAXX UZARI HZLXH EDWYH QHJMB NICAT SOQXR DSLAT MBNBL\n",
    "NWBXK UZMUR SCNBK ZYEXK RVARX UZQHP HNRMI NNBBU KZOHK ZGRVX\n",
    "ZIMUH AOXLA ZMNTD DTFBM GJDMF ZFRGZ HOJOT HGJUE DOXXO DVCYB\n",
    "QNCZE ZILXB SVYIX ZMBMA ZOJEB BZJGW AJKYT BZJGB LKXLL HWUXM\n",
    "ZNTBM VVBTU QDUEB ZICBG RDPAM NAMBY EDNTG CCNEE LVWMA ZOCAX\n",
    "CDOYB BPUMR NACAX CDBVK DONEH FVABM GHYKH AGNFY NMOII QJEBW\n",
    "DNJIH RNRUE DNXEN SDXG\"\"\"\n",
    "\n",
    "Y2 = \"\"\"DRWFU VMGIO NFCHD MNCWD OJPLK IBFWE PHDMJ QNADL QAFUP LPPHZ\n",
    "AYRJW WVKPD JGEUW YBVKR IUBZF HJWJT SLXUD NDCCB DMKCZ DPKKB\n",
    "REPBV VJXLK XYYQV QYTEV JKUSK IQBNP DXFJB HETJB YBJHO IYCEJ\n",
    "TKQKB PMMZI RFNLG QYQIR KOKCA ICQQZ VIVYI WAUNC QRMUW RTLZE\n",
    "ULCWT HUKZC AQYZM DCYCP RRYGP SGETH GTYOI QWNUT BQNAE LRJGA\n",
    "LRTFR UHYYK RAKTW YSXQA XINYL SYYVX ULUOU TUBMJ MMWQS PMOXO\n",
    "KWXDO JWHIC VVLFF ODZLR CJDBS VYDDS ENYXR PGCSF BTCTX WQBSK\n",
    "BTMLL TNKVW VEMHV RVNWR VNMEQ AWTYC WPZCE LKLYU QMHDU WXGOV\n",
    "POPPA EGBAW SMCBV YLRFP CSVSW RXTFY SKQHJ UNIHR GHRXB EZBJH\n",
    "ADEFS VLWLR HJXRN FCIO\"\"\""
   ]
  },
  {
   "cell_type": "code",
   "execution_count": 5,
   "metadata": {
    "cell_id": "c36d011eded44d4c96d7dd1c340669ff",
    "deepnote_cell_type": "code",
    "deepnote_to_be_reexecuted": false,
    "execution_millis": 40,
    "execution_start": 1688142991698,
    "source_hash": "3a25f3b3"
   },
   "outputs": [
    {
     "data": {
      "text/html": [
       "\n",
       "<div id=\"altair-viz-5d9a32bd34b64ef4955f46c8720c7b81\"></div>\n",
       "<script type=\"text/javascript\">\n",
       "  var VEGA_DEBUG = (typeof VEGA_DEBUG == \"undefined\") ? {} : VEGA_DEBUG;\n",
       "  (function(spec, embedOpt){\n",
       "    let outputDiv = document.currentScript.previousElementSibling;\n",
       "    if (outputDiv.id !== \"altair-viz-5d9a32bd34b64ef4955f46c8720c7b81\") {\n",
       "      outputDiv = document.getElementById(\"altair-viz-5d9a32bd34b64ef4955f46c8720c7b81\");\n",
       "    }\n",
       "    const paths = {\n",
       "      \"vega\": \"https://cdn.jsdelivr.net/npm//vega@5?noext\",\n",
       "      \"vega-lib\": \"https://cdn.jsdelivr.net/npm//vega-lib?noext\",\n",
       "      \"vega-lite\": \"https://cdn.jsdelivr.net/npm//vega-lite@4.17.0?noext\",\n",
       "      \"vega-embed\": \"https://cdn.jsdelivr.net/npm//vega-embed@6?noext\",\n",
       "    };\n",
       "\n",
       "    function maybeLoadScript(lib, version) {\n",
       "      var key = `${lib.replace(\"-\", \"\")}_version`;\n",
       "      return (VEGA_DEBUG[key] == version) ?\n",
       "        Promise.resolve(paths[lib]) :\n",
       "        new Promise(function(resolve, reject) {\n",
       "          var s = document.createElement('script');\n",
       "          document.getElementsByTagName(\"head\")[0].appendChild(s);\n",
       "          s.async = true;\n",
       "          s.onload = () => {\n",
       "            VEGA_DEBUG[key] = version;\n",
       "            return resolve(paths[lib]);\n",
       "          };\n",
       "          s.onerror = () => reject(`Error loading script: ${paths[lib]}`);\n",
       "          s.src = paths[lib];\n",
       "        });\n",
       "    }\n",
       "\n",
       "    function showError(err) {\n",
       "      outputDiv.innerHTML = `<div class=\"error\" style=\"color:red;\">${err}</div>`;\n",
       "      throw err;\n",
       "    }\n",
       "\n",
       "    function displayChart(vegaEmbed) {\n",
       "      vegaEmbed(outputDiv, spec, embedOpt)\n",
       "        .catch(err => showError(`Javascript Error: ${err.message}<br>This usually means there's a typo in your chart specification. See the javascript console for the full traceback.`));\n",
       "    }\n",
       "\n",
       "    if(typeof define === \"function\" && define.amd) {\n",
       "      requirejs.config({paths});\n",
       "      require([\"vega-embed\"], displayChart, err => showError(`Error loading script: ${err.message}`));\n",
       "    } else {\n",
       "      maybeLoadScript(\"vega\", \"5\")\n",
       "        .then(() => maybeLoadScript(\"vega-lite\", \"4.17.0\"))\n",
       "        .then(() => maybeLoadScript(\"vega-embed\", \"6\"))\n",
       "        .catch(showError)\n",
       "        .then(() => displayChart(vegaEmbed));\n",
       "    }\n",
       "  })({\"config\": {\"view\": {\"continuousWidth\": 400, \"continuousHeight\": 300}}, \"data\": {\"name\": \"data-468e93a6c3ff2510ce312d461a5db6cf\"}, \"mark\": \"bar\", \"encoding\": {\"tooltip\": [{\"field\": \"letter\", \"type\": \"nominal\"}, {\"field\": \"freq\", \"type\": \"quantitative\"}], \"x\": {\"field\": \"letter\", \"scale\": {\"domain\": [\"A\", \"B\", \"C\", \"D\", \"E\", \"F\", \"G\", \"H\", \"I\", \"J\", \"K\", \"L\", \"M\", \"N\", \"O\", \"P\", \"Q\", \"R\", \"S\", \"T\", \"U\", \"V\", \"W\", \"X\", \"Y\", \"Z\"]}, \"type\": \"nominal\"}, \"y\": {\"field\": \"freq\", \"type\": \"quantitative\"}}, \"$schema\": \"https://vega.github.io/schema/vega-lite/v4.17.0.json\", \"datasets\": {\"data-468e93a6c3ff2510ce312d461a5db6cf\": [{\"letter\": \"A\", \"freq\": 0.053304904051172705}, {\"letter\": \"B\", \"freq\": 0.031982942430703626}, {\"letter\": \"C\", \"freq\": 0.0511727078891258}, {\"letter\": \"D\", \"freq\": 0.07036247334754797}, {\"letter\": \"E\", \"freq\": 0.021321961620469083}, {\"letter\": \"F\", \"freq\": 0.0}, {\"letter\": \"G\", \"freq\": 0.0511727078891258}, {\"letter\": \"H\", \"freq\": 0.05970149253731343}, {\"letter\": \"I\", \"freq\": 0.08102345415778252}, {\"letter\": \"J\", \"freq\": 0.014925373134328358}, {\"letter\": \"K\", \"freq\": 0.017057569296375266}, {\"letter\": \"L\", \"freq\": 0.010660980810234541}, {\"letter\": \"M\", \"freq\": 0.0042643923240938165}, {\"letter\": \"N\", \"freq\": 0.021321961620469083}, {\"letter\": \"O\", \"freq\": 0.0}, {\"letter\": \"P\", \"freq\": 0.09168443496801706}, {\"letter\": \"Q\", \"freq\": 0.031982942430703626}, {\"letter\": \"R\", \"freq\": 0.03411513859275053}, {\"letter\": \"S\", \"freq\": 0.0255863539445629}, {\"letter\": \"T\", \"freq\": 0.11727078891257996}, {\"letter\": \"U\", \"freq\": 0.03837953091684435}, {\"letter\": \"V\", \"freq\": 0.017057569296375266}, {\"letter\": \"W\", \"freq\": 0.046908315565031986}, {\"letter\": \"X\", \"freq\": 0.09808102345415778}, {\"letter\": \"Y\", \"freq\": 0.0}, {\"letter\": \"Z\", \"freq\": 0.010660980810234541}]}}, {\"mode\": \"vega-lite\"});\n",
       "</script>"
      ],
      "text/plain": [
       "alt.Chart(...)"
      ]
     },
     "execution_count": 5,
     "metadata": {},
     "output_type": "execute_result"
    }
   ],
   "source": [
    "# Looks like a shift cipher\n",
    "# because Vigenere cipher with key length 1 is the same as a shift cipher\n",
    "freq_chart(Y0)"
   ]
  },
  {
   "cell_type": "code",
   "execution_count": 7,
   "metadata": {
    "cell_id": "d1ed2314d78146eaa2960be8fe6b991e",
    "deepnote_cell_type": "code",
    "deepnote_to_be_reexecuted": false,
    "execution_millis": 41,
    "execution_start": 1688143152767,
    "source_hash": "c20dd987"
   },
   "outputs": [
    {
     "data": {
      "text/plain": [
       "0.038461538461538464"
      ]
     },
     "execution_count": 7,
     "metadata": {},
     "output_type": "execute_result"
    }
   ],
   "source": [
    "1/26"
   ]
  },
  {
   "cell_type": "code",
   "execution_count": 8,
   "metadata": {
    "cell_id": "c686f37e855e467fa53ea5c3b4a4781d",
    "deepnote_cell_type": "code",
    "deepnote_to_be_reexecuted": false,
    "execution_millis": 7,
    "execution_start": 1688143179217,
    "source_hash": "da6d1d2d"
   },
   "outputs": [
    {
     "data": {
      "text/html": [
       "\n",
       "<div id=\"altair-viz-57c034d442cd49eeb7d1b259d1454cc1\"></div>\n",
       "<script type=\"text/javascript\">\n",
       "  var VEGA_DEBUG = (typeof VEGA_DEBUG == \"undefined\") ? {} : VEGA_DEBUG;\n",
       "  (function(spec, embedOpt){\n",
       "    let outputDiv = document.currentScript.previousElementSibling;\n",
       "    if (outputDiv.id !== \"altair-viz-57c034d442cd49eeb7d1b259d1454cc1\") {\n",
       "      outputDiv = document.getElementById(\"altair-viz-57c034d442cd49eeb7d1b259d1454cc1\");\n",
       "    }\n",
       "    const paths = {\n",
       "      \"vega\": \"https://cdn.jsdelivr.net/npm//vega@5?noext\",\n",
       "      \"vega-lib\": \"https://cdn.jsdelivr.net/npm//vega-lib?noext\",\n",
       "      \"vega-lite\": \"https://cdn.jsdelivr.net/npm//vega-lite@4.17.0?noext\",\n",
       "      \"vega-embed\": \"https://cdn.jsdelivr.net/npm//vega-embed@6?noext\",\n",
       "    };\n",
       "\n",
       "    function maybeLoadScript(lib, version) {\n",
       "      var key = `${lib.replace(\"-\", \"\")}_version`;\n",
       "      return (VEGA_DEBUG[key] == version) ?\n",
       "        Promise.resolve(paths[lib]) :\n",
       "        new Promise(function(resolve, reject) {\n",
       "          var s = document.createElement('script');\n",
       "          document.getElementsByTagName(\"head\")[0].appendChild(s);\n",
       "          s.async = true;\n",
       "          s.onload = () => {\n",
       "            VEGA_DEBUG[key] = version;\n",
       "            return resolve(paths[lib]);\n",
       "          };\n",
       "          s.onerror = () => reject(`Error loading script: ${paths[lib]}`);\n",
       "          s.src = paths[lib];\n",
       "        });\n",
       "    }\n",
       "\n",
       "    function showError(err) {\n",
       "      outputDiv.innerHTML = `<div class=\"error\" style=\"color:red;\">${err}</div>`;\n",
       "      throw err;\n",
       "    }\n",
       "\n",
       "    function displayChart(vegaEmbed) {\n",
       "      vegaEmbed(outputDiv, spec, embedOpt)\n",
       "        .catch(err => showError(`Javascript Error: ${err.message}<br>This usually means there's a typo in your chart specification. See the javascript console for the full traceback.`));\n",
       "    }\n",
       "\n",
       "    if(typeof define === \"function\" && define.amd) {\n",
       "      requirejs.config({paths});\n",
       "      require([\"vega-embed\"], displayChart, err => showError(`Error loading script: ${err.message}`));\n",
       "    } else {\n",
       "      maybeLoadScript(\"vega\", \"5\")\n",
       "        .then(() => maybeLoadScript(\"vega-lite\", \"4.17.0\"))\n",
       "        .then(() => maybeLoadScript(\"vega-embed\", \"6\"))\n",
       "        .catch(showError)\n",
       "        .then(() => displayChart(vegaEmbed));\n",
       "    }\n",
       "  })({\"config\": {\"view\": {\"continuousWidth\": 400, \"continuousHeight\": 300}}, \"data\": {\"name\": \"data-35155a5d0eca28d2322581d2d924a33c\"}, \"mark\": \"bar\", \"encoding\": {\"tooltip\": [{\"field\": \"letter\", \"type\": \"nominal\"}, {\"field\": \"freq\", \"type\": \"quantitative\"}], \"x\": {\"field\": \"letter\", \"scale\": {\"domain\": [\"A\", \"B\", \"C\", \"D\", \"E\", \"F\", \"G\", \"H\", \"I\", \"J\", \"K\", \"L\", \"M\", \"N\", \"O\", \"P\", \"Q\", \"R\", \"S\", \"T\", \"U\", \"V\", \"W\", \"X\", \"Y\", \"Z\"]}, \"type\": \"nominal\"}, \"y\": {\"field\": \"freq\", \"type\": \"quantitative\"}}, \"$schema\": \"https://vega.github.io/schema/vega-lite/v4.17.0.json\", \"datasets\": {\"data-35155a5d0eca28d2322581d2d924a33c\": [{\"letter\": \"A\", \"freq\": 0.0511727078891258}, {\"letter\": \"B\", \"freq\": 0.07462686567164178}, {\"letter\": \"C\", \"freq\": 0.031982942430703626}, {\"letter\": \"D\", \"freq\": 0.053304904051172705}, {\"letter\": \"E\", \"freq\": 0.04051172707889126}, {\"letter\": \"F\", \"freq\": 0.031982942430703626}, {\"letter\": \"G\", \"freq\": 0.03411513859275053}, {\"letter\": \"H\", \"freq\": 0.042643923240938165}, {\"letter\": \"I\", \"freq\": 0.02771855010660981}, {\"letter\": \"J\", \"freq\": 0.02771855010660981}, {\"letter\": \"K\", \"freq\": 0.0255863539445629}, {\"letter\": \"L\", \"freq\": 0.031982942430703626}, {\"letter\": \"M\", \"freq\": 0.05543710021321962}, {\"letter\": \"N\", \"freq\": 0.06823027718550106}, {\"letter\": \"O\", \"freq\": 0.029850746268656716}, {\"letter\": \"P\", \"freq\": 0.010660980810234541}, {\"letter\": \"Q\", \"freq\": 0.017057569296375266}, {\"letter\": \"R\", \"freq\": 0.042643923240938165}, {\"letter\": \"S\", \"freq\": 0.019189765458422176}, {\"letter\": \"T\", \"freq\": 0.031982942430703626}, {\"letter\": \"U\", \"freq\": 0.03624733475479744}, {\"letter\": \"V\", \"freq\": 0.03411513859275053}, {\"letter\": \"W\", \"freq\": 0.031982942430703626}, {\"letter\": \"X\", \"freq\": 0.07036247334754797}, {\"letter\": \"Y\", \"freq\": 0.021321961620469083}, {\"letter\": \"Z\", \"freq\": 0.057569296375266525}]}}, {\"mode\": \"vega-lite\"});\n",
       "</script>"
      ],
      "text/plain": [
       "alt.Chart(...)"
      ]
     },
     "execution_count": 8,
     "metadata": {},
     "output_type": "execute_result"
    }
   ],
   "source": [
    "# key length 5\n",
    "freq_chart(Y1)"
   ]
  },
  {
   "cell_type": "code",
   "execution_count": 9,
   "metadata": {
    "cell_id": "601df8f3f71c4d92859be73fdb023905",
    "deepnote_cell_type": "code",
    "deepnote_to_be_reexecuted": false,
    "execution_millis": 39,
    "execution_start": 1688143248385,
    "source_hash": "75a4b72a"
   },
   "outputs": [
    {
     "data": {
      "text/html": [
       "\n",
       "<div id=\"altair-viz-b3e3f3df0cf24c198d7c0298b005abac\"></div>\n",
       "<script type=\"text/javascript\">\n",
       "  var VEGA_DEBUG = (typeof VEGA_DEBUG == \"undefined\") ? {} : VEGA_DEBUG;\n",
       "  (function(spec, embedOpt){\n",
       "    let outputDiv = document.currentScript.previousElementSibling;\n",
       "    if (outputDiv.id !== \"altair-viz-b3e3f3df0cf24c198d7c0298b005abac\") {\n",
       "      outputDiv = document.getElementById(\"altair-viz-b3e3f3df0cf24c198d7c0298b005abac\");\n",
       "    }\n",
       "    const paths = {\n",
       "      \"vega\": \"https://cdn.jsdelivr.net/npm//vega@5?noext\",\n",
       "      \"vega-lib\": \"https://cdn.jsdelivr.net/npm//vega-lib?noext\",\n",
       "      \"vega-lite\": \"https://cdn.jsdelivr.net/npm//vega-lite@4.17.0?noext\",\n",
       "      \"vega-embed\": \"https://cdn.jsdelivr.net/npm//vega-embed@6?noext\",\n",
       "    };\n",
       "\n",
       "    function maybeLoadScript(lib, version) {\n",
       "      var key = `${lib.replace(\"-\", \"\")}_version`;\n",
       "      return (VEGA_DEBUG[key] == version) ?\n",
       "        Promise.resolve(paths[lib]) :\n",
       "        new Promise(function(resolve, reject) {\n",
       "          var s = document.createElement('script');\n",
       "          document.getElementsByTagName(\"head\")[0].appendChild(s);\n",
       "          s.async = true;\n",
       "          s.onload = () => {\n",
       "            VEGA_DEBUG[key] = version;\n",
       "            return resolve(paths[lib]);\n",
       "          };\n",
       "          s.onerror = () => reject(`Error loading script: ${paths[lib]}`);\n",
       "          s.src = paths[lib];\n",
       "        });\n",
       "    }\n",
       "\n",
       "    function showError(err) {\n",
       "      outputDiv.innerHTML = `<div class=\"error\" style=\"color:red;\">${err}</div>`;\n",
       "      throw err;\n",
       "    }\n",
       "\n",
       "    function displayChart(vegaEmbed) {\n",
       "      vegaEmbed(outputDiv, spec, embedOpt)\n",
       "        .catch(err => showError(`Javascript Error: ${err.message}<br>This usually means there's a typo in your chart specification. See the javascript console for the full traceback.`));\n",
       "    }\n",
       "\n",
       "    if(typeof define === \"function\" && define.amd) {\n",
       "      requirejs.config({paths});\n",
       "      require([\"vega-embed\"], displayChart, err => showError(`Error loading script: ${err.message}`));\n",
       "    } else {\n",
       "      maybeLoadScript(\"vega\", \"5\")\n",
       "        .then(() => maybeLoadScript(\"vega-lite\", \"4.17.0\"))\n",
       "        .then(() => maybeLoadScript(\"vega-embed\", \"6\"))\n",
       "        .catch(showError)\n",
       "        .then(() => displayChart(vegaEmbed));\n",
       "    }\n",
       "  })({\"config\": {\"view\": {\"continuousWidth\": 400, \"continuousHeight\": 300}}, \"data\": {\"name\": \"data-6d0177b0d4d2158d627c60a713c3a3ff\"}, \"mark\": \"bar\", \"encoding\": {\"tooltip\": [{\"field\": \"letter\", \"type\": \"nominal\"}, {\"field\": \"freq\", \"type\": \"quantitative\"}], \"x\": {\"field\": \"letter\", \"scale\": {\"domain\": [\"A\", \"B\", \"C\", \"D\", \"E\", \"F\", \"G\", \"H\", \"I\", \"J\", \"K\", \"L\", \"M\", \"N\", \"O\", \"P\", \"Q\", \"R\", \"S\", \"T\", \"U\", \"V\", \"W\", \"X\", \"Y\", \"Z\"]}, \"type\": \"nominal\"}, \"y\": {\"field\": \"freq\", \"type\": \"quantitative\"}}, \"$schema\": \"https://vega.github.io/schema/vega-lite/v4.17.0.json\", \"datasets\": {\"data-6d0177b0d4d2158d627c60a713c3a3ff\": [{\"letter\": \"A\", \"freq\": 0.029850746268656716}, {\"letter\": \"B\", \"freq\": 0.04477611940298507}, {\"letter\": \"C\", \"freq\": 0.046908315565031986}, {\"letter\": \"D\", \"freq\": 0.04051172707889126}, {\"letter\": \"E\", \"freq\": 0.03411513859275053}, {\"letter\": \"F\", \"freq\": 0.031982942430703626}, {\"letter\": \"G\", \"freq\": 0.023454157782515993}, {\"letter\": \"H\", \"freq\": 0.03624733475479744}, {\"letter\": \"I\", \"freq\": 0.031982942430703626}, {\"letter\": \"J\", \"freq\": 0.04051172707889126}, {\"letter\": \"K\", \"freq\": 0.04477611940298507}, {\"letter\": \"L\", \"freq\": 0.04477611940298507}, {\"letter\": \"M\", \"freq\": 0.03624733475479744}, {\"letter\": \"N\", \"freq\": 0.03411513859275053}, {\"letter\": \"O\", \"freq\": 0.02771855010660981}, {\"letter\": \"P\", \"freq\": 0.04051172707889126}, {\"letter\": \"Q\", \"freq\": 0.042643923240938165}, {\"letter\": \"R\", \"freq\": 0.0511727078891258}, {\"letter\": \"S\", \"freq\": 0.031982942430703626}, {\"letter\": \"T\", \"freq\": 0.03837953091684435}, {\"letter\": \"U\", \"freq\": 0.04051172707889126}, {\"letter\": \"V\", \"freq\": 0.046908315565031986}, {\"letter\": \"W\", \"freq\": 0.0511727078891258}, {\"letter\": \"X\", \"freq\": 0.031982942430703626}, {\"letter\": \"Y\", \"freq\": 0.053304904051172705}, {\"letter\": \"Z\", \"freq\": 0.023454157782515993}]}}, {\"mode\": \"vega-lite\"});\n",
       "</script>"
      ],
      "text/plain": [
       "alt.Chart(...)"
      ]
     },
     "execution_count": 9,
     "metadata": {},
     "output_type": "execute_result"
    }
   ],
   "source": [
    "# key length 201\n",
    "freq_chart(Y2)"
   ]
  },
  {
   "cell_type": "code",
   "execution_count": 10,
   "metadata": {
    "cell_id": "d9735efdfed64826bcc5b32eeb32903c",
    "deepnote_cell_type": "code",
    "deepnote_to_be_reexecuted": false,
    "execution_millis": 299,
    "execution_start": 1688143308086,
    "source_hash": "6f450aab"
   },
   "outputs": [
    {
     "ename": "NameError",
     "evalue": "name 'alt' is not defined",
     "output_type": "error",
     "traceback": [
      "\u001b[0;31m---------------------------------------------------------------------------\u001b[0m",
      "\u001b[0;31mNameError\u001b[0m                                 Traceback (most recent call last)",
      "Cell \u001b[0;32mIn [10], line 1\u001b[0m\n\u001b[0;32m----> 1\u001b[0m \u001b[43malt\u001b[49m\u001b[38;5;241m.\u001b[39mhconcat(freq_chart(Y1), freq_chart(Y2))\n",
      "\u001b[0;31mNameError\u001b[0m: name 'alt' is not defined"
     ]
    }
   ],
   "source": [
    "alt.hconcat(freq_chart(Y1), freq_chart(Y2))"
   ]
  },
  {
   "cell_type": "code",
   "execution_count": 11,
   "metadata": {
    "cell_id": "e4d9619449554d05a91a3ab4f67656b1",
    "deepnote_cell_type": "code",
    "deepnote_to_be_reexecuted": false,
    "execution_millis": 21,
    "execution_start": 1688143343196,
    "source_hash": "3df74024"
   },
   "outputs": [],
   "source": [
    "import altair as alt"
   ]
  },
  {
   "cell_type": "code",
   "execution_count": 12,
   "metadata": {
    "cell_id": "e29b165bc084421ca75464635432e36d",
    "deepnote_cell_type": "code",
    "deepnote_to_be_reexecuted": false,
    "execution_millis": 23,
    "execution_start": 1688143352909,
    "source_hash": "6f450aab"
   },
   "outputs": [
    {
     "data": {
      "text/html": [
       "\n",
       "<div id=\"altair-viz-98c6b7bfbe1e4102b427bfb8f0d888cc\"></div>\n",
       "<script type=\"text/javascript\">\n",
       "  var VEGA_DEBUG = (typeof VEGA_DEBUG == \"undefined\") ? {} : VEGA_DEBUG;\n",
       "  (function(spec, embedOpt){\n",
       "    let outputDiv = document.currentScript.previousElementSibling;\n",
       "    if (outputDiv.id !== \"altair-viz-98c6b7bfbe1e4102b427bfb8f0d888cc\") {\n",
       "      outputDiv = document.getElementById(\"altair-viz-98c6b7bfbe1e4102b427bfb8f0d888cc\");\n",
       "    }\n",
       "    const paths = {\n",
       "      \"vega\": \"https://cdn.jsdelivr.net/npm//vega@5?noext\",\n",
       "      \"vega-lib\": \"https://cdn.jsdelivr.net/npm//vega-lib?noext\",\n",
       "      \"vega-lite\": \"https://cdn.jsdelivr.net/npm//vega-lite@4.17.0?noext\",\n",
       "      \"vega-embed\": \"https://cdn.jsdelivr.net/npm//vega-embed@6?noext\",\n",
       "    };\n",
       "\n",
       "    function maybeLoadScript(lib, version) {\n",
       "      var key = `${lib.replace(\"-\", \"\")}_version`;\n",
       "      return (VEGA_DEBUG[key] == version) ?\n",
       "        Promise.resolve(paths[lib]) :\n",
       "        new Promise(function(resolve, reject) {\n",
       "          var s = document.createElement('script');\n",
       "          document.getElementsByTagName(\"head\")[0].appendChild(s);\n",
       "          s.async = true;\n",
       "          s.onload = () => {\n",
       "            VEGA_DEBUG[key] = version;\n",
       "            return resolve(paths[lib]);\n",
       "          };\n",
       "          s.onerror = () => reject(`Error loading script: ${paths[lib]}`);\n",
       "          s.src = paths[lib];\n",
       "        });\n",
       "    }\n",
       "\n",
       "    function showError(err) {\n",
       "      outputDiv.innerHTML = `<div class=\"error\" style=\"color:red;\">${err}</div>`;\n",
       "      throw err;\n",
       "    }\n",
       "\n",
       "    function displayChart(vegaEmbed) {\n",
       "      vegaEmbed(outputDiv, spec, embedOpt)\n",
       "        .catch(err => showError(`Javascript Error: ${err.message}<br>This usually means there's a typo in your chart specification. See the javascript console for the full traceback.`));\n",
       "    }\n",
       "\n",
       "    if(typeof define === \"function\" && define.amd) {\n",
       "      requirejs.config({paths});\n",
       "      require([\"vega-embed\"], displayChart, err => showError(`Error loading script: ${err.message}`));\n",
       "    } else {\n",
       "      maybeLoadScript(\"vega\", \"5\")\n",
       "        .then(() => maybeLoadScript(\"vega-lite\", \"4.17.0\"))\n",
       "        .then(() => maybeLoadScript(\"vega-embed\", \"6\"))\n",
       "        .catch(showError)\n",
       "        .then(() => displayChart(vegaEmbed));\n",
       "    }\n",
       "  })({\"config\": {\"view\": {\"continuousWidth\": 400, \"continuousHeight\": 300}}, \"hconcat\": [{\"data\": {\"name\": \"data-35155a5d0eca28d2322581d2d924a33c\"}, \"mark\": \"bar\", \"encoding\": {\"tooltip\": [{\"field\": \"letter\", \"type\": \"nominal\"}, {\"field\": \"freq\", \"type\": \"quantitative\"}], \"x\": {\"field\": \"letter\", \"scale\": {\"domain\": [\"A\", \"B\", \"C\", \"D\", \"E\", \"F\", \"G\", \"H\", \"I\", \"J\", \"K\", \"L\", \"M\", \"N\", \"O\", \"P\", \"Q\", \"R\", \"S\", \"T\", \"U\", \"V\", \"W\", \"X\", \"Y\", \"Z\"]}, \"type\": \"nominal\"}, \"y\": {\"field\": \"freq\", \"type\": \"quantitative\"}}}, {\"data\": {\"name\": \"data-6d0177b0d4d2158d627c60a713c3a3ff\"}, \"mark\": \"bar\", \"encoding\": {\"tooltip\": [{\"field\": \"letter\", \"type\": \"nominal\"}, {\"field\": \"freq\", \"type\": \"quantitative\"}], \"x\": {\"field\": \"letter\", \"scale\": {\"domain\": [\"A\", \"B\", \"C\", \"D\", \"E\", \"F\", \"G\", \"H\", \"I\", \"J\", \"K\", \"L\", \"M\", \"N\", \"O\", \"P\", \"Q\", \"R\", \"S\", \"T\", \"U\", \"V\", \"W\", \"X\", \"Y\", \"Z\"]}, \"type\": \"nominal\"}, \"y\": {\"field\": \"freq\", \"type\": \"quantitative\"}}}], \"$schema\": \"https://vega.github.io/schema/vega-lite/v4.17.0.json\", \"datasets\": {\"data-35155a5d0eca28d2322581d2d924a33c\": [{\"letter\": \"A\", \"freq\": 0.0511727078891258}, {\"letter\": \"B\", \"freq\": 0.07462686567164178}, {\"letter\": \"C\", \"freq\": 0.031982942430703626}, {\"letter\": \"D\", \"freq\": 0.053304904051172705}, {\"letter\": \"E\", \"freq\": 0.04051172707889126}, {\"letter\": \"F\", \"freq\": 0.031982942430703626}, {\"letter\": \"G\", \"freq\": 0.03411513859275053}, {\"letter\": \"H\", \"freq\": 0.042643923240938165}, {\"letter\": \"I\", \"freq\": 0.02771855010660981}, {\"letter\": \"J\", \"freq\": 0.02771855010660981}, {\"letter\": \"K\", \"freq\": 0.0255863539445629}, {\"letter\": \"L\", \"freq\": 0.031982942430703626}, {\"letter\": \"M\", \"freq\": 0.05543710021321962}, {\"letter\": \"N\", \"freq\": 0.06823027718550106}, {\"letter\": \"O\", \"freq\": 0.029850746268656716}, {\"letter\": \"P\", \"freq\": 0.010660980810234541}, {\"letter\": \"Q\", \"freq\": 0.017057569296375266}, {\"letter\": \"R\", \"freq\": 0.042643923240938165}, {\"letter\": \"S\", \"freq\": 0.019189765458422176}, {\"letter\": \"T\", \"freq\": 0.031982942430703626}, {\"letter\": \"U\", \"freq\": 0.03624733475479744}, {\"letter\": \"V\", \"freq\": 0.03411513859275053}, {\"letter\": \"W\", \"freq\": 0.031982942430703626}, {\"letter\": \"X\", \"freq\": 0.07036247334754797}, {\"letter\": \"Y\", \"freq\": 0.021321961620469083}, {\"letter\": \"Z\", \"freq\": 0.057569296375266525}], \"data-6d0177b0d4d2158d627c60a713c3a3ff\": [{\"letter\": \"A\", \"freq\": 0.029850746268656716}, {\"letter\": \"B\", \"freq\": 0.04477611940298507}, {\"letter\": \"C\", \"freq\": 0.046908315565031986}, {\"letter\": \"D\", \"freq\": 0.04051172707889126}, {\"letter\": \"E\", \"freq\": 0.03411513859275053}, {\"letter\": \"F\", \"freq\": 0.031982942430703626}, {\"letter\": \"G\", \"freq\": 0.023454157782515993}, {\"letter\": \"H\", \"freq\": 0.03624733475479744}, {\"letter\": \"I\", \"freq\": 0.031982942430703626}, {\"letter\": \"J\", \"freq\": 0.04051172707889126}, {\"letter\": \"K\", \"freq\": 0.04477611940298507}, {\"letter\": \"L\", \"freq\": 0.04477611940298507}, {\"letter\": \"M\", \"freq\": 0.03624733475479744}, {\"letter\": \"N\", \"freq\": 0.03411513859275053}, {\"letter\": \"O\", \"freq\": 0.02771855010660981}, {\"letter\": \"P\", \"freq\": 0.04051172707889126}, {\"letter\": \"Q\", \"freq\": 0.042643923240938165}, {\"letter\": \"R\", \"freq\": 0.0511727078891258}, {\"letter\": \"S\", \"freq\": 0.031982942430703626}, {\"letter\": \"T\", \"freq\": 0.03837953091684435}, {\"letter\": \"U\", \"freq\": 0.04051172707889126}, {\"letter\": \"V\", \"freq\": 0.046908315565031986}, {\"letter\": \"W\", \"freq\": 0.0511727078891258}, {\"letter\": \"X\", \"freq\": 0.031982942430703626}, {\"letter\": \"Y\", \"freq\": 0.053304904051172705}, {\"letter\": \"Z\", \"freq\": 0.023454157782515993}]}}, {\"mode\": \"vega-lite\"});\n",
       "</script>"
      ],
      "text/plain": [
       "alt.HConcatChart(...)"
      ]
     },
     "execution_count": 12,
     "metadata": {},
     "output_type": "execute_result"
    }
   ],
   "source": [
    "alt.hconcat(freq_chart(Y1), freq_chart(Y2))"
   ]
  },
  {
   "cell_type": "code",
   "execution_count": 13,
   "metadata": {
    "cell_id": "8fa0b562cf1c45ffb8425529b90bbfe9",
    "deepnote_cell_type": "code",
    "deepnote_to_be_reexecuted": false,
    "execution_millis": 3,
    "execution_start": 1688143379693,
    "source_hash": "12b0261d"
   },
   "outputs": [
    {
     "data": {
      "text/html": [
       "\n",
       "<div id=\"altair-viz-ceb14c325e4d4d4a9f3e833e5c59ee81\"></div>\n",
       "<script type=\"text/javascript\">\n",
       "  var VEGA_DEBUG = (typeof VEGA_DEBUG == \"undefined\") ? {} : VEGA_DEBUG;\n",
       "  (function(spec, embedOpt){\n",
       "    let outputDiv = document.currentScript.previousElementSibling;\n",
       "    if (outputDiv.id !== \"altair-viz-ceb14c325e4d4d4a9f3e833e5c59ee81\") {\n",
       "      outputDiv = document.getElementById(\"altair-viz-ceb14c325e4d4d4a9f3e833e5c59ee81\");\n",
       "    }\n",
       "    const paths = {\n",
       "      \"vega\": \"https://cdn.jsdelivr.net/npm//vega@5?noext\",\n",
       "      \"vega-lib\": \"https://cdn.jsdelivr.net/npm//vega-lib?noext\",\n",
       "      \"vega-lite\": \"https://cdn.jsdelivr.net/npm//vega-lite@4.17.0?noext\",\n",
       "      \"vega-embed\": \"https://cdn.jsdelivr.net/npm//vega-embed@6?noext\",\n",
       "    };\n",
       "\n",
       "    function maybeLoadScript(lib, version) {\n",
       "      var key = `${lib.replace(\"-\", \"\")}_version`;\n",
       "      return (VEGA_DEBUG[key] == version) ?\n",
       "        Promise.resolve(paths[lib]) :\n",
       "        new Promise(function(resolve, reject) {\n",
       "          var s = document.createElement('script');\n",
       "          document.getElementsByTagName(\"head\")[0].appendChild(s);\n",
       "          s.async = true;\n",
       "          s.onload = () => {\n",
       "            VEGA_DEBUG[key] = version;\n",
       "            return resolve(paths[lib]);\n",
       "          };\n",
       "          s.onerror = () => reject(`Error loading script: ${paths[lib]}`);\n",
       "          s.src = paths[lib];\n",
       "        });\n",
       "    }\n",
       "\n",
       "    function showError(err) {\n",
       "      outputDiv.innerHTML = `<div class=\"error\" style=\"color:red;\">${err}</div>`;\n",
       "      throw err;\n",
       "    }\n",
       "\n",
       "    function displayChart(vegaEmbed) {\n",
       "      vegaEmbed(outputDiv, spec, embedOpt)\n",
       "        .catch(err => showError(`Javascript Error: ${err.message}<br>This usually means there's a typo in your chart specification. See the javascript console for the full traceback.`));\n",
       "    }\n",
       "\n",
       "    if(typeof define === \"function\" && define.amd) {\n",
       "      requirejs.config({paths});\n",
       "      require([\"vega-embed\"], displayChart, err => showError(`Error loading script: ${err.message}`));\n",
       "    } else {\n",
       "      maybeLoadScript(\"vega\", \"5\")\n",
       "        .then(() => maybeLoadScript(\"vega-lite\", \"4.17.0\"))\n",
       "        .then(() => maybeLoadScript(\"vega-embed\", \"6\"))\n",
       "        .catch(showError)\n",
       "        .then(() => displayChart(vegaEmbed));\n",
       "    }\n",
       "  })({\"config\": {\"view\": {\"continuousWidth\": 400, \"continuousHeight\": 300}}, \"hconcat\": [{\"data\": {\"name\": \"data-35155a5d0eca28d2322581d2d924a33c\"}, \"mark\": \"bar\", \"encoding\": {\"tooltip\": [{\"field\": \"letter\", \"type\": \"nominal\"}, {\"field\": \"freq\", \"type\": \"quantitative\"}], \"x\": {\"field\": \"letter\", \"scale\": {\"domain\": [\"A\", \"B\", \"C\", \"D\", \"E\", \"F\", \"G\", \"H\", \"I\", \"J\", \"K\", \"L\", \"M\", \"N\", \"O\", \"P\", \"Q\", \"R\", \"S\", \"T\", \"U\", \"V\", \"W\", \"X\", \"Y\", \"Z\"]}, \"type\": \"nominal\"}, \"y\": {\"field\": \"freq\", \"type\": \"quantitative\"}}}, {\"data\": {\"name\": \"data-6d0177b0d4d2158d627c60a713c3a3ff\"}, \"mark\": \"bar\", \"encoding\": {\"tooltip\": [{\"field\": \"letter\", \"type\": \"nominal\"}, {\"field\": \"freq\", \"type\": \"quantitative\"}], \"x\": {\"field\": \"letter\", \"scale\": {\"domain\": [\"A\", \"B\", \"C\", \"D\", \"E\", \"F\", \"G\", \"H\", \"I\", \"J\", \"K\", \"L\", \"M\", \"N\", \"O\", \"P\", \"Q\", \"R\", \"S\", \"T\", \"U\", \"V\", \"W\", \"X\", \"Y\", \"Z\"]}, \"type\": \"nominal\"}, \"y\": {\"field\": \"freq\", \"type\": \"quantitative\"}}}], \"resolve\": {\"scale\": {\"y\": \"shared\"}}, \"$schema\": \"https://vega.github.io/schema/vega-lite/v4.17.0.json\", \"datasets\": {\"data-35155a5d0eca28d2322581d2d924a33c\": [{\"letter\": \"A\", \"freq\": 0.0511727078891258}, {\"letter\": \"B\", \"freq\": 0.07462686567164178}, {\"letter\": \"C\", \"freq\": 0.031982942430703626}, {\"letter\": \"D\", \"freq\": 0.053304904051172705}, {\"letter\": \"E\", \"freq\": 0.04051172707889126}, {\"letter\": \"F\", \"freq\": 0.031982942430703626}, {\"letter\": \"G\", \"freq\": 0.03411513859275053}, {\"letter\": \"H\", \"freq\": 0.042643923240938165}, {\"letter\": \"I\", \"freq\": 0.02771855010660981}, {\"letter\": \"J\", \"freq\": 0.02771855010660981}, {\"letter\": \"K\", \"freq\": 0.0255863539445629}, {\"letter\": \"L\", \"freq\": 0.031982942430703626}, {\"letter\": \"M\", \"freq\": 0.05543710021321962}, {\"letter\": \"N\", \"freq\": 0.06823027718550106}, {\"letter\": \"O\", \"freq\": 0.029850746268656716}, {\"letter\": \"P\", \"freq\": 0.010660980810234541}, {\"letter\": \"Q\", \"freq\": 0.017057569296375266}, {\"letter\": \"R\", \"freq\": 0.042643923240938165}, {\"letter\": \"S\", \"freq\": 0.019189765458422176}, {\"letter\": \"T\", \"freq\": 0.031982942430703626}, {\"letter\": \"U\", \"freq\": 0.03624733475479744}, {\"letter\": \"V\", \"freq\": 0.03411513859275053}, {\"letter\": \"W\", \"freq\": 0.031982942430703626}, {\"letter\": \"X\", \"freq\": 0.07036247334754797}, {\"letter\": \"Y\", \"freq\": 0.021321961620469083}, {\"letter\": \"Z\", \"freq\": 0.057569296375266525}], \"data-6d0177b0d4d2158d627c60a713c3a3ff\": [{\"letter\": \"A\", \"freq\": 0.029850746268656716}, {\"letter\": \"B\", \"freq\": 0.04477611940298507}, {\"letter\": \"C\", \"freq\": 0.046908315565031986}, {\"letter\": \"D\", \"freq\": 0.04051172707889126}, {\"letter\": \"E\", \"freq\": 0.03411513859275053}, {\"letter\": \"F\", \"freq\": 0.031982942430703626}, {\"letter\": \"G\", \"freq\": 0.023454157782515993}, {\"letter\": \"H\", \"freq\": 0.03624733475479744}, {\"letter\": \"I\", \"freq\": 0.031982942430703626}, {\"letter\": \"J\", \"freq\": 0.04051172707889126}, {\"letter\": \"K\", \"freq\": 0.04477611940298507}, {\"letter\": \"L\", \"freq\": 0.04477611940298507}, {\"letter\": \"M\", \"freq\": 0.03624733475479744}, {\"letter\": \"N\", \"freq\": 0.03411513859275053}, {\"letter\": \"O\", \"freq\": 0.02771855010660981}, {\"letter\": \"P\", \"freq\": 0.04051172707889126}, {\"letter\": \"Q\", \"freq\": 0.042643923240938165}, {\"letter\": \"R\", \"freq\": 0.0511727078891258}, {\"letter\": \"S\", \"freq\": 0.031982942430703626}, {\"letter\": \"T\", \"freq\": 0.03837953091684435}, {\"letter\": \"U\", \"freq\": 0.04051172707889126}, {\"letter\": \"V\", \"freq\": 0.046908315565031986}, {\"letter\": \"W\", \"freq\": 0.0511727078891258}, {\"letter\": \"X\", \"freq\": 0.031982942430703626}, {\"letter\": \"Y\", \"freq\": 0.053304904051172705}, {\"letter\": \"Z\", \"freq\": 0.023454157782515993}]}}, {\"mode\": \"vega-lite\"});\n",
       "</script>"
      ],
      "text/plain": [
       "alt.HConcatChart(...)"
      ]
     },
     "execution_count": 13,
     "metadata": {},
     "output_type": "execute_result"
    }
   ],
   "source": [
    "alt.hconcat(freq_chart(Y1), freq_chart(Y2)).resolve_scale(y=\"shared\")"
   ]
  },
  {
   "cell_type": "markdown",
   "metadata": {
    "cell_id": "dac7e14d4aa44ba6825111e13cbecf85",
    "deepnote_cell_type": "markdown"
   },
   "source": [
    "* Approximately how many random repeated trigrams do we expect?\n",
    "\n",
    "Consider `\"SCN\"` from the beginning of `Y1`.  Let's look at positions 101, 102, 103.  What's the probability that letters 101, 102, 103 are S, C, N, in that order, due to random chance?"
   ]
  },
  {
   "cell_type": "code",
   "execution_count": 14,
   "metadata": {
    "cell_id": "d13183ee1965460e97b41c19489f940a",
    "deepnote_cell_type": "code",
    "deepnote_to_be_reexecuted": false,
    "execution_millis": 2,
    "execution_start": 1688143846344,
    "source_hash": "d78a168c"
   },
   "outputs": [
    {
     "data": {
      "text/plain": [
       "5.689576695493855e-05"
      ]
     },
     "execution_count": 14,
     "metadata": {},
     "output_type": "execute_result"
    }
   ],
   "source": [
    "1/26**3"
   ]
  },
  {
   "cell_type": "code",
   "execution_count": 15,
   "metadata": {
    "cell_id": "daae03c7606b4a739c899e0e3ca273a7",
    "deepnote_cell_type": "code",
    "deepnote_to_be_reexecuted": false,
    "execution_millis": 3,
    "execution_start": 1688143861602,
    "source_hash": "d448ce29"
   },
   "outputs": [
    {
     "data": {
      "text/plain": [
       "5.689576695493856e-05"
      ]
     },
     "execution_count": 15,
     "metadata": {},
     "output_type": "execute_result"
    }
   ],
   "source": [
    "pow(1/26, 3)"
   ]
  },
  {
   "cell_type": "code",
   "execution_count": 16,
   "metadata": {
    "cell_id": "364623b397f64968b29f4843353e634a",
    "deepnote_cell_type": "code",
    "deepnote_to_be_reexecuted": false,
    "execution_millis": 3,
    "execution_start": 1688143936513,
    "source_hash": "3425ab3e"
   },
   "outputs": [
    {
     "data": {
      "text/plain": [
       "562"
      ]
     },
     "execution_count": 16,
     "metadata": {},
     "output_type": "execute_result"
    }
   ],
   "source": [
    "len(Y1)"
   ]
  },
  {
   "cell_type": "code",
   "execution_count": 17,
   "metadata": {
    "cell_id": "e77586651eac419a991b18d2d6c90f30",
    "deepnote_cell_type": "code",
    "deepnote_to_be_reexecuted": false,
    "execution_millis": 2,
    "execution_start": 1688143963781,
    "source_hash": "33b29367"
   },
   "outputs": [
    {
     "data": {
      "text/plain": [
       "'SCNWBEARXADGUFTMFNRXWXQTGFZJEZNMRMALNXEODNCAXEJUEHVDWZWHGNFFZVUBVDVWWUNWFTGSOXLAZMNTLDXAXMJZHYHQPBXBMVBRFLZCKBBXRIADMKNMSCNBKNIURFDVWLHEXXFFTIRVTSDXGBRDWLXBPAXXUZARIHZLXHEDWYHQHJMBNICATSOQXRDSLATMBNBLNWBXKUZMURSCNBKZYEXKRVARXUZQHPHNRMINNBBUKZOHKZGRVXZIMUHAOXLAZMNTDDTFBMGJDMFZFRGZHOJOTHGJUEDOXXODVCYBQNCZEZILXBSVYIXZMBMAZOJEBBZJGWAJKYTBZJGBLKXLLHWUXMZNTBMVVBTUQDUEBZICBGRDPAMNAMBYEDNTGCCNEELVWMAZOCAXCDOYBBPUMRNACAXCDBVKDONEHFVABMGHYKHAGNFYNMOIIQJEBWDNJIHRNRUEDNXENSDXG'"
      ]
     },
     "execution_count": 17,
     "metadata": {},
     "output_type": "execute_result"
    }
   ],
   "source": [
    "only_letters(Y1)"
   ]
  },
  {
   "cell_type": "code",
   "execution_count": 18,
   "metadata": {
    "cell_id": "4306cb97e9ff4cc0ba4929d28387d719",
    "deepnote_cell_type": "code",
    "deepnote_to_be_reexecuted": false,
    "execution_millis": 3,
    "execution_start": 1688143973809,
    "source_hash": "ba5b999b"
   },
   "outputs": [
    {
     "data": {
      "text/plain": [
       "469"
      ]
     },
     "execution_count": 18,
     "metadata": {},
     "output_type": "execute_result"
    }
   ],
   "source": [
    "len(only_letters(Y1))"
   ]
  },
  {
   "cell_type": "markdown",
   "metadata": {
    "cell_id": "1f9e3ea0d5024fe2854ede4919da5328",
    "deepnote_cell_type": "markdown"
   },
   "source": [
    "Why is this incorrect: probability of a match is $1/26^3$, the total length is $469$, so the expected number of random repetitions should be $469/26^3$"
   ]
  },
  {
   "cell_type": "code",
   "execution_count": 19,
   "metadata": {
    "cell_id": "084c445bc3cf4851899745082e16b712",
    "deepnote_cell_type": "code",
    "deepnote_to_be_reexecuted": false,
    "execution_millis": 7,
    "execution_start": 1688144052490,
    "source_hash": "5195477b"
   },
   "outputs": [
    {
     "data": {
      "text/plain": [
       "0.02668411470186618"
      ]
     },
     "execution_count": 19,
     "metadata": {},
     "output_type": "execute_result"
    }
   ],
   "source": [
    "469/(26**3)"
   ]
  },
  {
   "cell_type": "markdown",
   "metadata": {
    "cell_id": "e7fc760b9d8e432c99fb8edee05313a2",
    "deepnote_cell_type": "markdown"
   },
   "source": [
    "**10 minute break, back at 10:05am**"
   ]
  },
  {
   "cell_type": "markdown",
   "metadata": {
    "cell_id": "8804ebedef1a474ca027e323abecf02d",
    "deepnote_cell_type": "markdown"
   },
   "source": [
    "Where did 1/26^3 come from?  A random letter is \"S\" with probability 1/26, is \"C\" with probability 1/26, ....  Because these are independent, the probability of all three happening is $(1/26) \\cdot (1/26) \\cdot (1/26)$."
   ]
  },
  {
   "cell_type": "markdown",
   "metadata": {
    "cell_id": "1ecb39add78045e5b29aaee982a7d779",
    "deepnote_cell_type": "markdown"
   },
   "source": [
    "How many pairs of slots are there where the repetition could happen (not this particular \"SCN\" repetition)?"
   ]
  },
  {
   "cell_type": "markdown",
   "metadata": {
    "cell_id": "98f31cd716eb48839db95bb5e6049efd",
    "deepnote_cell_type": "markdown"
   },
   "source": [
    "Say we had just 4 possible values, have six possible slots for repetition.  n choose 2\n",
    "(0,1), (0,2), (0,3), (1,2), (1,3), (2,3)"
   ]
  },
  {
   "cell_type": "code",
   "execution_count": 21,
   "metadata": {
    "cell_id": "62bcc70032b54c6b96d1f2d3f80892aa",
    "deepnote_cell_type": "code",
    "deepnote_to_be_reexecuted": false,
    "execution_millis": 56,
    "execution_start": 1688145305586,
    "source_hash": "bb6d0ccc"
   },
   "outputs": [
    {
     "data": {
      "text/plain": [
       "109746.0"
      ]
     },
     "execution_count": 21,
     "metadata": {},
     "output_type": "execute_result"
    }
   ],
   "source": [
    "(469*468/2)"
   ]
  },
  {
   "cell_type": "code",
   "execution_count": 23,
   "metadata": {
    "cell_id": "35b8b9f007d14d25b48e7ee6395e501f",
    "deepnote_cell_type": "code",
    "deepnote_to_be_reexecuted": false,
    "execution_millis": 3,
    "execution_start": 1688145361488,
    "source_hash": "3ffa39cf"
   },
   "outputs": [
    {
     "data": {
      "text/plain": [
       "6.244082840236686"
      ]
     },
     "execution_count": 23,
     "metadata": {},
     "output_type": "execute_result"
    }
   ],
   "source": [
    "# Rough estimate: we expect this many repetitions of trigrams due to random chance\n",
    "(469*468/2) * (1/26**3)"
   ]
  },
  {
   "cell_type": "code",
   "execution_count": 24,
   "metadata": {
    "cell_id": "d9f32f932f074c6da7aff0d9b3783a2c",
    "deepnote_cell_type": "code",
    "deepnote_to_be_reexecuted": false,
    "execution_millis": 5,
    "execution_start": 1688145421031,
    "source_hash": "edcb5a91"
   },
   "outputs": [
    {
     "data": {
      "text/plain": [
       "array([ 10,  10,  12,  15,  15,  15,  16,  23,  23,  23,  23,  24,  26,\n",
       "        29,  33,  33,  33,  42,  46,  49,  56,  56,  57,  58,  58,  65,\n",
       "        65,  66,  66,  69,  69,  69,  74,  75,  75,  77,  77,  77,  77,\n",
       "        77,  77,  77,  77,  77,  78,  80,  81,  87,  87,  89,  90,  90,\n",
       "        90, 107, 107, 107, 107, 107, 107, 112, 112, 112, 112, 112, 112,\n",
       "       119, 120, 133, 133, 134, 136, 136, 144, 147, 149, 160, 168, 170,\n",
       "       171, 171, 171, 171, 171, 171, 171, 171, 174, 179, 180, 180, 180,\n",
       "       180, 180, 180, 184, 184, 184, 184, 184, 184, 184, 184, 184, 186,\n",
       "       187, 196, 196, 197, 197, 202, 206, 210, 211, 211, 211, 211, 211,\n",
       "       211, 217, 219, 219, 219, 219, 219, 219, 226, 226, 236, 248, 252,\n",
       "       261, 261, 261, 261, 261, 261, 261, 261, 261, 266, 271, 271, 276,\n",
       "       277, 277, 287, 287, 292, 292, 317, 317, 318, 320, 320, 332, 332,\n",
       "       346, 355, 370, 374, 374, 374, 374, 377, 377, 377, 377, 377, 380,\n",
       "       396, 396, 396, 397, 397, 397, 397, 397, 397, 412, 412, 412, 425])"
      ]
     },
     "execution_count": 24,
     "metadata": {},
     "output_type": "execute_result"
    }
   ],
   "source": [
    "kasiski_diffs(Y0)"
   ]
  },
  {
   "cell_type": "code",
   "execution_count": 25,
   "metadata": {
    "cell_id": "3d404cda50654a97b2325bee6331383a",
    "deepnote_cell_type": "code",
    "deepnote_to_be_reexecuted": false,
    "execution_millis": 5,
    "execution_start": 1688145447725,
    "source_hash": "a553cf0f"
   },
   "outputs": [
    {
     "data": {
      "text/plain": [
       "182"
      ]
     },
     "execution_count": 25,
     "metadata": {},
     "output_type": "execute_result"
    }
   ],
   "source": [
    "# how many repetitions of trigrams in `Y0`\n",
    "len(kasiski_diffs(Y0))"
   ]
  },
  {
   "cell_type": "code",
   "execution_count": 27,
   "metadata": {
    "cell_id": "8666b7ff079b4579b4a3975fe3635db3",
    "deepnote_cell_type": "code",
    "deepnote_to_be_reexecuted": false,
    "execution_millis": 2,
    "execution_start": 1688145605032,
    "source_hash": "150c8ed0"
   },
   "outputs": [
    {
     "data": {
      "text/plain": [
       "6"
      ]
     },
     "execution_count": 27,
     "metadata": {},
     "output_type": "execute_result"
    }
   ],
   "source": [
    "# how many repetitions of trigrams in `Y2`\n",
    "# This is very close to the amount we would expect due to random chance\n",
    "len(kasiski_diffs(Y2))"
   ]
  },
  {
   "cell_type": "code",
   "execution_count": 28,
   "metadata": {
    "cell_id": "e938494e897e41c0b4aab62845eeab51",
    "deepnote_cell_type": "code",
    "deepnote_to_be_reexecuted": false,
    "execution_millis": 1,
    "execution_start": 1688145622169,
    "source_hash": "765b911b"
   },
   "outputs": [
    {
     "data": {
      "text/plain": [
       "array([  4,  18, 206, 284, 306, 454])"
      ]
     },
     "execution_count": 28,
     "metadata": {},
     "output_type": "execute_result"
    }
   ],
   "source": [
    "# None of these are divisible by the key length of 201\n",
    "kasiski_diffs(Y2)"
   ]
  },
  {
   "cell_type": "code",
   "execution_count": 29,
   "metadata": {
    "cell_id": "611a0f48624e4a93bbf8d01e388f72de",
    "deepnote_cell_type": "code",
    "deepnote_to_be_reexecuted": false,
    "execution_millis": 2,
    "execution_start": 1688145678142,
    "source_hash": "51fdd436"
   },
   "outputs": [
    {
     "data": {
      "text/plain": [
       "37"
      ]
     },
     "execution_count": 29,
     "metadata": {},
     "output_type": "execute_result"
    }
   ],
   "source": [
    "len(kasiski_diffs(Y1))"
   ]
  },
  {
   "cell_type": "code",
   "execution_count": 30,
   "metadata": {
    "cell_id": "6e027ff24b1c4637b6e19060112da76c",
    "deepnote_cell_type": "code",
    "deepnote_to_be_reexecuted": false,
    "execution_millis": 2,
    "execution_start": 1688145701872,
    "source_hash": "85ff91a9"
   },
   "outputs": [
    {
     "data": {
      "text/plain": [
       "array([ 10,  10,  15,  15,  15,  17,  65,  65,  75,  75,  79,  80,  90,\n",
       "        90,  90, 120, 124, 154, 160, 170, 180, 180, 180, 180, 180, 180,\n",
       "       198, 210, 216, 241, 254, 320, 320, 355, 370, 380, 425])"
      ]
     },
     "execution_count": 30,
     "metadata": {},
     "output_type": "execute_result"
    }
   ],
   "source": [
    "# Notice many of these are divisible by the key length of 5\n",
    "kasiski_diffs(Y1)"
   ]
  },
  {
   "cell_type": "code",
   "execution_count": 31,
   "metadata": {
    "cell_id": "65cb6e24634b4ef080e35b6f418613a4",
    "deepnote_cell_type": "code",
    "deepnote_to_be_reexecuted": false,
    "execution_millis": 2,
    "execution_start": 1688145759273,
    "source_hash": "7c273ab"
   },
   "outputs": [
    {
     "data": {
      "text/plain": [
       "0"
      ]
     },
     "execution_count": 31,
     "metadata": {},
     "output_type": "execute_result"
    }
   ],
   "source": [
    "15%5"
   ]
  },
  {
   "cell_type": "code",
   "execution_count": 32,
   "metadata": {
    "cell_id": "bba581395be043e18153d9266711b709",
    "deepnote_cell_type": "code",
    "deepnote_to_be_reexecuted": false,
    "execution_millis": 4,
    "execution_start": 1688145768545,
    "source_hash": "78e68c2e"
   },
   "outputs": [
    {
     "data": {
      "text/plain": [
       "2"
      ]
     },
     "execution_count": 32,
     "metadata": {},
     "output_type": "execute_result"
    }
   ],
   "source": [
    "17%5"
   ]
  },
  {
   "cell_type": "code",
   "execution_count": 34,
   "metadata": {
    "cell_id": "eeea44c54e6e4e2b9b30615511c8b690",
    "deepnote_cell_type": "code",
    "deepnote_to_be_reexecuted": false,
    "execution_millis": 4,
    "execution_start": 1688145988059,
    "source_hash": "b630128b"
   },
   "outputs": [
    {
     "name": "stdout",
     "output_type": "stream",
     "text": [
      "0.7837837837837838\n"
     ]
    }
   ],
   "source": [
    "# how many divisible by 5?\n",
    "guessed_length = 5\n",
    "arr = kasiski_diffs(Y1)\n",
    "\n",
    "t = len(arr)\n",
    "s = 0 # How many divisible by guessed_length?\n",
    "\n",
    "for x in arr:\n",
    "    if x%guessed_length == 0: # if x is div by guessed_length\n",
    "        s = s + 1\n",
    "\n",
    "print(s/t) # if this is a function, use `return`, not `print`"
   ]
  },
  {
   "cell_type": "code",
   "execution_count": 35,
   "metadata": {
    "cell_id": "a3351c3c86be4379baa9e2a634000c1f",
    "deepnote_cell_type": "code",
    "deepnote_to_be_reexecuted": false,
    "execution_millis": 4,
    "execution_start": 1688146008843,
    "source_hash": "e8ff93a2"
   },
   "outputs": [
    {
     "name": "stdout",
     "output_type": "stream",
     "text": [
      "0.05405405405405406\n"
     ]
    }
   ],
   "source": [
    "# how many divisible by 7?\n",
    "guessed_length = 7\n",
    "arr = kasiski_diffs(Y1)\n",
    "\n",
    "t = len(arr)\n",
    "s = 0 # How many divisible by guessed_length?\n",
    "\n",
    "for x in arr:\n",
    "    if x%guessed_length == 0: # if x is div by guessed_length\n",
    "        s = s + 1\n",
    "\n",
    "print(s/t) # if this is a function, use `return`, not `print`"
   ]
  },
  {
   "cell_type": "markdown",
   "metadata": {
    "cell_id": "cff96a0e493c4ddbac58552fb4d647b7",
    "deepnote_cell_type": "markdown"
   },
   "source": [
    "Looking for the highest proportion works better for 7-11 than it would for 6-12.  Why?  Every number divisible by 12 is automatically divisible by 6.  So this method would not quite work if the key length were 12 and we tested for divisibility by 6."
   ]
  },
  {
   "cell_type": "code",
   "execution_count": 36,
   "metadata": {
    "cell_id": "38ac99f857b24cff9c9dd38a0064da89",
    "deepnote_cell_type": "code",
    "deepnote_to_be_reexecuted": false,
    "execution_millis": 6,
    "execution_start": 1688146713163,
    "source_hash": "3f649b90"
   },
   "outputs": [
    {
     "data": {
      "text/plain": [
       "'SCNWB EARXA DGUFT MFNRX WXQTG FZJEZ NMRMA LNXEO DNCAX EJUEH\\nVDWZW HGNFF ZVUBV DVWWU NWFTG SOXLA ZMNTL DXAXM JZHYH QPBXB\\nMVBRF LZCKB BXRIA DMKNM SCNBK NIURF DVWLH EXXFF TIRVT SDXGB\\nRDWLX BPAXX UZARI HZLXH EDWYH QHJMB NICAT SOQXR DSLAT MBNBL\\nNWBXK UZMUR SCNBK ZYEXK RVARX UZQHP HNRMI NNBBU KZOHK ZGRVX\\nZIMUH AOXLA ZMNTD DTFBM GJDMF ZFRGZ HOJOT HGJUE DOXXO DVCYB\\nQNCZE ZILXB SVYIX ZMBMA ZOJEB BZJGW AJKYT BZJGB LKXLL HWUXM\\nZNTBM VVBTU QDUEB ZICBG RDPAM NAMBY EDNTG CCNEE LVWMA ZOCAX\\nCDOYB BPUMR NACAX CDBVK DONEH FVABM GHYKH AGNFY NMOII QJEBW\\nDNJIH RNRUE DNXEN SDXG'"
      ]
     },
     "execution_count": 36,
     "metadata": {},
     "output_type": "execute_result"
    }
   ],
   "source": [
    "Y1"
   ]
  },
  {
   "cell_type": "code",
   "execution_count": 37,
   "metadata": {
    "cell_id": "7dc36c6dfd37404ba553e281e63d0519",
    "deepnote_cell_type": "code",
    "deepnote_to_be_reexecuted": false,
    "execution_millis": 3,
    "execution_start": 1688146725837,
    "source_hash": "85435434"
   },
   "outputs": [],
   "source": [
    "Y = only_letters(Y1)"
   ]
  },
  {
   "cell_type": "code",
   "execution_count": 41,
   "metadata": {
    "cell_id": "7c19d5c464024b0886f4ee7be0856afa",
    "deepnote_cell_type": "code",
    "deepnote_to_be_reexecuted": false,
    "execution_millis": 3,
    "execution_start": 1688147002217,
    "source_hash": "c1756f36"
   },
   "outputs": [
    {
     "data": {
      "text/plain": [
       "'SCNWBEARXADGUFTMFNRX'"
      ]
     },
     "execution_count": 41,
     "metadata": {},
     "output_type": "execute_result"
    }
   ],
   "source": [
    "Y[:20]"
   ]
  },
  {
   "cell_type": "code",
   "execution_count": 38,
   "metadata": {
    "cell_id": "1337c3afc41540e1af7b763509287651",
    "deepnote_cell_type": "code",
    "deepnote_to_be_reexecuted": false,
    "execution_millis": 2,
    "execution_start": 1688146743713,
    "source_hash": "28edf38b"
   },
   "outputs": [
    {
     "data": {
      "text/plain": [
       "'SAURGNNCEWZVFLLJPBKASIWFTRPAXHNOLBKSYAHIKGMLDGFJUOQIYMBAZXXMQIPBGLOOMXDVYFIDNXG'"
      ]
     },
     "execution_count": 38,
     "metadata": {},
     "output_type": "execute_result"
    }
   ],
   "source": [
    "Y[0::6]"
   ]
  },
  {
   "cell_type": "code",
   "execution_count": 44,
   "metadata": {
    "cell_id": "d70d972d651e4a7dadaab946fc27e0d8",
    "deepnote_cell_type": "code",
    "deepnote_to_be_reexecuted": false,
    "execution_millis": 4,
    "execution_start": 1688147117145,
    "source_hash": "397d2980"
   },
   "outputs": [
    {
     "data": {
      "text/plain": [
       "'CRFXFMXAHHVWTADZBRBDCULFSDARHQIQALUCERPNZRUADJROEDNLIABJJLMVDCAYCVCYRCOAKYQNRE'"
      ]
     },
     "execution_count": 44,
     "metadata": {},
     "output_type": "execute_result"
    }
   ],
   "source": [
    "# Chars at position 1 mod 6\n",
    "# Y[1], Y[7], Y[13], Y[19], ..\n",
    "Y[1::6]"
   ]
  },
  {
   "cell_type": "code",
   "execution_count": 45,
   "metadata": {
    "cell_id": "07a3eb3360594507a4a837ebacf7aefa",
    "deepnote_cell_type": "code",
    "deepnote_to_be_reexecuted": false,
    "execution_millis": 57,
    "execution_start": 1688147120639,
    "source_hash": "c6e745e9"
   },
   "outputs": [
    {
     "name": "stdout",
     "output_type": "stream",
     "text": [
      "C R F X\n"
     ]
    }
   ],
   "source": [
    "print(Y[1], Y[7], Y[13], Y[19])"
   ]
  },
  {
   "cell_type": "code",
   "execution_count": 39,
   "metadata": {
    "cell_id": "9942d4dcd5b548d28a4bbbfbb2e4da46",
    "deepnote_cell_type": "code",
    "deepnote_to_be_reexecuted": false,
    "execution_millis": 13,
    "execution_start": 1688146754911,
    "source_hash": "adc0ccb0"
   },
   "outputs": [
    {
     "data": {
      "text/html": [
       "\n",
       "<div id=\"altair-viz-672471dc9b6d499a9d378e0b0a7383de\"></div>\n",
       "<script type=\"text/javascript\">\n",
       "  var VEGA_DEBUG = (typeof VEGA_DEBUG == \"undefined\") ? {} : VEGA_DEBUG;\n",
       "  (function(spec, embedOpt){\n",
       "    let outputDiv = document.currentScript.previousElementSibling;\n",
       "    if (outputDiv.id !== \"altair-viz-672471dc9b6d499a9d378e0b0a7383de\") {\n",
       "      outputDiv = document.getElementById(\"altair-viz-672471dc9b6d499a9d378e0b0a7383de\");\n",
       "    }\n",
       "    const paths = {\n",
       "      \"vega\": \"https://cdn.jsdelivr.net/npm//vega@5?noext\",\n",
       "      \"vega-lib\": \"https://cdn.jsdelivr.net/npm//vega-lib?noext\",\n",
       "      \"vega-lite\": \"https://cdn.jsdelivr.net/npm//vega-lite@4.17.0?noext\",\n",
       "      \"vega-embed\": \"https://cdn.jsdelivr.net/npm//vega-embed@6?noext\",\n",
       "    };\n",
       "\n",
       "    function maybeLoadScript(lib, version) {\n",
       "      var key = `${lib.replace(\"-\", \"\")}_version`;\n",
       "      return (VEGA_DEBUG[key] == version) ?\n",
       "        Promise.resolve(paths[lib]) :\n",
       "        new Promise(function(resolve, reject) {\n",
       "          var s = document.createElement('script');\n",
       "          document.getElementsByTagName(\"head\")[0].appendChild(s);\n",
       "          s.async = true;\n",
       "          s.onload = () => {\n",
       "            VEGA_DEBUG[key] = version;\n",
       "            return resolve(paths[lib]);\n",
       "          };\n",
       "          s.onerror = () => reject(`Error loading script: ${paths[lib]}`);\n",
       "          s.src = paths[lib];\n",
       "        });\n",
       "    }\n",
       "\n",
       "    function showError(err) {\n",
       "      outputDiv.innerHTML = `<div class=\"error\" style=\"color:red;\">${err}</div>`;\n",
       "      throw err;\n",
       "    }\n",
       "\n",
       "    function displayChart(vegaEmbed) {\n",
       "      vegaEmbed(outputDiv, spec, embedOpt)\n",
       "        .catch(err => showError(`Javascript Error: ${err.message}<br>This usually means there's a typo in your chart specification. See the javascript console for the full traceback.`));\n",
       "    }\n",
       "\n",
       "    if(typeof define === \"function\" && define.amd) {\n",
       "      requirejs.config({paths});\n",
       "      require([\"vega-embed\"], displayChart, err => showError(`Error loading script: ${err.message}`));\n",
       "    } else {\n",
       "      maybeLoadScript(\"vega\", \"5\")\n",
       "        .then(() => maybeLoadScript(\"vega-lite\", \"4.17.0\"))\n",
       "        .then(() => maybeLoadScript(\"vega-embed\", \"6\"))\n",
       "        .catch(showError)\n",
       "        .then(() => displayChart(vegaEmbed));\n",
       "    }\n",
       "  })({\"config\": {\"view\": {\"continuousWidth\": 400, \"continuousHeight\": 300}}, \"data\": {\"name\": \"data-b6883961972237d91a09f4b545be4e9a\"}, \"mark\": \"bar\", \"encoding\": {\"tooltip\": [{\"field\": \"letter\", \"type\": \"nominal\"}, {\"field\": \"freq\", \"type\": \"quantitative\"}], \"x\": {\"field\": \"letter\", \"scale\": {\"domain\": [\"A\", \"B\", \"C\", \"D\", \"E\", \"F\", \"G\", \"H\", \"I\", \"J\", \"K\", \"L\", \"M\", \"N\", \"O\", \"P\", \"Q\", \"R\", \"S\", \"T\", \"U\", \"V\", \"W\", \"X\", \"Y\", \"Z\"]}, \"type\": \"nominal\"}, \"y\": {\"field\": \"freq\", \"type\": \"quantitative\"}}, \"$schema\": \"https://vega.github.io/schema/vega-lite/v4.17.0.json\", \"datasets\": {\"data-b6883961972237d91a09f4b545be4e9a\": [{\"letter\": \"A\", \"freq\": 0.06329113924050633}, {\"letter\": \"B\", \"freq\": 0.05063291139240506}, {\"letter\": \"C\", \"freq\": 0.012658227848101266}, {\"letter\": \"D\", \"freq\": 0.0379746835443038}, {\"letter\": \"E\", \"freq\": 0.012658227848101266}, {\"letter\": \"F\", \"freq\": 0.05063291139240506}, {\"letter\": \"G\", \"freq\": 0.06329113924050633}, {\"letter\": \"H\", \"freq\": 0.02531645569620253}, {\"letter\": \"I\", \"freq\": 0.06329113924050633}, {\"letter\": \"J\", \"freq\": 0.02531645569620253}, {\"letter\": \"K\", \"freq\": 0.0379746835443038}, {\"letter\": \"L\", \"freq\": 0.06329113924050633}, {\"letter\": \"M\", \"freq\": 0.05063291139240506}, {\"letter\": \"N\", \"freq\": 0.05063291139240506}, {\"letter\": \"O\", \"freq\": 0.05063291139240506}, {\"letter\": \"P\", \"freq\": 0.0379746835443038}, {\"letter\": \"Q\", \"freq\": 0.02531645569620253}, {\"letter\": \"R\", \"freq\": 0.02531645569620253}, {\"letter\": \"S\", \"freq\": 0.0379746835443038}, {\"letter\": \"T\", \"freq\": 0.012658227848101266}, {\"letter\": \"U\", \"freq\": 0.02531645569620253}, {\"letter\": \"V\", \"freq\": 0.02531645569620253}, {\"letter\": \"W\", \"freq\": 0.02531645569620253}, {\"letter\": \"X\", \"freq\": 0.06329113924050633}, {\"letter\": \"Y\", \"freq\": 0.0379746835443038}, {\"letter\": \"Z\", \"freq\": 0.02531645569620253}]}}, {\"mode\": \"vega-lite\"});\n",
       "</script>"
      ],
      "text/plain": [
       "alt.Chart(...)"
      ]
     },
     "execution_count": 39,
     "metadata": {},
     "output_type": "execute_result"
    }
   ],
   "source": [
    "freq_chart(Y[0::6])"
   ]
  },
  {
   "cell_type": "code",
   "execution_count": 46,
   "metadata": {
    "cell_id": "7327ab96cf34457f8c0e10188960146f",
    "deepnote_cell_type": "code",
    "deepnote_to_be_reexecuted": false,
    "execution_millis": 2,
    "execution_start": 1688147147724,
    "source_hash": "246a2d34"
   },
   "outputs": [
    {
     "data": {
      "text/html": [
       "\n",
       "<div id=\"altair-viz-298050ffdb2044aeb9e74f7bdb837d68\"></div>\n",
       "<script type=\"text/javascript\">\n",
       "  var VEGA_DEBUG = (typeof VEGA_DEBUG == \"undefined\") ? {} : VEGA_DEBUG;\n",
       "  (function(spec, embedOpt){\n",
       "    let outputDiv = document.currentScript.previousElementSibling;\n",
       "    if (outputDiv.id !== \"altair-viz-298050ffdb2044aeb9e74f7bdb837d68\") {\n",
       "      outputDiv = document.getElementById(\"altair-viz-298050ffdb2044aeb9e74f7bdb837d68\");\n",
       "    }\n",
       "    const paths = {\n",
       "      \"vega\": \"https://cdn.jsdelivr.net/npm//vega@5?noext\",\n",
       "      \"vega-lib\": \"https://cdn.jsdelivr.net/npm//vega-lib?noext\",\n",
       "      \"vega-lite\": \"https://cdn.jsdelivr.net/npm//vega-lite@4.17.0?noext\",\n",
       "      \"vega-embed\": \"https://cdn.jsdelivr.net/npm//vega-embed@6?noext\",\n",
       "    };\n",
       "\n",
       "    function maybeLoadScript(lib, version) {\n",
       "      var key = `${lib.replace(\"-\", \"\")}_version`;\n",
       "      return (VEGA_DEBUG[key] == version) ?\n",
       "        Promise.resolve(paths[lib]) :\n",
       "        new Promise(function(resolve, reject) {\n",
       "          var s = document.createElement('script');\n",
       "          document.getElementsByTagName(\"head\")[0].appendChild(s);\n",
       "          s.async = true;\n",
       "          s.onload = () => {\n",
       "            VEGA_DEBUG[key] = version;\n",
       "            return resolve(paths[lib]);\n",
       "          };\n",
       "          s.onerror = () => reject(`Error loading script: ${paths[lib]}`);\n",
       "          s.src = paths[lib];\n",
       "        });\n",
       "    }\n",
       "\n",
       "    function showError(err) {\n",
       "      outputDiv.innerHTML = `<div class=\"error\" style=\"color:red;\">${err}</div>`;\n",
       "      throw err;\n",
       "    }\n",
       "\n",
       "    function displayChart(vegaEmbed) {\n",
       "      vegaEmbed(outputDiv, spec, embedOpt)\n",
       "        .catch(err => showError(`Javascript Error: ${err.message}<br>This usually means there's a typo in your chart specification. See the javascript console for the full traceback.`));\n",
       "    }\n",
       "\n",
       "    if(typeof define === \"function\" && define.amd) {\n",
       "      requirejs.config({paths});\n",
       "      require([\"vega-embed\"], displayChart, err => showError(`Error loading script: ${err.message}`));\n",
       "    } else {\n",
       "      maybeLoadScript(\"vega\", \"5\")\n",
       "        .then(() => maybeLoadScript(\"vega-lite\", \"4.17.0\"))\n",
       "        .then(() => maybeLoadScript(\"vega-embed\", \"6\"))\n",
       "        .catch(showError)\n",
       "        .then(() => displayChart(vegaEmbed));\n",
       "    }\n",
       "  })({\"config\": {\"view\": {\"continuousWidth\": 400, \"continuousHeight\": 300}}, \"data\": {\"name\": \"data-f960a1c1455f653927bb84aa06ee81ee\"}, \"mark\": \"bar\", \"encoding\": {\"tooltip\": [{\"field\": \"letter\", \"type\": \"nominal\"}, {\"field\": \"freq\", \"type\": \"quantitative\"}], \"x\": {\"field\": \"letter\", \"scale\": {\"domain\": [\"A\", \"B\", \"C\", \"D\", \"E\", \"F\", \"G\", \"H\", \"I\", \"J\", \"K\", \"L\", \"M\", \"N\", \"O\", \"P\", \"Q\", \"R\", \"S\", \"T\", \"U\", \"V\", \"W\", \"X\", \"Y\", \"Z\"]}, \"type\": \"nominal\"}, \"y\": {\"field\": \"freq\", \"type\": \"quantitative\"}}, \"$schema\": \"https://vega.github.io/schema/vega-lite/v4.17.0.json\", \"datasets\": {\"data-f960a1c1455f653927bb84aa06ee81ee\": [{\"letter\": \"A\", \"freq\": 0.10256410256410256}, {\"letter\": \"B\", \"freq\": 0.038461538461538464}, {\"letter\": \"C\", \"freq\": 0.08974358974358974}, {\"letter\": \"D\", \"freq\": 0.07692307692307693}, {\"letter\": \"E\", \"freq\": 0.038461538461538464}, {\"letter\": \"F\", \"freq\": 0.038461538461538464}, {\"letter\": \"G\", \"freq\": 0.0}, {\"letter\": \"H\", \"freq\": 0.038461538461538464}, {\"letter\": \"I\", \"freq\": 0.02564102564102564}, {\"letter\": \"J\", \"freq\": 0.038461538461538464}, {\"letter\": \"K\", \"freq\": 0.01282051282051282}, {\"letter\": \"L\", \"freq\": 0.05128205128205128}, {\"letter\": \"M\", \"freq\": 0.02564102564102564}, {\"letter\": \"N\", \"freq\": 0.038461538461538464}, {\"letter\": \"O\", \"freq\": 0.02564102564102564}, {\"letter\": \"P\", \"freq\": 0.01282051282051282}, {\"letter\": \"Q\", \"freq\": 0.038461538461538464}, {\"letter\": \"R\", \"freq\": 0.10256410256410256}, {\"letter\": \"S\", \"freq\": 0.01282051282051282}, {\"letter\": \"T\", \"freq\": 0.01282051282051282}, {\"letter\": \"U\", \"freq\": 0.038461538461538464}, {\"letter\": \"V\", \"freq\": 0.038461538461538464}, {\"letter\": \"W\", \"freq\": 0.01282051282051282}, {\"letter\": \"X\", \"freq\": 0.02564102564102564}, {\"letter\": \"Y\", \"freq\": 0.038461538461538464}, {\"letter\": \"Z\", \"freq\": 0.02564102564102564}]}}, {\"mode\": \"vega-lite\"});\n",
       "</script>"
      ],
      "text/plain": [
       "alt.Chart(...)"
      ]
     },
     "execution_count": 46,
     "metadata": {},
     "output_type": "execute_result"
    }
   ],
   "source": [
    "freq_chart(Y[1::6])"
   ]
  },
  {
   "cell_type": "code",
   "execution_count": 40,
   "metadata": {
    "cell_id": "24ea4250d3ce4a4ba398d51ff10cab29",
    "deepnote_cell_type": "code",
    "deepnote_to_be_reexecuted": false,
    "execution_millis": 4,
    "execution_start": 1688146767526,
    "source_hash": "7129efb7"
   },
   "outputs": [
    {
     "data": {
      "text/html": [
       "\n",
       "<div id=\"altair-viz-4a293897270445a7b9cf065381e81990\"></div>\n",
       "<script type=\"text/javascript\">\n",
       "  var VEGA_DEBUG = (typeof VEGA_DEBUG == \"undefined\") ? {} : VEGA_DEBUG;\n",
       "  (function(spec, embedOpt){\n",
       "    let outputDiv = document.currentScript.previousElementSibling;\n",
       "    if (outputDiv.id !== \"altair-viz-4a293897270445a7b9cf065381e81990\") {\n",
       "      outputDiv = document.getElementById(\"altair-viz-4a293897270445a7b9cf065381e81990\");\n",
       "    }\n",
       "    const paths = {\n",
       "      \"vega\": \"https://cdn.jsdelivr.net/npm//vega@5?noext\",\n",
       "      \"vega-lib\": \"https://cdn.jsdelivr.net/npm//vega-lib?noext\",\n",
       "      \"vega-lite\": \"https://cdn.jsdelivr.net/npm//vega-lite@4.17.0?noext\",\n",
       "      \"vega-embed\": \"https://cdn.jsdelivr.net/npm//vega-embed@6?noext\",\n",
       "    };\n",
       "\n",
       "    function maybeLoadScript(lib, version) {\n",
       "      var key = `${lib.replace(\"-\", \"\")}_version`;\n",
       "      return (VEGA_DEBUG[key] == version) ?\n",
       "        Promise.resolve(paths[lib]) :\n",
       "        new Promise(function(resolve, reject) {\n",
       "          var s = document.createElement('script');\n",
       "          document.getElementsByTagName(\"head\")[0].appendChild(s);\n",
       "          s.async = true;\n",
       "          s.onload = () => {\n",
       "            VEGA_DEBUG[key] = version;\n",
       "            return resolve(paths[lib]);\n",
       "          };\n",
       "          s.onerror = () => reject(`Error loading script: ${paths[lib]}`);\n",
       "          s.src = paths[lib];\n",
       "        });\n",
       "    }\n",
       "\n",
       "    function showError(err) {\n",
       "      outputDiv.innerHTML = `<div class=\"error\" style=\"color:red;\">${err}</div>`;\n",
       "      throw err;\n",
       "    }\n",
       "\n",
       "    function displayChart(vegaEmbed) {\n",
       "      vegaEmbed(outputDiv, spec, embedOpt)\n",
       "        .catch(err => showError(`Javascript Error: ${err.message}<br>This usually means there's a typo in your chart specification. See the javascript console for the full traceback.`));\n",
       "    }\n",
       "\n",
       "    if(typeof define === \"function\" && define.amd) {\n",
       "      requirejs.config({paths});\n",
       "      require([\"vega-embed\"], displayChart, err => showError(`Error loading script: ${err.message}`));\n",
       "    } else {\n",
       "      maybeLoadScript(\"vega\", \"5\")\n",
       "        .then(() => maybeLoadScript(\"vega-lite\", \"4.17.0\"))\n",
       "        .then(() => maybeLoadScript(\"vega-embed\", \"6\"))\n",
       "        .catch(showError)\n",
       "        .then(() => displayChart(vegaEmbed));\n",
       "    }\n",
       "  })({\"config\": {\"view\": {\"continuousWidth\": 400, \"continuousHeight\": 300}}, \"data\": {\"name\": \"data-a24da9d372a6fb6c17c166b1ae2c1622\"}, \"mark\": \"bar\", \"encoding\": {\"tooltip\": [{\"field\": \"letter\", \"type\": \"nominal\"}, {\"field\": \"freq\", \"type\": \"quantitative\"}], \"x\": {\"field\": \"letter\", \"scale\": {\"domain\": [\"A\", \"B\", \"C\", \"D\", \"E\", \"F\", \"G\", \"H\", \"I\", \"J\", \"K\", \"L\", \"M\", \"N\", \"O\", \"P\", \"Q\", \"R\", \"S\", \"T\", \"U\", \"V\", \"W\", \"X\", \"Y\", \"Z\"]}, \"type\": \"nominal\"}, \"y\": {\"field\": \"freq\", \"type\": \"quantitative\"}}, \"$schema\": \"https://vega.github.io/schema/vega-lite/v4.17.0.json\", \"datasets\": {\"data-a24da9d372a6fb6c17c166b1ae2c1622\": [{\"letter\": \"A\", \"freq\": 0.031914893617021274}, {\"letter\": \"B\", \"freq\": 0.05319148936170213}, {\"letter\": \"C\", \"freq\": 0.031914893617021274}, {\"letter\": \"D\", \"freq\": 0.13829787234042554}, {\"letter\": \"E\", \"freq\": 0.05319148936170213}, {\"letter\": \"F\", \"freq\": 0.02127659574468085}, {\"letter\": \"G\", \"freq\": 0.02127659574468085}, {\"letter\": \"H\", \"freq\": 0.06382978723404255}, {\"letter\": \"I\", \"freq\": 0.0}, {\"letter\": \"J\", \"freq\": 0.010638297872340425}, {\"letter\": \"K\", \"freq\": 0.010638297872340425}, {\"letter\": \"L\", \"freq\": 0.0425531914893617}, {\"letter\": \"M\", \"freq\": 0.031914893617021274}, {\"letter\": \"N\", \"freq\": 0.09574468085106383}, {\"letter\": \"O\", \"freq\": 0.0}, {\"letter\": \"P\", \"freq\": 0.0}, {\"letter\": \"Q\", \"freq\": 0.05319148936170213}, {\"letter\": \"R\", \"freq\": 0.0425531914893617}, {\"letter\": \"S\", \"freq\": 0.0851063829787234}, {\"letter\": \"T\", \"freq\": 0.010638297872340425}, {\"letter\": \"U\", \"freq\": 0.031914893617021274}, {\"letter\": \"V\", \"freq\": 0.02127659574468085}, {\"letter\": \"W\", \"freq\": 0.010638297872340425}, {\"letter\": \"X\", \"freq\": 0.0}, {\"letter\": \"Y\", \"freq\": 0.0}, {\"letter\": \"Z\", \"freq\": 0.13829787234042554}]}}, {\"mode\": \"vega-lite\"});\n",
       "</script>"
      ],
      "text/plain": [
       "alt.Chart(...)"
      ]
     },
     "execution_count": 40,
     "metadata": {},
     "output_type": "execute_result"
    }
   ],
   "source": [
    "freq_chart(Y[0::5])"
   ]
  },
  {
   "cell_type": "code",
   "execution_count": 47,
   "metadata": {
    "cell_id": "b5d5e98da7164c5b8f8548bb0405613d",
    "deepnote_cell_type": "code",
    "deepnote_to_be_reexecuted": false,
    "execution_millis": 8,
    "execution_start": 1688147183231,
    "source_hash": "db2b5029"
   },
   "outputs": [
    {
     "data": {
      "text/html": [
       "\n",
       "<div id=\"altair-viz-55e54d8e534a42b988adb5c166380741\"></div>\n",
       "<script type=\"text/javascript\">\n",
       "  var VEGA_DEBUG = (typeof VEGA_DEBUG == \"undefined\") ? {} : VEGA_DEBUG;\n",
       "  (function(spec, embedOpt){\n",
       "    let outputDiv = document.currentScript.previousElementSibling;\n",
       "    if (outputDiv.id !== \"altair-viz-55e54d8e534a42b988adb5c166380741\") {\n",
       "      outputDiv = document.getElementById(\"altair-viz-55e54d8e534a42b988adb5c166380741\");\n",
       "    }\n",
       "    const paths = {\n",
       "      \"vega\": \"https://cdn.jsdelivr.net/npm//vega@5?noext\",\n",
       "      \"vega-lib\": \"https://cdn.jsdelivr.net/npm//vega-lib?noext\",\n",
       "      \"vega-lite\": \"https://cdn.jsdelivr.net/npm//vega-lite@4.17.0?noext\",\n",
       "      \"vega-embed\": \"https://cdn.jsdelivr.net/npm//vega-embed@6?noext\",\n",
       "    };\n",
       "\n",
       "    function maybeLoadScript(lib, version) {\n",
       "      var key = `${lib.replace(\"-\", \"\")}_version`;\n",
       "      return (VEGA_DEBUG[key] == version) ?\n",
       "        Promise.resolve(paths[lib]) :\n",
       "        new Promise(function(resolve, reject) {\n",
       "          var s = document.createElement('script');\n",
       "          document.getElementsByTagName(\"head\")[0].appendChild(s);\n",
       "          s.async = true;\n",
       "          s.onload = () => {\n",
       "            VEGA_DEBUG[key] = version;\n",
       "            return resolve(paths[lib]);\n",
       "          };\n",
       "          s.onerror = () => reject(`Error loading script: ${paths[lib]}`);\n",
       "          s.src = paths[lib];\n",
       "        });\n",
       "    }\n",
       "\n",
       "    function showError(err) {\n",
       "      outputDiv.innerHTML = `<div class=\"error\" style=\"color:red;\">${err}</div>`;\n",
       "      throw err;\n",
       "    }\n",
       "\n",
       "    function displayChart(vegaEmbed) {\n",
       "      vegaEmbed(outputDiv, spec, embedOpt)\n",
       "        .catch(err => showError(`Javascript Error: ${err.message}<br>This usually means there's a typo in your chart specification. See the javascript console for the full traceback.`));\n",
       "    }\n",
       "\n",
       "    if(typeof define === \"function\" && define.amd) {\n",
       "      requirejs.config({paths});\n",
       "      require([\"vega-embed\"], displayChart, err => showError(`Error loading script: ${err.message}`));\n",
       "    } else {\n",
       "      maybeLoadScript(\"vega\", \"5\")\n",
       "        .then(() => maybeLoadScript(\"vega-lite\", \"4.17.0\"))\n",
       "        .then(() => maybeLoadScript(\"vega-embed\", \"6\"))\n",
       "        .catch(showError)\n",
       "        .then(() => displayChart(vegaEmbed));\n",
       "    }\n",
       "  })({\"config\": {\"view\": {\"continuousWidth\": 400, \"continuousHeight\": 300}}, \"data\": {\"name\": \"data-34003d123382d87a5e903860cfc1658b\"}, \"mark\": \"bar\", \"encoding\": {\"tooltip\": [{\"field\": \"letter\", \"type\": \"nominal\"}, {\"field\": \"freq\", \"type\": \"quantitative\"}], \"x\": {\"field\": \"letter\", \"scale\": {\"domain\": [\"A\", \"B\", \"C\", \"D\", \"E\", \"F\", \"G\", \"H\", \"I\", \"J\", \"K\", \"L\", \"M\", \"N\", \"O\", \"P\", \"Q\", \"R\", \"S\", \"T\", \"U\", \"V\", \"W\", \"X\", \"Y\", \"Z\"]}, \"type\": \"nominal\"}, \"y\": {\"field\": \"freq\", \"type\": \"quantitative\"}}, \"$schema\": \"https://vega.github.io/schema/vega-lite/v4.17.0.json\", \"datasets\": {\"data-34003d123382d87a5e903860cfc1658b\": [{\"letter\": \"A\", \"freq\": 0.031914893617021274}, {\"letter\": \"B\", \"freq\": 0.010638297872340425}, {\"letter\": \"C\", \"freq\": 0.0425531914893617}, {\"letter\": \"D\", \"freq\": 0.10638297872340426}, {\"letter\": \"E\", \"freq\": 0.0}, {\"letter\": \"F\", \"freq\": 0.02127659574468085}, {\"letter\": \"G\", \"freq\": 0.05319148936170213}, {\"letter\": \"H\", \"freq\": 0.02127659574468085}, {\"letter\": \"I\", \"freq\": 0.06382978723404255}, {\"letter\": \"J\", \"freq\": 0.0425531914893617}, {\"letter\": \"K\", \"freq\": 0.010638297872340425}, {\"letter\": \"L\", \"freq\": 0.0}, {\"letter\": \"M\", \"freq\": 0.06382978723404255}, {\"letter\": \"N\", \"freq\": 0.09574468085106383}, {\"letter\": \"O\", \"freq\": 0.0851063829787234}, {\"letter\": \"P\", \"freq\": 0.031914893617021274}, {\"letter\": \"Q\", \"freq\": 0.0}, {\"letter\": \"R\", \"freq\": 0.0}, {\"letter\": \"S\", \"freq\": 0.010638297872340425}, {\"letter\": \"T\", \"freq\": 0.010638297872340425}, {\"letter\": \"U\", \"freq\": 0.0}, {\"letter\": \"V\", \"freq\": 0.10638297872340426}, {\"letter\": \"W\", \"freq\": 0.031914893617021274}, {\"letter\": \"X\", \"freq\": 0.0425531914893617}, {\"letter\": \"Y\", \"freq\": 0.010638297872340425}, {\"letter\": \"Z\", \"freq\": 0.10638297872340426}]}}, {\"mode\": \"vega-lite\"});\n",
       "</script>"
      ],
      "text/plain": [
       "alt.Chart(...)"
      ]
     },
     "execution_count": 47,
     "metadata": {},
     "output_type": "execute_result"
    }
   ],
   "source": [
    "freq_chart(Y[1::5])"
   ]
  },
  {
   "cell_type": "code",
   "execution_count": 48,
   "metadata": {
    "cell_id": "091bd70c80d9436783918aa8fdb2c1d2",
    "deepnote_cell_type": "code",
    "deepnote_to_be_reexecuted": false,
    "execution_millis": 13,
    "execution_start": 1688147194189,
    "source_hash": "4935b39f"
   },
   "outputs": [
    {
     "data": {
      "text/html": [
       "\n",
       "<div id=\"altair-viz-89d168adb969472b994c004e148da8a7\"></div>\n",
       "<script type=\"text/javascript\">\n",
       "  var VEGA_DEBUG = (typeof VEGA_DEBUG == \"undefined\") ? {} : VEGA_DEBUG;\n",
       "  (function(spec, embedOpt){\n",
       "    let outputDiv = document.currentScript.previousElementSibling;\n",
       "    if (outputDiv.id !== \"altair-viz-89d168adb969472b994c004e148da8a7\") {\n",
       "      outputDiv = document.getElementById(\"altair-viz-89d168adb969472b994c004e148da8a7\");\n",
       "    }\n",
       "    const paths = {\n",
       "      \"vega\": \"https://cdn.jsdelivr.net/npm//vega@5?noext\",\n",
       "      \"vega-lib\": \"https://cdn.jsdelivr.net/npm//vega-lib?noext\",\n",
       "      \"vega-lite\": \"https://cdn.jsdelivr.net/npm//vega-lite@4.17.0?noext\",\n",
       "      \"vega-embed\": \"https://cdn.jsdelivr.net/npm//vega-embed@6?noext\",\n",
       "    };\n",
       "\n",
       "    function maybeLoadScript(lib, version) {\n",
       "      var key = `${lib.replace(\"-\", \"\")}_version`;\n",
       "      return (VEGA_DEBUG[key] == version) ?\n",
       "        Promise.resolve(paths[lib]) :\n",
       "        new Promise(function(resolve, reject) {\n",
       "          var s = document.createElement('script');\n",
       "          document.getElementsByTagName(\"head\")[0].appendChild(s);\n",
       "          s.async = true;\n",
       "          s.onload = () => {\n",
       "            VEGA_DEBUG[key] = version;\n",
       "            return resolve(paths[lib]);\n",
       "          };\n",
       "          s.onerror = () => reject(`Error loading script: ${paths[lib]}`);\n",
       "          s.src = paths[lib];\n",
       "        });\n",
       "    }\n",
       "\n",
       "    function showError(err) {\n",
       "      outputDiv.innerHTML = `<div class=\"error\" style=\"color:red;\">${err}</div>`;\n",
       "      throw err;\n",
       "    }\n",
       "\n",
       "    function displayChart(vegaEmbed) {\n",
       "      vegaEmbed(outputDiv, spec, embedOpt)\n",
       "        .catch(err => showError(`Javascript Error: ${err.message}<br>This usually means there's a typo in your chart specification. See the javascript console for the full traceback.`));\n",
       "    }\n",
       "\n",
       "    if(typeof define === \"function\" && define.amd) {\n",
       "      requirejs.config({paths});\n",
       "      require([\"vega-embed\"], displayChart, err => showError(`Error loading script: ${err.message}`));\n",
       "    } else {\n",
       "      maybeLoadScript(\"vega\", \"5\")\n",
       "        .then(() => maybeLoadScript(\"vega-lite\", \"4.17.0\"))\n",
       "        .then(() => maybeLoadScript(\"vega-embed\", \"6\"))\n",
       "        .catch(showError)\n",
       "        .then(() => displayChart(vegaEmbed));\n",
       "    }\n",
       "  })({\"config\": {\"view\": {\"continuousWidth\": 400, \"continuousHeight\": 300}}, \"data\": {\"name\": \"data-b589e88ed3cb9288ff840d095896a92b\"}, \"mark\": \"bar\", \"encoding\": {\"tooltip\": [{\"field\": \"letter\", \"type\": \"nominal\"}, {\"field\": \"freq\", \"type\": \"quantitative\"}], \"x\": {\"field\": \"letter\", \"scale\": {\"domain\": [\"A\", \"B\", \"C\", \"D\", \"E\", \"F\", \"G\", \"H\", \"I\", \"J\", \"K\", \"L\", \"M\", \"N\", \"O\", \"P\", \"Q\", \"R\", \"S\", \"T\", \"U\", \"V\", \"W\", \"X\", \"Y\", \"Z\"]}, \"type\": \"nominal\"}, \"y\": {\"field\": \"freq\", \"type\": \"quantitative\"}}, \"$schema\": \"https://vega.github.io/schema/vega-lite/v4.17.0.json\", \"datasets\": {\"data-b589e88ed3cb9288ff840d095896a92b\": [{\"letter\": \"A\", \"freq\": 0.05319148936170213}, {\"letter\": \"B\", \"freq\": 0.07446808510638298}, {\"letter\": \"C\", \"freq\": 0.0851063829787234}, {\"letter\": \"D\", \"freq\": 0.010638297872340425}, {\"letter\": \"E\", \"freq\": 0.02127659574468085}, {\"letter\": \"F\", \"freq\": 0.02127659574468085}, {\"letter\": \"G\", \"freq\": 0.0}, {\"letter\": \"H\", \"freq\": 0.010638297872340425}, {\"letter\": \"I\", \"freq\": 0.0}, {\"letter\": \"J\", \"freq\": 0.0851063829787234}, {\"letter\": \"K\", \"freq\": 0.02127659574468085}, {\"letter\": \"L\", \"freq\": 0.031914893617021274}, {\"letter\": \"M\", \"freq\": 0.031914893617021274}, {\"letter\": \"N\", \"freq\": 0.1276595744680851}, {\"letter\": \"O\", \"freq\": 0.031914893617021274}, {\"letter\": \"P\", \"freq\": 0.010638297872340425}, {\"letter\": \"Q\", \"freq\": 0.031914893617021274}, {\"letter\": \"R\", \"freq\": 0.0851063829787234}, {\"letter\": \"S\", \"freq\": 0.0}, {\"letter\": \"T\", \"freq\": 0.010638297872340425}, {\"letter\": \"U\", \"freq\": 0.07446808510638298}, {\"letter\": \"V\", \"freq\": 0.0}, {\"letter\": \"W\", \"freq\": 0.06382978723404255}, {\"letter\": \"X\", \"freq\": 0.09574468085106383}, {\"letter\": \"Y\", \"freq\": 0.02127659574468085}, {\"letter\": \"Z\", \"freq\": 0.0}]}}, {\"mode\": \"vega-lite\"});\n",
       "</script>"
      ],
      "text/plain": [
       "alt.Chart(...)"
      ]
     },
     "execution_count": 48,
     "metadata": {},
     "output_type": "execute_result"
    }
   ],
   "source": [
    "freq_chart(Y[2::5])"
   ]
  },
  {
   "cell_type": "code",
   "execution_count": 50,
   "metadata": {
    "cell_id": "223436a1b73a4dcfbfa2ec78b756a60a",
    "deepnote_cell_type": "code",
    "deepnote_to_be_reexecuted": false,
    "execution_millis": 3,
    "execution_start": 1688147329348,
    "source_hash": "c3809bd1"
   },
   "outputs": [
    {
     "name": "stdout",
     "output_type": "stream",
     "text": [
      "0.03343070431678027\n",
      "0.04428904428904429\n",
      "0.05627705627705628\n",
      "0.056943056943056944\n",
      "0.038295038295038296\n",
      "0.04695304695304695\n"
     ]
    }
   ],
   "source": [
    "guessed_length = 6\n",
    "\n",
    "for i in range(guessed_length):\n",
    "    print(ind_co(Y[i::guessed_length]))"
   ]
  },
  {
   "cell_type": "code",
   "execution_count": 51,
   "metadata": {
    "cell_id": "d90dcdddc3634d64bb11fa08eca0e66e",
    "deepnote_cell_type": "code",
    "deepnote_to_be_reexecuted": false,
    "execution_millis": 4,
    "execution_start": 1688147364735,
    "source_hash": "15007d59"
   },
   "outputs": [
    {
     "name": "stdout",
     "output_type": "stream",
     "text": [
      "0.06680393502630977\n",
      "0.06131320064058568\n",
      "0.06154198123999085\n",
      "0.0581102722489133\n",
      "0.05586722767648434\n"
     ]
    }
   ],
   "source": [
    "guessed_length = 5\n",
    "\n",
    "for i in range(guessed_length):\n",
    "    print(ind_co(Y[i::guessed_length]))"
   ]
  },
  {
   "cell_type": "code",
   "execution_count": 53,
   "metadata": {
    "cell_id": "7243d8337b594a6da87ad885e0f007c8",
    "deepnote_cell_type": "code",
    "deepnote_to_be_reexecuted": false,
    "execution_millis": 3,
    "execution_start": 1688147468499,
    "source_hash": "8a340ad6"
   },
   "outputs": [
    {
     "name": "stdout",
     "output_type": "stream",
     "text": [
      "0.04181702127659574\n",
      "0.03527340425531914\n",
      "0.03594468085106382\n",
      "0.0415936170212766\n",
      "0.04053763440860215\n"
     ]
    }
   ],
   "source": [
    "# Can't use mutual index of coincidence in this part\n",
    "# Looks random for these numbers\n",
    "guessed_length = 5\n",
    "\n",
    "for i in range(guessed_length):\n",
    "    print(mut_ind_co(get_freq(Y[i::guessed_length]), english_freq))"
   ]
  },
  {
   "cell_type": "markdown",
   "metadata": {
    "cell_id": "36cdfe75c82347c2895278ec5bbd683d",
    "deepnote_cell_type": "markdown"
   },
   "source": [
    "Use Mutual Index of Coincidence to try to decide if something is English.  We use the Index of Coincidence to try to decide if something is shift encrypted or substitution encrypted English.  (mut_ind_co wants \"E\" to be a very common letter.  ind_co wants there to be some very common letter, it doesn't care which it is)"
   ]
  },
  {
   "cell_type": "markdown",
   "metadata": {
    "created_in_deepnote_cell": true,
    "deepnote_cell_type": "markdown"
   },
   "source": [
    "<a style='text-decoration:none;line-height:16px;display:flex;color:#5B5B62;padding:10px;justify-content:end;' href='https://deepnote.com?utm_source=created-in-deepnote-cell&projectId=dd7d74dd-0461-419c-bea8-ec5ac2ce94df' target=\"_blank\">\n",
    "<img alt='Created in deepnote.com' style='display:inline;max-height:16px;margin:0px;margin-right:7.5px;' src='data:image/svg+xml;base64,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' > </img>\n",
    "Created in <span style='font-weight:600;margin-left:4px;'>Deepnote</span></a>"
   ]
  }
 ],
 "metadata": {
  "deepnote": {
   "is_reactive": false
  },
  "deepnote_execution_queue": [],
  "deepnote_notebook_id": "9edf0528e9f1438fa99fde77d670e21d",
  "deepnote_persisted_session": {
   "createdAt": "2023-06-30T18:16:46.572Z"
  },
  "kernelspec": {
   "display_name": "Python 3 (ipykernel)",
   "language": "python",
   "name": "python3"
  },
  "language_info": {
   "codemirror_mode": {
    "name": "ipython",
    "version": 3
   },
   "file_extension": ".py",
   "mimetype": "text/x-python",
   "name": "python",
   "nbconvert_exporter": "python",
   "pygments_lexer": "ipython3",
   "version": "3.11.3"
  }
 },
 "nbformat": 4,
 "nbformat_minor": 4
}
