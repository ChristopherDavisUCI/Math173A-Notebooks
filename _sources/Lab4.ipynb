{
 "cells": [
  {
   "cell_type": "markdown",
   "metadata": {
    "cell_id": "56a8e1bc358346669babff17f762c7dc",
    "deepnote_cell_type": "markdown",
    "tags": []
   },
   "source": [
    "# Lab 4 - Math 173A\n",
    "\n",
    "You are encouraged to work in groups of up to 3 total students, but each student should make their own submission on Canvas.  (It's fine for everyone in the group to have the same upload.)\n",
    "\n",
    "Put the **full names** of everyone in your group (even if you're working alone) here.  (This makes grading easier.)\n",
    "\n",
    "* **Names**: \n"
   ]
  },
  {
   "cell_type": "markdown",
   "metadata": {
    "cell_id": "e0bbc1323ef348819621d3520a2380b1",
    "deepnote_cell_type": "markdown"
   },
   "source": [
    "## Suggestion\n",
    "\n",
    "Follow the instructions from the Lab 0 worksheet to make an Education Workspace for this lab."
   ]
  },
  {
   "cell_type": "markdown",
   "metadata": {
    "cell_id": "4e315ad35cc042adb43be5f6c0a978a1",
    "deepnote_cell_type": "markdown"
   },
   "source": [
    "## Part 0: Imports"
   ]
  },
  {
   "cell_type": "markdown",
   "metadata": {
    "cell_id": "75f0c587ea5a4a9096d17bc81f8e2076",
    "deepnote_cell_type": "markdown"
   },
   "source": [
    "* First pip install `pycryptodome`, and then make the following imports:\n",
    "\n",
    "```\n",
    "from Crypto.Util.number import getPrime, getRandomNBitInteger\n",
    "from sympy.ntheory import n_order, factorint\n",
    "\n",
    "from Lab4_Helper import (\n",
    "                            only_letters,\n",
    "                            weave, \n",
    "                            shift_string,\n",
    "                            add_spaces,\n",
    "                            to_base_b,\n",
    "                            from_base_b\n",
    "                        )\n",
    "```"
   ]
  },
  {
   "cell_type": "markdown",
   "metadata": {
    "cell_id": "331cd1673c7b4807b537ab950b09aec5",
    "deepnote_cell_type": "markdown"
   },
   "source": [
    "* Paste in your code defining the `vigenere` function from Lab 1.  (I believe I have included all the necessary imports like `only_letters`, but feel free to add more if your `vigenere` function depends on them.)"
   ]
  },
  {
   "cell_type": "markdown",
   "metadata": {
    "cell_id": "5c653ea19c68448db588519ae1c65926",
    "deepnote_cell_type": "markdown"
   },
   "source": [
    "## Part 1: Factorization timings"
   ]
  },
  {
   "cell_type": "markdown",
   "metadata": {
    "cell_id": "298c5e3aae0d4f99b411e29493b0328e",
    "deepnote_cell_type": "markdown"
   },
   "source": [
    "* Define `p` and `q` to be two (different) 40-bit prime numbers (use `getPrime`).\n",
    "* Define `N = p*q`."
   ]
  },
  {
   "cell_type": "markdown",
   "metadata": {
    "cell_id": "7d15ba0580c448b1b05264850ec4abe1",
    "deepnote_cell_type": "markdown"
   },
   "source": [
    "* In a new cell, evaluate `factorint(N)` and time how long the computation takes using `%%time` at the top of the cell."
   ]
  },
  {
   "cell_type": "markdown",
   "metadata": {
    "cell_id": "a0c296aebebd4463822c49f61e838006",
    "deepnote_cell_type": "markdown"
   },
   "source": [
    "* Define `p1` to be a 28-bit prime number and define `q1` to be a 54-bit prime number.\n",
    "* Define `N1 = p1*q1`."
   ]
  },
  {
   "cell_type": "markdown",
   "metadata": {
    "cell_id": "e28de7a28a6a4073a4c0d8100c4216bf",
    "deepnote_cell_type": "markdown"
   },
   "source": [
    "* In a new cell, evaluate `factorint(N1)` and time how long the computation takes."
   ]
  },
  {
   "cell_type": "markdown",
   "metadata": {
    "cell_id": "a7c449e8b0ba404d83341d87578d0790",
    "deepnote_cell_type": "markdown"
   },
   "source": [
    "* Display `p`, `q`, `p1`, `q1` to get a sense for how big these primes are."
   ]
  },
  {
   "cell_type": "markdown",
   "metadata": {
    "cell_id": "596a933f2fe4403fade010bbb80ea6b5",
    "deepnote_cell_type": "markdown"
   },
   "source": [
    "Answer the following in a markdown cell.\n",
    "\n",
    "1. How do the two timings compare?  (There is some randomness here, so don't expect the same answer if you run the computations again.)\n",
    "\n",
    "2. How do the sizes of `N` and `N1` compare?  (For example, what is `N1/N`?)\n",
    "\n",
    "3. What do you think is most signficant to the difficulty of prime factorization, the size of `N`, the size of the smaller prime, or the size of the larger prime?"
   ]
  },
  {
   "cell_type": "markdown",
   "metadata": {
    "cell_id": "1cfde49de87d4cc5af3197463e38b977",
    "deepnote_cell_type": "markdown"
   },
   "source": [
    "## Part 2: Posting encryption keys"
   ]
  },
  {
   "cell_type": "markdown",
   "metadata": {
    "cell_id": "859896c6cdba4b339330256998543bce",
    "deepnote_cell_type": "markdown"
   },
   "source": [
    "* Define `p` and `q` to be two (different) 500-bit prime numbers.\n",
    "* Define `N = p*q`."
   ]
  },
  {
   "cell_type": "markdown",
   "metadata": {
    "cell_id": "dde7128865444b19b4a1658d310b9b40",
    "deepnote_cell_type": "markdown"
   },
   "source": [
    "* Display `p` and `q` in this notebook.  (This is important, because otherwise you won't have any way to recover `p` and `q`, for example, if the Deepnote hardware resets.)"
   ]
  },
  {
   "cell_type": "markdown",
   "metadata": {
    "cell_id": "53bffe4921ba4442a8011928196e4024",
    "deepnote_cell_type": "markdown"
   },
   "source": [
    "* Choose a suitable encryption exponent `e1`.  (What are the requirements for an encryption exponent?  You can import `gcd` from `math`.)"
   ]
  },
  {
   "cell_type": "markdown",
   "metadata": {
    "cell_id": "bf08afb4a5ba402195f86f4e4dc79ed0",
    "deepnote_cell_type": "markdown"
   },
   "source": [
    "* Compute the corresponding decryption exponent `d1`.  (Recall that you can use `pow` with a negative exponent.)"
   ]
  },
  {
   "cell_type": "markdown",
   "metadata": {
    "cell_id": "81114b791ac3432eb18791f8fce42e0a",
    "deepnote_cell_type": "markdown"
   },
   "source": [
    "* Go to the `Lab 4 RSA` pinned thread on Ed Discussion and post `N, e1, d1`.  (**Warning**.  Do not post `p`, `q`, or $\\varphi(N)$.)"
   ]
  },
  {
   "cell_type": "markdown",
   "metadata": {
    "cell_id": "2798f0292f694b54b09c6420f1403e5f",
    "deepnote_cell_type": "markdown"
   },
   "source": [
    "* Oops, we were not supposed to post the decryption exponent.  Don't worry, though, using the same value of `N`, find another appropriate encryption exponent `e` (not the same as `e1`).  Post this value of `e` as a reply to your previous `N, e1, d1` post."
   ]
  },
  {
   "cell_type": "markdown",
   "metadata": {
    "cell_id": "4737ee20aadf4db2870054a9ddb8192c",
    "deepnote_cell_type": "markdown"
   },
   "source": [
    "## Part 3: Sending a secret message\n",
    "\n"
   ]
  },
  {
   "cell_type": "markdown",
   "metadata": {
    "cell_id": "2a3c1e8e94f14fb39e0401acd7212e45",
    "deepnote_cell_type": "markdown"
   },
   "source": [
    "**Comment**.  This lab is a little different than Lab 2, because every group should post an RSA encryption key, and every group should also send a secret message."
   ]
  },
  {
   "cell_type": "markdown",
   "metadata": {
    "cell_id": "2f0798b663714a98a5af3c6ea0e327f5",
    "deepnote_cell_type": "markdown"
   },
   "source": [
    "* Choose a 600-bit secret integer `x` using `getRandomNBitInteger`.  (This integer will define the key for a Vigenere encryption.  It's important that `x` be smaller than `N`; do you see why?)\n",
    "* Display `x` in this notebook, so you can recover it (for example, if the Deepnote hardware resets).\n",
    "* Convert `x` to a list of digits from `0` to `25` (inclusive) using the imported `to_base_b` function.  Name the resulting list `vig_key`.\n",
    "\n",
    "```\n",
    "vig_key = to_base_b(x, 26)\n",
    "```"
   ]
  },
  {
   "cell_type": "markdown",
   "metadata": {
    "cell_id": "736b97bcc89c44fab183d3274a6024ee",
    "deepnote_cell_type": "markdown",
    "deepnote_to_be_reexecuted": false,
    "execution_millis": 10,
    "execution_start": 1689681109244,
    "source_hash": "2a4db77f"
   },
   "source": [
    "* Choose a secret message `M`.\n",
    "* With the `vigenere` function, encrypt the secret message `M` using the list `vig_key` computed above, as in the following code.\n",
    "```\n",
    "Y = vigenere(M, vig_key)\n",
    "Y = add_spaces(Y)\n",
    "print(Y)\n",
    "```"
   ]
  },
  {
   "cell_type": "markdown",
   "metadata": {
    "cell_id": "1b29275d5f0d4a3fa1ce260e6a841542",
    "deepnote_cell_type": "markdown"
   },
   "source": [
    "* Choose a thread from another group.  Using their `N` and `e` (not `e1`, we don't want the decryption exponent to be public!), compute $c := x^e \\bmod N$.  (So `x` is your value and `N` and `e` are the values from the other group.)"
   ]
  },
  {
   "cell_type": "markdown",
   "metadata": {
    "cell_id": "fe22eb757dff4522af4e73387a1e3ca4",
    "deepnote_cell_type": "markdown"
   },
   "source": [
    "* Post `c` and the encrypted message `Y` as a reply to the group's thread on Ed Discussion."
   ]
  },
  {
   "cell_type": "markdown",
   "metadata": {
    "cell_id": "2c387384b07848b084a20dd68309963c",
    "deepnote_cell_type": "markdown"
   },
   "source": [
    "## Optional Part 4: Decrypting a received message\n",
    "\n",
    "If your group received an encrypted message, I recommend trying to decrypt it.  If you can't get something in English, try to figure out what went wrong, by checking over your work and the work by the other group.\n",
    "\n",
    "Here is some useful code to use.  If the resulting string `M` looks like English, then you have successfully received the message.\n",
    "\n",
    "```\n",
    "x = ??? # Being able to recover `x` from `c` is the whole point of RSA\n",
    "vig_key = to_base_b(x, 26)\n",
    "decrypt_key = [26-i for i in vig_key]\n",
    "M = vigenere(Y, decrypt_key)\n",
    "M\n",
    "```"
   ]
  },
  {
   "cell_type": "markdown",
   "metadata": {
    "cell_id": "9d2b101fa8994ed0b0aa2e3e922c98b4",
    "deepnote_cell_type": "markdown"
   },
   "source": [
    "## Cliffhanger\n",
    "\n",
    "Because we were careful to use `e` instead of `e1` when encrypting the message, the decryption exponent is not publicly known.\n",
    "\n",
    "Thus the exchanged message is secure...\n",
    "\n",
    "![Mr Burns evil smile](images/mr_burns.jpg)"
   ]
  },
  {
   "cell_type": "markdown",
   "metadata": {
    "cell_id": "f48e2097ef6e42a1ab6b9e6723f4f3a0",
    "deepnote_cell_type": "markdown"
   },
   "source": [
    "## Submission\n",
    "\n",
    "* Using the `Share` button at the top right, enable public sharing, and enable Comment privileges. Then submit the created link on Canvas.\n",
    "\n",
    "(Don't just copy the browser URL.  Copy the link that is provided after you click the \"Share\" button.  It won't be available until you enable public sharing.)\n",
    "\n",
    "* Reminder: Everyone in the group needs to submit this link on Canvas."
   ]
  },
  {
   "cell_type": "markdown",
   "metadata": {
    "created_in_deepnote_cell": true,
    "deepnote_cell_type": "markdown"
   },
   "source": [
    "<a style='text-decoration:none;line-height:16px;display:flex;color:#5B5B62;padding:10px;justify-content:end;' href='https://deepnote.com?utm_source=created-in-deepnote-cell&projectId=44257e3a-9048-4653-82a1-7972eef25d2c' target=\"_blank\">\n",
    "<img alt='Created in deepnote.com' style='display:inline;max-height:16px;margin:0px;margin-right:7.5px;' src='data:image/svg+xml;base64,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' > </img>\n",
    "Created in <span style='font-weight:600;margin-left:4px;'>Deepnote</span></a>"
   ]
  }
 ],
 "metadata": {
  "deepnote": {
   "is_reactive": false
  },
  "deepnote_execution_queue": [],
  "deepnote_notebook_id": "5ba09fbeda91416ebab3cf17274ca2cc",
  "kernelspec": {
   "display_name": "Python 3 (ipykernel)",
   "language": "python",
   "name": "python3"
  },
  "language_info": {
   "codemirror_mode": {
    "name": "ipython",
    "version": 3
   },
   "file_extension": ".py",
   "mimetype": "text/x-python",
   "name": "python",
   "nbconvert_exporter": "python",
   "pygments_lexer": "ipython3",
   "version": "3.11.3"
  }
 },
 "nbformat": 4,
 "nbformat_minor": 4
}
