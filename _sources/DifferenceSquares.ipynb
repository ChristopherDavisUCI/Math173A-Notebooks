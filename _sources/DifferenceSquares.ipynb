{
 "cells": [
  {
   "cell_type": "markdown",
   "metadata": {
    "cell_id": "63030590f3444612ab81a8d2724a182d",
    "deepnote_cell_type": "markdown"
   },
   "source": [
    "# Optional: Difference of Squares Implementation"
   ]
  },
  {
   "cell_type": "markdown",
   "metadata": {
    "cell_id": "89f60b3f5e244fab9add1680562a0098",
    "deepnote_cell_type": "markdown"
   },
   "source": [
    "For Math 173A, you're expected to know the Difference of Squares factorization algorithm, but you're not expected to know how to implement it in Python, so only look at this if you're interested or if you think it will help you understand the algorithm better.\n",
    "\n",
    "The galois package is used for working over finite fields.  We want to work over $\\mathbb{Z}/2\\mathbb{Z}$."
   ]
  },
  {
   "cell_type": "code",
   "execution_count": null,
   "metadata": {
    "cell_id": "ffe7c3178a944ca9aba26d060ac80bc3",
    "deepnote_cell_type": "code",
    "deepnote_to_be_reexecuted": false,
    "execution_millis": 8833,
    "execution_start": 1690612733884,
    "output_cleared": true,
    "source_hash": null
   },
   "outputs": [
    {
     "name": "stdout",
     "output_type": "stream",
     "text": [
      "Collecting galois\n",
      "  Downloading galois-0.3.5-py3-none-any.whl (4.2 MB)\n",
      "\u001b[2K     \u001b[90m━━━━━━━━━━━━━━━━━━━━━━━━━━━━━━━━━━━━━━━━\u001b[0m \u001b[32m4.2/4.2 MB\u001b[0m \u001b[31m78.5 MB/s\u001b[0m eta \u001b[36m0:00:00\u001b[0m\n",
      "\u001b[?25hCollecting pycryptodome\n",
      "  Downloading pycryptodome-3.18.0-cp35-abi3-manylinux_2_17_x86_64.manylinux2014_x86_64.whl (2.1 MB)\n",
      "\u001b[2K     \u001b[90m━━━━━━━━━━━━━━━━━━━━━━━━━━━━━━━━━━━━━━━━\u001b[0m \u001b[32m2.1/2.1 MB\u001b[0m \u001b[31m101.1 MB/s\u001b[0m eta \u001b[36m0:00:00\u001b[0m\n",
      "\u001b[?25hCollecting numba<0.58,>=0.55\n",
      "  Downloading numba-0.57.1-cp39-cp39-manylinux2014_x86_64.manylinux_2_17_x86_64.whl (3.6 MB)\n",
      "\u001b[2K     \u001b[90m━━━━━━━━━━━━━━━━━━━━━━━━━━━━━━━━━━━━━━━━\u001b[0m \u001b[32m3.6/3.6 MB\u001b[0m \u001b[31m85.7 MB/s\u001b[0m eta \u001b[36m0:00:00\u001b[0m\n",
      "\u001b[?25hRequirement already satisfied: numpy<1.25,>=1.21.0 in /shared-libs/python3.9/py/lib/python3.9/site-packages (from galois) (1.23.4)\n",
      "Requirement already satisfied: typing-extensions>=4.0.0 in /shared-libs/python3.9/py/lib/python3.9/site-packages (from galois) (4.4.0)\n",
      "Collecting llvmlite<0.41,>=0.40.0dev0\n",
      "  Downloading llvmlite-0.40.1-cp39-cp39-manylinux_2_17_x86_64.manylinux2014_x86_64.whl (42.1 MB)\n",
      "\u001b[2K     \u001b[90m━━━━━━━━━━━━━━━━━━━━━━━━━━━━━━━━━━━━━━━━\u001b[0m \u001b[32m42.1/42.1 MB\u001b[0m \u001b[31m51.7 MB/s\u001b[0m eta \u001b[36m0:00:00\u001b[0m\n",
      "\u001b[?25hInstalling collected packages: pycryptodome, llvmlite, numba, galois\n",
      "Successfully installed galois-0.3.5 llvmlite-0.40.1 numba-0.57.1 pycryptodome-3.18.0\n",
      "\u001b[33mWARNING: You are using pip version 22.0.4; however, version 23.2.1 is available.\n",
      "You should consider upgrading via the '/root/venv/bin/python -m pip install --upgrade pip' command.\u001b[0m\u001b[33m\n",
      "\u001b[0m"
     ]
    }
   ],
   "source": [
    "!pip install galois pycryptodome"
   ]
  },
  {
   "cell_type": "code",
   "execution_count": null,
   "metadata": {
    "cell_id": "7a6140b35c864c88831949e18ea6e3f9",
    "deepnote_cell_type": "code",
    "deepnote_to_be_reexecuted": false,
    "execution_millis": 15,
    "execution_start": 1690613497852,
    "source_hash": null
   },
   "outputs": [],
   "source": [
    "from math import gcd, sqrt, floor\n",
    "from sympy import factorint, isprime\n",
    "from Crypto.Util.number import getPrime\n",
    "import galois\n",
    "import pandas as pd\n",
    "import numpy as np"
   ]
  },
  {
   "cell_type": "markdown",
   "metadata": {
    "cell_id": "c4f3d75a4232447480c9a29a4fd8b5c8",
    "deepnote_cell_type": "markdown"
   },
   "source": [
    "Here is a sample RSA modulus `N` we will try to factor.  The same one from lecture on Week 5 Friday.  The point is to demonstrate the algorithm from Hoffstein, Pipher, Silverman, Section 3.6.  This `N` is small enough we could easily factor it using brute force."
   ]
  },
  {
   "cell_type": "code",
   "execution_count": null,
   "metadata": {
    "cell_id": "2c06746ca1f44bd2b950e5e9cf0c50d8",
    "deepnote_cell_type": "code",
    "deepnote_to_be_reexecuted": false,
    "execution_millis": 28,
    "execution_start": 1690613782075,
    "source_hash": null
   },
   "outputs": [],
   "source": [
    "N = 914387"
   ]
  },
  {
   "cell_type": "markdown",
   "metadata": {
    "cell_id": "6839f9cbd1134411a52fbbaf50907f57",
    "deepnote_cell_type": "markdown"
   },
   "source": [
    "A number is $L$-smooth if its biggest prime divisor $p$ satisfies $p \\leq L$.  For example, $4400 = 2^6 \\cdot 3 \\cdot 5^2$, so this is $5$-smooth but not $4$-smooth."
   ]
  },
  {
   "cell_type": "code",
   "execution_count": null,
   "metadata": {
    "cell_id": "f0c2f3946f2346d19f67c53c8da9516f",
    "deepnote_cell_type": "code",
    "deepnote_to_be_reexecuted": false,
    "execution_millis": 9,
    "execution_start": 1690613089923,
    "source_hash": null
   },
   "outputs": [
    {
     "data": {
      "text/plain": [
       "{2: 6, 3: 1, 5: 2}"
      ]
     },
     "execution_count": 9,
     "metadata": {},
     "output_type": "execute_result"
    }
   ],
   "source": [
    "factorint(4800)"
   ]
  },
  {
   "cell_type": "code",
   "execution_count": null,
   "metadata": {
    "cell_id": "887f65ad186e4a1b9faf88cfa97d4dbb",
    "deepnote_cell_type": "code",
    "deepnote_to_be_reexecuted": false,
    "execution_millis": 10,
    "execution_start": 1690613096402,
    "source_hash": null
   },
   "outputs": [
    {
     "data": {
      "text/plain": [
       "5"
      ]
     },
     "execution_count": 10,
     "metadata": {},
     "output_type": "execute_result"
    }
   ],
   "source": [
    "# Biggest prime divisor\n",
    "max(factorint(4800))"
   ]
  },
  {
   "cell_type": "code",
   "execution_count": null,
   "metadata": {
    "cell_id": "ca705fb494e04c2daf4a398b781f209b",
    "deepnote_cell_type": "code",
    "deepnote_to_be_reexecuted": false,
    "execution_millis": 15,
    "execution_start": 1690613794456,
    "source_hash": null
   },
   "outputs": [
    {
     "data": {
      "text/plain": [
       "[2, 3, 5, 7, 11]"
      ]
     },
     "execution_count": 27,
     "metadata": {},
     "output_type": "execute_result"
    }
   ],
   "source": [
    "L = 12\n",
    "primes = [x for x in range(L+1) if isprime(x)]\n",
    "primes"
   ]
  },
  {
   "cell_type": "markdown",
   "metadata": {
    "cell_id": "8b5a6828b0c54d36b6c269ee47e10351",
    "deepnote_cell_type": "markdown"
   },
   "source": [
    "We'll store the results in a matrix, like in the Week 5 Friday lecture."
   ]
  },
  {
   "cell_type": "code",
   "execution_count": null,
   "metadata": {
    "cell_id": "25afce9a184d470b8ff1f172dee093f1",
    "deepnote_cell_type": "code",
    "deepnote_to_be_reexecuted": false,
    "execution_millis": 9,
    "execution_start": 1690613797548,
    "source_hash": null
   },
   "outputs": [],
   "source": [
    "df = pd.DataFrame(index = primes)"
   ]
  },
  {
   "cell_type": "markdown",
   "metadata": {
    "cell_id": "41c460e3790e434095a9edd15a9e1a20",
    "deepnote_cell_type": "markdown"
   },
   "source": [
    "We look for smooth numbers among the reductions $x^2 \\bmod N$.  We'll never get anything interesting unless $x^2 > N$, so that is why we start at $x = \\lfloor \\sqrt{N} \\rfloor + 1$."
   ]
  },
  {
   "cell_type": "code",
   "execution_count": null,
   "metadata": {
    "cell_id": "e90fbd082abe4562b6dafbb5b8ae81fb",
    "deepnote_cell_type": "code",
    "deepnote_to_be_reexecuted": false,
    "execution_millis": 79,
    "execution_start": 1690613834974,
    "source_hash": null
   },
   "outputs": [],
   "source": [
    "start = floor(sqrt(N)) + 1\n",
    "for x in range(start, 5000):\n",
    "    factor_dct = factorint(pow(x,2,N))\n",
    "    # go to next x if x^2 mod N is not L-smooth\n",
    "    if max(factor_dct) > L:\n",
    "        continue\n",
    "    # Default exponent of 0\n",
    "    df[x] = 0\n",
    "    df[x].update(factor_dct)"
   ]
  },
  {
   "cell_type": "code",
   "execution_count": null,
   "metadata": {
    "cell_id": "2c12adb9c0b243dca6c6b3d783b65ddf",
    "deepnote_cell_type": "code",
    "deepnote_to_be_reexecuted": false,
    "execution_millis": 411,
    "execution_start": 1690613836459,
    "source_hash": null
   },
   "outputs": [
    {
     "data": {
      "application/vnd.deepnote.dataframe.v3+json": {
       "column_count": 4,
       "columns": [
        {
         "dtype": "int64",
         "name": 1869,
         "stats": {
          "histogram": [
           {
            "bin_end": 0.6,
            "bin_start": 0,
            "count": 2
           },
           {
            "bin_end": 1.2,
            "bin_start": 0.6,
            "count": 1
           },
           {
            "bin_end": 1.7999999999999998,
            "bin_start": 1.2,
            "count": 0
           },
           {
            "bin_end": 2.4,
            "bin_start": 1.7999999999999998,
            "count": 0
           },
           {
            "bin_end": 3,
            "bin_start": 2.4,
            "count": 0
           },
           {
            "bin_end": 3.5999999999999996,
            "bin_start": 3,
            "count": 0
           },
           {
            "bin_end": 4.2,
            "bin_start": 3.5999999999999996,
            "count": 1
           },
           {
            "bin_end": 4.8,
            "bin_start": 4.2,
            "count": 0
           },
           {
            "bin_end": 5.3999999999999995,
            "bin_start": 4.8,
            "count": 0
           },
           {
            "bin_end": 6,
            "bin_start": 5.3999999999999995,
            "count": 1
           }
          ],
          "max": "6",
          "min": "0",
          "nan_count": 0,
          "unique_count": 4
         }
        },
        {
         "dtype": "int64",
         "name": 1909,
         "stats": {
          "histogram": [
           {
            "bin_end": 1.4,
            "bin_start": 0,
            "count": 4
           },
           {
            "bin_end": 2.8,
            "bin_start": 1.4,
            "count": 0
           },
           {
            "bin_end": 4.199999999999999,
            "bin_start": 2.8,
            "count": 0
           },
           {
            "bin_end": 5.6,
            "bin_start": 4.199999999999999,
            "count": 0
           },
           {
            "bin_end": 7,
            "bin_start": 5.6,
            "count": 0
           },
           {
            "bin_end": 8.399999999999999,
            "bin_start": 7,
            "count": 0
           },
           {
            "bin_end": 9.799999999999999,
            "bin_start": 8.399999999999999,
            "count": 0
           },
           {
            "bin_end": 11.2,
            "bin_start": 9.799999999999999,
            "count": 0
           },
           {
            "bin_end": 12.6,
            "bin_start": 11.2,
            "count": 0
           },
           {
            "bin_end": 14,
            "bin_start": 12.6,
            "count": 1
           }
          ],
          "max": "14",
          "min": "0",
          "nan_count": 0,
          "unique_count": 3
         }
        },
        {
         "dtype": "int64",
         "name": 3387,
         "stats": {
          "histogram": [
           {
            "bin_end": 0.3,
            "bin_start": 0,
            "count": 2
           },
           {
            "bin_end": 0.6,
            "bin_start": 0.3,
            "count": 0
           },
           {
            "bin_end": 0.8999999999999999,
            "bin_start": 0.6,
            "count": 0
           },
           {
            "bin_end": 1.2,
            "bin_start": 0.8999999999999999,
            "count": 1
           },
           {
            "bin_end": 1.5,
            "bin_start": 1.2,
            "count": 0
           },
           {
            "bin_end": 1.7999999999999998,
            "bin_start": 1.5,
            "count": 0
           },
           {
            "bin_end": 2.1,
            "bin_start": 1.7999999999999998,
            "count": 0
           },
           {
            "bin_end": 2.4,
            "bin_start": 2.1,
            "count": 0
           },
           {
            "bin_end": 2.6999999999999997,
            "bin_start": 2.4,
            "count": 0
           },
           {
            "bin_end": 3,
            "bin_start": 2.6999999999999997,
            "count": 2
           }
          ],
          "max": "3",
          "min": "0",
          "nan_count": 0,
          "unique_count": 3
         }
        },
        {
         "dtype": "int64",
         "name": 4586,
         "stats": {
          "histogram": [
           {
            "bin_end": 0.2,
            "bin_start": 0,
            "count": 2
           },
           {
            "bin_end": 0.4,
            "bin_start": 0.2,
            "count": 0
           },
           {
            "bin_end": 0.6000000000000001,
            "bin_start": 0.4,
            "count": 0
           },
           {
            "bin_end": 0.8,
            "bin_start": 0.6000000000000001,
            "count": 0
           },
           {
            "bin_end": 1,
            "bin_start": 0.8,
            "count": 0
           },
           {
            "bin_end": 1.2000000000000002,
            "bin_start": 1,
            "count": 2
           },
           {
            "bin_end": 1.4000000000000001,
            "bin_start": 1.2000000000000002,
            "count": 0
           },
           {
            "bin_end": 1.6,
            "bin_start": 1.4000000000000001,
            "count": 0
           },
           {
            "bin_end": 1.8,
            "bin_start": 1.6,
            "count": 0
           },
           {
            "bin_end": 2,
            "bin_start": 1.8,
            "count": 1
           }
          ],
          "max": "2",
          "min": "0",
          "nan_count": 0,
          "unique_count": 3
         }
        },
        {
         "dtype": "int64",
         "name": "_deepnote_index_column"
        }
       ],
       "row_count": 5,
       "rows": [
        {
         "1869": 4,
         "1909": 14,
         "3387": 0,
         "4586": 0,
         "_deepnote_index_column": 2
        },
        {
         "1869": 1,
         "1909": 0,
         "3387": 1,
         "4586": 2,
         "_deepnote_index_column": 3
        },
        {
         "1869": 6,
         "1909": 1,
         "3387": 3,
         "4586": 1,
         "_deepnote_index_column": 5
        },
        {
         "1869": 0,
         "1909": 0,
         "3387": 0,
         "4586": 0,
         "_deepnote_index_column": 7
        },
        {
         "1869": 0,
         "1909": 1,
         "3387": 3,
         "4586": 1,
         "_deepnote_index_column": 11
        }
       ]
      },
      "text/html": [
       "<div>\n",
       "<style scoped>\n",
       "    .dataframe tbody tr th:only-of-type {\n",
       "        vertical-align: middle;\n",
       "    }\n",
       "\n",
       "    .dataframe tbody tr th {\n",
       "        vertical-align: top;\n",
       "    }\n",
       "\n",
       "    .dataframe thead th {\n",
       "        text-align: right;\n",
       "    }\n",
       "</style>\n",
       "<table border=\"1\" class=\"dataframe\">\n",
       "  <thead>\n",
       "    <tr style=\"text-align: right;\">\n",
       "      <th></th>\n",
       "      <th>1869</th>\n",
       "      <th>1909</th>\n",
       "      <th>3387</th>\n",
       "      <th>4586</th>\n",
       "    </tr>\n",
       "  </thead>\n",
       "  <tbody>\n",
       "    <tr>\n",
       "      <th>2</th>\n",
       "      <td>4</td>\n",
       "      <td>14</td>\n",
       "      <td>0</td>\n",
       "      <td>0</td>\n",
       "    </tr>\n",
       "    <tr>\n",
       "      <th>3</th>\n",
       "      <td>1</td>\n",
       "      <td>0</td>\n",
       "      <td>1</td>\n",
       "      <td>2</td>\n",
       "    </tr>\n",
       "    <tr>\n",
       "      <th>5</th>\n",
       "      <td>6</td>\n",
       "      <td>1</td>\n",
       "      <td>3</td>\n",
       "      <td>1</td>\n",
       "    </tr>\n",
       "    <tr>\n",
       "      <th>7</th>\n",
       "      <td>0</td>\n",
       "      <td>0</td>\n",
       "      <td>0</td>\n",
       "      <td>0</td>\n",
       "    </tr>\n",
       "    <tr>\n",
       "      <th>11</th>\n",
       "      <td>0</td>\n",
       "      <td>1</td>\n",
       "      <td>3</td>\n",
       "      <td>1</td>\n",
       "    </tr>\n",
       "  </tbody>\n",
       "</table>\n",
       "</div>"
      ],
      "text/plain": [
       "    1869  1909  3387  4586\n",
       "2      4    14     0     0\n",
       "3      1     0     1     2\n",
       "5      6     1     3     1\n",
       "7      0     0     0     0\n",
       "11     0     1     3     1"
      ]
     },
     "execution_count": 34,
     "metadata": {},
     "output_type": "execute_result"
    }
   ],
   "source": [
    "df"
   ]
  },
  {
   "cell_type": "markdown",
   "metadata": {
    "cell_id": "154208c2bcf74459adf46e5b2db44057",
    "deepnote_cell_type": "markdown"
   },
   "source": [
    "We need to make two changes before we can use the \"linear algebra over finite fields\" capabilities of the `galois` library.\n",
    "\n",
    "1.  We need to switch from a pandas DataFrame to a NumPy array.\n",
    "2.  We need to reduce the entries."
   ]
  },
  {
   "cell_type": "code",
   "execution_count": null,
   "metadata": {
    "cell_id": "67a09f86c54b438eb5bd2020331d4ec0",
    "deepnote_cell_type": "code",
    "deepnote_to_be_reexecuted": false,
    "execution_millis": 2363,
    "execution_start": 1690613982606,
    "source_hash": null
   },
   "outputs": [],
   "source": [
    "# This is how we indicate we want to work mod 2.\n",
    "GF = galois.GF(2)"
   ]
  },
  {
   "cell_type": "code",
   "execution_count": null,
   "metadata": {
    "cell_id": "93239840735748af932b134c6705104b",
    "deepnote_cell_type": "code",
    "deepnote_to_be_reexecuted": false,
    "execution_millis": 1182,
    "execution_start": 1690614001748,
    "source_hash": null
   },
   "outputs": [
    {
     "ename": "TypeError",
     "evalue": "GF(2) arrays can be created with scalars of type int/str, lists/tuples, or ndarrays, not <class 'pandas.core.frame.DataFrame'>.",
     "output_type": "error",
     "traceback": [
      "\u001b[0;31m---------------------------------------------------------------------------\u001b[0m",
      "\u001b[0;31mTypeError\u001b[0m                                 Traceback (most recent call last)",
      "Cell \u001b[0;32mIn [36], line 2\u001b[0m\n\u001b[1;32m      1\u001b[0m \u001b[38;5;66;03m# Doesn't accept a pandas DataFrame\u001b[39;00m\n\u001b[0;32m----> 2\u001b[0m \u001b[43mGF\u001b[49m\u001b[43m(\u001b[49m\u001b[43mdf\u001b[49m\u001b[43m)\u001b[49m\n",
      "File \u001b[0;32m~/venv/lib/python3.9/site-packages/galois/_fields/_array.py:70\u001b[0m, in \u001b[0;36mFieldArray.__new__\u001b[0;34m(cls, x, dtype, copy, order, ndmin)\u001b[0m\n\u001b[1;32m     64\u001b[0m \u001b[38;5;28;01mif\u001b[39;00m \u001b[38;5;28mcls\u001b[39m \u001b[38;5;129;01mis\u001b[39;00m FieldArray:\n\u001b[1;32m     65\u001b[0m     \u001b[38;5;28;01mraise\u001b[39;00m \u001b[38;5;167;01mNotImplementedError\u001b[39;00m(\n\u001b[1;32m     66\u001b[0m         \u001b[38;5;124m\"\u001b[39m\u001b[38;5;124mFieldArray is an abstract base class that cannot be directly instantiated. \u001b[39m\u001b[38;5;124m\"\u001b[39m\n\u001b[1;32m     67\u001b[0m         \u001b[38;5;124m\"\u001b[39m\u001b[38;5;124mInstead, create a FieldArray subclass for GF(p^m) arithmetic using `GF = galois.GF(p**m)` \u001b[39m\u001b[38;5;124m\"\u001b[39m\n\u001b[1;32m     68\u001b[0m         \u001b[38;5;124m\"\u001b[39m\u001b[38;5;124mand instantiate an array using `x = GF(array_like)`.\u001b[39m\u001b[38;5;124m\"\u001b[39m\n\u001b[1;32m     69\u001b[0m     )\n\u001b[0;32m---> 70\u001b[0m \u001b[38;5;28;01mreturn\u001b[39;00m \u001b[38;5;28;43msuper\u001b[39;49m\u001b[43m(\u001b[49m\u001b[43m)\u001b[49m\u001b[38;5;241;43m.\u001b[39;49m\u001b[38;5;21;43m__new__\u001b[39;49m\u001b[43m(\u001b[49m\u001b[38;5;28;43mcls\u001b[39;49m\u001b[43m,\u001b[49m\u001b[43m \u001b[49m\u001b[43mx\u001b[49m\u001b[43m,\u001b[49m\u001b[43m \u001b[49m\u001b[43mdtype\u001b[49m\u001b[43m,\u001b[49m\u001b[43m \u001b[49m\u001b[43mcopy\u001b[49m\u001b[43m,\u001b[49m\u001b[43m \u001b[49m\u001b[43morder\u001b[49m\u001b[43m,\u001b[49m\u001b[43m \u001b[49m\u001b[43mndmin\u001b[49m\u001b[43m)\u001b[49m\n",
      "File \u001b[0;32m~/venv/lib/python3.9/site-packages/galois/_domains/_array.py:53\u001b[0m, in \u001b[0;36mArray.__new__\u001b[0;34m(cls, x, dtype, copy, order, ndmin)\u001b[0m\n\u001b[1;32m     45\u001b[0m     \u001b[38;5;28;01mraise\u001b[39;00m \u001b[38;5;167;01mNotImplementedError\u001b[39;00m(\n\u001b[1;32m     46\u001b[0m         \u001b[38;5;124m\"\u001b[39m\u001b[38;5;124mArray is an abstract base class that cannot be directly instantiated. \u001b[39m\u001b[38;5;124m\"\u001b[39m\n\u001b[1;32m     47\u001b[0m         \u001b[38;5;124m\"\u001b[39m\u001b[38;5;124mInstead, create an Array subclass for GF(p^m) arithmetic using `GF = galois.GF(p**m)` \u001b[39m\u001b[38;5;124m\"\u001b[39m\n\u001b[1;32m     48\u001b[0m         \u001b[38;5;124m\"\u001b[39m\u001b[38;5;124mand instantiate an array using `x = GF(array_like)`.\u001b[39m\u001b[38;5;124m\"\u001b[39m\n\u001b[1;32m     49\u001b[0m     )\n\u001b[1;32m     51\u001b[0m dtype \u001b[38;5;241m=\u001b[39m \u001b[38;5;28mcls\u001b[39m\u001b[38;5;241m.\u001b[39m_get_dtype(dtype)\n\u001b[0;32m---> 53\u001b[0m x \u001b[38;5;241m=\u001b[39m \u001b[38;5;28;43mcls\u001b[39;49m\u001b[38;5;241;43m.\u001b[39;49m\u001b[43m_verify_array_like_types_and_values\u001b[49m\u001b[43m(\u001b[49m\u001b[43mx\u001b[49m\u001b[43m)\u001b[49m\n\u001b[1;32m     54\u001b[0m array \u001b[38;5;241m=\u001b[39m np\u001b[38;5;241m.\u001b[39marray(x, dtype\u001b[38;5;241m=\u001b[39mdtype, copy\u001b[38;5;241m=\u001b[39mcopy, order\u001b[38;5;241m=\u001b[39morder, ndmin\u001b[38;5;241m=\u001b[39mndmin)\n\u001b[1;32m     56\u001b[0m \u001b[38;5;66;03m# Perform view without verification since the elements were verified in _verify_array_like_types_and_values()\u001b[39;00m\n",
      "File \u001b[0;32m~/venv/lib/python3.9/site-packages/galois/_fields/_array.py:151\u001b[0m, in \u001b[0;36mFieldArray._verify_array_like_types_and_values\u001b[0;34m(cls, x)\u001b[0m\n\u001b[1;32m    149\u001b[0m     \u001b[38;5;28mcls\u001b[39m\u001b[38;5;241m.\u001b[39m_verify_array_values(x)\n\u001b[1;32m    150\u001b[0m \u001b[38;5;28;01melse\u001b[39;00m:\n\u001b[0;32m--> 151\u001b[0m     \u001b[38;5;28;01mraise\u001b[39;00m \u001b[38;5;167;01mTypeError\u001b[39;00m(\n\u001b[1;32m    152\u001b[0m         \u001b[38;5;124mf\u001b[39m\u001b[38;5;124m\"\u001b[39m\u001b[38;5;132;01m{\u001b[39;00m\u001b[38;5;28mcls\u001b[39m\u001b[38;5;241m.\u001b[39mname\u001b[38;5;132;01m}\u001b[39;00m\u001b[38;5;124m arrays can be created with scalars of type int/str, lists/tuples, \u001b[39m\u001b[38;5;124m\"\u001b[39m\n\u001b[1;32m    153\u001b[0m         \u001b[38;5;124mf\u001b[39m\u001b[38;5;124m\"\u001b[39m\u001b[38;5;124mor ndarrays, not \u001b[39m\u001b[38;5;132;01m{\u001b[39;00m\u001b[38;5;28mtype\u001b[39m(x)\u001b[38;5;132;01m}\u001b[39;00m\u001b[38;5;124m.\u001b[39m\u001b[38;5;124m\"\u001b[39m\n\u001b[1;32m    154\u001b[0m     )\n\u001b[1;32m    156\u001b[0m \u001b[38;5;28;01mreturn\u001b[39;00m x\n",
      "\u001b[0;31mTypeError\u001b[0m: GF(2) arrays can be created with scalars of type int/str, lists/tuples, or ndarrays, not <class 'pandas.core.frame.DataFrame'>."
     ]
    }
   ],
   "source": [
    "# Doesn't accept a pandas DataFrame\n",
    "GF(df)"
   ]
  },
  {
   "cell_type": "code",
   "execution_count": null,
   "metadata": {
    "cell_id": "f578a19e792d4ade94794ea8a80d8886",
    "deepnote_cell_type": "code",
    "deepnote_to_be_reexecuted": false,
    "execution_millis": 80,
    "execution_start": 1690614031917,
    "source_hash": null
   },
   "outputs": [
    {
     "ename": "ValueError",
     "evalue": "GF(2) arrays must have elements in `0 <= x < 2`, not [ 4 14  2  6  3  3].",
     "output_type": "error",
     "traceback": [
      "\u001b[0;31m---------------------------------------------------------------------------\u001b[0m",
      "\u001b[0;31mValueError\u001b[0m                                Traceback (most recent call last)",
      "Cell \u001b[0;32mIn [38], line 2\u001b[0m\n\u001b[1;32m      1\u001b[0m \u001b[38;5;66;03m# Needs entries 0 or 1\u001b[39;00m\n\u001b[0;32m----> 2\u001b[0m \u001b[43mGF\u001b[49m\u001b[43m(\u001b[49m\u001b[43mdf\u001b[49m\u001b[38;5;241;43m.\u001b[39;49m\u001b[43mvalues\u001b[49m\u001b[43m)\u001b[49m\n",
      "File \u001b[0;32m~/venv/lib/python3.9/site-packages/galois/_fields/_array.py:70\u001b[0m, in \u001b[0;36mFieldArray.__new__\u001b[0;34m(cls, x, dtype, copy, order, ndmin)\u001b[0m\n\u001b[1;32m     64\u001b[0m \u001b[38;5;28;01mif\u001b[39;00m \u001b[38;5;28mcls\u001b[39m \u001b[38;5;129;01mis\u001b[39;00m FieldArray:\n\u001b[1;32m     65\u001b[0m     \u001b[38;5;28;01mraise\u001b[39;00m \u001b[38;5;167;01mNotImplementedError\u001b[39;00m(\n\u001b[1;32m     66\u001b[0m         \u001b[38;5;124m\"\u001b[39m\u001b[38;5;124mFieldArray is an abstract base class that cannot be directly instantiated. \u001b[39m\u001b[38;5;124m\"\u001b[39m\n\u001b[1;32m     67\u001b[0m         \u001b[38;5;124m\"\u001b[39m\u001b[38;5;124mInstead, create a FieldArray subclass for GF(p^m) arithmetic using `GF = galois.GF(p**m)` \u001b[39m\u001b[38;5;124m\"\u001b[39m\n\u001b[1;32m     68\u001b[0m         \u001b[38;5;124m\"\u001b[39m\u001b[38;5;124mand instantiate an array using `x = GF(array_like)`.\u001b[39m\u001b[38;5;124m\"\u001b[39m\n\u001b[1;32m     69\u001b[0m     )\n\u001b[0;32m---> 70\u001b[0m \u001b[38;5;28;01mreturn\u001b[39;00m \u001b[38;5;28;43msuper\u001b[39;49m\u001b[43m(\u001b[49m\u001b[43m)\u001b[49m\u001b[38;5;241;43m.\u001b[39;49m\u001b[38;5;21;43m__new__\u001b[39;49m\u001b[43m(\u001b[49m\u001b[38;5;28;43mcls\u001b[39;49m\u001b[43m,\u001b[49m\u001b[43m \u001b[49m\u001b[43mx\u001b[49m\u001b[43m,\u001b[49m\u001b[43m \u001b[49m\u001b[43mdtype\u001b[49m\u001b[43m,\u001b[49m\u001b[43m \u001b[49m\u001b[43mcopy\u001b[49m\u001b[43m,\u001b[49m\u001b[43m \u001b[49m\u001b[43morder\u001b[49m\u001b[43m,\u001b[49m\u001b[43m \u001b[49m\u001b[43mndmin\u001b[49m\u001b[43m)\u001b[49m\n",
      "File \u001b[0;32m~/venv/lib/python3.9/site-packages/galois/_domains/_array.py:53\u001b[0m, in \u001b[0;36mArray.__new__\u001b[0;34m(cls, x, dtype, copy, order, ndmin)\u001b[0m\n\u001b[1;32m     45\u001b[0m     \u001b[38;5;28;01mraise\u001b[39;00m \u001b[38;5;167;01mNotImplementedError\u001b[39;00m(\n\u001b[1;32m     46\u001b[0m         \u001b[38;5;124m\"\u001b[39m\u001b[38;5;124mArray is an abstract base class that cannot be directly instantiated. \u001b[39m\u001b[38;5;124m\"\u001b[39m\n\u001b[1;32m     47\u001b[0m         \u001b[38;5;124m\"\u001b[39m\u001b[38;5;124mInstead, create an Array subclass for GF(p^m) arithmetic using `GF = galois.GF(p**m)` \u001b[39m\u001b[38;5;124m\"\u001b[39m\n\u001b[1;32m     48\u001b[0m         \u001b[38;5;124m\"\u001b[39m\u001b[38;5;124mand instantiate an array using `x = GF(array_like)`.\u001b[39m\u001b[38;5;124m\"\u001b[39m\n\u001b[1;32m     49\u001b[0m     )\n\u001b[1;32m     51\u001b[0m dtype \u001b[38;5;241m=\u001b[39m \u001b[38;5;28mcls\u001b[39m\u001b[38;5;241m.\u001b[39m_get_dtype(dtype)\n\u001b[0;32m---> 53\u001b[0m x \u001b[38;5;241m=\u001b[39m \u001b[38;5;28;43mcls\u001b[39;49m\u001b[38;5;241;43m.\u001b[39;49m\u001b[43m_verify_array_like_types_and_values\u001b[49m\u001b[43m(\u001b[49m\u001b[43mx\u001b[49m\u001b[43m)\u001b[49m\n\u001b[1;32m     54\u001b[0m array \u001b[38;5;241m=\u001b[39m np\u001b[38;5;241m.\u001b[39marray(x, dtype\u001b[38;5;241m=\u001b[39mdtype, copy\u001b[38;5;241m=\u001b[39mcopy, order\u001b[38;5;241m=\u001b[39morder, ndmin\u001b[38;5;241m=\u001b[39mndmin)\n\u001b[1;32m     56\u001b[0m \u001b[38;5;66;03m# Perform view without verification since the elements were verified in _verify_array_like_types_and_values()\u001b[39;00m\n",
      "File \u001b[0;32m~/venv/lib/python3.9/site-packages/galois/_fields/_array.py:149\u001b[0m, in \u001b[0;36mFieldArray._verify_array_like_types_and_values\u001b[0;34m(cls, x)\u001b[0m\n\u001b[1;32m    147\u001b[0m     \u001b[38;5;28;01melif\u001b[39;00m \u001b[38;5;129;01mnot\u001b[39;00m np\u001b[38;5;241m.\u001b[39missubdtype(x\u001b[38;5;241m.\u001b[39mdtype, np\u001b[38;5;241m.\u001b[39minteger):\n\u001b[1;32m    148\u001b[0m         \u001b[38;5;28;01mraise\u001b[39;00m \u001b[38;5;167;01mTypeError\u001b[39;00m(\u001b[38;5;124mf\u001b[39m\u001b[38;5;124m\"\u001b[39m\u001b[38;5;132;01m{\u001b[39;00m\u001b[38;5;28mcls\u001b[39m\u001b[38;5;241m.\u001b[39mname\u001b[38;5;132;01m}\u001b[39;00m\u001b[38;5;124m arrays must have integer dtypes, not \u001b[39m\u001b[38;5;132;01m{\u001b[39;00mx\u001b[38;5;241m.\u001b[39mdtype\u001b[38;5;132;01m}\u001b[39;00m\u001b[38;5;124m.\u001b[39m\u001b[38;5;124m\"\u001b[39m)\n\u001b[0;32m--> 149\u001b[0m     \u001b[38;5;28;43mcls\u001b[39;49m\u001b[38;5;241;43m.\u001b[39;49m\u001b[43m_verify_array_values\u001b[49m\u001b[43m(\u001b[49m\u001b[43mx\u001b[49m\u001b[43m)\u001b[49m\n\u001b[1;32m    150\u001b[0m \u001b[38;5;28;01melse\u001b[39;00m:\n\u001b[1;32m    151\u001b[0m     \u001b[38;5;28;01mraise\u001b[39;00m \u001b[38;5;167;01mTypeError\u001b[39;00m(\n\u001b[1;32m    152\u001b[0m         \u001b[38;5;124mf\u001b[39m\u001b[38;5;124m\"\u001b[39m\u001b[38;5;132;01m{\u001b[39;00m\u001b[38;5;28mcls\u001b[39m\u001b[38;5;241m.\u001b[39mname\u001b[38;5;132;01m}\u001b[39;00m\u001b[38;5;124m arrays can be created with scalars of type int/str, lists/tuples, \u001b[39m\u001b[38;5;124m\"\u001b[39m\n\u001b[1;32m    153\u001b[0m         \u001b[38;5;124mf\u001b[39m\u001b[38;5;124m\"\u001b[39m\u001b[38;5;124mor ndarrays, not \u001b[39m\u001b[38;5;132;01m{\u001b[39;00m\u001b[38;5;28mtype\u001b[39m(x)\u001b[38;5;132;01m}\u001b[39;00m\u001b[38;5;124m.\u001b[39m\u001b[38;5;124m\"\u001b[39m\n\u001b[1;32m    154\u001b[0m     )\n",
      "File \u001b[0;32m~/venv/lib/python3.9/site-packages/galois/_fields/_array.py:176\u001b[0m, in \u001b[0;36mFieldArray._verify_array_values\u001b[0;34m(cls, array)\u001b[0m\n\u001b[1;32m    174\u001b[0m idxs \u001b[38;5;241m=\u001b[39m np\u001b[38;5;241m.\u001b[39mlogical_or(array \u001b[38;5;241m<\u001b[39m \u001b[38;5;241m0\u001b[39m, array \u001b[38;5;241m>\u001b[39m\u001b[38;5;241m=\u001b[39m \u001b[38;5;28mcls\u001b[39m\u001b[38;5;241m.\u001b[39morder)\n\u001b[1;32m    175\u001b[0m values \u001b[38;5;241m=\u001b[39m array \u001b[38;5;28;01mif\u001b[39;00m array\u001b[38;5;241m.\u001b[39mndim \u001b[38;5;241m==\u001b[39m \u001b[38;5;241m0\u001b[39m \u001b[38;5;28;01melse\u001b[39;00m array[idxs]\n\u001b[0;32m--> 176\u001b[0m \u001b[38;5;28;01mraise\u001b[39;00m \u001b[38;5;167;01mValueError\u001b[39;00m(\u001b[38;5;124mf\u001b[39m\u001b[38;5;124m\"\u001b[39m\u001b[38;5;132;01m{\u001b[39;00m\u001b[38;5;28mcls\u001b[39m\u001b[38;5;241m.\u001b[39mname\u001b[38;5;132;01m}\u001b[39;00m\u001b[38;5;124m arrays must have elements in `0 <= x < \u001b[39m\u001b[38;5;132;01m{\u001b[39;00m\u001b[38;5;28mcls\u001b[39m\u001b[38;5;241m.\u001b[39morder\u001b[38;5;132;01m}\u001b[39;00m\u001b[38;5;124m`, not \u001b[39m\u001b[38;5;132;01m{\u001b[39;00mvalues\u001b[38;5;132;01m}\u001b[39;00m\u001b[38;5;124m.\u001b[39m\u001b[38;5;124m\"\u001b[39m)\n",
      "\u001b[0;31mValueError\u001b[0m: GF(2) arrays must have elements in `0 <= x < 2`, not [ 4 14  2  6  3  3]."
     ]
    }
   ],
   "source": [
    "# Needs entries 0 or 1\n",
    "GF(df.values)"
   ]
  },
  {
   "cell_type": "code",
   "execution_count": null,
   "metadata": {
    "cell_id": "b6b852a3f5d5467ba1113bad59686d9f",
    "deepnote_cell_type": "code",
    "deepnote_to_be_reexecuted": false,
    "execution_millis": 26,
    "execution_start": 1690614043609,
    "source_hash": null
   },
   "outputs": [],
   "source": [
    "mat = GF((df.values)%2)"
   ]
  },
  {
   "cell_type": "code",
   "execution_count": null,
   "metadata": {
    "cell_id": "37f33e9592c948ac8ffb2ad692435693",
    "deepnote_cell_type": "code",
    "deepnote_to_be_reexecuted": false,
    "execution_millis": 110,
    "execution_start": 1690614045575,
    "source_hash": null
   },
   "outputs": [
    {
     "data": {
      "text/plain": [
       "GF([[0, 0, 0, 0],\n",
       "    [1, 0, 1, 0],\n",
       "    [0, 1, 1, 1],\n",
       "    [0, 0, 0, 0],\n",
       "    [0, 1, 1, 1]], order=2)"
      ]
     },
     "execution_count": 40,
     "metadata": {},
     "output_type": "execute_result"
    }
   ],
   "source": [
    "mat"
   ]
  },
  {
   "cell_type": "code",
   "execution_count": null,
   "metadata": {
    "cell_id": "37128a7cbff84579bcc32ccbb0275ccf",
    "deepnote_cell_type": "code",
    "deepnote_to_be_reexecuted": false,
    "execution_millis": 66,
    "execution_start": 1690614059977,
    "source_hash": null
   },
   "outputs": [],
   "source": [
    "ns = mat.null_space()"
   ]
  },
  {
   "cell_type": "code",
   "execution_count": null,
   "metadata": {
    "cell_id": "18184cc13505496db34f1c42ea06a79f",
    "deepnote_cell_type": "code",
    "deepnote_to_be_reexecuted": false,
    "execution_millis": 36,
    "execution_start": 1690614075508,
    "source_hash": null
   },
   "outputs": [
    {
     "data": {
      "text/plain": [
       "GF([[1, 0, 1, 1],\n",
       "    [0, 1, 0, 1]], order=2)"
      ]
     },
     "execution_count": 43,
     "metadata": {},
     "output_type": "execute_result"
    }
   ],
   "source": [
    "# Basis for the null-space.\n",
    "ns"
   ]
  },
  {
   "cell_type": "code",
   "execution_count": null,
   "metadata": {
    "cell_id": "076c2b8bc13249dc8a21fb1609e2bfc9",
    "deepnote_cell_type": "code",
    "deepnote_to_be_reexecuted": false,
    "execution_millis": 6,
    "execution_start": 1690614334925,
    "source_hash": null
   },
   "outputs": [
    {
     "data": {
      "text/plain": [
       "GF([0, 1, 0, 1], order=2)"
      ]
     },
     "execution_count": 57,
     "metadata": {},
     "output_type": "execute_result"
    }
   ],
   "source": [
    "# Focus on the second basis vector\n",
    "vec = ns[1]\n",
    "vec"
   ]
  },
  {
   "cell_type": "code",
   "execution_count": null,
   "metadata": {
    "cell_id": "653211e5f6484971a938dccfaa160508",
    "deepnote_cell_type": "code",
    "deepnote_to_be_reexecuted": false,
    "execution_millis": 9,
    "execution_start": 1690614336804,
    "source_hash": null
   },
   "outputs": [
    {
     "data": {
      "text/plain": [
       "Int64Index([1909, 4586], dtype='int64')"
      ]
     },
     "execution_count": 58,
     "metadata": {},
     "output_type": "execute_result"
    }
   ],
   "source": [
    "# x values corresponding to vec\n",
    "cols = df.columns[vec == 1]\n",
    "cols"
   ]
  },
  {
   "cell_type": "code",
   "execution_count": null,
   "metadata": {
    "cell_id": "c204ea9fa6f44de98ececba4093fd1b5",
    "deepnote_cell_type": "code",
    "deepnote_to_be_reexecuted": false,
    "execution_millis": 12,
    "execution_start": 1690614338829,
    "source_hash": null
   },
   "outputs": [
    {
     "data": {
      "text/plain": [
       "2     14\n",
       "3      2\n",
       "5      2\n",
       "7      0\n",
       "11     2\n",
       "dtype: int64"
      ]
     },
     "execution_count": 59,
     "metadata": {},
     "output_type": "execute_result"
    }
   ],
   "source": [
    "# prime exponents corresponding to vec\n",
    "prime_series = df[cols].sum(axis=1)\n",
    "prime_series"
   ]
  },
  {
   "cell_type": "code",
   "execution_count": null,
   "metadata": {
    "cell_id": "ee7a37a6ef64423a9031d995972697b5",
    "deepnote_cell_type": "code",
    "deepnote_to_be_reexecuted": false,
    "execution_millis": 10,
    "execution_start": 1690614341499,
    "source_hash": null
   },
   "outputs": [],
   "source": [
    "a = np.prod(cols)\n",
    "b = np.prod(prime_series.index ** (prime_series.values//2))"
   ]
  },
  {
   "cell_type": "code",
   "execution_count": null,
   "metadata": {
    "cell_id": "3e5cd35275fc41328f1951ff596f7bdb",
    "deepnote_cell_type": "code",
    "deepnote_to_be_reexecuted": false,
    "execution_millis": 6,
    "execution_start": 1690614347698,
    "source_hash": null
   },
   "outputs": [
    {
     "data": {
      "text/plain": [
       "1103"
      ]
     },
     "execution_count": 62,
     "metadata": {},
     "output_type": "execute_result"
    }
   ],
   "source": [
    "# Success\n",
    "gcd(a-b, N)"
   ]
  },
  {
   "cell_type": "markdown",
   "metadata": {
    "cell_id": "2ddd11bceb804fbb969a7546b8bfd195",
    "deepnote_cell_type": "markdown"
   },
   "source": [
    "Let's try with a bigger value of `N`, but we're still in the range where the values can be factored naively."
   ]
  },
  {
   "cell_type": "code",
   "execution_count": null,
   "metadata": {
    "cell_id": "3102b2adbb794818b1c5e71a546cbfc2",
    "deepnote_cell_type": "code",
    "deepnote_to_be_reexecuted": false,
    "execution_millis": 11,
    "execution_start": 1690614856418,
    "source_hash": null
   },
   "outputs": [
    {
     "name": "stdout",
     "output_type": "stream",
     "text": [
      "44762551\n",
      "6343\n",
      "7057\n"
     ]
    }
   ],
   "source": [
    "p = getPrime(13)\n",
    "q = getPrime(13)\n",
    "N = p*q\n",
    "print(N)\n",
    "print(p)\n",
    "print(q)"
   ]
  },
  {
   "cell_type": "markdown",
   "metadata": {
    "cell_id": "3fb37ef3102e4856b8793e557d877171",
    "deepnote_cell_type": "markdown"
   },
   "source": [
    "Here are the values we used:\n",
    "`N = 44762551`\n",
    "`p = 6343`\n",
    "`q = 7057`"
   ]
  },
  {
   "cell_type": "code",
   "execution_count": null,
   "metadata": {
    "cell_id": "125777a6ff5c438c8858ae296ac1073f",
    "deepnote_cell_type": "code",
    "deepnote_to_be_reexecuted": false,
    "execution_millis": 8,
    "execution_start": 1690614914625,
    "source_hash": null
   },
   "outputs": [],
   "source": [
    "L = 80\n",
    "primes = [x for x in range(L+1) if isprime(x)]"
   ]
  },
  {
   "cell_type": "code",
   "execution_count": null,
   "metadata": {
    "cell_id": "68b911db98f647ceb1a3bd3be0429759",
    "deepnote_cell_type": "code",
    "deepnote_to_be_reexecuted": false,
    "execution_millis": 11,
    "execution_start": 1690614915993,
    "source_hash": null
   },
   "outputs": [],
   "source": [
    "df = pd.DataFrame(index = primes)"
   ]
  },
  {
   "cell_type": "code",
   "execution_count": null,
   "metadata": {
    "cell_id": "a07641a9f6de41df8c55f4375a8de988",
    "deepnote_cell_type": "code",
    "deepnote_to_be_reexecuted": false,
    "execution_millis": 197,
    "execution_start": 1690614917453,
    "source_hash": null
   },
   "outputs": [],
   "source": [
    "start = floor(sqrt(N)) + 1\n",
    "for x in range(start, 10000):\n",
    "    factor_dct = factorint(pow(x,2,N))\n",
    "    # go to next x if x^2 mod N is not L-smooth\n",
    "    if max(factor_dct) > L:\n",
    "        continue\n",
    "    # Default exponent of 0\n",
    "    df[x] = 0\n",
    "    df[x].update(factor_dct)"
   ]
  },
  {
   "cell_type": "code",
   "execution_count": null,
   "metadata": {
    "cell_id": "254be8331772448dba3aa9242bcc471f",
    "deepnote_cell_type": "code",
    "deepnote_to_be_reexecuted": false,
    "execution_millis": 23,
    "execution_start": 1690614918353,
    "source_hash": null
   },
   "outputs": [
    {
     "data": {
      "text/plain": [
       "(22, 50)"
      ]
     },
     "execution_count": 131,
     "metadata": {},
     "output_type": "execute_result"
    }
   ],
   "source": [
    "df.shape"
   ]
  },
  {
   "cell_type": "code",
   "execution_count": null,
   "metadata": {
    "cell_id": "dc96ab4eadff458eb773fd11615621e8",
    "deepnote_cell_type": "code",
    "deepnote_to_be_reexecuted": false,
    "execution_millis": 9,
    "execution_start": 1690614920100,
    "source_hash": null
   },
   "outputs": [],
   "source": [
    "mat = GF((df.values)%2)"
   ]
  },
  {
   "cell_type": "code",
   "execution_count": null,
   "metadata": {
    "cell_id": "144641d8542f4be8b6041220f633b75e",
    "deepnote_cell_type": "code",
    "deepnote_to_be_reexecuted": false,
    "execution_millis": 38,
    "execution_start": 1690614921256,
    "source_hash": null
   },
   "outputs": [],
   "source": [
    "ns = mat.null_space()"
   ]
  },
  {
   "cell_type": "code",
   "execution_count": null,
   "metadata": {
    "cell_id": "8e5cbcda8b8a401f9283d5a91057febd",
    "deepnote_cell_type": "code",
    "deepnote_to_be_reexecuted": false,
    "execution_millis": 55,
    "execution_start": 1690614923907,
    "source_hash": null
   },
   "outputs": [
    {
     "name": "stdout",
     "output_type": "stream",
     "text": [
      "1\n",
      "1\n",
      "1\n",
      "1\n",
      "6343\n",
      "44762551\n",
      "6343\n",
      "1\n",
      "1\n",
      "1\n",
      "1\n",
      "44762551\n",
      "1\n",
      "6343\n",
      "1\n",
      "6343\n",
      "1\n",
      "1\n",
      "6343\n",
      "1\n",
      "1\n",
      "1\n",
      "1\n",
      "1\n",
      "1\n",
      "1\n",
      "1\n",
      "1\n",
      "1\n",
      "1\n",
      "1\n",
      "1\n",
      "1\n",
      "1\n",
      "44762551\n",
      "/tmp/ipykernel_35/329814783.py:6: RuntimeWarning: overflow encountered in long_scalars\n",
      "  g = gcd(a-b, N)\n"
     ]
    }
   ],
   "source": [
    "for vec in ns:\n",
    "    cols = df.columns[vec == 1]\n",
    "    prime_series = df[cols].sum(axis=1)\n",
    "    a = np.prod(cols)\n",
    "    b = np.prod(prime_series.index ** (prime_series.values//2))\n",
    "    g = gcd(a-b, N)\n",
    "    print(g)"
   ]
  },
  {
   "cell_type": "markdown",
   "metadata": {
    "created_in_deepnote_cell": true,
    "deepnote_cell_type": "markdown"
   },
   "source": [
    "<a style='text-decoration:none;line-height:16px;display:flex;color:#5B5B62;padding:10px;justify-content:end;' href='https://deepnote.com?utm_source=created-in-deepnote-cell&projectId=8699e658-c5b9-40c8-917b-2c7e6a1d0db8' target=\"_blank\">\n",
    "<img alt='Created in deepnote.com' style='display:inline;max-height:16px;margin:0px;margin-right:7.5px;' src='data:image/svg+xml;base64,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' > </img>\n",
    "Created in <span style='font-weight:600;margin-left:4px;'>Deepnote</span></a>"
   ]
  }
 ],
 "metadata": {
  "deepnote": {},
  "deepnote_execution_queue": [],
  "deepnote_notebook_id": "57034dd407a6409ab2879a528bb991f5",
  "kernelspec": {
   "display_name": "Python 3 (ipykernel)",
   "language": "python",
   "name": "python3"
  },
  "language_info": {
   "codemirror_mode": {
    "name": "ipython",
    "version": 3
   },
   "file_extension": ".py",
   "mimetype": "text/x-python",
   "name": "python",
   "nbconvert_exporter": "python",
   "pygments_lexer": "ipython3",
   "version": "3.11.3"
  }
 },
 "nbformat": 4,
 "nbformat_minor": 4
}
