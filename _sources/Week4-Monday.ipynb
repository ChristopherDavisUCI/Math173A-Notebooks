{
 "cells": [
  {
   "cell_type": "markdown",
   "id": "3ea137ca-e1fa-42e8-8bb1-0c53fba61df3",
   "metadata": {},
   "source": [
    "# Week 4 Monday\n",
    "\n",
    "## Screenshare notes\n",
    "\n",
    "![Slide 1](images/W4M/1.gif)"
   ]
  },
  {
   "cell_type": "markdown",
   "id": "f2dcb407-e23d-4175-9afb-6d5c6c7469b5",
   "metadata": {},
   "source": [
    "## Midterm"
   ]
  },
  {
   "cell_type": "markdown",
   "id": "25671f8e-28af-45ae-aca8-8782a0aac41a",
   "metadata": {
    "jp-MarkdownHeadingCollapsed": true,
    "tags": []
   },
   "source": [
    "## Deepnote notebook\n",
    "\n",
    "No notebook this class."
   ]
  }
 ],
 "metadata": {
  "kernelspec": {
   "display_name": "Python 3 (ipykernel)",
   "language": "python",
   "name": "python3"
  },
  "language_info": {
   "codemirror_mode": {
    "name": "ipython",
    "version": 3
   },
   "file_extension": ".py",
   "mimetype": "text/x-python",
   "name": "python",
   "nbconvert_exporter": "python",
   "pygments_lexer": "ipython3",
   "version": "3.11.3"
  }
 },
 "nbformat": 4,
 "nbformat_minor": 5
}
