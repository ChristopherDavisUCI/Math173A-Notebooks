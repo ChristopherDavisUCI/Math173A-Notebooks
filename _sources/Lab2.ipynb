{
 "cells": [
  {
   "cell_type": "markdown",
   "metadata": {
    "cell_id": "d047249e38ff4a84be27577248cdaa41",
    "deepnote_cell_type": "markdown",
    "tags": []
   },
   "source": [
    "# Lab 2 - Math 173A\n",
    "\n",
    "You are encouraged to work in groups of up to 3 total students, but each student should make their own submission on Canvas.  (It's fine for everyone in the group to have the same upload.)\n",
    "\n",
    "Put the **full names** of everyone in your group (even if you're working alone) here.  (This makes grading easier.)\n",
    "\n",
    "* **Names**: \n",
    "\n",
    "(You will also work together with another group below.  In particular, you will perform the Diffie-Hellman key exchange with another group.)"
   ]
  },
  {
   "cell_type": "markdown",
   "metadata": {
    "cell_id": "1def95af56d14398bdb48c8edf077ce7",
    "deepnote_cell_type": "markdown"
   },
   "source": [
    "## Suggestion\n",
    "\n",
    "Follow the instructions from the Lab 0 worksheet to make an Education Workspace for this lab."
   ]
  },
  {
   "cell_type": "markdown",
   "metadata": {
    "cell_id": "c0569aa931e54c48b6037d2fcc03a4a7",
    "deepnote_cell_type": "markdown"
   },
   "source": [
    "## Imports"
   ]
  },
  {
   "cell_type": "markdown",
   "metadata": {
    "cell_id": "18ba2b0ea9074a95800ff0513ff80ae9",
    "deepnote_cell_type": "markdown"
   },
   "source": [
    "* Install the Python library `pycryptodome` by executing the following in a code cell.\n",
    "\n",
    "```\n",
    "!pip install pycryptodome\n",
    "```\n",
    "\n",
    "Deepnote will suggest moving this to a `requirements.txt` file.  Do that by clicking the \"move packages\" link that Deepnote shows.  Now every time you start the Deepnote hardware for this Lab 2 project, this package will be automatically installed and available to you.\n",
    "\n",
    "**Comment 1**.  One of the times I tried this, I couldn't get the `requirements.txt` file to be created.  If that happens to you, it's not a big deal, you'll just have to run the `!pip install pycryptodome` command each time you start the hardware.\n",
    "\n",
    "**Comment 2**.  We also need the `sympy` library, but I believe that is pre-installed in Deepnote.  If it does not seem to be installed for you, then repeat the above procedure for `sympy` as well."
   ]
  },
  {
   "cell_type": "markdown",
   "metadata": {
    "cell_id": "afc968c2893044e3a3e482fe40349255",
    "deepnote_cell_type": "markdown"
   },
   "source": [
    "* Import some functions we will use by executing the following code.  (This will raise an error if  `pycryptodome` hasn't been successfully installed.)\n",
    "\n",
    "```\n",
    "from Crypto.Util.number import getPrime, getRandomNBitInteger\n",
    "from sympy.ntheory import n_order\n",
    "\n",
    "from Lab2_Helper import (\n",
    "                            only_letters,\n",
    "                            weave, \n",
    "                            shift_string,\n",
    "                            add_spaces,\n",
    "                            to_base_b,\n",
    "                            from_base_b\n",
    "                        )\n",
    "```"
   ]
  },
  {
   "cell_type": "markdown",
   "metadata": {
    "cell_id": "05917ac691ca4659875d61f4f8a4939f",
    "deepnote_cell_type": "markdown"
   },
   "source": [
    "* Paste in your code defining the `vigenere` function from Lab 1.  (I believe I have included all the necessary imports like `only_letters`, but feel free to add more if your `vigenere` function depends on them.)"
   ]
  },
  {
   "cell_type": "markdown",
   "metadata": {
    "cell_id": "1960f60297a54c109a2ec7542e37dc5f",
    "deepnote_cell_type": "markdown"
   },
   "source": [
    "* Paste in your code defining the `naive_dlog` function that you write as part of Homework 2, 4g.\n",
    "\n",
    "**Update 7/5/23**: I realized my naive discrete logarithm function is a little more naive than I had intended.  In the implementation from the homework, we compute (for example) `pow(g, 100000, p)` in one step, and then `pow(g, 100001, p)` in the next step, and then `pow(g, 100002, p)` in the next step, and so on.  The modular exponentiation function is fast, but it's still a waste of computing power to compute the power \"from scratch\" each step.  Instead, we can use the fact that if we know $y := g^{100000} \\bmod p$ (for example), then we can simply compute `(g*y)%p` to find $g^{100001} \\bmod p$, and so on.  For this lab, you can either use the code template from Homework 2, 4g, or you can adjust the algorithm to this \"multiply the previous value by g and then reduce modulo p\" algorithm that I just described.  The algorithm described here will be a little faster than the algorithm from Homework 2."
   ]
  },
  {
   "cell_type": "markdown",
   "metadata": {
    "cell_id": "522c58a1d6a34011b0e4211e66f19bce",
    "deepnote_cell_type": "markdown"
   },
   "source": [
    "## Setup for Diffie-Hellman key exchange"
   ]
  },
  {
   "cell_type": "markdown",
   "metadata": {
    "cell_id": "38bccb82f78741d3a4ef54ad57837d38",
    "deepnote_cell_type": "markdown"
   },
   "source": [
    "### Finding a smallish prime"
   ]
  },
  {
   "cell_type": "markdown",
   "metadata": {
    "cell_id": "976414ba725b430187da0348e6072eb3",
    "deepnote_cell_type": "markdown"
   },
   "source": [
    "The `getPrime` function imported above takes as input an integer `N` and as output returns a random `N`-bit prime number.  (For example, `37 = 32 + 4 + 1` written in binary is `100101`, which is 6 digits, so `37` is a 6-bit prime number.  You can verify this by evaluating `to_base_b(37, 2)` and checking that the resulting list is length 6.  The `from_base_b` function goes in the opposite direction.)"
   ]
  },
  {
   "cell_type": "markdown",
   "metadata": {
    "cell_id": "4e858ee20266434ea2d186976adbf093",
    "deepnote_cell_type": "markdown"
   },
   "source": [
    "* Choose a prime `p0` using the `getPrime` function.  (See the next few instructions to help you decide how large the prime should be.)"
   ]
  },
  {
   "cell_type": "markdown",
   "metadata": {
    "cell_id": "fc427babf4eb4aa1aefa35348a186cb8",
    "deepnote_cell_type": "markdown"
   },
   "source": [
    "* Find a generator `g0` for $(\\mathbb{Z}/p_0\\mathbb{Z})^\\times$.  (Hint.  Use the `n_order` function that we imported from SymPy.  Call `help(n_order)` to see how this function works.  What order do we need to have a generator?  You will have to do some guessing-and-checking (or better, use a `for` loop, calling `break` when you've found a generator), but it shouldn't take many guesses before you find a generator.)"
   ]
  },
  {
   "cell_type": "markdown",
   "metadata": {
    "cell_id": "67da4e5b562f41fca60122980a538651",
    "deepnote_cell_type": "markdown"
   },
   "source": [
    "* Call `naive_dlog(g0, 0, p0)`, and time how long it takes using `%%time` at the top of the cell, as in Homework 2, Exercise 4.  We already know that no discrete logarithm exists in this case (why?), so the point of this is just to see how long the naive discrete logarithm takes to run in the worst-case scenario."
   ]
  },
  {
   "cell_type": "markdown",
   "metadata": {
    "cell_id": "ba3f6e4750e343f1b657b8cb1be9097b",
    "deepnote_cell_type": "markdown"
   },
   "source": [
    "* We want a prime for which this naive discrete logarithm calculation takes 1-4 seconds.  If your prime takes an amount of time outside of this range, then change the values of `p0` and `g0` above until you find values for which it takes 1-4 seconds."
   ]
  },
  {
   "cell_type": "markdown",
   "metadata": {
    "cell_id": "365eca6e39e740058fa57bfe2a534ec3",
    "deepnote_cell_type": "markdown"
   },
   "source": [
    "### Finding a medium prime"
   ]
  },
  {
   "cell_type": "markdown",
   "metadata": {
    "cell_id": "60e39b06bd114a0fa64e2eac698e216e",
    "deepnote_cell_type": "markdown"
   },
   "source": [
    "* Again using the getPrime function, find a prime `p` which is `20` bits larger (add, don't multiply) than the prime `p0` you found above."
   ]
  },
  {
   "cell_type": "markdown",
   "metadata": {
    "cell_id": "471abad1fe6a421c82d1bbec1f9eae07",
    "deepnote_cell_type": "markdown"
   },
   "source": [
    "* As above, find a generator `g` for $(\\mathbb{Z}/p\\mathbb{Z})^{\\times}$."
   ]
  },
  {
   "cell_type": "markdown",
   "metadata": {
    "cell_id": "5e61d8dfdb8b42abac56aed65b0cc66f",
    "deepnote_cell_type": "markdown"
   },
   "source": [
    "* We estimate that multiplying `p0` by `M` will multiply the amount of time the naive discrete logarithm takes by `M`.  Using this estimate, how many *days* would you expect the naive discrete logarithm to take for `p`?  (Your answer should depend on `p/p0` and on the number of seconds given by your timing computation above.  **Do not** try to run the naive discrete logarithm function on `p` directly.  Be sure your answer is in days, not in seconds.)"
   ]
  },
  {
   "cell_type": "markdown",
   "metadata": {
    "cell_id": "57954bb9888a47e291da01319a4e0eab",
    "deepnote_cell_type": "markdown"
   },
   "source": [
    "## Performing a Diffie-Hellman key exchange"
   ]
  },
  {
   "cell_type": "markdown",
   "metadata": {
    "cell_id": "9e6fca8df3a34f7da6947102003b408e",
    "deepnote_cell_type": "markdown"
   },
   "source": [
    "* Find another student/group to work with (for example, post on Ed Discussion).  Put their names here.\n",
    "\n",
    "**Names for group 2**:"
   ]
  },
  {
   "cell_type": "markdown",
   "metadata": {
    "cell_id": "6cf3e52b43264842bbc5c67fc1ad2a74",
    "deepnote_cell_type": "markdown"
   },
   "source": [
    "* One of the two groups (\"Alice\") should post the above values `p` and `g` on the \"Lab 2 Key Exchanges\" thread on Ed Discussion."
   ]
  },
  {
   "cell_type": "markdown",
   "metadata": {
    "cell_id": "9036afeb0abc47e6809e7635a6ca2027",
    "deepnote_cell_type": "markdown"
   },
   "source": [
    "* Alice and Bob should choose random secret exponents `a` and `b` (respectively).  To find `a` and `b`, use the `getRandomNBitInteger` function we imported above, calling `getRandomNBitInteger(N)`, where `N` is 1 or 2 less than the number of bits of `p`.\n",
    "\n",
    "(Homework 2, question 6b, asks why it is not secure to choose a secret exponent like `500000`.)"
   ]
  },
  {
   "cell_type": "markdown",
   "metadata": {
    "cell_id": "48d56616794d418b935b97b1dbcffc38",
    "deepnote_cell_type": "markdown"
   },
   "source": [
    "* Alice and Bob should then compute `A` and `B` (using `a` and `b`, respectively), in the notation of Hoffstein, Pipher, Silverman, Section 2.2, using the `pow` function (the three-argument version).  Alice and Bob should post these public values `A` and `B` on Ed Discussion (as replies to the message posting `p` and `g`).\n",
    "\n",
    "Be sure that `a` and `b` never get posted (nor exchanged between Alice and Bob), but you probably want to display your secret exponent in this notebook so you still have access to it if the hardware resets."
   ]
  },
  {
   "cell_type": "markdown",
   "metadata": {
    "cell_id": "703c066af635492282d0cbca326b5170",
    "deepnote_cell_type": "markdown"
   },
   "source": [
    "* Alice and Bob should both (independently) compute their shared secret key `k`."
   ]
  },
  {
   "cell_type": "markdown",
   "metadata": {
    "cell_id": "3fd030b05287472d8c965cbac70f53f1",
    "deepnote_cell_type": "markdown"
   },
   "source": [
    "* Alice and Bob should both (independently) convert `k` to a list of digits from `0` to `25` (inclusive) using the imported `to_base_b` function.  Name the resulting list `vig_key`.  This list `vig_key` will be the shared private key for a `Vigenere` cipher.\n",
    "\n",
    "```\n",
    "vig_key = to_base_b(k, 26)\n",
    "```"
   ]
  },
  {
   "cell_type": "markdown",
   "metadata": {
    "cell_id": "cd0a4c7f166f40ac8094b62d66c4abe4",
    "deepnote_cell_type": "markdown"
   },
   "source": [
    "* Bob should choose a secret message `M` that he wishes to send to Alice.  (It does not have to be a long message, not nearly as long as the messages in Lab 1.  We don't want the Vigenère ciphertext to be vulnerable to decryption using frequency analysis.)"
   ]
  },
  {
   "cell_type": "markdown",
   "metadata": {
    "cell_id": "238989c49d4f418abf1c8c6cdbe12a70",
    "deepnote_cell_type": "markdown"
   },
   "source": [
    "* With the `vigenere` function, Bob should encrypt his secret message `M` using the list `vig_key` computed above, as in the following code.  Bob should post this encrypted message `Y` as a reply on the same thread.\n",
    "```\n",
    "Y = vigenere(M, vig_key)\n",
    "Y = add_spaces(Y)\n",
    "print(Y)\n",
    "```"
   ]
  },
  {
   "cell_type": "markdown",
   "metadata": {
    "cell_id": "0b6078ee98994b5da06b17abb6144d94",
    "deepnote_cell_type": "markdown"
   },
   "source": [
    "* Alice should take this public message `Y` and decrypt it.  Notice that the list `vig_key` was used for encryption, so a slightly different list should be used for decryption.  (What shift amounts do the decryption, in terms of the encryption shift amounts?)\n",
    "\n",
    "Here we are defining the decryption key `decrypt_key` using a list creation method in Python called \"list comprehension\"; be sure to ask if the syntax is confusing.\n",
    "\n",
    "```\n",
    "decrypt_key = [??? for x in vig_key]\n",
    "M = vigenere(Y, decrypt_key)\n",
    "M\n",
    "```"
   ]
  },
  {
   "cell_type": "markdown",
   "metadata": {
    "cell_id": "9ba569100eab4335b3d5b320e7300dca",
    "deepnote_cell_type": "markdown"
   },
   "source": [
    "* **Do not** post the decrypted plaintext in the thread.  Alice and Bob should not exchange any information in private.  The public information (which is the same as the information shared between Alice and Bob) should be `p`, `g`, `A`, `B`, and `Y`.\n",
    "\n",
    "* If Alice has successfully decrypted the message (meaning she gets something that is English), then you are done with this lab."
   ]
  },
  {
   "cell_type": "markdown",
   "metadata": {
    "cell_id": "9deb054117524cd981b84cdd4846853b",
    "deepnote_cell_type": "markdown"
   },
   "source": [
    "## Cliffhanger\n",
    "\n",
    "We chose our prime `p` above so that the discrete logarithm is not computable in a reasonable amount of time using the naive algorithm.\n",
    "\n",
    "Thus the exchanged message is secure...\n",
    "\n",
    "![Mr Burns evil smile](images/mr_burns.jpg)"
   ]
  },
  {
   "cell_type": "markdown",
   "metadata": {
    "cell_id": "ace62474e1c046d08b42d0330fee8452",
    "deepnote_cell_type": "markdown"
   },
   "source": [
    "## Submission\n",
    "\n",
    "* Using the `Share` button at the top right, enable public sharing, and enable Comment privileges. Then submit the created link on Canvas.\n",
    "\n",
    "(Don't just copy the browser URL.  Copy the link that is provided after you click the \"Share\" button.  It won't be available until you enable public sharing.)\n",
    "\n",
    "* Reminder: Everyone in the group needs to submit this link on Canvas."
   ]
  },
  {
   "cell_type": "markdown",
   "metadata": {
    "created_in_deepnote_cell": true,
    "deepnote_cell_type": "markdown"
   },
   "source": [
    "<a style='text-decoration:none;line-height:16px;display:flex;color:#5B5B62;padding:10px;justify-content:end;' href='https://deepnote.com?utm_source=created-in-deepnote-cell&projectId=a90216b8-8f1e-4503-9479-61ebe9574770' target=\"_blank\">\n",
    "<img alt='Created in deepnote.com' style='display:inline;max-height:16px;margin:0px;margin-right:7.5px;' src='data:image/svg+xml;base64,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' > </img>\n",
    "Created in <span style='font-weight:600;margin-left:4px;'>Deepnote</span></a>"
   ]
  }
 ],
 "metadata": {
  "deepnote": {
   "is_reactive": false
  },
  "deepnote_execution_queue": [],
  "deepnote_notebook_id": "f1a98aac501341f0bcd149ca47287fbf",
  "deepnote_persisted_session": {
   "createdAt": "2023-07-01T22:00:53.264Z"
  },
  "kernelspec": {
   "display_name": "Python 3 (ipykernel)",
   "language": "python",
   "name": "python3"
  },
  "language_info": {
   "codemirror_mode": {
    "name": "ipython",
    "version": 3
   },
   "file_extension": ".py",
   "mimetype": "text/x-python",
   "name": "python",
   "nbconvert_exporter": "python",
   "pygments_lexer": "ipython3",
   "version": "3.11.3"
  }
 },
 "nbformat": 4,
 "nbformat_minor": 4
}
