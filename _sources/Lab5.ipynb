{
 "cells": [
  {
   "cell_type": "markdown",
   "metadata": {
    "cell_id": "3beb64813d76406b8e024d6b51a86a8b",
    "deepnote_cell_type": "markdown",
    "tags": []
   },
   "source": [
    "# Lab 5 - Math 173A\n",
    "\n",
    "You are encouraged to work in groups of up to 3 total students, but each student should make their own submission on Canvas.  (It's fine for everyone in the group to have the same upload.)\n",
    "\n",
    "Put the **full names** of everyone in your group (even if you're working alone) here.  (This makes grading easier.)\n",
    "\n",
    "* **Names**: \n"
   ]
  },
  {
   "cell_type": "markdown",
   "metadata": {
    "cell_id": "0e4834ad55e14773a51251a69f46c14e",
    "deepnote_cell_type": "markdown"
   },
   "source": [
    "## Suggestion\n",
    "\n",
    "Follow the instructions from the Lab 0 worksheet to make an Education Workspace for this lab."
   ]
  },
  {
   "cell_type": "markdown",
   "metadata": {
    "cell_id": "6ac058e5ee504b8a83355fef8a5cb3d4",
    "deepnote_cell_type": "markdown"
   },
   "source": [
    "## Part 0: Imports"
   ]
  },
  {
   "cell_type": "markdown",
   "metadata": {
    "cell_id": "eaf709fe4cd54bce9f5ee95581c06d26",
    "deepnote_cell_type": "markdown"
   },
   "source": [
    "* Make the following imports:\n",
    "\n",
    "```\n",
    "from math import gcd\n",
    "\n",
    "from Lab5_Helper import (\n",
    "                            only_letters,\n",
    "                            weave, \n",
    "                            shift_string,\n",
    "                            add_spaces,\n",
    "                            to_base_b,\n",
    "                            from_base_b,\n",
    "                            factor_out_2\n",
    "                        )\n",
    "```"
   ]
  },
  {
   "cell_type": "markdown",
   "metadata": {
    "cell_id": "0a77c626eff94e44a8010b6e7ee7e42b",
    "deepnote_cell_type": "markdown"
   },
   "source": [
    "* The only new function here is `factor_out_2`.  Get a sense for what it is returning by evaluating `factor_out_2(48)` and `factor_out_2(34)` and `factor_out_2(33)`."
   ]
  },
  {
   "cell_type": "markdown",
   "metadata": {
    "cell_id": "28bdee1c92f74e118f644c08aec78c9c",
    "deepnote_cell_type": "markdown"
   },
   "source": [
    "* Paste in your code defining the `vigenere` function from Lab 1.  (I believe I have included all the necessary imports like `only_letters`, but feel free to add more if your `vigenere` function depends on them.)"
   ]
  },
  {
   "cell_type": "markdown",
   "metadata": {
    "cell_id": "6139068d27424d96ae63034e181f1002",
    "deepnote_cell_type": "markdown"
   },
   "source": [
    "## Part 1: The Miller-Rabin primality test\n",
    "\n",
    "Here is pseudo-code for implementing this primality test from Table 3.2 in Hoffstein, Pipher, Silverman.\n",
    "\n",
    "![Miller-Rabin primality test pseudo-code](images/MR.png)\n",
    "\n",
    "Follow the pseudo-code to implement the Miller-Rabin primality test.  To get you started, the skeleton of the function is written below.\n",
    "\n",
    "```\n",
    "def miller_rabin(n, a):\n",
    "    if (n%2 == 0):\n",
    "        return \"Composite\"\n",
    "    if (1 < gcd(a,n)) and (gcd(a,n) < n):\n",
    "        return \"Composite\"\n",
    "    # Define k and q as in Step 2.\n",
    "    # Step 3 goes here.\n",
    "    if (a%n) == 1:\n",
    "        return ??? # Step 4\n",
    "    for i in range(k): # i = 0, 1, 2, ..., k-1\n",
    "        if (a%n) == ???: # -1 by itself won't work\n",
    "            return \"Test Fails\"\n",
    "        ??? # Step 7 goes here.  Be sure to match this level of indentation.\n",
    "\n",
    "    return \"Composite\" # Step 9\n",
    "```"
   ]
  },
  {
   "cell_type": "markdown",
   "metadata": {
    "cell_id": "9dc57ca805d34eef9919be812bc017d3",
    "deepnote_cell_type": "markdown"
   },
   "source": [
    "* Check your work using Example 3.20, verifying that `23` witnesses the compositeness of `n = 172947529` but that `17` and `3` do not."
   ]
  },
  {
   "cell_type": "markdown",
   "metadata": {
    "cell_id": "933aa83fd10f4d958f72e079077d94fa",
    "deepnote_cell_type": "markdown"
   },
   "source": [
    "* Explain why we do not include `i = k` at the end of the for loop.  (Hint.  There are two possibilities for that step, either $a \\equiv 1 \\bmod n$ or $a \\not\\equiv 1 \\bmod n$.  Explain why in either case, the number $n$ must be composite.  This is why we just skip that iteration of the for loop and return `\"Composite\"`.)"
   ]
  },
  {
   "cell_type": "markdown",
   "metadata": {
    "cell_id": "945518b62b4543d1b828f69ba5b7dc92",
    "deepnote_cell_type": "markdown"
   },
   "source": [
    "## Part 2.  Using an RSA decryption exponent to factor N"
   ]
  },
  {
   "cell_type": "markdown",
   "metadata": {
    "cell_id": "07c88792b7c5425a823188a9d79a7a0b",
    "deepnote_cell_type": "markdown"
   },
   "source": [
    "* Choose one of the posts from the \"Lab 4 RSA\" thread which includes a ciphertext `Y` (and not your own Post!).  Define the relevant values from that post:\n",
    "```\n",
    "N = \n",
    "e1 = \n",
    "d1 = \n",
    "e = \n",
    "c = \n",
    "Y = \n",
    "```"
   ]
  },
  {
   "cell_type": "markdown",
   "metadata": {
    "cell_id": "1ed202299f524068ba0619db49655908",
    "deepnote_cell_type": "markdown"
   },
   "source": [
    "* Read \"Fact 1\" and its proof from the end of Section 1 of Boneh's article, [Twenty Years of Attacks on the RSA Cryptosystem](http://crypto.stanford.edu/~dabo/papers/RSA-survey.pdf)."
   ]
  },
  {
   "cell_type": "markdown",
   "metadata": {
    "cell_id": "a4009ee0f69f472189f36a94b4c08424",
    "deepnote_cell_type": "markdown"
   },
   "source": [
    "* Paste in your definition of `miller_rabin` from above, but make the following two changes.\n",
    "\n",
    "> 1. Change the name of the function from `miller_rabin` to `use_d` and add two more arguments, `e1` and `d1` as inputs to the function.\n",
    "> 2. Instead of factoring out `2` from `n-1`, we want to factor `2` out of ???.  Replace `n-1` in Step 2 from the Miller-Rabin pseudo-code appropriately to match what is in the Boneh article."
   ]
  },
  {
   "cell_type": "markdown",
   "metadata": {
    "cell_id": "3383ef81c9e94e62b392f8114d511ef7",
    "deepnote_cell_type": "markdown"
   },
   "source": [
    "* Define `k` and `q` as inside this `use_d` function.  (You should not be using `N-1` here.)"
   ]
  },
  {
   "cell_type": "markdown",
   "metadata": {
    "cell_id": "aab832a8db3e42ba82db98e7c221faec",
    "deepnote_cell_type": "markdown"
   },
   "source": [
    "* Try various values of `a` with `use_d(N, a, e1, d1)` until you have a value of `a` for which the function returns `\"Composite\"`.  (One of the first values you try should work.)"
   ]
  },
  {
   "cell_type": "markdown",
   "metadata": {
    "cell_id": "0b22ddb014994b56a0830fbcdf94b691",
    "deepnote_cell_type": "markdown"
   },
   "source": [
    "* By taking an appropriate power of `a` modulo `N` (for the same `a` as in the previous part, the values `k` and `q` you computed are relevant), find a value of `z` such that $z \\not\\equiv \\pm 1 \\bmod N$ and $z^2 \\equiv 1 \\bmod N$.  (I expect this will require computing some powers of `a`.  You do not need to automate this step unless you want to.)"
   ]
  },
  {
   "cell_type": "markdown",
   "metadata": {
    "cell_id": "89b5d5d803974128a6aae73c90645953",
    "deepnote_cell_type": "markdown"
   },
   "source": [
    "* Find a nontrivial factor `p` of `N` using the value of `z` you just found."
   ]
  },
  {
   "cell_type": "markdown",
   "metadata": {
    "cell_id": "783041945dc04c08b9c7a5690d79f832",
    "deepnote_cell_type": "markdown"
   },
   "source": [
    "* Check that the following both hold.\n",
    "> 1.  `p` is neither `1` nor `N`.\n",
    "> 2.  `N%p` is `0`."
   ]
  },
  {
   "cell_type": "markdown",
   "metadata": {
    "cell_id": "137667cbe6e04638909b1f7a13bd327a",
    "deepnote_cell_type": "markdown"
   },
   "source": [
    "* Define `q` to be the other prime factor.  (This will overwrite the value of `q` you found above from `factor_out_2`, but we won't need it again.)  When defining `q`, use `q = N//p` (note the two slashes) to tell Python that `q` should be an integer."
   ]
  },
  {
   "cell_type": "markdown",
   "metadata": {
    "cell_id": "1e33fb55e68848b2b6ca5f7abc301749",
    "deepnote_cell_type": "markdown"
   },
   "source": [
    "* Check that `N == p*q` is `True`."
   ]
  },
  {
   "cell_type": "markdown",
   "metadata": {
    "cell_id": "3cadb057c86849519dc65face9516821",
    "deepnote_cell_type": "markdown"
   },
   "source": [
    "## Part 3.  Decrypting the secret message\n",
    "\n",
    "This part is intended to be more straightforward than the previous parts.\n",
    "\n",
    "* Recall that `c` was created using `e`, not `e1`.  Find `d` corresponding to `e`.  (You will need to use the `p` and `q` you found above.)"
   ]
  },
  {
   "cell_type": "markdown",
   "metadata": {
    "cell_id": "379532ffe47c46ea8dba412c3b0a5160",
    "deepnote_cell_type": "markdown"
   },
   "source": [
    "* Find the original secret integer `x` corresponding to `c` using the decryption exponent you just computed."
   ]
  },
  {
   "cell_type": "markdown",
   "metadata": {
    "cell_id": "fbde56c0bfa2458daedfb912432a8bab",
    "deepnote_cell_type": "markdown"
   },
   "source": [
    "* Convert `x` to a Vigenère key for decryption (thus the `26-a` terms) using the following code.\n",
    "```\n",
    "decrypt_key = [26-a for a in to_base_b(x, 26)]\n",
    "```"
   ]
  },
  {
   "cell_type": "markdown",
   "metadata": {
    "cell_id": "379eb86dadef4acea5d011b375cf59fb",
    "deepnote_cell_type": "markdown"
   },
   "source": [
    "* Decrypt the message `Y` using your `vigenere` function and this decryption key.  If what you get seems to be English, then you're done with this lab.  (If you don't get English and you can't find a mistake in your work, try another message from Ed Discussion.  It's always possible a mistake was made during the original encryption.)"
   ]
  },
  {
   "cell_type": "markdown",
   "metadata": {
    "cell_id": "ba7d4d9775cc4cd48c47f21c4d61504f",
    "deepnote_cell_type": "markdown"
   },
   "source": [
    "## Submission\n",
    "\n",
    "* Using the `Share` button at the top right, enable public sharing, and enable Comment privileges. Then submit the created link on Canvas.\n",
    "\n",
    "(Don't just copy the browser URL.  Copy the link that is provided after you click the \"Share\" button.  It won't be available until you enable public sharing.)\n",
    "\n",
    "* Reminder: Everyone in the group needs to submit this link on Canvas."
   ]
  },
  {
   "cell_type": "markdown",
   "metadata": {
    "created_in_deepnote_cell": true,
    "deepnote_cell_type": "markdown"
   },
   "source": [
    "<a style='text-decoration:none;line-height:16px;display:flex;color:#5B5B62;padding:10px;justify-content:end;' href='https://deepnote.com?utm_source=created-in-deepnote-cell&projectId=30cc51ef-2eda-4600-9578-6af98e02e6b1' target=\"_blank\">\n",
    "<img alt='Created in deepnote.com' style='display:inline;max-height:16px;margin:0px;margin-right:7.5px;' src='data:image/svg+xml;base64,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' > </img>\n",
    "Created in <span style='font-weight:600;margin-left:4px;'>Deepnote</span></a>"
   ]
  }
 ],
 "metadata": {
  "deepnote": {
   "is_reactive": false
  },
  "deepnote_execution_queue": [],
  "deepnote_notebook_id": "57aa2ff5bd3241ca9887a7a8d13d39bb",
  "kernelspec": {
   "display_name": "Python 3 (ipykernel)",
   "language": "python",
   "name": "python3"
  },
  "language_info": {
   "codemirror_mode": {
    "name": "ipython",
    "version": 3
   },
   "file_extension": ".py",
   "mimetype": "text/x-python",
   "name": "python",
   "nbconvert_exporter": "python",
   "pygments_lexer": "ipython3",
   "version": "3.11.3"
  }
 },
 "nbformat": 4,
 "nbformat_minor": 4
}
