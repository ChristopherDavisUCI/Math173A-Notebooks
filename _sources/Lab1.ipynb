{
 "cells": [
  {
   "cell_type": "markdown",
   "metadata": {
    "cell_id": "ebd40172dcaa488fb4e3f7f3d52b349e",
    "deepnote_cell_type": "markdown",
    "tags": []
   },
   "source": [
    "# Lab 1 - Math 173A\n",
    "\n",
    "**Note**.  This is not the first lab, be sure you do Lab 0 first.  (Lab 0 is also due one week earlier.)\n",
    "\n",
    "You are encouraged to work in groups of up to 3 total students, but each student should make their own submission on Canvas.  (It's fine for everyone in the group to have the same upload.)\n",
    "\n",
    "Put the **full names** of everyone in your group (even if you're working alone) here.  (This makes grading easier.)\n",
    "\n",
    "* **Names**: \n"
   ]
  },
  {
   "cell_type": "markdown",
   "metadata": {
    "cell_id": "093eb1e0d79e4e06a8a92398409cdcfd",
    "deepnote_cell_type": "markdown"
   },
   "source": [
    "## Suggestion\n",
    "\n",
    "Follow the instructions from the Lab 0 worksheet to make an Education Workspace for this lab."
   ]
  },
  {
   "cell_type": "markdown",
   "metadata": {
    "cell_id": "f2ef9e6bc59f4d279d7950b5021a7cfc",
    "deepnote_cell_type": "markdown"
   },
   "source": [
    "## Preliminaries\n",
    "\n",
    "Our goal in this lab is to implement encryption and (more difficult) automatic decryption of Vigenère ciphertext, as described in Section 5.2 of Hoffstein, Pipher, and Silverman.\n",
    "\n",
    "In this *Preliminaries* section, we introduce some concepts and tools that will be useful below."
   ]
  },
  {
   "cell_type": "markdown",
   "metadata": {
    "cell_id": "4908cf83791844a8a3fe618e622b95df",
    "deepnote_cell_type": "markdown"
   },
   "source": [
    "* Import some libraries and functions we will need by executing the following code.  Some of these functions are new.  Some you might have to review from lecture or Lab 0.  (The `Lab1_Helper.py` file is already attached to this Deepnote project, so there is no need to download it.)\n",
    "\n",
    "```\n",
    "import string\n",
    "import numpy as np\n",
    "from Lab1_Helper import (\n",
    "                            only_letters,\n",
    "                            weave, \n",
    "                            shift_string, \n",
    "                            kasiski_diffs,\n",
    "                            ind_co,\n",
    "                            mut_ind_co,\n",
    "                            get_freq,\n",
    "                            english_freq,\n",
    "                            add_spaces\n",
    "                        )\n",
    "```"
   ]
  },
  {
   "cell_type": "markdown",
   "metadata": {
    "cell_id": "20899cc208a54bbfbcc4f87564957c47",
    "deepnote_cell_type": "markdown"
   },
   "source": [
    "* When we encrypt using the Vigenère cipher with a key length of 5 (for example), we shift all the characters at integer positions 0 modulo 5 by the same amount, all characters at integer positions 1 modulo 5 by the same amount, and so on.  Assume `X` is the string we want to encrypt using the Vigenère cipher with a key length of `5`.  Notice you can get all the characters in `X` at integer positions 2 modulo 5 (for example) using `X[2::5]`.  (You can think of this as shorthand for `X[2:len(X):5]`, which means, start at position `2`, go until reaching `len(X)`, go up by `5`.)  Test this out by setting `X = string.ascii_uppercase` and then printing `X` and `X[2::5]`."
   ]
  },
  {
   "cell_type": "markdown",
   "metadata": {
    "cell_id": "88302f6fa257475b8cc11fb0f87f28ad",
    "deepnote_cell_type": "markdown"
   },
   "source": [
    "* We need a way of \"re-assembling\" these strings.  We can do that using the imported `weave` function.  Evaluate the following code to get a sense for how it works.  (Here `X` should be the same as above.  If you know list comprehension, try to recreate this list using list comprehension.)\n",
    "```\n",
    "weave([X[0::5], X[1::5], X[2::5], X[3::5], X[4::5]])\n",
    "```"
   ]
  },
  {
   "cell_type": "markdown",
   "metadata": {
    "cell_id": "0dd26413bf1340619050a96a5759fc39",
    "deepnote_cell_type": "markdown"
   },
   "source": [
    "* As described on page 219 of Hoffstein, Pipher, and Silverman, the *Kasiski method* first finds the gaps between repeated trigrams in Vigenère ciphertext.  (The idea is that these repeated trigrams will usually correspond to the same English plaintext, and so the gaps will usually be divisible by the key length.)  The `kasiski_diffs` function will find these gaps for us.  Try it out by evaluating the following code, and notice that the numbers match those in Table 5.3 in Hoffstein, Pipher, Silverman, and that many of them are divisible by 7.\n",
    "```\n",
    "Y = '''zpgdl rjlaj kpylx zpyyg lrjgd lrzhz qyjzq repvm swrzy rigzh\n",
    "zvreg kwivs saolt nliuw oldie aqewf iiykh bjowr hdogc qhkwa\n",
    "jyagg emisr zqoqh oavlk bjofr ylvps rtgiu avmsw lzgms evwpc\n",
    "dmjsv jqbrn klpcf iowhv kxjbj pmfkr qthtk ozrgq ihbmq sbivd\n",
    "ardym qmpbu nivxm tzwqv gefjh ucbor vwpcd xuwft qmoow jipds\n",
    "fluqm oeavl jgqea lrkti wvext vkrrg xani'''\n",
    "\n",
    "kasiski_diffs(Y)\n",
    "```"
   ]
  },
  {
   "cell_type": "markdown",
   "metadata": {
    "cell_id": "f70cae54e81d445f8bee0f154a366805",
    "deepnote_cell_type": "markdown"
   },
   "source": [
    "* In lecture on Monday of Week 1, we used (an estimate for) the Index of Coincidence to distinguish random characters from shift ciphertext.  One strength of the Vigenère cipher is that it looks very much like random text from this perspective.  Compute `ind_co(Y)` for `Y` as above, and compare it with `1/26`, which is the value expected for randomly chosen English characters.  (**Comment**.  We've changed `ind_co` since Monday.  It used to take a dictionary of letter frequencies as input, like `mut_ind_co`.  Now it takes a string as input.)"
   ]
  },
  {
   "cell_type": "markdown",
   "metadata": {
    "cell_id": "c21759ed902744338f55005720bfab68",
    "deepnote_cell_type": "markdown"
   },
   "source": [
    "* On the other hand, the above was encrypted using a Vigenère cipher with a key length of `7`.  Compute the following and compare the values with the expected Index of Coincidence value for true English of approximately `0.068`.  (All of the values will be close to, but slightly less than, this `0.068` value.  I'm not sure if there is a theoretical reason for why they are less than `0.068`.  The important thing is they're all significantly closer to the true English value than to the random characters value.)\n",
    "```\n",
    "Z = only_letters(Y) # we remove spaces from `Y`\n",
    "for i in range(7):\n",
    "    print(ind_co(Z[i::7]))\n",
    "```"
   ]
  },
  {
   "cell_type": "markdown",
   "metadata": {
    "cell_id": "377a7f8c4827442c8292082d5bc2486b",
    "deepnote_cell_type": "markdown"
   },
   "source": [
    "## Vigenère encryption"
   ]
  },
  {
   "cell_type": "markdown",
   "metadata": {
    "cell_id": "bd9fd83f83ce4dc5bb6bd524d6541606",
    "deepnote_cell_type": "markdown"
   },
   "source": [
    "### Writing the `vigenere` function\n",
    "\n",
    "* Write a function to perform Vigenère encryption using the following template.  (If you want to make the code more elegant, replace `for i in range(key_length):` in our template with `for i, k in enumerate(key):`.)\n",
    "\n",
    "> Input: a string `X` and a list of shift amounts `key`\n",
    "> Output: a string `Y`\n",
    "> \n",
    "> Example: If `X` is `\"The rain in Spain stays mainly in the plain\"` and `key` is `[5, 11, 0, 12, 8, 13, 6, 14]`, then the output should be the ciphertext written on page 217 of our textbook, beginning `\"YSEDIVTWSDPM...\"`.\n",
    "\n",
    "```\n",
    "def vigenere(X, key, case=\"upper\"):\n",
    "    X = only_letters(X, case=case)\n",
    "    key_length = len(key)\n",
    "    string_list = []\n",
    "    for i in range(key_length):\n",
    "        s = # Get the characters in `X` at integer positions ??? modulo ???\n",
    "        shifted_s = # Shift the characters in s.  Use the imported `shift_string` function.\n",
    "        string_list.append(shifted_s)\n",
    "    output = # Use the imported `weave` function\n",
    "    return output\n",
    "```"
   ]
  },
  {
   "cell_type": "markdown",
   "metadata": {
    "cell_id": "d6a82fb534784881810d7fa1188588a3",
    "deepnote_cell_type": "markdown"
   },
   "source": [
    "* Test your function by evaluating the following and checking that the result matches what is on page 217 of the textbook (aside from ours being in upper-case letters).\n",
    "```\n",
    "X = \"The rain in Spain stays mainly in the plain\"\n",
    "key = [5, 11, 0, 12, 8, 13, 6, 14]\n",
    "vigenere(X, key)\n",
    "```"
   ]
  },
  {
   "cell_type": "markdown",
   "metadata": {
    "cell_id": "b37b35e509df43dba8291e8883dc2128",
    "deepnote_cell_type": "markdown"
   },
   "source": [
    "### Posting Vigenère ciphertext on Ed Discussion"
   ]
  },
  {
   "cell_type": "markdown",
   "metadata": {
    "cell_id": "0ba142bd3b6646c5beb8fdb327bf6261",
    "deepnote_cell_type": "markdown"
   },
   "source": [
    "* Encrypt a piece of English text using the above `vigenere` function with a random key of length 7, 8, 9, 10, or 11.\n",
    "\n",
    "* You can generate a random key using the following, where `key_length` is your chosen length.  (The resulting `key` is a NumPy array rather than a list, but it should still work.)\n",
    "```\n",
    "rng = np.random.default_rng()\n",
    "key = rng.integers(0, 26, size=key_length)\n",
    "key\n",
    "```\n",
    "\n",
    "* Your chosen text should be quite long, maybe 300 characters.  Just copy and paste from some source, and use triple quotation marks.  (Using triple quotation marks means that Python won't complain about line breaks or apostrophes or double quotation marks in your pasted text.)\n",
    "```\n",
    "plaintext = ''' Your text here '''"
   ]
  },
  {
   "cell_type": "markdown",
   "metadata": {
    "cell_id": "73f1e6f256774e6f9a32c0539e5fc29f",
    "deepnote_cell_type": "markdown"
   },
   "source": [
    "* Encrypt your chosen plaintext using the above key and the `vigenere` function.  Store the resulting ciphertext using the variable name `Y`."
   ]
  },
  {
   "cell_type": "markdown",
   "metadata": {
    "cell_id": "409439dd0a1c4d72ada0a9feca7cf8b6",
    "deepnote_cell_type": "markdown"
   },
   "source": [
    "* Make the ciphertext less overwhelming to look at by evaluating the following.\n",
    "```\n",
    "print(add_spaces(Y))\n",
    "```"
   ]
  },
  {
   "cell_type": "markdown",
   "metadata": {
    "cell_id": "d55bf09fdaa449559c7c270a8e6b5aa7",
    "deepnote_cell_type": "markdown"
   },
   "source": [
    "* Go to the \"Lab 1 Ciphertexts\" thread on Ed Discussion.  Post the displayed ciphertext as a new response.  Type triple backticks (on my keyboard, backtick is the key above tab) before pasting the ciphertext, or alternatively, change from \"Paragraph\" to \"Code\" in the dropdown menu.  This will let Ed Discussion know that all characters should be displayed with the same width."
   ]
  },
  {
   "cell_type": "markdown",
   "metadata": {
    "cell_id": "d410f6fd4ee448ba8269c5b19d7ee265",
    "deepnote_cell_type": "markdown"
   },
   "source": [
    "## Vigenère decryption\n",
    "\n",
    "There are two main steps to decrypting Vigenère ciphertext: Find the key length and find the individual shift amounts.  Finding the individual shift amounts is essentially the same as what we did in Lab 0, so the main work is finding the key length.\n",
    "\n",
    "We will implement two separate methods for finding the key length, both of which are described in Section 5.2 of Hoffstein, Pipher, and Silverman."
   ]
  },
  {
   "cell_type": "markdown",
   "metadata": {
    "cell_id": "a5a4ff61c6e44a32a7c7eaa7227fea4b",
    "deepnote_cell_type": "markdown"
   },
   "source": [
    "### Finding the key-length using the Kasiski method"
   ]
  },
  {
   "cell_type": "markdown",
   "metadata": {
    "cell_id": "5021d06f3033479a98c080aa3731f9cd",
    "deepnote_cell_type": "markdown"
   },
   "source": [
    "* Write a function `prop_div` using the following template.\n",
    "\n",
    "> Input: a list of integers `X` and a modulus `m`\n",
    "> Output: the proportion of integers in `X` which are divisible by `m`\n",
    ">\n",
    "> For example, `prop_div([3,5,8,9,10], 3)` should be equal to `0.4`, because 2 out of 5 of these integers are divisible by 3.\n",
    "\n",
    "```\n",
    "def prop_div(X, m):\n",
    "    n = len(X)\n",
    "    t = 0 # Eventually t will be the number of integers divisible by m in X\n",
    "    for x in X:\n",
    "        if x%??? == ???:\n",
    "            t = t+1\n",
    "    return ??? # Return the proportion, not t.\n",
    "```"
   ]
  },
  {
   "cell_type": "markdown",
   "metadata": {
    "cell_id": "ef2403fcd946462f932a8545ab7e56b2",
    "deepnote_cell_type": "markdown"
   },
   "source": [
    "* Write a function `key_length_kasiski` to predict the key length using the following template.  (Recall that we introduced the `kasiski_diffs` function above.)  The idea is to find for which key length value, from `key_start` (inclusive) to `key_end` (exclusive), is the highest proportion of gaps between repeated trigrams divisible by that key length.  The parameters `top_value` and `top_key` represent the current highest proportion and the current best key length, respectively.\n",
    "\n",
    "Feel free to rewrite this if you would like to use a more elegant/Pythonic approach to find the best key length, as long as it is still using the *Kasiski method*.  (If I were doing this in Math 10, I think I would make a pandas Series `prop_ser` with values equal to the proportions and keys equal to the key lengths, and then I would find the best key length by using `prop_ser.idxmax()`.)\n",
    "\n",
    "```\n",
    "def key_length_kasiski(Y, key_start=7, key_end=12):\n",
    "    diffs = kasiski_diffs(Y)\n",
    "    \n",
    "    top_value = 0\n",
    "    top_key = 0\n",
    "    \n",
    "    for k in range(key_start, key_end):\n",
    "        prop = prop_div(diffs, k)\n",
    "        if ??? > ???:\n",
    "            top_value = prop\n",
    "            top_key = k\n",
    "\n",
    "    return ??? # Return the key length which yields the highest value\n",
    "```"
   ]
  },
  {
   "cell_type": "markdown",
   "metadata": {
    "cell_id": "7ff2c0656e3641e0aaf75142b9a0ad87",
    "deepnote_cell_type": "markdown"
   },
   "source": [
    "* Test your function by evaluating the following.  The output should be `7`.\n",
    "\n",
    "```\n",
    "Y = '''zpgdl rjlaj kpylx zpyyg lrjgd lrzhz qyjzq repvm swrzy rigzh\n",
    "zvreg kwivs saolt nliuw oldie aqewf iiykh bjowr hdogc qhkwa\n",
    "jyagg emisr zqoqh oavlk bjofr ylvps rtgiu avmsw lzgms evwpc\n",
    "dmjsv jqbrn klpcf iowhv kxjbj pmfkr qthtk ozrgq ihbmq sbivd\n",
    "ardym qmpbu nivxm tzwqv gefjh ucbor vwpcd xuwft qmoow jipds\n",
    "fluqm oeavl jgqea lrkti wvext vkrrg xani'''\n",
    "\n",
    "key_length_kasiski(Y)\n",
    "```"
   ]
  },
  {
   "cell_type": "markdown",
   "metadata": {
    "cell_id": "85a7c30305da4d239cf8ce8227a0a243",
    "deepnote_cell_type": "markdown"
   },
   "source": [
    "### Finding the key-length using the Index of Coincidence\n",
    "\n",
    "* Write a function `coincidence_mean` using the following template.  (Note.  Base Python does not have a built-in mean or average function, but it does have a built in `sum` function.)\n",
    "\n",
    "> Inputs: a string `Y` and an integer `m`.\n",
    "> Output: a real number\n",
    "\n",
    "```\n",
    "def coincidence_mean(Y, m):\n",
    "    coinc_list = []\n",
    "    for i in range(m):\n",
    "        s = # Get the characters in `Y` at integer positions ??? modulo ???\n",
    "        c = # Compute the Index of Coincidence for `s` using the `ind_co` function\n",
    "        coinc_list.append(c)\n",
    "\n",
    "    return ??? # Return the mean value of `coinc_list`\n",
    "```\n"
   ]
  },
  {
   "cell_type": "markdown",
   "metadata": {
    "cell_id": "67a8e6f4e42a4a7397426991bc6159d3",
    "deepnote_cell_type": "markdown"
   },
   "source": [
    "* Write a function `key_length_coincidence` to predict the key length using the following template.\n",
    "\n",
    "Again, feel free to rewrite this if you would like to use a more elegant approach, as long as it is still using the `coincidence_mean` function from above.\n",
    "\n",
    "```\n",
    "def key_length_coincidence(Y, key_start=7, key_end=12):\n",
    "    \n",
    "    top_value = 0\n",
    "    top_key = 0\n",
    "    \n",
    "    for k in range(key_start, key_end):\n",
    "        mean = coincidence_mean(???, ???)\n",
    "        if ??? > ???:\n",
    "            top_value = ???\n",
    "            top_key = ???\n",
    "\n",
    "    return ??? # Return the key length which yields the highest value\n",
    "```"
   ]
  },
  {
   "cell_type": "markdown",
   "metadata": {
    "cell_id": "8b71d72c10d74b119dbbe3707ff60ee7",
    "deepnote_cell_type": "markdown"
   },
   "source": [
    "* Test your function by evaluating the following.  The output should again be `7`.\n",
    "\n",
    "```\n",
    "Y = '''zpgdl rjlaj kpylx zpyyg lrjgd lrzhz qyjzq repvm swrzy rigzh\n",
    "zvreg kwivs saolt nliuw oldie aqewf iiykh bjowr hdogc qhkwa\n",
    "jyagg emisr zqoqh oavlk bjofr ylvps rtgiu avmsw lzgms evwpc\n",
    "dmjsv jqbrn klpcf iowhv kxjbj pmfkr qthtk ozrgq ihbmq sbivd\n",
    "ardym qmpbu nivxm tzwqv gefjh ucbor vwpcd xuwft qmoow jipds\n",
    "fluqm oeavl jgqea lrkti wvext vkrrg xani'''\n",
    "\n",
    "key_length_coincidence(Y)\n",
    "```"
   ]
  },
  {
   "cell_type": "markdown",
   "metadata": {
    "cell_id": "633d07817b02486a90d3b74de087af99",
    "deepnote_cell_type": "markdown"
   },
   "source": [
    "### Finding the shift amounts\n",
    "\n",
    "This portion should be easier, because you essentially already did this in Lab 0."
   ]
  },
  {
   "cell_type": "markdown",
   "metadata": {
    "cell_id": "97a9199f54954f1a9603639d8d17114e",
    "deepnote_cell_type": "markdown"
   },
   "source": [
    "* Paste in and execute the code for your `shift_decrypt` function from Lab 0."
   ]
  },
  {
   "cell_type": "markdown",
   "metadata": {
    "cell_id": "4ce44d8b54dd4c58ae9b6da4de1c4a91",
    "deepnote_cell_type": "markdown"
   },
   "source": [
    "* Write a function `find_shifts` using the following template.\n",
    "\n",
    "> Inputs: a Vigenère ciphertext string `Y` and a key-length `k`\n",
    "> Output: a list of shift amounts `shifts`\n",
    "\n",
    "```\n",
    "def find_shifts(Y, k):\n",
    "    shifts = []\n",
    "    for i in range(k):\n",
    "        s = # Get the characters in `Y` at integer positions ??? modulo ???\n",
    "        X, m = shift_decrypt(s) # We only care about the shift amount `m`\n",
    "        shifts.append(m)\n",
    "        \n",
    "    return shifts\n",
    "```"
   ]
  },
  {
   "cell_type": "markdown",
   "metadata": {
    "cell_id": "d1c825a40ec54f728d23819ee1df9a42",
    "deepnote_cell_type": "markdown"
   },
   "source": [
    "### Putting it all together\n",
    "\n",
    "* Write a function `vigenere_decrypt` using the following template.  The `method` keyword argument allows the user to specify whether they wish to use the Kasiski method or the Index of Coincidence method to find the key length.  If no method is specified, the Kasiski method is used by default.\n",
    "\n",
    "```\n",
    "def vigenere_decrypt(Y, key_start=7, key_end=12, method=\"kasiski\"):\n",
    "    Y = only_letters(Y, case=\"upper\") # Remove spaces\n",
    "\n",
    "    if method == \"kasiski\":\n",
    "        key_length_fn = key_length_kasiski\n",
    "    elif method == \"coincidence\":\n",
    "        key_length_fn = key_length_coincidence\n",
    "    else:\n",
    "        raise ValueError('''key_length should be either \"kasiski\" or \"coincidence\"''')\n",
    "        \n",
    "    k = key_length_fn(Y, key_start=key_start, key_end=key_end) # `k` is the predicted key length\n",
    "    shifts = ??? # The predicted shift amounts\n",
    "    X = ??? # The predicted plaintext.  Use your `vigenere` function from high above\n",
    "    \n",
    "    return X.lower()\n",
    "```"
   ]
  },
  {
   "cell_type": "markdown",
   "metadata": {
    "cell_id": "1662c166b59548a1858a28bc6a9299cf",
    "deepnote_cell_type": "markdown"
   },
   "source": [
    "* Try to decrypt the above ciphertext from Section 5.2 of Hoffstein, Pipher, and Silverman.\n",
    "\n",
    "```\n",
    "Y = '''zpgdl rjlaj kpylx zpyyg lrjgd lrzhz qyjzq repvm swrzy rigzh\n",
    "zvreg kwivs saolt nliuw oldie aqewf iiykh bjowr hdogc qhkwa\n",
    "jyagg emisr zqoqh oavlk bjofr ylvps rtgiu avmsw lzgms evwpc\n",
    "dmjsv jqbrn klpcf iowhv kxjbj pmfkr qthtk ozrgq ihbmq sbivd\n",
    "ardym qmpbu nivxm tzwqv gefjh ucbor vwpcd xuwft qmoow jipds\n",
    "fluqm oeavl jgqea lrkti wvext vkrrg xani'''\n",
    "\n",
    "vigenere_decrypt(Y)\n",
    "```"
   ]
  },
  {
   "cell_type": "markdown",
   "metadata": {
    "cell_id": "b0a4a1511e4847c5aa28c61710ec3c19",
    "deepnote_cell_type": "markdown"
   },
   "source": [
    "### Decrypting Vigenère ciphertext from Ed Discussion\n",
    "\n",
    "* Select one of your classmate's Vigenère ciphertexts that were posted on Ed Discussion and attempt to decrypt it using your `vigenere_decrypt` function.  Assign the ciphertext to the variable name `Y` (use triple quotation marks to allow line breaks).  Try using both key length methods.\n",
    "\n",
    "```\n",
    "vigenere_decrypt(Y, method=\"kasiski\")\n",
    "```\n",
    "and\n",
    "```\n",
    "vigenere_decrypt(Y, method=\"coincidence\")\n",
    "```\n",
    "\n",
    "Do they both wok?"
   ]
  },
  {
   "cell_type": "markdown",
   "metadata": {
    "cell_id": "0baf9fa19f104ac083adcd1a9418b774",
    "deepnote_cell_type": "markdown"
   },
   "source": [
    "## Submission\n",
    "\n",
    "* Using the `Share` button at the top right, enable public sharing, and enable Comment privileges. Then submit the created link on Canvas.\n",
    "\n",
    "(Don't just copy the browser URL.  Copy the link that is provided after you click the \"Share\" button.  It won't be available until you enable public sharing.)\n",
    "\n",
    "* Reminder: Everyone in the group needs to submit this link on Canvas."
   ]
  },
  {
   "cell_type": "markdown",
   "metadata": {
    "created_in_deepnote_cell": true,
    "deepnote_cell_type": "markdown"
   },
   "source": [
    "<a style='text-decoration:none;line-height:16px;display:flex;color:#5B5B62;padding:10px;justify-content:end;' href='https://deepnote.com?utm_source=created-in-deepnote-cell&projectId=29fdfeef-e4ce-4110-92a5-c561d471587c' target=\"_blank\">\n",
    "<img alt='Created in deepnote.com' style='display:inline;max-height:16px;margin:0px;margin-right:7.5px;' src='data:image/svg+xml;base64,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' > </img>\n",
    "Created in <span style='font-weight:600;margin-left:4px;'>Deepnote</span></a>"
   ]
  }
 ],
 "metadata": {
  "deepnote": {
   "is_reactive": false
  },
  "deepnote_execution_queue": [],
  "deepnote_notebook_id": "73ceba1b0f6444608036a2f321412e80",
  "deepnote_persisted_session": {
   "createdAt": "2023-06-27T04:15:07.361Z"
  },
  "kernelspec": {
   "display_name": "Python 3 (ipykernel)",
   "language": "python",
   "name": "python3"
  },
  "language_info": {
   "codemirror_mode": {
    "name": "ipython",
    "version": 3
   },
   "file_extension": ".py",
   "mimetype": "text/x-python",
   "name": "python",
   "nbconvert_exporter": "python",
   "pygments_lexer": "ipython3",
   "version": "3.11.3"
  }
 },
 "nbformat": 4,
 "nbformat_minor": 4
}
